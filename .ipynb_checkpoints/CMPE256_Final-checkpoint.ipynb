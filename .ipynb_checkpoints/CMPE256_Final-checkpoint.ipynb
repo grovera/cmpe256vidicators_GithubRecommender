{
 "cells": [
  {
   "cell_type": "markdown",
   "metadata": {
    "_cell_guid": "6c3448d6-c7a6-4053-84de-be5dc8d3676c",
    "_uuid": "9f488e366f1d4c97b7e086af69aabd4467c82c2e"
   },
   "source": [
    "# Notebook implementation showing GitHub Repository analysis for below use cases:#\n",
    "1.  Recommend top-3 languages to the user based on the current usage of programming languages in the repositories which will show the      future popularity. This future popularity is decided on the weight of each language considering the bytes of code written in it.\n",
    "2. Recommend repositories to users based on the stars they have given until now.\n",
    "3. We further do the Social Analysis of top-20 recommended repos and pick three users to show case our analysis and results."
   ]
  },
  {
   "cell_type": "markdown",
   "metadata": {},
   "source": [
    "# Use Case 1 Workflow"
   ]
  },
  {
   "cell_type": "markdown",
   "metadata": {},
   "source": [
    "<img src=\"Use Case 1.jpg\"></img>"
   ]
  },
  {
   "cell_type": "markdown",
   "metadata": {
    "_cell_guid": "eece426d-8ea1-443e-b64e-6a1623ceb646",
    "_uuid": "7ebbf4f70f0b77df7f2445bf8ed38231f245e544"
   },
   "source": [
    "# Acquiring Data From BigQuery #"
   ]
  },
  {
   "cell_type": "markdown",
   "metadata": {
    "_cell_guid": "92e8373d-1e82-47c0-9e7e-5c55e9fe3aaf",
    "_uuid": "609ca0dce6c6d54aec891b383c54540c1148a291"
   },
   "source": [
    "Using Google's BigQuery we queried the data required from the tables that we have used for the analysis. Two major tables are languages and sample_repos."
   ]
  },
  {
   "cell_type": "code",
   "execution_count": null,
   "metadata": {
    "_cell_guid": "3a4ccb28-7a90-4548-8ab6-dc00853da6c4",
    "_uuid": "a8ff86e61a8cfc46134219dac601fb53c21e0159",
    "scrolled": false
   },
   "outputs": [],
   "source": [
    "import os\n",
    "import pandas\n",
    "import numpy as np\n",
    "\n",
    "from google.cloud import bigquery\n",
    "client = bigquery.Client()\n",
    "\n",
    "#Querying languages table\n",
    "QUERY = \"\"\"\n",
    "        SELECT repo_name, language\n",
    "        FROM `bigquery-public-data.github_repos.languages`\n",
    "        LIMIT 300\n",
    "        \"\"\"\n",
    "\n",
    "query_job = client.query(QUERY)\n",
    "\n",
    "#Get results into the dataframe\n",
    "languageData = query_job.to_dataframe()\n",
    "\n",
    "#filtering repos which include only a single language\n",
    "iterator = query_job.result(timeout=30)\n",
    "rows = list(iterator)\n",
    "rows = list(filter(lambda row: len(row.language)>1,rows))\n",
    "\n",
    "#Printing first ten repositories\n",
    "for i in range(10):\n",
    "    print('Repository '+str(i+1))\n",
    "    for j in rows[i].language:\n",
    "        print(j[u'name']+': '+str(j[u'bytes'])+' bytes')\n",
    "    print('')\n",
    "print('...')\n",
    "print(str(len(rows))+' repositories')"
   ]
  },
  {
   "cell_type": "markdown",
   "metadata": {
    "_uuid": "ea30cf87659bb0146cf12fe573c5641c3becb122"
   },
   "source": [
    "This table has only the repo_name and corresponding language that it holds. If see here, we have repo_name with user and repository details.\n",
    "We feature engineered this attribute as further for matrix factorization we need specific user_id for users and specific repo_id for repositories."
   ]
  },
  {
   "cell_type": "code",
   "execution_count": null,
   "metadata": {
    "_uuid": "41b422d04fa13f745102af29f4605d47085eaca7"
   },
   "outputs": [],
   "source": [
    "languageData.head()"
   ]
  },
  {
   "cell_type": "markdown",
   "metadata": {
    "_cell_guid": "38ca9b88-4ad6-4e5a-b224-761148e6226a",
    "_uuid": "58404b6699d29901e28509a86ffc16054f1b7aab"
   },
   "source": [
    "# Listing the languages we got from above query after removing the repositories that have only one language#"
   ]
  },
  {
   "cell_type": "code",
   "execution_count": null,
   "metadata": {
    "_cell_guid": "7dddadaf-4fca-4dc1-acff-9bca986bb2c8",
    "_uuid": "15c2ba3edccb169befde90b2ee24a6be4f9b48de"
   },
   "outputs": [],
   "source": [
    "#create dictionary of language names to matrix columns\n",
    "names = {}\n",
    "for i in range(len(rows)):\n",
    "    for j in rows[i].language:\n",
    "        if j[u'name'] in names:\n",
    "            names[j[u'name']]+=1\n",
    "        else:\n",
    "            names[j[u'name']]=1\n",
    "\n",
    "#filter out languages that only occur once\n",
    "names = [n for n in names if names[n]>1]\n",
    "# for i in range(10):\n",
    "#     print(names[i])\n",
    "# print('...')\n",
    "\n",
    "#print some languages\n",
    "name_to_index = {}\n",
    "for j,i in enumerate(names):\n",
    "    name_to_index[i] = j\n",
    "print(str(len(names))+\" languages\")"
   ]
  },
  {
   "cell_type": "markdown",
   "metadata": {
    "_cell_guid": "6c692cd7-e94d-4461-997d-ab7a471d8177",
    "_uuid": "eb89566612e410750fed8452fe17f08b5568e046"
   },
   "source": [
    "# Repository-Language Matrix #"
   ]
  },
  {
   "cell_type": "markdown",
   "metadata": {
    "_cell_guid": "890a7ecf-45c6-42ca-adcd-2034b00733c3",
    "_uuid": "52f284ed2faf67d9bfc1cc964eeb38d7614991f4"
   },
   "source": [
    "We thought of creating a matrix where rows represent the repository and column represent a language to know the relationship between the repository and language. This resulted into a sparse matrix where many repositories did had or did not had that specific language.\n",
    "\n",
    "This was the desicion making point where we decided to go ahead with matrix factorization due to the sparsity of the data of what we aim in first use case.\n",
    "\n",
    "We created a matrix as mentioned above. Also as mentioned, the value in the matrix is the log of number of bytes in the repository in that particular language to consider the actual weight of the code written in that language for that repository.\n",
    "\n",
    "Log also gives us the feature minimization (feature scaling) for the random size of the bytes information we have."
   ]
  },
  {
   "cell_type": "code",
   "execution_count": null,
   "metadata": {
    "_cell_guid": "9ac14511-6060-4b6c-b7de-ab7e0d7f2388",
    "_uuid": "17c4a310a1cca81144492dacfed0cbb6863f0d47"
   },
   "outputs": [],
   "source": [
    "from math import log\n",
    "\n",
    "#create matrix\n",
    "global mat\n",
    "mat = np.zeros((len(rows),len(names)))\n",
    "for i,row in enumerate(rows):\n",
    "    #total = sum([log(lang[u'bytes']+1) for lang in row[1]])\n",
    "    for lang in row.language:\n",
    "        if lang[u'name'] in name_to_index and lang[u'bytes'] > 0:\n",
    "            mat[i][name_to_index[lang[u'name']]] = log(lang[u'bytes'])\n",
    "            #mat[i][name_to_index[lang[u'name']]] = log(lang[u'bytes']+1)/total\n",
    "mat = mat[~np.all(mat==0,axis=1)]"
   ]
  },
  {
   "cell_type": "markdown",
   "metadata": {
    "_cell_guid": "6e17cd83-8c33-4253-9fab-77b8f98a30ff",
    "_uuid": "2d3297c81c33061167be8e81832180da3ae3b5c4"
   },
   "source": [
    "# PCA #"
   ]
  },
  {
   "cell_type": "markdown",
   "metadata": {
    "_cell_guid": "e56e338d-29d3-47ef-bc46-732be031342d",
    "_uuid": "9e2157a4dfebec2366e026ecbe4089bf7bacfa73"
   },
   "source": [
    "Using PCA we can define roughly the number of features we want to identify the low rank matrix factorization. The graph below shows the amount of unexplained variance plotted against the number of components used. The \"elbow\" of the graph (at around n=12) is typically used."
   ]
  },
  {
   "cell_type": "code",
   "execution_count": null,
   "metadata": {
    "_cell_guid": "73c138dc-c761-4acb-b077-5a3b06229ae3",
    "_uuid": "529452f50592ca158a247f06053484e5ff9b64f5"
   },
   "outputs": [],
   "source": [
    "from sklearn.decomposition import PCA\n",
    "from matplotlib import pyplot as plt\n",
    "\n",
    "%matplotlib inline\n",
    "\n",
    "#compute PCA\n",
    "n_components = min(50,len(names))\n",
    "pca = PCA(n_components=n_components)\n",
    "transformed = pca.fit_transform(mat) \n",
    "\n",
    "#display result\n",
    "evr = [1-sum(pca.explained_variance_ratio_[:i+1]) for i in range(len(pca.explained_variance_ratio_))]\n",
    "plt.plot(range(1,n_components+1),evr)"
   ]
  },
  {
   "cell_type": "markdown",
   "metadata": {
    "_cell_guid": "d8466dab-a2c8-452a-bc1e-9886107befd7",
    "_uuid": "71eafb106d356322850cf8b69c9a20d0ce21061e"
   },
   "source": [
    "# Loss Function and Gradient #"
   ]
  },
  {
   "cell_type": "markdown",
   "metadata": {
    "_cell_guid": "ceefb827-3d8c-44ac-aaf9-af5a89fdb985",
    "_uuid": "50521cdf7f61e92c431db0e8ca9aaa71a1cd2574"
   },
   "source": [
    "We define some useful functions. \n",
    "\n",
    "init_mask: Create a mask matrix that indicates where Y has meaningful values. \n",
    "\n",
    "loss: Sum-of-squares loss, with a regularization term to prevent overfitting. The matrices theta and X are multiplied to give a \"best guess\", which is then compared with the target matrix Y, but only in locations where a rating has been given.\n",
    "\n",
    "gradient: Derivative of loss with respect to theta and X, with a regularization term. \n",
    "\n",
    "These functions will be useful in performing gradient descent."
   ]
  },
  {
   "cell_type": "code",
   "execution_count": null,
   "metadata": {
    "_cell_guid": "7a19d403-d797-4d86-9a33-de4cee49a0a7",
    "_uuid": "e552ca8b393535a2c3caa71e33480755da03d0f4"
   },
   "outputs": [],
   "source": [
    "filter_size = min(100,len(mat[0]))\n",
    "mat = mat[:,range(filter_size)] if len(mat[0])>filter_size else mat #for speed\n",
    "\n",
    "\n",
    "#This function gives us the sign function implementation for where the target Y is achieved\n",
    "def init_mask(Y):\n",
    "    f = np.vectorize(lambda x: 1 if x>0 else 0)\n",
    "    return f(Y),len(Y),len(Y[0])\n",
    "\n",
    "\n",
    "#This function implements the regularization parameter to minimize the overfitting\n",
    "def loss(args,Y,mask,n_repos,n_langs,n_features,reg_param):\n",
    "    theta = np.reshape(args[:n_repos*n_features],(n_repos,n_features))\n",
    "    X = np.reshape(args[n_repos*n_features:],(n_langs,n_features))\n",
    "    g = np.vectorize(lambda x: x*x)\n",
    "    return 0.5*np.sum(np.multiply(g(np.subtract(np.matmul(theta,np.transpose(X)),Y)),mask))+reg_param/2*np.sum(g(args))\n",
    "\n",
    "\n",
    "#This function implements gradient calculation in vectorized way\n",
    "def gradient(args,Y,mask,n_repos,n_langs,n_features,reg_param):\n",
    "    theta = np.reshape(args[:n_repos*n_features],(n_repos,n_features))\n",
    "    X = np.reshape(args[n_repos*n_features:],(n_langs,n_features))\n",
    "    X_grad = np.matmul(np.transpose(np.multiply(np.subtract(np.matmul(theta,np.transpose(X)),Y),mask)),theta)+reg_param*X\n",
    "    theta_grad = np.matmul(np.multiply(np.subtract(np.matmul(theta,np.transpose(X)),Y),mask),X)+reg_param*theta\n",
    "    return np.concatenate((np.reshape(theta_grad,-1),np.reshape(X_grad,-1)))"
   ]
  },
  {
   "cell_type": "markdown",
   "metadata": {
    "_cell_guid": "05ac388c-bef7-4945-8fe5-a6cf354d4e53",
    "_uuid": "0a59b6400478099df984df7ae75a48c8b954a091"
   },
   "source": [
    "# Training our theta parameters using scipy's optimize library to implement gradient descent to match our target matrix achieved in mask function #"
   ]
  },
  {
   "cell_type": "markdown",
   "metadata": {
    "_cell_guid": "6b1c8ccf-6e29-4e2b-b607-2b58395a8026",
    "_uuid": "027734abcbf3643326918dd5183e6d7aefdd314e"
   },
   "source": [
    "Gradient descent is performed using loss and gradient as defined above. This will iteratively improve matrices theta and X, so that their product more closely matches the target masked matrix Y.  "
   ]
  },
  {
   "cell_type": "code",
   "execution_count": null,
   "metadata": {
    "_cell_guid": "07b10918-7573-43d8-a89b-bcfc8ce7101b",
    "_uuid": "7b2e3e5b02a15fc6288c4958f2ef92d83926ded6"
   },
   "outputs": [],
   "source": [
    "import scipy.optimize as op\n",
    "\n",
    "def train(Y,mask,n_repos,n_langs,n_features=10,reg_param=0.000001):\n",
    "    #reshape into 1D format preferred by fmin_cg\n",
    "    theta = np.random.rand(n_repos,n_features)\n",
    "    X = np.random.rand(n_langs,n_features)\n",
    "    args = np.concatenate((np.reshape(theta,-1),np.reshape(X,-1)))\n",
    "\n",
    "    #use fmin_cg to perform gradient descent\n",
    "    args = op.fmin_cg(lambda x: loss(x,Y,mask,n_repos,n_langs,n_features,reg_param),args,lambda x: gradient(x,Y,mask,n_repos,n_langs,n_features,reg_param))\n",
    "\n",
    "    #reshape into a usable format\n",
    "    theta = np.reshape(args[:n_repos*n_features],(n_repos,n_features))\n",
    "    X = np.reshape(args[n_repos*n_features:],(n_langs,n_features))\n",
    "    \n",
    "    return theta,X"
   ]
  },
  {
   "cell_type": "markdown",
   "metadata": {
    "_cell_guid": "504e164a-5ca9-4d5a-ae20-7e50030144c0",
    "_uuid": "c6b33804fa12d615854f3886f141fbf5ed360072"
   },
   "source": [
    "# Giving language recommendations  based on the popularity of languages among the repositories #"
   ]
  },
  {
   "cell_type": "markdown",
   "metadata": {
    "_cell_guid": "bf3e606c-f547-44a6-ae80-3d493621fbd4",
    "_uuid": "2693306e8a2b9862f0a18cfa78cf0445d4847afb"
   },
   "source": [
    "Now, we create a function for recommendations. Unfortunately Kaggle's front end doesn't allow for user input, so we will test some inputs manually."
   ]
  },
  {
   "cell_type": "code",
   "execution_count": null,
   "metadata": {
    "_cell_guid": "539051d5-fb88-40ba-9223-84f4c974ab94",
    "_uuid": "1d1786fac3aa24c5b07d08c91ac0f66bc2b972b9"
   },
   "outputs": [],
   "source": [
    "def recommend(string,Y):\n",
    "    #process input\n",
    "    print('Training...')\n",
    "    langs = string.split(' ')\n",
    "    lc_names = {str(name).lower(): name_to_index[name] for name in name_to_index}\n",
    "\n",
    "    #create extra row to append to Y matrix\n",
    "    test = np.zeros((1,len(names)))\n",
    "    known = set()\n",
    "    for lang in langs:\n",
    "        if lang.lower() in lc_names:\n",
    "            test[0][lc_names[lang.lower()]] = 1\n",
    "            known.add(lc_names[lang.lower()])\n",
    "\n",
    "    #training\n",
    "    Y = np.concatenate((Y,test[:,range(filter_size)]),0)\n",
    "    mask,n_repos,n_langs = init_mask(Y)\n",
    "    theta,X = train(Y,mask,n_repos,n_langs)\n",
    "    Y = Y[:-1]\n",
    "    \n",
    "    #plot features\n",
    "    for i in range(np.shape(X)[1]):\n",
    "        col = sorted([(X[j,i],j) for j in range(n_langs)],reverse=True)\n",
    "        #print('')\n",
    "        #for k in range(10):\n",
    "            #print(names[col[k][1]])\n",
    "\n",
    "    #find top predictions\n",
    "    predictions = np.matmul(theta,np.transpose(X))[-1].tolist()\n",
    "    predictions = sorted([(abs(j),i) for i,j in enumerate(predictions)],reverse=True)\n",
    "\n",
    "    #print predictions\n",
    "    predictedLang = []\n",
    "    i = 0\n",
    "    for val,name in predictions:\n",
    "        if name not in known:\n",
    "#             print(str(i+1)+': '+names[name]+' - '+str(val))\n",
    "            predictedLang.append(names[name])\n",
    "            i+=1\n",
    "        if i>=3:\n",
    "            break\n",
    "    return predictedLang"
   ]
  },
  {
   "cell_type": "markdown",
   "metadata": {
    "_cell_guid": "6ad27cce-2f27-4517-866a-9b5b2f2e3535",
    "_uuid": "5f2c21465ed45405700f05d7f114d1fdaf96b396"
   },
   "source": [
    "The recommender system adds the extra input row to target matrix Y. Then, training is performed on your language preferences simultaneously as those of all the repositories in the sample. Finally, the trained matrices theta and X are multiplied, and the last row corresponds to the predicted ratings based on your preferences. The highest values are the languages recommended to you. \n",
    "\n",
    "# Manually testing for 'Java' #"
   ]
  },
  {
   "cell_type": "code",
   "execution_count": null,
   "metadata": {
    "_cell_guid": "2c66e939-c052-4343-aa0b-90c4a9deff00",
    "_uuid": "c11f1c5d2d310821e82979d6a293a1f1808f9bfb",
    "scrolled": true
   },
   "outputs": [],
   "source": [
    "languagesList = recommend('Java',mat)"
   ]
  },
  {
   "cell_type": "code",
   "execution_count": null,
   "metadata": {
    "_uuid": "b53fa1b3b400b29068b7edcbc9dd85627a022e97"
   },
   "outputs": [],
   "source": [
    "languagesList"
   ]
  },
  {
   "cell_type": "markdown",
   "metadata": {
    "_uuid": "b011861eda72e143f32579f38fc24ad4e6be1440"
   },
   "source": [
    "## Below function is used to filter the repositories to based on the recommended languages"
   ]
  },
  {
   "cell_type": "code",
   "execution_count": null,
   "metadata": {
    "_uuid": "a3f65d94e578bb5cf7bfcaf33e572e95a766d6b2"
   },
   "outputs": [],
   "source": [
    "def filterDataFrame(df, languagesList):\n",
    "    reposList = []\n",
    "    index = 0\n",
    "    for index, row in languageData.iterrows():\n",
    "       if len(row['language']) != 0:\n",
    "            for itemOfLanguages in range(len(row['language'])):\n",
    "                if row['language'][itemOfLanguages]['name'] in languagesList:\n",
    "                    reposList.append(row['repo_name'])\n",
    "                    break\n",
    "    return reposList"
   ]
  },
  {
   "cell_type": "markdown",
   "metadata": {
    "_uuid": "4db0e5f981a2f510150a75efb3ce0ae929531a35"
   },
   "source": [
    "## As see below we see we get the repository list to which the above recommended langauges belong"
   ]
  },
  {
   "cell_type": "code",
   "execution_count": null,
   "metadata": {
    "_uuid": "712f026dbb1e3f30751d927fa7dac65537e7a6ff"
   },
   "outputs": [],
   "source": [
    "repoList = filterDataFrame(languageData, languagesList)"
   ]
  },
  {
   "cell_type": "markdown",
   "metadata": {
    "_uuid": "40d575b69599a431ff6bb2c331ce63d430e4e38e"
   },
   "source": [
    "## Here in the below function we recommend the top 3 repositories which include our recommended languages"
   ]
  },
  {
   "cell_type": "code",
   "execution_count": null,
   "metadata": {
    "_uuid": "c0f45fbba017250ff6861928281f5c86edb9527e"
   },
   "outputs": [],
   "source": [
    "templanguageMatchingDict = {\n",
    "    \"reponame\": \"\",\n",
    "    \"matchcount\": 0\n",
    "}\n",
    "\n",
    "finalMatchingList = []\n",
    "for i in range(len(repoList)):\n",
    "    \n",
    "    for index, row in languageData.iterrows():\n",
    "        if row['repo_name'] == repoList[i]:\n",
    "            templanguagelist = [li['name'] for li in row['language']]\n",
    "            \n",
    "            length = len(set(templanguagelist) & set(languagesList))\n",
    "            templanguageMatchingDict = {\n",
    "                \"reponame\": row['repo_name'],\n",
    "                \"matchcount\": length\n",
    "            }\n",
    "            finalMatchingList.append(templanguageMatchingDict)\n",
    "            break\n"
   ]
  },
  {
   "cell_type": "code",
   "execution_count": null,
   "metadata": {
    "_uuid": "5b94f664097d9375c81fe6f84fba60e5f6a5ee76"
   },
   "outputs": [],
   "source": [
    "newlist = sorted(finalMatchingList, key=lambda k: k['matchcount'], reverse=True)"
   ]
  },
  {
   "cell_type": "markdown",
   "metadata": {
    "_uuid": "4fbc57f67473a072cc9df17a16a68a88a1c69265"
   },
   "source": [
    "## Recommending top 3 repositories  for the top 3 languages recommended as per first use case"
   ]
  },
  {
   "cell_type": "code",
   "execution_count": null,
   "metadata": {
    "_uuid": "9cce57af6d2fed41f6a76e5af95ee0bfa7c63300"
   },
   "outputs": [],
   "source": [
    "newlist[:3]"
   ]
  },
  {
   "cell_type": "markdown",
   "metadata": {
    "_uuid": "228a48cf7f660e161ba0cdba1ac8f70fbaa16c14"
   },
   "source": [
    "# From here on our second use case of recommending users with top 20 repositories based on Github stars begins"
   ]
  },
  {
   "cell_type": "markdown",
   "metadata": {},
   "source": [
    "# Use Case 2 workflow"
   ]
  },
  {
   "cell_type": "markdown",
   "metadata": {},
   "source": [
    "<img src=\"Use Case 2.jpg\"></img>"
   ]
  },
  {
   "cell_type": "markdown",
   "metadata": {
    "_uuid": "852308e08fcaac17dd252c8fd833f216ad7dd676"
   },
   "source": [
    "## Querying the sample_repos table to get the sample repositories and stars given to it\n",
    "\n",
    "We could not load the current star details as we could only make 60 GET requests to GitHub APIs in an hour so had to reside with sample_repos data"
   ]
  },
  {
   "cell_type": "code",
   "execution_count": 1,
   "metadata": {
    "_uuid": "aa6183646f781a5570eb8070cbcfd6785c049cde"
   },
   "outputs": [],
   "source": [
    "#random sample of 300 repositories\n",
    "import os\n",
    "import pandas\n",
    "import numpy as np\n",
    "\n",
    "from google.cloud import bigquery\n",
    "client = bigquery.Client()\n",
    "QUERY1 = \"\"\"\n",
    "        SELECT repo_name, watch_count\n",
    "        FROM `bigquery-public-data.github_repos.sample_repos`\n",
    "        LIMIT 1000\n",
    "        \"\"\"\n",
    "\n",
    "query_job1 = client.query(QUERY1)\n",
    "\n",
    "#filter out repositories with only one language\n",
    "iterator = query_job1.result(timeout=30)\n",
    "rows = list(iterator)"
   ]
  },
  {
   "cell_type": "markdown",
   "metadata": {
    "_uuid": "eed3ea4431fee7cb2ade5921dece8768d72b86fe"
   },
   "source": [
    "## Preprocessing the data to split the repository names to get users, repos, ids and corresponding stars"
   ]
  },
  {
   "cell_type": "code",
   "execution_count": 2,
   "metadata": {
    "_uuid": "b3675f78f5b80b2fd38b5418a1eaac21bd55885c"
   },
   "outputs": [],
   "source": [
    "user_repo_watch_count_dict = {\n",
    "    \"user\": [],\n",
    "    \"repo_name\": [],\n",
    "    \"stars\": [],\n",
    "    \"user_repo_name\":[]\n",
    "}\n",
    "\n",
    "\n",
    "\n",
    "for i in range(len(rows)):\n",
    "    repo_name, stars = rows[i]\n",
    "    temp = []\n",
    "    temp = rows[i].repo_name.split('/')\n",
    "    user_repo_watch_count_dict[\"user\"].append(temp[0])\n",
    "    user_repo_watch_count_dict['user_repo_name'].append(repo_name)\n",
    "    user_repo_watch_count_dict[\"repo_name\"].append(temp[1])\n",
    "    \n",
    "    user_repo_watch_count_dict[\"stars\"].append(stars)\n",
    "    "
   ]
  },
  {
   "cell_type": "code",
   "execution_count": 3,
   "metadata": {
    "_uuid": "df0123b954215ff64b642f38e2eaee367e722dcb"
   },
   "outputs": [],
   "source": [
    "user_repo_watch_count_df = pandas.DataFrame.from_dict(user_repo_watch_count_dict)"
   ]
  },
  {
   "cell_type": "markdown",
   "metadata": {
    "_uuid": "fe7f8cca49585336370c018a5e9b3f005a980c52"
   },
   "source": [
    "## Showing the new features we got after splitting the data"
   ]
  },
  {
   "cell_type": "code",
   "execution_count": 4,
   "metadata": {
    "_uuid": "3b329ab4e38dedec0ab63a8d1cfa0b266fccf087"
   },
   "outputs": [
    {
     "data": {
      "text/html": [
       "<div>\n",
       "<style scoped>\n",
       "    .dataframe tbody tr th:only-of-type {\n",
       "        vertical-align: middle;\n",
       "    }\n",
       "\n",
       "    .dataframe tbody tr th {\n",
       "        vertical-align: top;\n",
       "    }\n",
       "\n",
       "    .dataframe thead th {\n",
       "        text-align: right;\n",
       "    }\n",
       "</style>\n",
       "<table border=\"1\" class=\"dataframe\">\n",
       "  <thead>\n",
       "    <tr style=\"text-align: right;\">\n",
       "      <th></th>\n",
       "      <th>user</th>\n",
       "      <th>repo_name</th>\n",
       "      <th>stars</th>\n",
       "      <th>user_repo_name</th>\n",
       "    </tr>\n",
       "  </thead>\n",
       "  <tbody>\n",
       "    <tr>\n",
       "      <th>0</th>\n",
       "      <td>FreeCodeCamp</td>\n",
       "      <td>FreeCodeCamp</td>\n",
       "      <td>90457</td>\n",
       "      <td>FreeCodeCamp/FreeCodeCamp</td>\n",
       "    </tr>\n",
       "    <tr>\n",
       "      <th>1</th>\n",
       "      <td>firehol</td>\n",
       "      <td>netdata</td>\n",
       "      <td>13208</td>\n",
       "      <td>firehol/netdata</td>\n",
       "    </tr>\n",
       "    <tr>\n",
       "      <th>2</th>\n",
       "      <td>joshbuchea</td>\n",
       "      <td>HEAD</td>\n",
       "      <td>13125</td>\n",
       "      <td>joshbuchea/HEAD</td>\n",
       "    </tr>\n",
       "    <tr>\n",
       "      <th>3</th>\n",
       "      <td>braydie</td>\n",
       "      <td>HowToBeAProgrammer</td>\n",
       "      <td>12019</td>\n",
       "      <td>braydie/HowToBeAProgrammer</td>\n",
       "    </tr>\n",
       "    <tr>\n",
       "      <th>4</th>\n",
       "      <td>sindresorhus</td>\n",
       "      <td>awesome</td>\n",
       "      <td>11063</td>\n",
       "      <td>sindresorhus/awesome</td>\n",
       "    </tr>\n",
       "  </tbody>\n",
       "</table>\n",
       "</div>"
      ],
      "text/plain": [
       "           user             ...                          user_repo_name\n",
       "0  FreeCodeCamp             ...               FreeCodeCamp/FreeCodeCamp\n",
       "1       firehol             ...                         firehol/netdata\n",
       "2    joshbuchea             ...                         joshbuchea/HEAD\n",
       "3       braydie             ...              braydie/HowToBeAProgrammer\n",
       "4  sindresorhus             ...                    sindresorhus/awesome\n",
       "\n",
       "[5 rows x 4 columns]"
      ]
     },
     "execution_count": 4,
     "metadata": {},
     "output_type": "execute_result"
    }
   ],
   "source": [
    "user_repo_watch_count_df.head()"
   ]
  },
  {
   "cell_type": "code",
   "execution_count": 5,
   "metadata": {
    "_uuid": "03cfaa3f7d1ffaf9f59f8424a7e0df05d46953d9"
   },
   "outputs": [],
   "source": [
    "df_user_repo_mat_fac_stars = pandas.DataFrame()\n",
    "\n",
    "\n",
    "users = set(user_repo_watch_count_dict[\"user\"])\n",
    "userl = list(users)\n",
    "distinct_repos = set(user_repo_watch_count_dict[\"repo_name\"])\n",
    "repol = list(distinct_repos)"
   ]
  },
  {
   "cell_type": "markdown",
   "metadata": {
    "_uuid": "bf1575217ee34781359a8117b36f16f38016957d"
   },
   "source": [
    "## Here below we give unique id values to users"
   ]
  },
  {
   "cell_type": "code",
   "execution_count": 6,
   "metadata": {
    "_uuid": "2fb2f5da6f809274e4106cafb28ca1b6d0be9dc4"
   },
   "outputs": [],
   "source": [
    "userList = []\n",
    "\n",
    "for i in range(len(users)):\n",
    "    user = {\n",
    "        \"userid\": i,\n",
    "        \"user\": userl[i]\n",
    "    }\n",
    "    userList.append(user)\n",
    "df_user_id = pandas.DataFrame(userList, columns=['userid','user'])"
   ]
  },
  {
   "cell_type": "code",
   "execution_count": 7,
   "metadata": {
    "_uuid": "743c863857610c663c98285a1b53fe51e5139bfa"
   },
   "outputs": [
    {
     "data": {
      "text/html": [
       "<div>\n",
       "<style scoped>\n",
       "    .dataframe tbody tr th:only-of-type {\n",
       "        vertical-align: middle;\n",
       "    }\n",
       "\n",
       "    .dataframe tbody tr th {\n",
       "        vertical-align: top;\n",
       "    }\n",
       "\n",
       "    .dataframe thead th {\n",
       "        text-align: right;\n",
       "    }\n",
       "</style>\n",
       "<table border=\"1\" class=\"dataframe\">\n",
       "  <thead>\n",
       "    <tr style=\"text-align: right;\">\n",
       "      <th></th>\n",
       "      <th>userid</th>\n",
       "      <th>user</th>\n",
       "    </tr>\n",
       "  </thead>\n",
       "  <tbody>\n",
       "    <tr>\n",
       "      <th>0</th>\n",
       "      <td>0</td>\n",
       "      <td>mortenjust</td>\n",
       "    </tr>\n",
       "    <tr>\n",
       "      <th>1</th>\n",
       "      <td>1</td>\n",
       "      <td>swagger-api</td>\n",
       "    </tr>\n",
       "    <tr>\n",
       "      <th>2</th>\n",
       "      <td>2</td>\n",
       "      <td>torch</td>\n",
       "    </tr>\n",
       "    <tr>\n",
       "      <th>3</th>\n",
       "      <td>3</td>\n",
       "      <td>callemall</td>\n",
       "    </tr>\n",
       "    <tr>\n",
       "      <th>4</th>\n",
       "      <td>4</td>\n",
       "      <td>hashicorp</td>\n",
       "    </tr>\n",
       "  </tbody>\n",
       "</table>\n",
       "</div>"
      ],
      "text/plain": [
       "   userid         user\n",
       "0       0   mortenjust\n",
       "1       1  swagger-api\n",
       "2       2        torch\n",
       "3       3    callemall\n",
       "4       4    hashicorp"
      ]
     },
     "execution_count": 7,
     "metadata": {},
     "output_type": "execute_result"
    }
   ],
   "source": [
    "df_user_id.head()"
   ]
  },
  {
   "cell_type": "markdown",
   "metadata": {
    "_uuid": "27197f5cbe7fdc63eb2028e3f90950d5cc5031dd"
   },
   "source": [
    "## Here below we give unique id values to repo_names"
   ]
  },
  {
   "cell_type": "code",
   "execution_count": 8,
   "metadata": {
    "_uuid": "61506d2c328e912782923c91599a101a59677382"
   },
   "outputs": [],
   "source": [
    "repoListNew = []\n",
    "\n",
    "for i in range(len(distinct_repos)):\n",
    "    repo = {\n",
    "        \"repoid\": i,\n",
    "        \"repo_name\": repol[i]\n",
    "    }\n",
    "    repoListNew.append(repo)\n",
    "df_repo_id = pandas.DataFrame(repoListNew, columns=['repoid','repo_name'])"
   ]
  },
  {
   "cell_type": "code",
   "execution_count": 9,
   "metadata": {
    "_uuid": "bb071c2d9d9643762e27b5411fb147ab288c5c0a"
   },
   "outputs": [],
   "source": [
    "df_repo_id_copy = df_repo_id.copy(deep=True)"
   ]
  },
  {
   "cell_type": "code",
   "execution_count": 10,
   "metadata": {
    "_uuid": "9c5f519eec8f3eaf5cccb52128fc0c810409a30e"
   },
   "outputs": [
    {
     "data": {
      "text/html": [
       "<div>\n",
       "<style scoped>\n",
       "    .dataframe tbody tr th:only-of-type {\n",
       "        vertical-align: middle;\n",
       "    }\n",
       "\n",
       "    .dataframe tbody tr th {\n",
       "        vertical-align: top;\n",
       "    }\n",
       "\n",
       "    .dataframe thead th {\n",
       "        text-align: right;\n",
       "    }\n",
       "</style>\n",
       "<table border=\"1\" class=\"dataframe\">\n",
       "  <thead>\n",
       "    <tr style=\"text-align: right;\">\n",
       "      <th></th>\n",
       "      <th>repoid</th>\n",
       "      <th>repo_name</th>\n",
       "    </tr>\n",
       "  </thead>\n",
       "  <tbody>\n",
       "    <tr>\n",
       "      <th>0</th>\n",
       "      <td>0</td>\n",
       "      <td>atswift-2016-resources</td>\n",
       "    </tr>\n",
       "    <tr>\n",
       "      <th>1</th>\n",
       "      <td>1</td>\n",
       "      <td>npm-check</td>\n",
       "    </tr>\n",
       "    <tr>\n",
       "      <th>2</th>\n",
       "      <td>2</td>\n",
       "      <td>openage</td>\n",
       "    </tr>\n",
       "    <tr>\n",
       "      <th>3</th>\n",
       "      <td>3</td>\n",
       "      <td>react-demos</td>\n",
       "    </tr>\n",
       "    <tr>\n",
       "      <th>4</th>\n",
       "      <td>4</td>\n",
       "      <td>Hystrix</td>\n",
       "    </tr>\n",
       "  </tbody>\n",
       "</table>\n",
       "</div>"
      ],
      "text/plain": [
       "   repoid               repo_name\n",
       "0       0  atswift-2016-resources\n",
       "1       1               npm-check\n",
       "2       2                 openage\n",
       "3       3             react-demos\n",
       "4       4                 Hystrix"
      ]
     },
     "execution_count": 10,
     "metadata": {},
     "output_type": "execute_result"
    }
   ],
   "source": [
    "df_repo_id.head()"
   ]
  },
  {
   "cell_type": "markdown",
   "metadata": {
    "_uuid": "14223f0aae7a96165131d5bd0007e50f9edf7b05"
   },
   "source": [
    "## Here we merge the dataframe carrying the user id and user name with user repository watch_counts (stars) dataframe into one dataframe"
   ]
  },
  {
   "cell_type": "code",
   "execution_count": 11,
   "metadata": {
    "_uuid": "a6324300408ee3fd2f19cf302be9e9263688cfd9"
   },
   "outputs": [],
   "source": [
    "df_final_user_repo_star_1 = pandas.merge( df_user_id, user_repo_watch_count_df, how='inner', on=['user'])"
   ]
  },
  {
   "cell_type": "code",
   "execution_count": 12,
   "metadata": {
    "_uuid": "38e35b698fc9eb02d9b8350b7a29f4a4700ef9fd"
   },
   "outputs": [],
   "source": [
    "df_final_user_repo_star_repo_id_merge = pandas.merge( df_repo_id, user_repo_watch_count_df, how='inner', on=['repo_name'])"
   ]
  },
  {
   "cell_type": "code",
   "execution_count": 13,
   "metadata": {
    "_uuid": "221dac7baafb58192cb4eaa6b222ca7498db34ca"
   },
   "outputs": [
    {
     "data": {
      "text/html": [
       "<div>\n",
       "<style scoped>\n",
       "    .dataframe tbody tr th:only-of-type {\n",
       "        vertical-align: middle;\n",
       "    }\n",
       "\n",
       "    .dataframe tbody tr th {\n",
       "        vertical-align: top;\n",
       "    }\n",
       "\n",
       "    .dataframe thead th {\n",
       "        text-align: right;\n",
       "    }\n",
       "</style>\n",
       "<table border=\"1\" class=\"dataframe\">\n",
       "  <thead>\n",
       "    <tr style=\"text-align: right;\">\n",
       "      <th></th>\n",
       "      <th>repoid</th>\n",
       "      <th>repo_name</th>\n",
       "      <th>user</th>\n",
       "      <th>stars</th>\n",
       "      <th>user_repo_name</th>\n",
       "    </tr>\n",
       "  </thead>\n",
       "  <tbody>\n",
       "    <tr>\n",
       "      <th>0</th>\n",
       "      <td>0</td>\n",
       "      <td>atswift-2016-resources</td>\n",
       "      <td>atConf</td>\n",
       "      <td>1504</td>\n",
       "      <td>atConf/atswift-2016-resources</td>\n",
       "    </tr>\n",
       "    <tr>\n",
       "      <th>1</th>\n",
       "      <td>1</td>\n",
       "      <td>npm-check</td>\n",
       "      <td>dylang</td>\n",
       "      <td>2438</td>\n",
       "      <td>dylang/npm-check</td>\n",
       "    </tr>\n",
       "    <tr>\n",
       "      <th>2</th>\n",
       "      <td>2</td>\n",
       "      <td>openage</td>\n",
       "      <td>SFTtech</td>\n",
       "      <td>1739</td>\n",
       "      <td>SFTtech/openage</td>\n",
       "    </tr>\n",
       "    <tr>\n",
       "      <th>3</th>\n",
       "      <td>3</td>\n",
       "      <td>react-demos</td>\n",
       "      <td>ruanyf</td>\n",
       "      <td>2167</td>\n",
       "      <td>ruanyf/react-demos</td>\n",
       "    </tr>\n",
       "    <tr>\n",
       "      <th>4</th>\n",
       "      <td>4</td>\n",
       "      <td>Hystrix</td>\n",
       "      <td>Netflix</td>\n",
       "      <td>1505</td>\n",
       "      <td>Netflix/Hystrix</td>\n",
       "    </tr>\n",
       "  </tbody>\n",
       "</table>\n",
       "</div>"
      ],
      "text/plain": [
       "   repoid              ...                               user_repo_name\n",
       "0       0              ...                atConf/atswift-2016-resources\n",
       "1       1              ...                             dylang/npm-check\n",
       "2       2              ...                              SFTtech/openage\n",
       "3       3              ...                           ruanyf/react-demos\n",
       "4       4              ...                              Netflix/Hystrix\n",
       "\n",
       "[5 rows x 5 columns]"
      ]
     },
     "execution_count": 13,
     "metadata": {},
     "output_type": "execute_result"
    }
   ],
   "source": [
    "df_final_user_repo_star_repo_id_merge.head()"
   ]
  },
  {
   "cell_type": "markdown",
   "metadata": {
    "_uuid": "99a3fd438df151609f3666af325693629ce8e7fc"
   },
   "source": [
    "## Below we try to see the stars for repository to check if there are any outliers that we need to take out"
   ]
  },
  {
   "cell_type": "code",
   "execution_count": 14,
   "metadata": {
    "_uuid": "dab81c61f9f0d79b0520952242f36277c0b208ae"
   },
   "outputs": [
    {
     "data": {
      "text/plain": [
       "<matplotlib.axes._subplots.AxesSubplot at 0x7f7bdc7475f8>"
      ]
     },
     "execution_count": 14,
     "metadata": {},
     "output_type": "execute_result"
    },
    {
     "data": {
      "image/png": "[encoded data removed]",
      "text/plain": [
       "<Figure size 432x288 with 1 Axes>"
      ]
     },
     "metadata": {},
     "output_type": "display_data"
    }
   ],
   "source": [
    "df_final_user_repo_star_repo_id_merge.plot.scatter(x='repoid', y = 'stars')"
   ]
  },
  {
   "cell_type": "markdown",
   "metadata": {
    "_uuid": "2471eb74ab4f805d75842fa917b306c9f795a192"
   },
   "source": [
    "## Above graph shows one repository with stars greater than 80,000 and hence we can consider this as an outlier and remove it from dataset.\n",
    "\n",
    "## Below we removed it and get more general plot after removing it."
   ]
  },
  {
   "cell_type": "code",
   "execution_count": 15,
   "metadata": {
    "_uuid": "15be575a083eebc9908fab9be63d43f8207af29c"
   },
   "outputs": [],
   "source": [
    "df_final_user_repo_star_repo_id_merge.drop(df_final_user_repo_star_repo_id_merge.loc[df_final_user_repo_star_repo_id_merge['stars']== df_final_user_repo_star_repo_id_merge['stars'].max() ].index, inplace=True)"
   ]
  },
  {
   "cell_type": "markdown",
   "metadata": {
    "_uuid": "40be6a6bc89d396027df463b5fb21bf715e66860"
   },
   "source": [
    "## Plot after removing the outlier"
   ]
  },
  {
   "cell_type": "code",
   "execution_count": 16,
   "metadata": {
    "_uuid": "778298bb9ebf6fc9000c0e6ff902d8b16e53502e"
   },
   "outputs": [
    {
     "data": {
      "text/plain": [
       "<matplotlib.axes._subplots.AxesSubplot at 0x7f7bdc6590f0>"
      ]
     },
     "execution_count": 16,
     "metadata": {},
     "output_type": "execute_result"
    },
    {
     "data": {
      "image/png": "[encoded data removed]",
      "text/plain": [
       "<Figure size 432x288 with 1 Axes>"
      ]
     },
     "metadata": {},
     "output_type": "display_data"
    }
   ],
   "source": [
    "df_final_user_repo_star_repo_id_merge.plot.scatter(x='repoid', y = 'stars')"
   ]
  },
  {
   "cell_type": "markdown",
   "metadata": {
    "_uuid": "283296430e79637b46d18c78620b76eef90e9204"
   },
   "source": [
    "## We also see that now the dataframe has more even spreadout if you check the 25%, 50% and 75% statistics"
   ]
  },
  {
   "cell_type": "code",
   "execution_count": 17,
   "metadata": {
    "_uuid": "3543949b31a1c62f0c9d2b1ab6bda061fc71fbca"
   },
   "outputs": [
    {
     "data": {
      "text/html": [
       "<div>\n",
       "<style scoped>\n",
       "    .dataframe tbody tr th:only-of-type {\n",
       "        vertical-align: middle;\n",
       "    }\n",
       "\n",
       "    .dataframe tbody tr th {\n",
       "        vertical-align: top;\n",
       "    }\n",
       "\n",
       "    .dataframe thead th {\n",
       "        text-align: right;\n",
       "    }\n",
       "</style>\n",
       "<table border=\"1\" class=\"dataframe\">\n",
       "  <thead>\n",
       "    <tr style=\"text-align: right;\">\n",
       "      <th></th>\n",
       "      <th>repoid</th>\n",
       "      <th>stars</th>\n",
       "    </tr>\n",
       "  </thead>\n",
       "  <tbody>\n",
       "    <tr>\n",
       "      <th>count</th>\n",
       "      <td>999.000000</td>\n",
       "      <td>999.000000</td>\n",
       "    </tr>\n",
       "    <tr>\n",
       "      <th>mean</th>\n",
       "      <td>493.501502</td>\n",
       "      <td>2294.962963</td>\n",
       "    </tr>\n",
       "    <tr>\n",
       "      <th>std</th>\n",
       "      <td>284.742586</td>\n",
       "      <td>1593.578076</td>\n",
       "    </tr>\n",
       "    <tr>\n",
       "      <th>min</th>\n",
       "      <td>0.000000</td>\n",
       "      <td>1083.000000</td>\n",
       "    </tr>\n",
       "    <tr>\n",
       "      <th>25%</th>\n",
       "      <td>246.500000</td>\n",
       "      <td>1320.000000</td>\n",
       "    </tr>\n",
       "    <tr>\n",
       "      <th>50%</th>\n",
       "      <td>496.000000</td>\n",
       "      <td>1692.000000</td>\n",
       "    </tr>\n",
       "    <tr>\n",
       "      <th>75%</th>\n",
       "      <td>740.500000</td>\n",
       "      <td>2669.500000</td>\n",
       "    </tr>\n",
       "    <tr>\n",
       "      <th>max</th>\n",
       "      <td>983.000000</td>\n",
       "      <td>13208.000000</td>\n",
       "    </tr>\n",
       "  </tbody>\n",
       "</table>\n",
       "</div>"
      ],
      "text/plain": [
       "           repoid         stars\n",
       "count  999.000000    999.000000\n",
       "mean   493.501502   2294.962963\n",
       "std    284.742586   1593.578076\n",
       "min      0.000000   1083.000000\n",
       "25%    246.500000   1320.000000\n",
       "50%    496.000000   1692.000000\n",
       "75%    740.500000   2669.500000\n",
       "max    983.000000  13208.000000"
      ]
     },
     "execution_count": 17,
     "metadata": {},
     "output_type": "execute_result"
    }
   ],
   "source": [
    "df_final_user_repo_star_repo_id_merge.describe()"
   ]
  },
  {
   "cell_type": "markdown",
   "metadata": {
    "_uuid": "3790c22c8d974b04d936aaf4b493e48eab971506"
   },
   "source": [
    "## Here below we copy the current dataframe to get a new dataframe which we need for searching later for recommendations"
   ]
  },
  {
   "cell_type": "code",
   "execution_count": 109,
   "metadata": {
    "_uuid": "6cda23215d0f8b289a00262ac9339bac041b085e"
   },
   "outputs": [],
   "source": [
    "df_final_user_repo_star_repo_id_merge_copy = df_final_user_repo_star_repo_id_merge.copy(deep=True)"
   ]
  },
  {
   "cell_type": "code",
   "execution_count": 19,
   "metadata": {
    "_uuid": "a8898241bb9c3bd7c6dd196b645fbd38af0faeb9"
   },
   "outputs": [
    {
     "data": {
      "text/html": [
       "<div>\n",
       "<style scoped>\n",
       "    .dataframe tbody tr th:only-of-type {\n",
       "        vertical-align: middle;\n",
       "    }\n",
       "\n",
       "    .dataframe tbody tr th {\n",
       "        vertical-align: top;\n",
       "    }\n",
       "\n",
       "    .dataframe thead th {\n",
       "        text-align: right;\n",
       "    }\n",
       "</style>\n",
       "<table border=\"1\" class=\"dataframe\">\n",
       "  <thead>\n",
       "    <tr style=\"text-align: right;\">\n",
       "      <th></th>\n",
       "      <th>repoid</th>\n",
       "      <th>repo_name</th>\n",
       "      <th>user</th>\n",
       "      <th>stars</th>\n",
       "      <th>user_repo_name</th>\n",
       "    </tr>\n",
       "  </thead>\n",
       "  <tbody>\n",
       "    <tr>\n",
       "      <th>0</th>\n",
       "      <td>0</td>\n",
       "      <td>atswift-2016-resources</td>\n",
       "      <td>atConf</td>\n",
       "      <td>1504</td>\n",
       "      <td>atConf/atswift-2016-resources</td>\n",
       "    </tr>\n",
       "    <tr>\n",
       "      <th>1</th>\n",
       "      <td>1</td>\n",
       "      <td>npm-check</td>\n",
       "      <td>dylang</td>\n",
       "      <td>2438</td>\n",
       "      <td>dylang/npm-check</td>\n",
       "    </tr>\n",
       "    <tr>\n",
       "      <th>2</th>\n",
       "      <td>2</td>\n",
       "      <td>openage</td>\n",
       "      <td>SFTtech</td>\n",
       "      <td>1739</td>\n",
       "      <td>SFTtech/openage</td>\n",
       "    </tr>\n",
       "    <tr>\n",
       "      <th>3</th>\n",
       "      <td>3</td>\n",
       "      <td>react-demos</td>\n",
       "      <td>ruanyf</td>\n",
       "      <td>2167</td>\n",
       "      <td>ruanyf/react-demos</td>\n",
       "    </tr>\n",
       "    <tr>\n",
       "      <th>4</th>\n",
       "      <td>4</td>\n",
       "      <td>Hystrix</td>\n",
       "      <td>Netflix</td>\n",
       "      <td>1505</td>\n",
       "      <td>Netflix/Hystrix</td>\n",
       "    </tr>\n",
       "  </tbody>\n",
       "</table>\n",
       "</div>"
      ],
      "text/plain": [
       "   repoid              ...                               user_repo_name\n",
       "0       0              ...                atConf/atswift-2016-resources\n",
       "1       1              ...                             dylang/npm-check\n",
       "2       2              ...                              SFTtech/openage\n",
       "3       3              ...                           ruanyf/react-demos\n",
       "4       4              ...                              Netflix/Hystrix\n",
       "\n",
       "[5 rows x 5 columns]"
      ]
     },
     "execution_count": 19,
     "metadata": {},
     "output_type": "execute_result"
    }
   ],
   "source": [
    "df_final_user_repo_star_repo_id_merge_copy.head()"
   ]
  },
  {
   "cell_type": "markdown",
   "metadata": {
    "_uuid": "1dcd28d7aaad8d45f2c2a2d55211391dab36f0bb"
   },
   "source": [
    "## We just checked if we have got the correct unique repositories as they have to be unique"
   ]
  },
  {
   "cell_type": "code",
   "execution_count": 20,
   "metadata": {
    "_uuid": "f45e17a9c0b563629bd9d9ed54bf0596ac92fb27"
   },
   "outputs": [
    {
     "data": {
      "text/plain": [
       "array(['atConf/atswift-2016-resources', 'dylang/npm-check',\n",
       "       'SFTtech/openage', 'ruanyf/react-demos', 'Netflix/Hystrix',\n",
       "       'BradLarson/GPUImage2', 'carekit-apple/CareKit',\n",
       "       'prometheus/prometheus', 'samshadwell/TrumpScript',\n",
       "       'YouXianMing/YoCelsius', 'pkmital/tensorflow_tutorials',\n",
       "       'jondot/awesome-react-native',\n",
       "       'kesenhoo/android-training-course-in-chinese',\n",
       "       'bvaughn/react-virtualized', 'xiekw2010/react-native-gitfeed',\n",
       "       'danylovolokh/VideoPlayerManager', 'HunterLarco/voxel.css',\n",
       "       'danialfarid/ng-file-upload', 'Croteam-official/Serious-Engine',\n",
       "       'jlevy/the-art-of-command-line', 'containous/traefik',\n",
       "       'lapwinglabs/x-ray', 'futurice/pepperoni-app-kit',\n",
       "       'hilen/TSWeChat', 'iammert/MaterialIntroView', 'composer/composer',\n",
       "       'tc39/ecma262', 'JacksonTian/fks', 'programthink/zhao',\n",
       "       'astaxie/build-web-application-with-golang',\n",
       "       'shekhargulati/52-technologies-in-2016',\n",
       "       'NativeScript/NativeScript', 'gaearon/normalizr', 'phodal/growth',\n",
       "       'sqlitebrowser/sqlitebrowser',\n",
       "       'forkingdog/UITableView-FDTemplateLayoutCell',\n",
       "       'philipwalton/flexbugs', 'adam-p/markdown-here',\n",
       "       'ryanflorence/react-project', 'eladnava/mailgen',\n",
       "       'sindresorhus/awesome-electron', 'Homebrew/homebrew',\n",
       "       'mathiasbynens/dotfiles', 'IonicaBizau/scrape-it',\n",
       "       'deeplearning4j/deeplearning4j', 'h4cc/awesome-elixir',\n",
       "       'grafana/grafana', 'Karumi/Rosie', 'google/flatbuffers',\n",
       "       'madmalik/mononoki', 'eliangcs/http-prompt', 'Moya/Moya',\n",
       "       'kriskowal/q', 'FormidableLabs/radium',\n",
       "       'realpython/discover-flask', 'onevcat/VVDocumenter-Xcode',\n",
       "       'PhilJay/MPAndroidChart', 'jobbole/awesome-java-cn',\n",
       "       'fisherman/fisherman', 'facebook/relay', 'LukyVj/family.scss',\n",
       "       'cht8687/You-Dont-Need-Lodash-Underscore',\n",
       "       'react-bootstrap/react-bootstrap', 'pedrovgs/EffectiveAndroidUI',\n",
       "       'aksonov/react-native-router-flux', 'AFNetworking/AFNetworking',\n",
       "       'syl20bnr/spacemacs', 'getlantern/lantern', 'ariya/phantomjs',\n",
       "       'geeeeeeeeek/WeChatLuckyMoney', 'SVProgressHUD/SVProgressHUD',\n",
       "       'amayne/SwiftString', 'fastlane/fastlane', 'google/dagger',\n",
       "       'rwaldron/johnny-five', 'ipfs/ipfs',\n",
       "       'ChenYilong/iOSInterviewQuestions', 'iCHAIT/awesome-osx',\n",
       "       'tensorflow/skflow', 'ZhyTeam/ZhyCore', 'antontarasenko/smq',\n",
       "       'DKirwan/calendar-heatmap', 'magicalpanda/MagicalRecord',\n",
       "       'caesar0301/awesome-public-datasets',\n",
       "       'drduh/OS-X-Security-and-Privacy-Guide',\n",
       "       'shadowsocks/shadowsocks-android', 'timjacobi/angular2-education',\n",
       "       'josephmisiti/awesome-machine-learning',\n",
       "       'sindresorhus/awesome-nodejs', 'sahat/hackathon-starter',\n",
       "       'mitsuhiko/flask', 'pallets/flask', 'mogujie/TeamTalk',\n",
       "       'requery/requery', 'hyperledger/hyperledger', 'karpathy/convnetjs',\n",
       "       'Ramotion/expanding-collection', 'defaultnamehere/zzzzz',\n",
       "       'Dogfalo/materialize', 'jaredhanson/passport',\n",
       "       'kennethreitz/requests', 'allenwong/30DaysofSwift',\n",
       "       'overtrue/wechat', 'facebook/react-native', 'square/retrofit',\n",
       "       'lgvalle/Material-Animations', 'bignerdranch/Freddy',\n",
       "       'sqlmapproject/sqlmap', 'googlesamples/android-architecture',\n",
       "       'sorin-ionescu/prezto', 'vasanthk/js-bits', 'nvie/gitflow',\n",
       "       'hammerjs/hammer.js', 'Hashnode/mern-starter', 'pixijs/pixi.js',\n",
       "       'FlexMonkey/Filterpedia', 'google/iosched',\n",
       "       'mwaterfall/MWPhotoBrowser', 'mgechev/angular2-style-guide',\n",
       "       'mshang/python-elevator-challenge',\n",
       "       'raywenderlich/swift-style-guide', 'github/swift-style-guide',\n",
       "       'DevLight-Mobile-Agency/NavigationTabBar', 'TryGhost/Ghost',\n",
       "       'feross/webtorrent-desktop', 'Alamofire/Alamofire',\n",
       "       'javve/list.js', 'request/request', 'uutils/coreutils',\n",
       "       'letsencrypt/letsencrypt', 'Flipboard/react-canvas',\n",
       "       'mxcl/PromiseKit', 'parkjs814/AlgorithmVisualizer', 'mjmlio/mjml',\n",
       "       'yenchenlin1994/DeepLearningFlappyBird',\n",
       "       'renaudcerrato/FloatingSearchView', 'wsargent/docker-cheat-sheet',\n",
       "       'chassing/linux-sysadmin-interview-questions',\n",
       "       'CoderMJLee/MJExtension', 'ReactiveX/RxAndroid', 'phodal/ideabook',\n",
       "       'airbnb/caravel', 'Selz/plyr', 'nakiostudio/EasyPeasy',\n",
       "       'mattermost/platform', 'petehunt/react-howto', 'sindresorhus/ava',\n",
       "       'twbs/bootstrap', 'angular-ui/bootstrap',\n",
       "       'thejameskyle/spectacle-code-slide', 'veltman/clmystery',\n",
       "       'gin-gonic/gin', 'Nightonke/WoWoViewPager', 'google/ion',\n",
       "       'markyun/My-blog', 'dotnet/corefx', 'JohnCoates/Aerial',\n",
       "       'tensorflow/models', 'spf13/spf13-vim',\n",
       "       'Ramotion/paper-onboarding', 'Microsoft/vscode',\n",
       "       'thejameskyle/the-super-tiny-compiler', 'ben174/git-draw',\n",
       "       'apple/swift', 'feathersjs/feathers',\n",
       "       'zalmoxisus/redux-devtools-extension', 'wekan/wekan',\n",
       "       'sqren/fb-sleep-stats', 'mitchellh/vagrant', 'Mashape/kong',\n",
       "       'soimort/you-get', 'Itseez/opencv', 'Automattic/mongoose',\n",
       "       'xmartlabs/Eureka', 'fogleman/ln', 'godotengine/godot',\n",
       "       'madrobby/zepto', 'tobiasahlin/SpinKit', 'angular-ui/ui-router',\n",
       "       'Leo-G/DevopsWiki', 'fffaraz/awesome-cpp',\n",
       "       'geeeeeeeeek/electronic-wechat', 'serverless/serverless',\n",
       "       'wasabeef/recyclerview-animators', 'JakeWharton/RxBinding',\n",
       "       'donnemartin/data-science-ipython-notebooks',\n",
       "       'thejameskyle/babel-handbook', 'cemoody/lda2vec',\n",
       "       'Automattic/wp-calypso', 'cockroachdb/cockroach', 'typicode/hotel',\n",
       "       'futurice/ios-good-practices', 'ssloy/tinyrenderer',\n",
       "       'sorrycc/awesome-javascript', 'sequelize/sequelize',\n",
       "       'necolas/react-native-web', 'PaoloRotolo/AppIntro', 'npm/npm',\n",
       "       'google/flexbox-layout', 'marcuswestin/WebViewJavascriptBridge',\n",
       "       'airbnb/enzyme', 'GitbookIO/gitbook', 'tripit/slate',\n",
       "       'JakeWharton/butterknife', 'nodejs/node',\n",
       "       'DianQK/TransitionTreasury', 'Marak/faker.js', 'grpc/grpc',\n",
       "       'danielgindi/Charts', 'fxsjy/jieba', 'jekyll/jekyll',\n",
       "       'picturepan2/spectre', 'github/hubot', 'vuejs/vuex',\n",
       "       'SeleniumHQ/selenium', 'square/okhttp', 'humaan/Modaal',\n",
       "       'ReactiveCocoa/ReactiveCocoa', 'nolimits4web/Framework7',\n",
       "       'sindresorhus/awesome-npm', 'breakwa11/shadowsocks-rss',\n",
       "       'aphyr/distsys-class', 'afollestad/material-dialogs',\n",
       "       'jobbole/awesome-ios-cn', 'chjj/marked',\n",
       "       'cymcsg/UltimateRecyclerView', 'facebook/nuclide',\n",
       "       'dutchcoders/transfer.sh', 'defunkt/jquery-pjax',\n",
       "       'cjwirth/awesome-ios-ui', 'redspread/spread',\n",
       "       'ant-design/ant-design', 'Gazler/githug',\n",
       "       'bboyfeiyu/android-tech-frontier', 'Jam3/devtool',\n",
       "       'ampproject/amphtml', 'robbiehanson/CocoaAsyncSocket',\n",
       "       'jkbrzt/httpie', 'langhua9527/BlackheartedHospital',\n",
       "       'fastos/tcpdive', 'lkzhao/ElasticTransition', 'storehouse/Advance',\n",
       "       'dustturtle/RealReachability', 'johang/btfs', 'ccgus/fmdb',\n",
       "       'reactjs/reselect', 'romannurik/AndroidAssetStudio',\n",
       "       'facebook/draft-js', 'jquery/jquery', 'nylas/N1', 'adobe/brackets',\n",
       "       'LittleFriendsGroup/AndroidSdkSourceAnalysis', 'artf/grapesjs',\n",
       "       'byoutline/kickmaterial', 'nolimits4web/Swiper',\n",
       "       'expressjs/express', 'Semantic-Org/Semantic-UI',\n",
       "       'jwilder/nginx-proxy', 'google/seesaw', 'facebook/fbctf',\n",
       "       'FFmpeg/FFmpeg', 'ujjwalkarn/DataSciencePython',\n",
       "       'alex-sherman/deco', 'vuejs/vue', 'petkaantonov/bluebird',\n",
       "       'garbles/why-did-you-update', 'airbnb/javascript',\n",
       "       'puikinsh/gentelella', 'tldr-pages/tldr', 'postcss/autoprefixer',\n",
       "       'RubaXa/Sortable', 'Hearst-DD/ObjectMapper', 'schollz/find',\n",
       "       'remy/nodemon', 'dbohdan/structured-text-tools',\n",
       "       'alexazhou/VeryNginx', 'yamartino/pressure',\n",
       "       'danielgindi/ios-charts', 'braydie/HowToBeAProgrammer',\n",
       "       'angular/material2', 'tastejs/awesome-app-ideas',\n",
       "       'webpack/webpack', 'facebook/pop', 'jlevy/og-equity-compensation',\n",
       "       'Microsoft/TypeScript', 'dhg/Skeleton',\n",
       "       'evancz/elm-architecture-tutorial', 'wequick/Small',\n",
       "       'oneuijs/You-Dont-Need-jQuery', 'DylanPiercey/auto-sni',\n",
       "       'chrisbanes/cheesesquare', 'torvalds/linux', 'phodal/growth-ebook',\n",
       "       'enaqx/awesome-react', 'twitter/distributedlog',\n",
       "       'developit/preact', 'angular/angular-seed',\n",
       "       'sgaurav/understanding-es6', 'tornadoweb/tornado',\n",
       "       'sohutv/cachecloud', 'dleitee/strman', 'google/gson',\n",
       "       'hakimel/reveal.js', 'dmlc/xgboost', 'codemirror/CodeMirror',\n",
       "       'draft-js-plugins/draft-js-plugins',\n",
       "       'kaushikgopal/RxJava-Android-Samples',\n",
       "       'larrynatalicio/15DaysofAnimationsinSwift', 'faif/python-patterns',\n",
       "       'caolan/async', 'phanan/koel', 'gitlabhq/gitlabhq',\n",
       "       'jhipster/generator-jhipster', 'autumnai/leaf', 'martanne/vis',\n",
       "       'labstack/echo', 'aframevr/aframe', 'junegunn/fzf',\n",
       "       'tensorflow/tensorflow', 'cmusatyalab/openface',\n",
       "       'facebook/FBRetainCycleDetector', 'zurb/foundation-sites',\n",
       "       'loverajoel/jstips', 'fulldecent/system-bus-radio',\n",
       "       'DreaminginCodeZH/Douya', 'matthew-andrews/isomorphic-fetch',\n",
       "       'matryer/bitbar', 'spring-projects/spring-boot',\n",
       "       'spring-projects/spring-framework', 'jakiestfu/himawari.js',\n",
       "       'gabrielrcouto/php-gui', 'p-e-w/maybe', 'pagekit/pagekit',\n",
       "       'facebook/reason', 'dokku/dokku', 'tiimgreen/github-cheat-sheet',\n",
       "       'rails/rails', 'vhf/free-programming-books', 'Thomas101/wmail',\n",
       "       'MengTo/Spring', 'PlusHaze/TrayNotification',\n",
       "       'PHPMailer/PHPMailer', 'erikras/react-redux-universal-hot-example',\n",
       "       'chentsulin/electron-react-boilerplate', 'ReactiveX/RxJava',\n",
       "       'babel/babel', 'NARKOZ/hacker-scripts',\n",
       "       'dkhamsing/open-source-ios-apps', 'VundleVim/Vundle.vim',\n",
       "       'gsdios/GSD_WeiXin', 'mongodb/mongo',\n",
       "       'ericelliott/essential-javascript-links', 'daneden/animate.css',\n",
       "       'emberjs/ember.js', 'gophish/gophish', 'gaearon/redux-thunk',\n",
       "       'yelouafi/redux-saga', 'mozilla/pdf.js', 'google/ExoPlayer',\n",
       "       'banchichen/TZImagePickerController', 'rethinkdb/rethinkdb',\n",
       "       'liaohuqiu/android-Ultra-Pull-To-Refresh', 'reactjs/react-redux',\n",
       "       'donnemartin/gitsome', 'facebook/immutable-js',\n",
       "       'MagicStack/uvloop', 'isagalaev/highlight.js',\n",
       "       'yabwe/medium-editor', 'facebook/redex',\n",
       "       'kriasoft/react-starter-kit', 'pengjianbo/GalleryFinal',\n",
       "       'yyuu/pyenv', 'dmlc/mxnet', 'Microsoft/ChakraCore',\n",
       "       'bbatsov/ruby-style-guide', 'eclipse/che', 'brownhci/WebGazer',\n",
       "       'gorhill/uBlock', 'zquestz/s', 'rg3/youtube-dl', 'weui/weui',\n",
       "       'Ramotion/animated-tab-bar', 'v8/v8', 'reverse-shell/routersploit',\n",
       "       '0xAX/linux-insides', 'decosoftware/deco-ide', 'creationix/nvm',\n",
       "       'IanLunn/Hover', 'OAI/OpenAPI-Specification',\n",
       "       'strongloop/loopback', 'citusdata/citus', 'kubernetes/kubernetes',\n",
       "       'videojs/video.js', 'hyperoslo/Whisper', 'yahoo/pure',\n",
       "       'aymericdamien/TensorFlow-Examples', 'nnupoor/js_designpatterns',\n",
       "       'babun/babun', 'scala-native/scala-native', 'django/django',\n",
       "       'tesseract-ocr/tesseract', 'luin/medis', 'meteor/meteor',\n",
       "       'neovim/neovim', 'gaearon/react-makes-you-sad',\n",
       "       'css-modules/css-modules', 'Nightonke/BoomMenu',\n",
       "       'BrowserSync/browser-sync', 'akullpp/awesome-java',\n",
       "       'Ramotion/navigation-stack', 'driftyco/ionic', 'google/styleguide',\n",
       "       'TheMozg/awk-raycaster', 'necolas/normalize.css',\n",
       "       'amzn/alexa-avs-raspberry-pi', 'mgechev/angular2-seed',\n",
       "       'taobaofed/react-web', 'amix/vimrc',\n",
       "       'VerbalExpressions/JSVerbalExpressions', 'alex/what-happens-when',\n",
       "       'hzlzh/Best-App', 'Theano/Theano', 'nvdv/vprof',\n",
       "       'JedWatson/react-select', 'Ramotion/circle-menu',\n",
       "       'ChromeDevTools/awesome-chrome-devtools', 'Thibaut/devdocs',\n",
       "       'rollup/rollup', 'AutumnsWind/Front-end-tutorial',\n",
       "       'mortenjust/cleartext-mac', 'mbostock/d3',\n",
       "       'Trinea/android-open-project', 'linnovate/mean', 'connors/photon',\n",
       "       'Microsoft/CNTK', 'steshaw/plt', 'ty4z2008/Qix',\n",
       "       'aosabook/500lines', 'matejlatin/Gutenberg', 'RPISEC/Malware',\n",
       "       'servo/servo', 'libuv/libuv', 'felixge/node-mysql',\n",
       "       'libgdx/libgdx', 'baidu-research/warp-ctc', 'jsvine/waybackpack',\n",
       "       'koalaman/shellcheck', 'cantino/huginn',\n",
       "       'gsdios/SDCycleScrollView', 'google/EarlGrey',\n",
       "       'searchkit/searchkit', 'DrkSephy/es6-cheatsheet',\n",
       "       'SnapKit/Masonry', 'wasabeef/awesome-android-ui',\n",
       "       'CoderMJLee/MJRefresh', 'Junnplus/awesome-python-books',\n",
       "       'so-fancy/diff-so-fancy', 'stevemao/diff-so-fancy',\n",
       "       'alibaba/dubbo', 'callmecavs/bricks.js',\n",
       "       'ParsePlatform/parse-server', 'convox/rack', 'antirez/disque',\n",
       "       'callemall/material-ui', 'relatedcode/ParseAlternatives',\n",
       "       'jenkinsci/jenkins', 'visionmedia/superagent',\n",
       "       'Skyscanner/SkyFloatingLabelTextField',\n",
       "       'onmyway133/fantastic-ios-animation', 'mobxjs/mobx',\n",
       "       'coryhouse/react-slingshot', 'nlp-compromise/nlp_compromise',\n",
       "       'bcit-ci/CodeIgniter', 'howdyai/botkit', 'ziadoz/awesome-php',\n",
       "       'postcss/postcss', 'riot/riot',\n",
       "       'Cleveroad/slidingtutorial-android',\n",
       "       'android10/Android-CleanArchitecture',\n",
       "       'nostra13/Android-Universal-Image-Loader', '1000ch/grd',\n",
       "       'CRYTEK-CRYENGINE/CRYENGINE', 'alebcay/awesome-shell',\n",
       "       'dypsilon/frontend-dev-bookmarks',\n",
       "       'hsavit1/Awesome-Swift-Education', 'driftyco/ionicons',\n",
       "       'esp8266/Arduino', 'realm/SwiftLint',\n",
       "       'android-cjj/JJSearchViewAnim', 'veggiemonk/awesome-docker',\n",
       "       'aurelia/framework', 'drone/drone', 'ipader/SwiftGuide',\n",
       "       'opentoonz/opentoonz', 'VPenkov/okayNav',\n",
       "       'ele828/react-native-guide', 'jashkenas/backbone',\n",
       "       'Ramotion/reel-search', 'usablica/intro.js',\n",
       "       'CymChad/BaseRecyclerViewAdapterHelper',\n",
       "       'excilys/androidannotations', 'romannurik/MaterialColorsApp',\n",
       "       'elixir-lang/elixir', 'alsotang/node-lessons', 'bang590/JSPatch',\n",
       "       'dcloudio/mui', 'antoniolg/androidmvp', 'hashicorp/terraform',\n",
       "       'JakeLin/IBAnimatable', 'gaearon/redux-devtools', 'jpmens/jo',\n",
       "       'domnikl/DesignPatternsPHP', 'denysdovhan/bash-handbook',\n",
       "       'awentzonline/image-analogies', 'themattrix/bash-concurrent',\n",
       "       'photonstorm/phaser', 'kadirahq/react-storybook',\n",
       "       'kenwheeler/slick', 'adobe-fonts/source-code-pro',\n",
       "       '10up/flexibility', 'syncthing/syncthing', 'kevinzhow/PNChart',\n",
       "       'chrisbanes/PhotoView', 'cdmedia/cms.js',\n",
       "       'hongyangAndroid/AndroidAutoLayout', 'apex/apex',\n",
       "       'AngularClass/angular2-webpack-starter', 'danielquinn/paperless',\n",
       "       'ptmt/react-native-desktop', 'gulpjs/gulp', 'mholt/caddy',\n",
       "       'tj/frontend-boilerplate', 'facebook/flow',\n",
       "       'SamyPesse/How-to-Make-a-Computer-Operating-System',\n",
       "       'ViccAlexander/Chameleon', 'dthree/vorpal', 'bumptech/glide',\n",
       "       'Masterminds/glide', 'PerfectlySoft/Perfect', 'vim/vim',\n",
       "       'buunguyen/octotree', 'rishabhp/bideo.js',\n",
       "       'googlei18n/libphonenumber', 'zxing/zxing', 'yiisoft/yii2',\n",
       "       'Microsoft/vscode-go', 'racaljk/hosts', 'StevenBlack/hosts',\n",
       "       'openai/gym', 'geekcompany/ResumeSample', 'TeamStuQ/skill-map',\n",
       "       'shakacode/react_on_rails', 'copy/v86', 'RocketChat/Rocket.Chat',\n",
       "       'rethinkdb/horizon', 'dinuscxj/LoadingDrawable',\n",
       "       'SwiftyJSON/SwiftyJSON', 'dthree/cash', 'kenwheeler/cash',\n",
       "       'akveo/blur-admin', 'thedillonb/CodeHub',\n",
       "       'GoogleChrome/lighthouse', 'jayphelps/git-blame-someone-else',\n",
       "       'herrbischoff/awesome-osx-command-line', 'Soundnode/soundnode-app',\n",
       "       'scikit-learn/scikit-learn', 'fzaninotto/Faker', 'tonsky/FiraCode',\n",
       "       'flschweiger/SwipeStack', 'typings/typings', 'tidwall/tile38',\n",
       "       'dxa4481/Pastejacking',\n",
       "       'gabrielrcouto/php-terminal-gameboy-emulator', 'tsenart/vegeta',\n",
       "       'kennethreitz/records', 'TMCoding/Plantation', 'docker/docker',\n",
       "       'numbbbbb/the-swift-programming-language-in-chinese',\n",
       "       'moduth/blockcanary', 'justjavac/free-programming-books-zh_CN',\n",
       "       'alcatraz/Alcatraz', 'plataformatec/devise', 'justmarkham/DAT8',\n",
       "       'akshayKMR/hogwatch', 'apache/spark',\n",
       "       'MoZhouqi/KMNavigationBarTransition', 'SnapKit/SnapKit',\n",
       "       'PHPOffice/PHPExcel', 'sahat/satellizer', 'jianliaoim/talk-os',\n",
       "       'mist64/xhyve', 'pavelgonchar/colornet',\n",
       "       'cjcenizal/flexbox-patterns', 'rancher/rancher',\n",
       "       'mmin18/FlexLayout', 'facebook/folly', 'jp9000/obs-studio',\n",
       "       'substack/stream-handbook', 'facebook/stetho',\n",
       "       'jmcarp/robobrowser', 'satoshiiizuka/siggraph2016_colorization',\n",
       "       'schachmat/wego', 'donnemartin/haxor-news',\n",
       "       'yangyangwithgnu/hardseed', 'dennis714/RE-for-beginners',\n",
       "       'chartjs/Chart.js', 'nnnick/Chart.js', 'viljamis/feature.js',\n",
       "       'h5bp/Front-end-Developer-Interview-Questions',\n",
       "       'sdc-alibaba/SUI-Mobile', 's4cha/Stevia',\n",
       "       'getguesstimate/guesstimate-app', 'substance/substance',\n",
       "       'ryanoasis/nerd-fonts', 'BYVoid/Batsh',\n",
       "       'daimajia/AndroidSwipeLayout', 'Ramotion/folding-cell',\n",
       "       'laobie/StatusBarUtil', 'kyleneideck/BackgroundMusic',\n",
       "       'tflearn/tflearn', 'Bilibili/ijkplayer', 'gogits/gogs',\n",
       "       'lzyzsd/Awesome-RxJava', 'fchollet/keras',\n",
       "       'ParsePlatform/parse-dashboard', 'Microsoft/BotBuilder',\n",
       "       'mochajs/mocha', 'cmderdev/cmder', 'itsabot/abot',\n",
       "       'IBM-Swift/Kitura', 'appetizermonster/hain',\n",
       "       'fengyuanchen/viewerjs', 'equinusocio/material-theme',\n",
       "       'horst3180/arc-theme', 'square/leakcanary',\n",
       "       'jakarmy/swift-summary', 'weibocom/motan', 'segmentio/nightmare',\n",
       "       'lukehoban/es6features', 'AllThingsSmitty/css-protips',\n",
       "       'easychen/howto-make-more-money', 'ansible/ansible',\n",
       "       'pinterest/teletraan', 'jashkenas/underscore', 'scrapy/scrapy',\n",
       "       'antirez/redis', 'egorsmkv/google-spaces', 'wyouflf/xUtils3',\n",
       "       'mrdoob/three.js', 'swagger-api/swagger-ui', 'Wox-launcher/Wox',\n",
       "       'nwjs/nw.js', 'nvbn/thefuck', 'Homebrew/brew', 'nothings/stb',\n",
       "       'ReactiveX/RxSwift', 'zaqqaz/ng-rest-api', 'chinchang/hint.css',\n",
       "       'firehol/netdata', 'amznlabs/amazon-dsstne',\n",
       "       'facebook/FBMemoryProfiler', 'bitcoin/bitcoin',\n",
       "       'Ramotion/folding-cell-android', 'Kinto/kinto',\n",
       "       'kahun/awesome-sysadmin', 'iron-io/dockers', 'druid-io/druid',\n",
       "       'ademilter/bricklayer', 'jbranchaud/til',\n",
       "       'phoenixframework/phoenix', 'facebook/flux', 'git-up/GitUp',\n",
       "       'lingochamp/FileDownloader', 'lodash/lodash',\n",
       "       'bartonhammond/snowflake', 'Nickersoft/push.js', 'nlf/dlite',\n",
       "       'deepstreamIO/deepstream.io', 'ruanyf/webpack-demos',\n",
       "       'hashicorp/consul', 'twitter/typeahead.js',\n",
       "       'google/material-design-lite', 'dimsemenov/PhotoSwipe',\n",
       "       'dingo/api', 'ksoichiro/Android-ObservableScrollView',\n",
       "       'dotnet/roslyn', 'BVLC/caffe', 'ibireme/YYKit',\n",
       "       'jflesch/paperwork', 'reactjs/react-router-tutorial',\n",
       "       'OpenEmu/OpenEmu', 'mrzool/bash-sensible', 'google/guava',\n",
       "       'mikepenz/MaterialDrawer', 'JedWatson/classnames',\n",
       "       'Rochester-NRT/AlphaGo', 'SaschaWillems/Vulkan',\n",
       "       'shockone/black-screen', 'yukiasai/Gecco',\n",
       "       'MostlyAdequate/mostly-adequate-guide',\n",
       "       'ggreer/the_silver_searcher', 'iissnan/hexo-theme-next',\n",
       "       'open-power-workgroup/Hospital', 'git/git', 'joshbuchea/HEAD',\n",
       "       'codepath/android_guides', 'discourse/discourse', 'fouber/blog',\n",
       "       'xufei/blog', 'antelle/keeweb', 'alexhultman/uWebSockets',\n",
       "       'google/web-starter-kit', 'HubSpot/youmightnotneedjquery',\n",
       "       'kamranahmedse/git-standup', 'astaxie/beego',\n",
       "       'jcjohnson/neural-style', '500px/greedo-layout-for-android',\n",
       "       'PaulSec/awesome-sec-talks', 'bevacqua/dragula', 'google/leveldb',\n",
       "       'andris9/mailtrain', 'dongjunkun/DropDownMenu', 'andlabs/libui',\n",
       "       'torch/torch7', 'brave/browser-laptop', 'moment/moment',\n",
       "       'HubSpot/pace', 'markdown-it/markdown-it', 'angular/angular.js',\n",
       "       'vinta/awesome-python', 'timothycrosley/hug',\n",
       "       'Matt-Esch/virtual-dom', 'Netflix/falcor',\n",
       "       'alvarotrigo/fullPage.js', 'julianshapiro/velocity',\n",
       "       'hirak/prestissimo', 'getify/You-Dont-Know-JS', 'hiloteam/Hilo',\n",
       "       'CatchChat/Yep', 'vuejs/awesome-vue', 'blueimp/jQuery-File-Upload',\n",
       "       'bartobri/no-more-secrets', 'onevcat/Kingfisher',\n",
       "       'jezen/is-thirteen', 'facebook/react', 'google/WebFundamentals',\n",
       "       'renzifeng/ZFPlayer', 'shadowsocks/shadowsocks', 'Yelp/elastalert',\n",
       "       'diafygi/gethttpsforfree', 'tj/git-extras', 'rstacruz/nprogress',\n",
       "       'ibireme/YYText', 'laravel/laravel', 'angular/angular',\n",
       "       'gaearon/react-hot-boilerplate', 'h5bp/html5-boilerplate', 'tj/co',\n",
       "       'johnno1962/injectionforxcode', 'claudiajs/claudia',\n",
       "       'karan/Projects', 'hongyangAndroid/okhttp-utils',\n",
       "       'robbyrussell/oh-my-zsh', 'trailsjs/trails',\n",
       "       'matteocrippa/awesome-swift', 'reactjs/react-basic',\n",
       "       'jiahaog/nativefier', 'Vedenin/useful-java-links',\n",
       "       'JoelOtter/kajero', 'Draveness/iOS-Source-Code-Analyze',\n",
       "       'twitter/heron', 'davezuko/react-redux-starter-kit',\n",
       "       'elastic/elasticsearch', 'kristoferjoseph/flexboxgrid',\n",
       "       'futurice/android-best-practices', 'google/agera',\n",
       "       'apple/swift-package-manager', 'koajs/koa', 'impress/impress.js',\n",
       "       'calebmer/postgraphql', 'dzenbot/DZNEmptyDataSet', 'golang/go',\n",
       "       'srdja/Collections-C', 'square/picasso', 'thx/RAP',\n",
       "       'hdodenhof/CircleImageView', 'mobileplayer/mobileplayer-ios',\n",
       "       'snare/voltron', 'amontalenti/elements-of-python-style',\n",
       "       'realm/realm-java', 'airbnb/airflow', 'cheeriojs/cheerio',\n",
       "       'danielzeller/Depth-LIB-Android-', 'gongjianhui/AppleDNS',\n",
       "       'angular/angular-cli', 'milligram/milligram',\n",
       "       'DefinitelyTyped/DefinitelyTyped', 'hexojs/hexo',\n",
       "       'd1sm/finalspeed', 'reactjs/react-router', 'rackt/react-router',\n",
       "       'x64dbg/x64dbg', 'collinhundley/Swift-AI', 'skellock/reactotron',\n",
       "       'micro/micro', 'zyedidia/micro', 'zeithq/micro',\n",
       "       'angular/material', 'facebook/wangle', 'Leaflet/Leaflet',\n",
       "       'open-source-society/computer-science', 't4t5/sweetalert',\n",
       "       'AriaFallah/WebpackTutorial', 'XX-net/XX-Net',\n",
       "       'fivethirtyeight/data', 'delba/TextAttributes',\n",
       "       'Valloric/YouCompleteMe', 'wardowsmcc/badass', 'vurtun/nuklear',\n",
       "       'Polymer/polymer', 'CosmicMind/Material', 'marmelab/universal.css',\n",
       "       'Modernizr/Modernizr', 'iluwatar/java-design-patterns',\n",
       "       'prakhar1989/awesome-courses', 'fbsamples/f8app',\n",
       "       'legomushroom/mojs', 'Fuck-You-GFW/p2pspider',\n",
       "       'zenorocha/clipboard.js', 'balderdashy/sails', 'mhinz/vim-galore',\n",
       "       'future-architect/vuls', 'xcc3641/SeeWeather', 'ocornut/imgui',\n",
       "       'pyupio/statuspage', 'socketio/socket.io', 'greenrobot/EventBus',\n",
       "       'VincentGarreau/particles.js', 'xitu/gold-miner',\n",
       "       'apple/swift-evolution', 'sublimehq/Packages',\n",
       "       'facebook/AsyncDisplayKit', 'CocoaPods/CocoaPods',\n",
       "       'sindresorhus/awesome', 'johnpapa/angular-styleguide',\n",
       "       'qutheory/vapor', 'tannernelson/vapor', 'ageitgey/amplify',\n",
       "       'dear-github/dear-github', 'ruanyf/es6tutorial', 'eslint/eslint',\n",
       "       'ReSwift/ReSwift', 'rs/SDWebImage',\n",
       "       'ochococo/Design-Patterns-In-Swift',\n",
       "       'bayandin/awesome-awesomeness', 'netty/netty',\n",
       "       'HelloZeroNet/ZeroNet', 'jxnblk/rebass',\n",
       "       'giacomocerquone/angular2-mean-starter', 'spf13/hugo',\n",
       "       'feross/webtorrent', 'gaearon/react-transform-boilerplate',\n",
       "       'xgrommx/awesome-redux', 'dhamaniasad/awesome-postgres',\n",
       "       'coreos/etcd', 'ReactjsProgram/React-Fundamentals',\n",
       "       'keystonejs/keystone', 'ruby/ruby',\n",
       "       'minimaxir/big-list-of-naughty-strings',\n",
       "       'UnivaqTelegramBot/UnivaqInformaticaBot',\n",
       "       'mathieudutour/git-sketch-plugin', 'jonsuh/hamburgers',\n",
       "       'buger/gor', 'php/php-src', 'Kickball/awesome-selfhosted',\n",
       "       'relax/relax', 'Tim9Liu9/TimLiu-iOS', 'rust-lang/rust',\n",
       "       'JetBrains/kotlin', 'CleverbotIO/node-cleverbot.io',\n",
       "       'mxstbr/react-boilerplate', 'toddmotto/public-apis',\n",
       "       'google/material-design-icons', 'jisungk/deepjazz', 'ramda/ramda',\n",
       "       'atom/atom', 'BradLarson/GPUImage', 'Carthage/Carthage',\n",
       "       'reactjs/react-router-redux', 'Reactive-Extensions/RxJS',\n",
       "       'php-pm/php-pm', 'FortAwesome/Font-Awesome', 'mzabriskie/axios',\n",
       "       'airyland/vux', 'ftlabs/fastclick', 'marmelroy/PeekPop',\n",
       "       'google/googletest', 'isocpp/CppCoreGuidelines', 'alibaba/AndFix',\n",
       "       'hollance/swift-algorithm-club', 'jgthms/bulma',\n",
       "       'roughike/BottomBar', 'cisco/ChezScheme', 'Unitech/pm2',\n",
       "       'junegunn/vim-plug', 'google/xi-editor', 'systemjs/systemjs',\n",
       "       'FezVrasta/popper.js', 'nickbutcher/plaid', 'influxdata/influxdb',\n",
       "       'node-inspector/node-inspector', 'getsentry/sentry',\n",
       "       'redox-os/redox', 'feross/standard', 'cocos2d/cocos2d-x',\n",
       "       'sideshow/apns2', 'Jacksgong/JKeyboardPanelSwitch',\n",
       "       'maxwellito/vivus', 'wg/wrk', 'go-kit/kit',\n",
       "       'almasaeed2010/AdminLTE', 'greenrobot/greenDAO',\n",
       "       'jobbole/awesome-python-cn', 'shadowsocks/shadowsocks-windows',\n",
       "       'rstacruz/pnpm', 'ipython/ipython', 'gsdios/SDAutoLayout',\n",
       "       'eastlakeside/interpy-zh', 'github/gitignore',\n",
       "       'amperser/proselint', 'avelino/awesome-go', 'ejci/favico.js',\n",
       "       'facebook/fresco', 'alibaba/fastjson', 'hyperoslo/Hue',\n",
       "       'nicklockwood/iCarousel', 'saiprashanths/dl-setup',\n",
       "       'google/android-classyshark', 'js-cookie/js-cookie',\n",
       "       'resume/resume.github.com', 'atom/electron', 'electron/electron',\n",
       "       'typicode/json-server', 'chubin/wttr.in', 'electronicarts/EASTL',\n",
       "       'KnuffApp/Knuff', 'TencentOpen/GT',\n",
       "       'hackiftekhar/IQKeyboardManager', 'chenglou/react-motion',\n",
       "       'lukas2511/letsencrypt.sh', 'github/fetch', 'select2/select2',\n",
       "       'realm/realm-cocoa', 'ironmaniiith/Github-profile-name-writer',\n",
       "       'devbridge/Styleguide', 'jlmakes/scrollreveal.js',\n",
       "       'papers-we-love/papers-we-love', 'YouXianMing/Animations',\n",
       "       'google/protobuf', 'markerikson/react-redux-links',\n",
       "       'petehunt/webpack-howto', 'delba/Permission',\n",
       "       'Freelander/Android_Data', 'erikras/redux-form',\n",
       "       'ReactjsProgram/react-fundamentals-curriculum',\n",
       "       'Aufree/trip-to-iOS', 'alexjc/neural-doodle', 'rabbitmq/internals',\n",
       "       'santinic/how2', 'jdg/MBProgressHUD',\n",
       "       'FezVrasta/bootstrap-material-design', 'reactjs/redux',\n",
       "       'rackt/redux', 'kazzkiq/balloon.css', 'zhengwenming/WMPlayer',\n",
       "       'vsouza/awesome-ios', 'oblador/react-native-vector-icons',\n",
       "       'hacksalot/HackMyResume', '0x5e/wechat-deleted-friends',\n",
       "       'Yalantis/uCrop', 'uber-common/cpustat', 'keithwhor/nodal',\n",
       "       'mattkrick/meatier', 'jessesquires/JSQMessagesViewController',\n",
       "       'tensorflow/playground', 'gaearon/react-hot-loader',\n",
       "       'necolt/Swifton', 'ecomfe/echarts', 'getgrav/grav', 'kataras/iris',\n",
       "       'jtoy/awesome-tensorflow', 'symfony/symfony', 'github/scientist',\n",
       "       'hemanth/functional-programming-jargon', 'garnele007/SwiftOCR',\n",
       "       'MarshallOfSound/Google-Play-Music-Desktop-Player-UNOFFICIAL-',\n",
       "       'tastejs/todomvc', 'google/fonts', 'powerline/fonts'], dtype=object)"
      ]
     },
     "execution_count": 20,
     "metadata": {},
     "output_type": "execute_result"
    }
   ],
   "source": [
    "    df_final_user_repo_star_repo_id_merge_copy['user_repo_name'].unique()"
   ]
  },
  {
   "cell_type": "code",
   "execution_count": 21,
   "metadata": {
    "_uuid": "09a19ce38bb2ec79459ca67646dcb4d7bb172964"
   },
   "outputs": [
    {
     "data": {
      "text/html": [
       "<div>\n",
       "<style scoped>\n",
       "    .dataframe tbody tr th:only-of-type {\n",
       "        vertical-align: middle;\n",
       "    }\n",
       "\n",
       "    .dataframe tbody tr th {\n",
       "        vertical-align: top;\n",
       "    }\n",
       "\n",
       "    .dataframe thead th {\n",
       "        text-align: right;\n",
       "    }\n",
       "</style>\n",
       "<table border=\"1\" class=\"dataframe\">\n",
       "  <thead>\n",
       "    <tr style=\"text-align: right;\">\n",
       "      <th></th>\n",
       "      <th>repoid</th>\n",
       "      <th>repo_name</th>\n",
       "      <th>user</th>\n",
       "      <th>stars</th>\n",
       "      <th>user_repo_name</th>\n",
       "    </tr>\n",
       "  </thead>\n",
       "  <tbody>\n",
       "    <tr>\n",
       "      <th>0</th>\n",
       "      <td>0</td>\n",
       "      <td>atswift-2016-resources</td>\n",
       "      <td>atConf</td>\n",
       "      <td>1504</td>\n",
       "      <td>atConf/atswift-2016-resources</td>\n",
       "    </tr>\n",
       "    <tr>\n",
       "      <th>1</th>\n",
       "      <td>1</td>\n",
       "      <td>npm-check</td>\n",
       "      <td>dylang</td>\n",
       "      <td>2438</td>\n",
       "      <td>dylang/npm-check</td>\n",
       "    </tr>\n",
       "    <tr>\n",
       "      <th>2</th>\n",
       "      <td>2</td>\n",
       "      <td>openage</td>\n",
       "      <td>SFTtech</td>\n",
       "      <td>1739</td>\n",
       "      <td>SFTtech/openage</td>\n",
       "    </tr>\n",
       "    <tr>\n",
       "      <th>3</th>\n",
       "      <td>3</td>\n",
       "      <td>react-demos</td>\n",
       "      <td>ruanyf</td>\n",
       "      <td>2167</td>\n",
       "      <td>ruanyf/react-demos</td>\n",
       "    </tr>\n",
       "    <tr>\n",
       "      <th>4</th>\n",
       "      <td>4</td>\n",
       "      <td>Hystrix</td>\n",
       "      <td>Netflix</td>\n",
       "      <td>1505</td>\n",
       "      <td>Netflix/Hystrix</td>\n",
       "    </tr>\n",
       "  </tbody>\n",
       "</table>\n",
       "</div>"
      ],
      "text/plain": [
       "   repoid              ...                               user_repo_name\n",
       "0       0              ...                atConf/atswift-2016-resources\n",
       "1       1              ...                             dylang/npm-check\n",
       "2       2              ...                              SFTtech/openage\n",
       "3       3              ...                           ruanyf/react-demos\n",
       "4       4              ...                              Netflix/Hystrix\n",
       "\n",
       "[5 rows x 5 columns]"
      ]
     },
     "execution_count": 21,
     "metadata": {},
     "output_type": "execute_result"
    }
   ],
   "source": [
    "df_final_user_repo_star_repo_id_merge_copy.head()"
   ]
  },
  {
   "cell_type": "code",
   "execution_count": 22,
   "metadata": {
    "_uuid": "0994a2ced020e0ffc5d6a8256d0281120639804c"
   },
   "outputs": [],
   "source": [
    "df_final_user_repo_star_1.drop(df_final_user_repo_star_1.loc[df_final_user_repo_star_1['stars'] == df_final_user_repo_star_1['stars'].max() ].index, inplace=True)\n",
    "#df_final_user_repo_star_1.drop(df_final_user_repo_star_1.loc[df_final_user_repo_star_1['stars'] > 6000 ].index, inplace=True)"
   ]
  },
  {
   "cell_type": "markdown",
   "metadata": {
    "_uuid": "82d3c92a60559140465528f46868b7c84e3dbb1a"
   },
   "source": [
    "## Now that we have repoid and correct repositories, we merge it with user ids to get ids concatenated to the new dataframe"
   ]
  },
  {
   "cell_type": "code",
   "execution_count": 23,
   "metadata": {
    "_uuid": "e3d7104e4d8f6a9bebe65317bea3424f17c3f3e1"
   },
   "outputs": [],
   "source": [
    "df_final_user_repo_star_2 = pandas.merge(df_repo_id, df_final_user_repo_star_1, how='inner', on=['repo_name'])"
   ]
  },
  {
   "cell_type": "code",
   "execution_count": 24,
   "metadata": {
    "_uuid": "c4c344b79a6d92b54d248de2159f3ac5dd5fcf4f"
   },
   "outputs": [
    {
     "data": {
      "text/html": [
       "<div>\n",
       "<style scoped>\n",
       "    .dataframe tbody tr th:only-of-type {\n",
       "        vertical-align: middle;\n",
       "    }\n",
       "\n",
       "    .dataframe tbody tr th {\n",
       "        vertical-align: top;\n",
       "    }\n",
       "\n",
       "    .dataframe thead th {\n",
       "        text-align: right;\n",
       "    }\n",
       "</style>\n",
       "<table border=\"1\" class=\"dataframe\">\n",
       "  <thead>\n",
       "    <tr style=\"text-align: right;\">\n",
       "      <th></th>\n",
       "      <th>repoid</th>\n",
       "      <th>repo_name</th>\n",
       "      <th>userid</th>\n",
       "      <th>user</th>\n",
       "      <th>stars</th>\n",
       "      <th>user_repo_name</th>\n",
       "    </tr>\n",
       "  </thead>\n",
       "  <tbody>\n",
       "    <tr>\n",
       "      <th>0</th>\n",
       "      <td>0</td>\n",
       "      <td>atswift-2016-resources</td>\n",
       "      <td>707</td>\n",
       "      <td>atConf</td>\n",
       "      <td>1504</td>\n",
       "      <td>atConf/atswift-2016-resources</td>\n",
       "    </tr>\n",
       "    <tr>\n",
       "      <th>1</th>\n",
       "      <td>1</td>\n",
       "      <td>npm-check</td>\n",
       "      <td>598</td>\n",
       "      <td>dylang</td>\n",
       "      <td>2438</td>\n",
       "      <td>dylang/npm-check</td>\n",
       "    </tr>\n",
       "    <tr>\n",
       "      <th>2</th>\n",
       "      <td>2</td>\n",
       "      <td>openage</td>\n",
       "      <td>98</td>\n",
       "      <td>SFTtech</td>\n",
       "      <td>1739</td>\n",
       "      <td>SFTtech/openage</td>\n",
       "    </tr>\n",
       "    <tr>\n",
       "      <th>3</th>\n",
       "      <td>3</td>\n",
       "      <td>react-demos</td>\n",
       "      <td>487</td>\n",
       "      <td>ruanyf</td>\n",
       "      <td>2167</td>\n",
       "      <td>ruanyf/react-demos</td>\n",
       "    </tr>\n",
       "    <tr>\n",
       "      <th>4</th>\n",
       "      <td>4</td>\n",
       "      <td>Hystrix</td>\n",
       "      <td>434</td>\n",
       "      <td>Netflix</td>\n",
       "      <td>1505</td>\n",
       "      <td>Netflix/Hystrix</td>\n",
       "    </tr>\n",
       "  </tbody>\n",
       "</table>\n",
       "</div>"
      ],
      "text/plain": [
       "   repoid              ...                               user_repo_name\n",
       "0       0              ...                atConf/atswift-2016-resources\n",
       "1       1              ...                             dylang/npm-check\n",
       "2       2              ...                              SFTtech/openage\n",
       "3       3              ...                           ruanyf/react-demos\n",
       "4       4              ...                              Netflix/Hystrix\n",
       "\n",
       "[5 rows x 6 columns]"
      ]
     },
     "execution_count": 24,
     "metadata": {},
     "output_type": "execute_result"
    }
   ],
   "source": [
    "df_final_user_repo_star_2.head()"
   ]
  },
  {
   "cell_type": "code",
   "execution_count": 25,
   "metadata": {
    "_uuid": "3c9076bf674e20d2c9bda24fd32c17b76522e2bd"
   },
   "outputs": [
    {
     "data": {
      "text/html": [
       "<div>\n",
       "<style scoped>\n",
       "    .dataframe tbody tr th:only-of-type {\n",
       "        vertical-align: middle;\n",
       "    }\n",
       "\n",
       "    .dataframe tbody tr th {\n",
       "        vertical-align: top;\n",
       "    }\n",
       "\n",
       "    .dataframe thead th {\n",
       "        text-align: right;\n",
       "    }\n",
       "</style>\n",
       "<table border=\"1\" class=\"dataframe\">\n",
       "  <thead>\n",
       "    <tr style=\"text-align: right;\">\n",
       "      <th></th>\n",
       "      <th>repoid</th>\n",
       "      <th>userid</th>\n",
       "      <th>stars</th>\n",
       "    </tr>\n",
       "  </thead>\n",
       "  <tbody>\n",
       "    <tr>\n",
       "      <th>count</th>\n",
       "      <td>999.000000</td>\n",
       "      <td>999.000000</td>\n",
       "      <td>999.000000</td>\n",
       "    </tr>\n",
       "    <tr>\n",
       "      <th>mean</th>\n",
       "      <td>493.501502</td>\n",
       "      <td>412.306306</td>\n",
       "      <td>2294.962963</td>\n",
       "    </tr>\n",
       "    <tr>\n",
       "      <th>std</th>\n",
       "      <td>284.742586</td>\n",
       "      <td>236.843268</td>\n",
       "      <td>1593.578076</td>\n",
       "    </tr>\n",
       "    <tr>\n",
       "      <th>min</th>\n",
       "      <td>0.000000</td>\n",
       "      <td>0.000000</td>\n",
       "      <td>1083.000000</td>\n",
       "    </tr>\n",
       "    <tr>\n",
       "      <th>25%</th>\n",
       "      <td>246.500000</td>\n",
       "      <td>204.500000</td>\n",
       "      <td>1320.000000</td>\n",
       "    </tr>\n",
       "    <tr>\n",
       "      <th>50%</th>\n",
       "      <td>496.000000</td>\n",
       "      <td>426.000000</td>\n",
       "      <td>1692.000000</td>\n",
       "    </tr>\n",
       "    <tr>\n",
       "      <th>75%</th>\n",
       "      <td>740.500000</td>\n",
       "      <td>612.500000</td>\n",
       "      <td>2669.500000</td>\n",
       "    </tr>\n",
       "    <tr>\n",
       "      <th>max</th>\n",
       "      <td>983.000000</td>\n",
       "      <td>827.000000</td>\n",
       "      <td>13208.000000</td>\n",
       "    </tr>\n",
       "  </tbody>\n",
       "</table>\n",
       "</div>"
      ],
      "text/plain": [
       "           repoid      userid         stars\n",
       "count  999.000000  999.000000    999.000000\n",
       "mean   493.501502  412.306306   2294.962963\n",
       "std    284.742586  236.843268   1593.578076\n",
       "min      0.000000    0.000000   1083.000000\n",
       "25%    246.500000  204.500000   1320.000000\n",
       "50%    496.000000  426.000000   1692.000000\n",
       "75%    740.500000  612.500000   2669.500000\n",
       "max    983.000000  827.000000  13208.000000"
      ]
     },
     "execution_count": 25,
     "metadata": {},
     "output_type": "execute_result"
    }
   ],
   "source": [
    "df_final_user_repo_star_2.describe()"
   ]
  },
  {
   "cell_type": "code",
   "execution_count": 26,
   "metadata": {
    "_uuid": "57abb73e9551cfe4341b358bd60cd6c6973a62e3"
   },
   "outputs": [
    {
     "name": "stdout",
     "output_type": "stream",
     "text": [
      "13208\n"
     ]
    }
   ],
   "source": [
    "print(df_final_user_repo_star_2['stars'].max())"
   ]
  },
  {
   "cell_type": "code",
   "execution_count": 28,
   "metadata": {
    "_uuid": "38f04a3af5f724bd5f94a44168973604f137e178"
   },
   "outputs": [],
   "source": [
    "df_final_user_repo_star_2.drop(df_final_user_repo_star_2.loc[df_final_user_repo_star_2['stars'] == df_final_user_repo_star_2['stars'].max() ].index, inplace=True)"
   ]
  },
  {
   "cell_type": "code",
   "execution_count": 29,
   "metadata": {
    "_uuid": "995d5e7a35637ad6df26202f77a1e6668d25f07b"
   },
   "outputs": [
    {
     "data": {
      "text/html": [
       "<div>\n",
       "<style scoped>\n",
       "    .dataframe tbody tr th:only-of-type {\n",
       "        vertical-align: middle;\n",
       "    }\n",
       "\n",
       "    .dataframe tbody tr th {\n",
       "        vertical-align: top;\n",
       "    }\n",
       "\n",
       "    .dataframe thead th {\n",
       "        text-align: right;\n",
       "    }\n",
       "</style>\n",
       "<table border=\"1\" class=\"dataframe\">\n",
       "  <thead>\n",
       "    <tr style=\"text-align: right;\">\n",
       "      <th></th>\n",
       "      <th>repoid</th>\n",
       "      <th>userid</th>\n",
       "      <th>stars</th>\n",
       "    </tr>\n",
       "  </thead>\n",
       "  <tbody>\n",
       "    <tr>\n",
       "      <th>count</th>\n",
       "      <td>998.000000</td>\n",
       "      <td>998.000000</td>\n",
       "      <td>998.000000</td>\n",
       "    </tr>\n",
       "    <tr>\n",
       "      <th>mean</th>\n",
       "      <td>493.343687</td>\n",
       "      <td>412.166333</td>\n",
       "      <td>2284.028056</td>\n",
       "    </tr>\n",
       "    <tr>\n",
       "      <th>std</th>\n",
       "      <td>284.841636</td>\n",
       "      <td>236.920672</td>\n",
       "      <td>1556.427252</td>\n",
       "    </tr>\n",
       "    <tr>\n",
       "      <th>min</th>\n",
       "      <td>0.000000</td>\n",
       "      <td>0.000000</td>\n",
       "      <td>1083.000000</td>\n",
       "    </tr>\n",
       "    <tr>\n",
       "      <th>25%</th>\n",
       "      <td>246.250000</td>\n",
       "      <td>204.250000</td>\n",
       "      <td>1320.000000</td>\n",
       "    </tr>\n",
       "    <tr>\n",
       "      <th>50%</th>\n",
       "      <td>495.500000</td>\n",
       "      <td>425.500000</td>\n",
       "      <td>1691.000000</td>\n",
       "    </tr>\n",
       "    <tr>\n",
       "      <th>75%</th>\n",
       "      <td>740.750000</td>\n",
       "      <td>612.750000</td>\n",
       "      <td>2666.750000</td>\n",
       "    </tr>\n",
       "    <tr>\n",
       "      <th>max</th>\n",
       "      <td>983.000000</td>\n",
       "      <td>827.000000</td>\n",
       "      <td>13125.000000</td>\n",
       "    </tr>\n",
       "  </tbody>\n",
       "</table>\n",
       "</div>"
      ],
      "text/plain": [
       "           repoid      userid         stars\n",
       "count  998.000000  998.000000    998.000000\n",
       "mean   493.343687  412.166333   2284.028056\n",
       "std    284.841636  236.920672   1556.427252\n",
       "min      0.000000    0.000000   1083.000000\n",
       "25%    246.250000  204.250000   1320.000000\n",
       "50%    495.500000  425.500000   1691.000000\n",
       "75%    740.750000  612.750000   2666.750000\n",
       "max    983.000000  827.000000  13125.000000"
      ]
     },
     "execution_count": 29,
     "metadata": {},
     "output_type": "execute_result"
    }
   ],
   "source": [
    "df_final_user_repo_star_2.describe()"
   ]
  },
  {
   "cell_type": "markdown",
   "metadata": {
    "_uuid": "9d26a952b29a4364f70b8d111a05aa994052837e"
   },
   "source": [
    "## Here in this approach we used SVD standard library which expects input in the format of 'User', 'Item' and 'Rating', so do the next processing steps to create the dataframe into required labels and parameters"
   ]
  },
  {
   "cell_type": "code",
   "execution_count": 30,
   "metadata": {
    "_uuid": "f45573a6efe6a769d0a98b4075b704050f9504cc"
   },
   "outputs": [],
   "source": [
    "df_final_user_repo_star_v1 = pandas.DataFrame(df_final_user_repo_star_2, columns=['userid','repoid', 'stars'])"
   ]
  },
  {
   "cell_type": "code",
   "execution_count": 31,
   "metadata": {
    "_uuid": "133c62b924dec2abf80f87231b5eff9081185fdc"
   },
   "outputs": [],
   "source": [
    "df_final_user_repo_star_v2 = df_final_user_repo_star_v1.rename(index = str, columns={'userid':'user', 'repoid':'item', 'stars':'rating'})"
   ]
  },
  {
   "cell_type": "code",
   "execution_count": 32,
   "metadata": {
    "_uuid": "9d0a1cf0ed527d4629f9ba00579bcc5b185e3b3c"
   },
   "outputs": [
    {
     "data": {
      "text/plain": [
       "<matplotlib.axes._subplots.AxesSubplot at 0x7f7bdc3ce160>"
      ]
     },
     "execution_count": 32,
     "metadata": {},
     "output_type": "execute_result"
    },
    {
     "data": {
      "image/png": "[encoded data removed]",
      "text/plain": [
       "<Figure size 432x288 with 1 Axes>"
      ]
     },
     "metadata": {},
     "output_type": "display_data"
    }
   ],
   "source": [
    "df_final_user_repo_star_2['stars'].hist( bins = 100)"
   ]
  },
  {
   "cell_type": "markdown",
   "metadata": {
    "_uuid": "34ec9a3304d3fa4b3dcd043a8c265045558455c7"
   },
   "source": [
    "## Plot for 'repoid' vs 'stars'"
   ]
  },
  {
   "cell_type": "code",
   "execution_count": 33,
   "metadata": {
    "_uuid": "1b61b282712136416f3cead1ddbc41406fad5c4f"
   },
   "outputs": [
    {
     "data": {
      "text/plain": [
       "<matplotlib.axes._subplots.AxesSubplot at 0x7f7bdc2f5a20>"
      ]
     },
     "execution_count": 33,
     "metadata": {},
     "output_type": "execute_result"
    },
    {
     "data": {
      "image/png": "[encoded data removed]",
      "text/plain": [
       "<Figure size 432x288 with 1 Axes>"
      ]
     },
     "metadata": {},
     "output_type": "display_data"
    }
   ],
   "source": [
    "df_final_user_repo_star_2.plot.scatter(x='repoid', y = 'stars')"
   ]
  },
  {
   "cell_type": "markdown",
   "metadata": {
    "_uuid": "31e1aaf6c9693ad8f1f070a3ab06834adff64047"
   },
   "source": [
    "## Plot for 'userid' vs 'stars'"
   ]
  },
  {
   "cell_type": "code",
   "execution_count": 34,
   "metadata": {
    "_uuid": "727920ebe536b385c3eab39301affa61c4c31ddd",
    "scrolled": true
   },
   "outputs": [
    {
     "data": {
      "text/plain": [
       "<matplotlib.axes._subplots.AxesSubplot at 0x7f7bdc1e7ba8>"
      ]
     },
     "execution_count": 34,
     "metadata": {},
     "output_type": "execute_result"
    },
    {
     "data": {
      "image/png": "[encoded data removed]",
      "text/plain": [
       "<Figure size 432x288 with 1 Axes>"
      ]
     },
     "metadata": {},
     "output_type": "display_data"
    }
   ],
   "source": [
    "df_final_user_repo_star_2.plot.scatter(x='userid', y = 'stars')"
   ]
  },
  {
   "cell_type": "code",
   "execution_count": 35,
   "metadata": {
    "_uuid": "f39037559e2c5b5cf5c6af1139016d26a0e6747c"
   },
   "outputs": [
    {
     "data": {
      "text/html": [
       "<div>\n",
       "<style scoped>\n",
       "    .dataframe tbody tr th:only-of-type {\n",
       "        vertical-align: middle;\n",
       "    }\n",
       "\n",
       "    .dataframe tbody tr th {\n",
       "        vertical-align: top;\n",
       "    }\n",
       "\n",
       "    .dataframe thead th {\n",
       "        text-align: right;\n",
       "    }\n",
       "</style>\n",
       "<table border=\"1\" class=\"dataframe\">\n",
       "  <thead>\n",
       "    <tr style=\"text-align: right;\">\n",
       "      <th></th>\n",
       "      <th>user</th>\n",
       "      <th>item</th>\n",
       "      <th>rating</th>\n",
       "    </tr>\n",
       "  </thead>\n",
       "  <tbody>\n",
       "    <tr>\n",
       "      <th>count</th>\n",
       "      <td>998.000000</td>\n",
       "      <td>998.000000</td>\n",
       "      <td>998.000000</td>\n",
       "    </tr>\n",
       "    <tr>\n",
       "      <th>mean</th>\n",
       "      <td>412.166333</td>\n",
       "      <td>493.343687</td>\n",
       "      <td>2284.028056</td>\n",
       "    </tr>\n",
       "    <tr>\n",
       "      <th>std</th>\n",
       "      <td>236.920672</td>\n",
       "      <td>284.841636</td>\n",
       "      <td>1556.427252</td>\n",
       "    </tr>\n",
       "    <tr>\n",
       "      <th>min</th>\n",
       "      <td>0.000000</td>\n",
       "      <td>0.000000</td>\n",
       "      <td>1083.000000</td>\n",
       "    </tr>\n",
       "    <tr>\n",
       "      <th>25%</th>\n",
       "      <td>204.250000</td>\n",
       "      <td>246.250000</td>\n",
       "      <td>1320.000000</td>\n",
       "    </tr>\n",
       "    <tr>\n",
       "      <th>50%</th>\n",
       "      <td>425.500000</td>\n",
       "      <td>495.500000</td>\n",
       "      <td>1691.000000</td>\n",
       "    </tr>\n",
       "    <tr>\n",
       "      <th>75%</th>\n",
       "      <td>612.750000</td>\n",
       "      <td>740.750000</td>\n",
       "      <td>2666.750000</td>\n",
       "    </tr>\n",
       "    <tr>\n",
       "      <th>max</th>\n",
       "      <td>827.000000</td>\n",
       "      <td>983.000000</td>\n",
       "      <td>13125.000000</td>\n",
       "    </tr>\n",
       "  </tbody>\n",
       "</table>\n",
       "</div>"
      ],
      "text/plain": [
       "             user        item        rating\n",
       "count  998.000000  998.000000    998.000000\n",
       "mean   412.166333  493.343687   2284.028056\n",
       "std    236.920672  284.841636   1556.427252\n",
       "min      0.000000    0.000000   1083.000000\n",
       "25%    204.250000  246.250000   1320.000000\n",
       "50%    425.500000  495.500000   1691.000000\n",
       "75%    612.750000  740.750000   2666.750000\n",
       "max    827.000000  983.000000  13125.000000"
      ]
     },
     "execution_count": 35,
     "metadata": {},
     "output_type": "execute_result"
    }
   ],
   "source": [
    "df_final_user_repo_star_v2.describe()"
   ]
  },
  {
   "cell_type": "markdown",
   "metadata": {
    "_uuid": "361d599d208fc2e4750ed129350e49c68b9ca27d"
   },
   "source": [
    "## As seen above still the 'stars' are not in normalized range, so we have used 'divide by mean' strategy to normalize the data for 'stars'"
   ]
  },
  {
   "cell_type": "code",
   "execution_count": 36,
   "metadata": {
    "_uuid": "5dd01a841076f6f699665646ab6676de68f05db6"
   },
   "outputs": [],
   "source": [
    " df_final_user_repo_star_v3 = df_final_user_repo_star_v2.copy(deep=True)\n",
    "# rating_max = df_final_user_repo_star_v2.rating.max()\n",
    "# rating_min = df_final_user_repo_star_v2.rating.min()\n",
    "rating_mean = df_final_user_repo_star_v2.rating.mean()\n",
    "df_final_user_repo_star_v3['rating'] = df_final_user_repo_star_v3.apply(lambda row: row['rating']/rating_mean, axis=1)"
   ]
  },
  {
   "cell_type": "code",
   "execution_count": 37,
   "metadata": {
    "_uuid": "11474a9384de4b921a9d88a878dbfcf03eef334f"
   },
   "outputs": [
    {
     "data": {
      "text/html": [
       "<div>\n",
       "<style scoped>\n",
       "    .dataframe tbody tr th:only-of-type {\n",
       "        vertical-align: middle;\n",
       "    }\n",
       "\n",
       "    .dataframe tbody tr th {\n",
       "        vertical-align: top;\n",
       "    }\n",
       "\n",
       "    .dataframe thead th {\n",
       "        text-align: right;\n",
       "    }\n",
       "</style>\n",
       "<table border=\"1\" class=\"dataframe\">\n",
       "  <thead>\n",
       "    <tr style=\"text-align: right;\">\n",
       "      <th></th>\n",
       "      <th>user</th>\n",
       "      <th>item</th>\n",
       "      <th>rating</th>\n",
       "    </tr>\n",
       "  </thead>\n",
       "  <tbody>\n",
       "    <tr>\n",
       "      <th>count</th>\n",
       "      <td>998.000000</td>\n",
       "      <td>998.000000</td>\n",
       "      <td>998.000000</td>\n",
       "    </tr>\n",
       "    <tr>\n",
       "      <th>mean</th>\n",
       "      <td>412.166333</td>\n",
       "      <td>493.343687</td>\n",
       "      <td>1.000000</td>\n",
       "    </tr>\n",
       "    <tr>\n",
       "      <th>std</th>\n",
       "      <td>236.920672</td>\n",
       "      <td>284.841636</td>\n",
       "      <td>0.681440</td>\n",
       "    </tr>\n",
       "    <tr>\n",
       "      <th>min</th>\n",
       "      <td>0.000000</td>\n",
       "      <td>0.000000</td>\n",
       "      <td>0.474162</td>\n",
       "    </tr>\n",
       "    <tr>\n",
       "      <th>25%</th>\n",
       "      <td>204.250000</td>\n",
       "      <td>246.250000</td>\n",
       "      <td>0.577926</td>\n",
       "    </tr>\n",
       "    <tr>\n",
       "      <th>50%</th>\n",
       "      <td>425.500000</td>\n",
       "      <td>495.500000</td>\n",
       "      <td>0.740359</td>\n",
       "    </tr>\n",
       "    <tr>\n",
       "      <th>75%</th>\n",
       "      <td>612.750000</td>\n",
       "      <td>740.750000</td>\n",
       "      <td>1.167564</td>\n",
       "    </tr>\n",
       "    <tr>\n",
       "      <th>max</th>\n",
       "      <td>827.000000</td>\n",
       "      <td>983.000000</td>\n",
       "      <td>5.746427</td>\n",
       "    </tr>\n",
       "  </tbody>\n",
       "</table>\n",
       "</div>"
      ],
      "text/plain": [
       "             user        item      rating\n",
       "count  998.000000  998.000000  998.000000\n",
       "mean   412.166333  493.343687    1.000000\n",
       "std    236.920672  284.841636    0.681440\n",
       "min      0.000000    0.000000    0.474162\n",
       "25%    204.250000  246.250000    0.577926\n",
       "50%    425.500000  495.500000    0.740359\n",
       "75%    612.750000  740.750000    1.167564\n",
       "max    827.000000  983.000000    5.746427"
      ]
     },
     "execution_count": 37,
     "metadata": {},
     "output_type": "execute_result"
    }
   ],
   "source": [
    "df_final_user_repo_star_v3.describe()"
   ]
  },
  {
   "cell_type": "code",
   "execution_count": 38,
   "metadata": {
    "_uuid": "4e81e5bf405e32aa21c279cb33eb9e3a65c9669c"
   },
   "outputs": [
    {
     "data": {
      "text/html": [
       "<div>\n",
       "<style scoped>\n",
       "    .dataframe tbody tr th:only-of-type {\n",
       "        vertical-align: middle;\n",
       "    }\n",
       "\n",
       "    .dataframe tbody tr th {\n",
       "        vertical-align: top;\n",
       "    }\n",
       "\n",
       "    .dataframe thead th {\n",
       "        text-align: right;\n",
       "    }\n",
       "</style>\n",
       "<table border=\"1\" class=\"dataframe\">\n",
       "  <thead>\n",
       "    <tr style=\"text-align: right;\">\n",
       "      <th></th>\n",
       "      <th>user</th>\n",
       "      <th>item</th>\n",
       "      <th>rating</th>\n",
       "    </tr>\n",
       "  </thead>\n",
       "  <tbody>\n",
       "    <tr>\n",
       "      <th>0</th>\n",
       "      <td>707</td>\n",
       "      <td>0</td>\n",
       "      <td>0.658486</td>\n",
       "    </tr>\n",
       "    <tr>\n",
       "      <th>1</th>\n",
       "      <td>598</td>\n",
       "      <td>1</td>\n",
       "      <td>1.067412</td>\n",
       "    </tr>\n",
       "    <tr>\n",
       "      <th>2</th>\n",
       "      <td>98</td>\n",
       "      <td>2</td>\n",
       "      <td>0.761374</td>\n",
       "    </tr>\n",
       "    <tr>\n",
       "      <th>3</th>\n",
       "      <td>487</td>\n",
       "      <td>3</td>\n",
       "      <td>0.948762</td>\n",
       "    </tr>\n",
       "    <tr>\n",
       "      <th>4</th>\n",
       "      <td>434</td>\n",
       "      <td>4</td>\n",
       "      <td>0.658924</td>\n",
       "    </tr>\n",
       "  </tbody>\n",
       "</table>\n",
       "</div>"
      ],
      "text/plain": [
       "   user  item    rating\n",
       "0   707     0  0.658486\n",
       "1   598     1  1.067412\n",
       "2    98     2  0.761374\n",
       "3   487     3  0.948762\n",
       "4   434     4  0.658924"
      ]
     },
     "execution_count": 38,
     "metadata": {},
     "output_type": "execute_result"
    }
   ],
   "source": [
    "df_final_user_repo_star_v3.head()"
   ]
  },
  {
   "cell_type": "markdown",
   "metadata": {
    "_uuid": "bfded8373f302744c17756ced5b9006be7e86336"
   },
   "source": [
    "## Training multiple models :\n",
    "1. SVD\n",
    "2. KNNBasic\n",
    "3. CoClustering\n",
    "4. SlopeOne"
   ]
  },
  {
   "cell_type": "markdown",
   "metadata": {
    "_uuid": "90e47fe87f8e14ba7df83347f8803728ec436975"
   },
   "source": [
    "## SVD Implementation without train, test split"
   ]
  },
  {
   "cell_type": "code",
   "execution_count": 83,
   "metadata": {
    "_uuid": "3bad043878fd1c339c7a810710b3d51c6cd9f71a"
   },
   "outputs": [],
   "source": [
    "listOfRMSE = []\n",
    "models = []"
   ]
  },
  {
   "cell_type": "code",
   "execution_count": 84,
   "metadata": {
    "_uuid": "62435724f3b140a95bd90225debd52591cdb27a1"
   },
   "outputs": [
    {
     "name": "stdout",
     "output_type": "stream",
     "text": [
      "RMSE: 0.1308\n",
      "0.13079860943285757\n"
     ]
    }
   ],
   "source": [
    "from surprise import Reader, Dataset, SVD, SVDpp, evaluate, accuracy\n",
    "from surprise.model_selection import train_test_split\n",
    "reader = Reader(line_format='user item rating', sep=',', rating_scale=(0,6))\n",
    "df_temp1 = df_final_user_repo_star_v3.copy(deep=True);\n",
    "data = Dataset.load_from_df(df_temp1, reader)\n",
    "# Test that surprise is working by running SVD on the dataset\n",
    "\n",
    "# We'll use the famous SVD algorithm.\n",
    "algo = SVD(n_factors= 100, n_epochs= 20, biased=True, init_std_dev=0.1, lr_all=0.005)\n",
    "\n",
    "# Train the algorithm on the trainset, and predict ratings for the testset\n",
    "trainset = data.build_full_trainset()\n",
    "\n",
    "algo.fit(trainset)\n",
    "\n",
    "testset = trainset.build_anti_testset()\n",
    "svd_predictions = algo.test(testset)\n",
    "\n",
    "rmse_svd = accuracy.rmse(svd_predictions)\n",
    "print(rmse_svd)\n",
    "listOfRMSE.append(rmse_svd)\n",
    "models.append('SVD')"
   ]
  },
  {
   "cell_type": "markdown",
   "metadata": {
    "_uuid": "2c3139b31875f5797bf979e566b13516241d0492"
   },
   "source": [
    "## SVD Implementation with KFold Cross Validators"
   ]
  },
  {
   "cell_type": "code",
   "execution_count": 85,
   "metadata": {
    "_uuid": "e4cf516ed7c14b06429b60cf8a3f7548741c33f1"
   },
   "outputs": [
    {
     "name": "stdout",
     "output_type": "stream",
     "text": [
      "RMSE: 0.6925\n",
      "RMSE: 0.7462\n",
      "RMSE: 0.5939\n"
     ]
    }
   ],
   "source": [
    "from surprise.model_selection import KFold\n",
    "# define a cross-validation iterator\n",
    "n_splits = 3\n",
    "kf = KFold(n_splits=3)\n",
    "\n",
    "algo = SVD()\n",
    "tempRMSE = 0 \n",
    "for trainset, testset in kf.split(data):\n",
    "\n",
    "    # train and test algorithm.\n",
    "    algo.fit(trainset)\n",
    "    predictions = algo.test(testset)\n",
    "\n",
    "    # Compute and print Root Mean Squared Error\n",
    "    accuracy.rmse(predictions, verbose=True)\n",
    "    tempRMSE += accuracy.rmse(predictions, verbose=False)\n",
    "\n",
    "listOfRMSE.append(tempRMSE/n_splits)\n",
    "models.append('SVD with KFold')"
   ]
  },
  {
   "cell_type": "markdown",
   "metadata": {
    "_uuid": "1553b27b87ccb691a773aa8a6caea1869ed7f811"
   },
   "source": [
    "## KNNBasic Implementation using 'pearson' similarity"
   ]
  },
  {
   "cell_type": "code",
   "execution_count": 86,
   "metadata": {
    "_uuid": "349c1fe251f16d345d67f6dea1f6c84d9d74415a"
   },
   "outputs": [
    {
     "name": "stdout",
     "output_type": "stream",
     "text": [
      "Computing the pearson similarity matrix...\n",
      "Done computing similarity matrix.\n",
      "RMSE: 0.0010\n",
      "RMSE: 0.0010\n"
     ]
    }
   ],
   "source": [
    "# We'll use the famous SVD algorithm.\n",
    "from surprise import KNNBasic\n",
    "\n",
    "df_knnbasic = df_final_user_repo_star_v3.copy(deep=True);\n",
    "dataknnbasic = Dataset.load_from_df(df_knnbasic, reader)\n",
    "\n",
    "sim_options = {\n",
    "    'name': 'pearson'\n",
    "}\n",
    "\n",
    "algo1 = KNNBasic(sim_options = sim_options, k=40,min_k=1)\n",
    "\n",
    "# Train the algorithm on the trainset, and predict ratings for the testset\n",
    "trainset1 = dataknnbasic.build_full_trainset()\n",
    "\n",
    "algo1.fit(trainset1)\n",
    "\n",
    "testset1 = trainset1.build_anti_testset()\n",
    "KNNBasic_pearson_predictions = algo1.test(testset1)\n",
    "\n",
    "accuracy.rmse(KNNBasic_pearson_predictions)\n",
    "listOfRMSE.append(accuracy.rmse(KNNBasic_pearson_predictions))\n",
    "models.append('KNN with Pearson')"
   ]
  },
  {
   "cell_type": "markdown",
   "metadata": {
    "_uuid": "5381b0deb3ccc58ff7abb7199100d7002e402acd"
   },
   "source": [
    "## KNNBasic Implementation using 'cosine' similarity"
   ]
  },
  {
   "cell_type": "code",
   "execution_count": 87,
   "metadata": {
    "_uuid": "4d536f9f8e0bdf677f21303bece3fa702fb5f148"
   },
   "outputs": [
    {
     "name": "stdout",
     "output_type": "stream",
     "text": [
      "Computing the cosine similarity matrix...\n",
      "Done computing similarity matrix.\n",
      "RMSE: 0.0044\n"
     ]
    }
   ],
   "source": [
    "sim_options = {\n",
    "    'name': 'cosine'\n",
    "}\n",
    "\n",
    "algo1 = KNNBasic(sim_options = sim_options, k=40,min_k=1)\n",
    "\n",
    "# Train the algorithm on the trainset, and predict ratings for the testset\n",
    "trainset1 = dataknnbasic.build_full_trainset()\n",
    "\n",
    "algo1.fit(trainset1)\n",
    "\n",
    "testset1 = trainset1.build_anti_testset()\n",
    "KNNBasic_cosine_predictions = algo1.test(testset1)\n",
    "\n",
    "cosine_rmse = accuracy.rmse(KNNBasic_cosine_predictions)\n",
    "listOfRMSE.append(cosine_rmse)\n",
    "models.append('KNN with cosine')"
   ]
  },
  {
   "cell_type": "markdown",
   "metadata": {
    "_uuid": "5a2040d80574e1e0a124b23862f78061a9a9187c"
   },
   "source": [
    "## CoClustering Implementation"
   ]
  },
  {
   "cell_type": "code",
   "execution_count": 88,
   "metadata": {
    "_uuid": "43f8324935b3ed26676a22da9d0280fe31df14c9"
   },
   "outputs": [
    {
     "name": "stdout",
     "output_type": "stream",
     "text": [
      "RMSE: 1.0057\n",
      "RMSE: 1.0057\n"
     ]
    }
   ],
   "source": [
    "# We'll use the famous SVD algorithm.\n",
    "from surprise import CoClustering\n",
    "\n",
    "df_CoClustering = df_final_user_repo_star_v3.copy(deep=True);\n",
    "dataCoClustering = Dataset.load_from_df(df_CoClustering, reader)\n",
    "\n",
    "\n",
    "coClustering = CoClustering(n_cltr_u=3, n_cltr_i=3, n_epochs=20)\n",
    "\n",
    "# Train the algorithm on the trainset, and predict ratings for the testset\n",
    "trainsetcoClustering  = dataCoClustering.build_full_trainset()\n",
    "\n",
    "coClustering.fit(trainsetcoClustering)\n",
    "\n",
    "testcoClustering = trainsetcoClustering.build_anti_testset()\n",
    "predictionscoClustering = coClustering.test(testcoClustering)\n",
    "\n",
    "accuracy.rmse(predictionscoClustering)\n",
    "\n",
    "\n",
    "listOfRMSE.append(accuracy.rmse(predictionscoClustering))\n",
    "models.append('CoClustering')"
   ]
  },
  {
   "cell_type": "markdown",
   "metadata": {
    "_uuid": "7c18e65fc2efee63901ca4dd6024a1408bd63711"
   },
   "source": [
    "## SlopeOne Implementation"
   ]
  },
  {
   "cell_type": "code",
   "execution_count": 89,
   "metadata": {
    "_uuid": "0418445e0135c9877c28b1c8a8812dc154b96cdb"
   },
   "outputs": [
    {
     "name": "stdout",
     "output_type": "stream",
     "text": [
      "RMSE: 0.6186\n",
      "RMSE: 0.6186\n"
     ]
    }
   ],
   "source": [
    "from surprise import SlopeOne\n",
    "slopeOne = SlopeOne()\n",
    "\n",
    "# Train the algorithm on the trainset, and predict ratings for the testset\n",
    "trainsetslopeOne  = dataCoClustering.build_full_trainset()\n",
    "\n",
    "slopeOne.fit(trainsetslopeOne)\n",
    "\n",
    "testslopeOne = trainsetslopeOne.build_anti_testset()\n",
    "predictionsslopeOne = slopeOne.test(testslopeOne)\n",
    "\n",
    "accuracy.rmse(predictionsslopeOne)\n",
    "\n",
    "listOfRMSE.append(accuracy.rmse(predictionsslopeOne))\n",
    "models.append('SlopeOne')"
   ]
  },
  {
   "cell_type": "code",
   "execution_count": 91,
   "metadata": {
    "_uuid": "bce6023160e10285b8671933ba4a221b8612621b"
   },
   "outputs": [
    {
     "data": {
      "text/plain": [
       "['SVD',\n",
       " 'SVD with KFold',\n",
       " 'KNN with Pearson',\n",
       " 'KNN with cosine',\n",
       " 'CoClustering',\n",
       " 'SlopeOne']"
      ]
     },
     "execution_count": 91,
     "metadata": {},
     "output_type": "execute_result"
    }
   ],
   "source": [
    "models"
   ]
  },
  {
   "cell_type": "code",
   "execution_count": 105,
   "metadata": {
    "_uuid": "ba380623c5d86d9fe8d49565f00f3f2d782c7a54"
   },
   "outputs": [
    {
     "data": {
      "image/png": "[encoded data removed]",
      "text/plain": [
       "<Figure size 1440x216 with 1 Axes>"
      ]
     },
     "metadata": {},
     "output_type": "display_data"
    }
   ],
   "source": [
    "import matplotlib.pyplot as plt \n",
    "plt.rcParams[\"figure.figsize\"] = (20,3)\n",
    "# x-coordinates of left sides of bars \n",
    "Algorithms = [1, 2, 3, 4, 5, 6] \n",
    "\n",
    "# heights of bars \n",
    "RMSE = listOfRMSE\n",
    "\n",
    "# labels for bars \n",
    "label = models\n",
    "\n",
    "# plotting a bar chart \n",
    "plt.bar(Algorithms, RMSE, tick_label = label, \n",
    "\t\twidth = 0.8) \n",
    "\n",
    "# naming the x-axis \n",
    "plt.xlabel('x - axis') \n",
    "# naming the y-axis \n",
    "plt.ylabel('y - axis') \n",
    "# plot title \n",
    "plt.title('My bar chart!') \n",
    "\n",
    "# function to show the plot \n",
    "plt.show()"
   ]
  },
  {
   "cell_type": "markdown",
   "metadata": {
    "_uuid": "ddde7bbca3436e00c2fddd1b2d9d7448df15bc1f"
   },
   "source": [
    "## Getting top 20 recommendations (We are getting 20 because we want to do further Social Analysis of this data and see if we can do community detections)"
   ]
  },
  {
   "cell_type": "code",
   "execution_count": 94,
   "metadata": {
    "_uuid": "cfc017c96e768e13a5642807d0083f9f11d5fda1"
   },
   "outputs": [],
   "source": [
    "from collections import defaultdict\n",
    "def get_top_n(predictions, n=10):\n",
    "    \n",
    "    # First map the predictions to each user.\n",
    "    top_n = defaultdict(list)\n",
    "    for uid, iid, true_r, est, _ in predictions:\n",
    "        ## Multiplying by mean to predicted rating i.e est as we had first divided by mean for normalizing\n",
    "        top_n[uid].append((iid, est*rating_mean)) \n",
    "\n",
    "    # Then sort the predictions for each user and retrieve the k highest ones.\n",
    "    for uid, user_ratings in top_n.items():\n",
    "        user_ratings.sort(key=lambda x: x[1], reverse=True)\n",
    "        top_n[uid] = user_ratings[:n]\n",
    "\n",
    "    return top_n"
   ]
  },
  {
   "cell_type": "markdown",
   "metadata": {
    "_uuid": "eb914c490bc31fa7f72af3608da288961ad24293"
   },
   "source": [
    "## For each user we give out top 20 recommended repositories thus our second use case is implemented firstly with SVD which gave pretty diverse recommendations compared to KNN"
   ]
  },
  {
   "cell_type": "code",
   "execution_count": 107,
   "metadata": {
    "_uuid": "455935eea8dcfbe17ddd8bd2aea9682f0b1a5c90"
   },
   "outputs": [
    {
     "name": "stdout",
     "output_type": "stream",
     "text": [
      "707 [1, 2, 3, 4, 5, 6, 7, 8, 9, 10, 11, 12, 13, 14, 15, 16, 17, 18, 19, 20]\n",
      "598 [0, 2, 3, 4, 5, 6, 7, 8, 9, 10, 11, 12, 13, 14, 15, 16, 17, 18, 19, 20]\n",
      "98 [0, 1, 3, 4, 5, 6, 7, 8, 9, 10, 11, 12, 13, 14, 15, 16, 17, 18, 19, 20]\n",
      "487 [0, 1, 2, 4, 5, 6, 7, 8, 9, 10, 11, 12, 13, 14, 15, 16, 17, 18, 19, 20]\n",
      "434 [0, 1, 2, 3, 5, 6, 7, 8, 9, 10, 11, 12, 13, 14, 15, 16, 17, 18, 19, 20]\n",
      "97 [0, 1, 2, 3, 4, 6, 7, 8, 9, 10, 11, 12, 13, 14, 15, 16, 17, 18, 19, 20]\n",
      "207 [0, 1, 2, 3, 4, 5, 7, 8, 9, 10, 11, 12, 13, 14, 15, 16, 17, 18, 19, 20]\n",
      "5 [0, 1, 2, 3, 4, 5, 6, 8, 9, 10, 11, 12, 13, 14, 15, 16, 17, 18, 19, 20]\n",
      "16 [0, 1, 2, 3, 4, 5, 6, 7, 9, 10, 11, 12, 13, 14, 15, 16, 17, 18, 19, 20]\n",
      "199 [0, 1, 2, 3, 4, 5, 6, 7, 8, 10, 11, 12, 13, 14, 15, 16, 17, 18, 19, 20]\n",
      "637 [0, 1, 2, 3, 4, 5, 6, 7, 8, 9, 11, 12, 13, 14, 15, 16, 17, 18, 19, 20]\n",
      "701 [0, 1, 2, 3, 4, 5, 6, 7, 8, 9, 10, 12, 13, 14, 15, 16, 17, 18, 19, 20]\n",
      "297 [0, 1, 2, 3, 4, 5, 6, 7, 8, 9, 10, 11, 13, 14, 15, 16, 17, 18, 19, 20]\n",
      "798 [0, 1, 2, 3, 4, 5, 6, 7, 8, 9, 10, 11, 12, 14, 15, 16, 17, 18, 19, 20]\n",
      "381 [0, 1, 2, 3, 4, 5, 6, 7, 8, 9, 10, 11, 12, 13, 15, 16, 17, 18, 19, 20]\n",
      "350 [0, 1, 2, 3, 4, 5, 6, 7, 8, 9, 10, 11, 12, 13, 14, 16, 17, 18, 19, 20]\n",
      "321 [0, 1, 2, 3, 4, 5, 6, 7, 8, 9, 10, 11, 12, 13, 14, 15, 17, 18, 19, 20]\n",
      "738 [0, 1, 2, 3, 4, 5, 6, 7, 8, 9, 10, 11, 12, 13, 14, 15, 16, 18, 19, 20]\n",
      "299 [0, 1, 2, 3, 4, 5, 6, 7, 8, 9, 10, 11, 12, 13, 14, 15, 16, 17, 19, 20]\n",
      "201 [0, 1, 2, 3, 4, 5, 6, 7, 8, 9, 10, 11, 12, 13, 14, 15, 16, 17, 18, 20]\n",
      "274 [0, 1, 2, 3, 4, 5, 6, 7, 8, 9, 10, 11, 12, 13, 14, 15, 16, 17, 18, 19]\n",
      "455 [0, 1, 2, 3, 4, 5, 6, 7, 8, 9, 10, 11, 12, 13, 14, 15, 16, 17, 18, 19]\n",
      "702 [0, 1, 2, 3, 4, 5, 6, 7, 8, 9, 10, 11, 12, 13, 14, 15, 16, 17, 18, 19]\n",
      "460 [0, 1, 2, 3, 4, 5, 6, 7, 8, 9, 10, 11, 12, 13, 14, 15, 16, 17, 18, 19]\n",
      "188 [0, 1, 2, 3, 4, 5, 6, 7, 8, 9, 10, 11, 12, 13, 14, 15, 16, 17, 18, 19]\n",
      "18 [0, 1, 2, 3, 4, 5, 6, 7, 8, 9, 10, 11, 12, 13, 14, 15, 16, 17, 18, 19]\n",
      "147 [0, 1, 2, 3, 4, 5, 6, 7, 8, 9, 10, 11, 12, 13, 14, 15, 16, 17, 18, 19]\n",
      "387 [0, 1, 2, 3, 4, 5, 6, 7, 8, 9, 10, 11, 12, 13, 14, 15, 16, 17, 18, 19]\n",
      "621 [0, 1, 2, 3, 4, 5, 6, 7, 8, 9, 10, 11, 12, 13, 14, 15, 16, 17, 18, 19]\n",
      "532 [0, 1, 2, 3, 4, 5, 6, 7, 8, 9, 10, 11, 12, 13, 14, 15, 16, 17, 18, 19]\n",
      "24 [0, 1, 2, 3, 4, 5, 6, 7, 8, 9, 10, 11, 12, 13, 14, 15, 16, 17, 18, 19]\n",
      "22 [0, 1, 2, 3, 4, 5, 6, 7, 8, 9, 10, 11, 12, 13, 14, 15, 16, 17, 18, 19]\n",
      "457 [0, 1, 2, 3, 4, 5, 6, 7, 8, 9, 10, 11, 12, 13, 14, 15, 16, 17, 18, 19]\n",
      "818 [0, 1, 2, 3, 4, 5, 6, 7, 8, 9, 10, 11, 12, 13, 14, 15, 16, 17, 18, 19]\n",
      "25 [0, 1, 2, 3, 4, 5, 6, 7, 8, 9, 10, 11, 12, 13, 14, 15, 16, 17, 18, 19]\n",
      "154 [0, 1, 2, 3, 4, 5, 6, 7, 8, 9, 10, 11, 12, 13, 14, 15, 16, 17, 18, 19]\n",
      "817 [0, 1, 2, 3, 4, 5, 6, 7, 8, 9, 10, 11, 12, 13, 14, 15, 16, 17, 18, 19]\n",
      "150 [0, 1, 2, 3, 4, 5, 6, 7, 8, 9, 10, 11, 12, 13, 14, 15, 16, 17, 18, 19]\n",
      "67 [0, 1, 2, 3, 4, 5, 6, 7, 8, 9, 10, 11, 12, 13, 14, 15, 16, 17, 18, 19]\n",
      "672 [0, 1, 2, 3, 4, 5, 6, 7, 8, 9, 10, 11, 12, 13, 14, 15, 16, 17, 18, 19]\n",
      "214 [0, 1, 2, 3, 4, 5, 6, 7, 8, 9, 10, 11, 12, 13, 14, 15, 16, 17, 18, 19]\n",
      "520 [0, 1, 2, 3, 4, 5, 6, 7, 8, 9, 10, 11, 12, 13, 14, 15, 16, 17, 18, 19]\n",
      "448 [0, 1, 2, 3, 4, 5, 6, 7, 8, 9, 10, 11, 12, 13, 14, 15, 16, 17, 18, 19]\n",
      "782 [0, 1, 2, 3, 4, 5, 6, 7, 8, 9, 10, 11, 12, 13, 14, 15, 16, 17, 18, 19]\n",
      "33 [0, 1, 2, 3, 4, 5, 6, 7, 8, 9, 10, 11, 12, 13, 14, 15, 16, 17, 18, 19]\n",
      "133 [0, 1, 2, 3, 4, 5, 6, 7, 8, 9, 10, 11, 12, 13, 14, 15, 16, 17, 18, 19]\n",
      "37 [0, 1, 2, 3, 4, 5, 6, 7, 8, 9, 10, 11, 12, 13, 14, 15, 16, 17, 18, 19]\n",
      "39 [0, 1, 2, 3, 4, 5, 6, 7, 8, 9, 10, 11, 12, 13, 14, 15, 16, 17, 18, 19]\n",
      "491 [0, 1, 2, 3, 4, 5, 6, 7, 8, 9, 10, 11, 12, 13, 14, 15, 16, 17, 18, 19]\n",
      "654 [0, 1, 2, 3, 4, 5, 6, 7, 8, 9, 10, 11, 12, 13, 14, 15, 16, 17, 18, 19]\n",
      "617 [0, 1, 2, 3, 4, 5, 6, 7, 8, 9, 10, 11, 12, 13, 14, 15, 16, 17, 18, 19]\n",
      "40 [0, 1, 2, 3, 4, 5, 6, 7, 8, 9, 10, 11, 12, 13, 14, 15, 16, 17, 18, 19]\n",
      "123 [0, 1, 2, 3, 4, 5, 6, 7, 8, 9, 10, 11, 12, 13, 14, 15, 16, 17, 18, 19]\n",
      "258 [0, 1, 2, 3, 4, 5, 6, 7, 8, 9, 10, 11, 12, 13, 14, 15, 16, 17, 18, 19]\n",
      "639 [0, 1, 2, 3, 4, 5, 6, 7, 8, 9, 10, 11, 12, 13, 14, 15, 16, 17, 18, 19]\n",
      "219 [0, 1, 2, 3, 4, 5, 6, 7, 8, 9, 10, 11, 12, 13, 14, 15, 16, 17, 18, 19]\n",
      "74 [0, 1, 2, 3, 4, 5, 6, 7, 8, 9, 10, 11, 12, 13, 14, 15, 16, 17, 18, 19]\n",
      "679 [0, 1, 2, 3, 4, 5, 6, 7, 8, 9, 10, 11, 12, 13, 14, 15, 16, 17, 18, 19]\n",
      "50 [0, 1, 2, 3, 4, 5, 6, 7, 8, 9, 10, 11, 12, 13, 14, 15, 16, 17, 18, 19]\n",
      "481 [0, 1, 2, 3, 4, 5, 6, 7, 8, 9, 10, 11, 12, 13, 14, 15, 16, 17, 18, 19]\n",
      "727 [0, 1, 2, 3, 4, 5, 6, 7, 8, 9, 10, 11, 12, 13, 14, 15, 16, 17, 18, 19]\n",
      "760 [0, 1, 2, 3, 4, 5, 6, 7, 8, 9, 10, 11, 12, 13, 14, 15, 16, 17, 18, 19]\n",
      "52 [0, 1, 2, 3, 4, 5, 6, 7, 8, 9, 10, 11, 12, 13, 14, 15, 16, 17, 18, 19]\n",
      "206 [0, 1, 2, 3, 4, 5, 6, 7, 8, 9, 10, 11, 12, 13, 14, 15, 16, 17, 18, 19]\n",
      "659 [0, 1, 2, 3, 4, 5, 6, 7, 8, 9, 10, 11, 12, 13, 14, 15, 16, 17, 18, 19]\n",
      "56 [0, 1, 2, 3, 4, 5, 6, 7, 8, 9, 10, 11, 12, 13, 14, 15, 16, 17, 18, 19]\n",
      "29 [0, 1, 2, 3, 4, 5, 6, 7, 8, 9, 10, 11, 12, 13, 14, 15, 16, 17, 18, 19]\n",
      "438 [0, 1, 2, 3, 4, 5, 6, 7, 8, 9, 10, 11, 12, 13, 14, 15, 16, 17, 18, 19]\n",
      "687 [0, 1, 2, 3, 4, 5, 6, 7, 8, 9, 10, 11, 12, 13, 14, 15, 16, 17, 18, 19]\n",
      "560 [0, 1, 2, 3, 4, 5, 6, 7, 8, 9, 10, 11, 12, 13, 14, 15, 16, 17, 18, 19]\n",
      "60 [0, 1, 2, 3, 4, 5, 6, 7, 8, 9, 10, 11, 12, 13, 14, 15, 16, 17, 18, 19]\n",
      "539 [0, 1, 2, 3, 4, 5, 6, 7, 8, 9, 10, 11, 12, 13, 14, 15, 16, 17, 18, 19]\n",
      "63 [0, 1, 2, 3, 4, 5, 6, 7, 8, 9, 10, 11, 12, 13, 14, 15, 16, 17, 18, 19]\n",
      "144 [0, 1, 2, 3, 4, 5, 6, 7, 8, 9, 10, 11, 12, 13, 14, 15, 16, 17, 18, 19]\n",
      "66 [0, 1, 2, 3, 4, 5, 6, 7, 8, 9, 10, 11, 12, 13, 14, 15, 16, 17, 18, 19]\n",
      "55 [0, 1, 2, 3, 4, 5, 6, 7, 8, 9, 10, 11, 12, 13, 14, 15, 16, 17, 18, 19]\n",
      "90 [0, 1, 2, 3, 4, 5, 6, 7, 8, 9, 10, 11, 12, 13, 14, 15, 16, 17, 18, 19]\n",
      "262 [0, 1, 2, 3, 4, 5, 6, 7, 8, 9, 10, 11, 12, 13, 14, 15, 16, 17, 18, 19]\n",
      "142 [0, 1, 2, 3, 4, 5, 6, 7, 8, 9, 10, 11, 12, 13, 14, 15, 16, 17, 18, 19]\n",
      "158 [0, 1, 2, 3, 4, 5, 6, 7, 8, 9, 10, 11, 12, 13, 14, 15, 16, 17, 18, 19]\n",
      "27 [0, 1, 2, 3, 4, 5, 6, 7, 8, 9, 10, 11, 12, 13, 14, 15, 16, 17, 18, 19]\n",
      "568 [0, 1, 2, 3, 4, 5, 6, 7, 8, 9, 10, 11, 12, 13, 14, 15, 16, 17, 18, 19]\n",
      "364 [0, 1, 2, 3, 4, 5, 6, 7, 8, 9, 10, 11, 12, 13, 14, 15, 16, 17, 18, 19]\n",
      "593 [0, 1, 2, 3, 4, 5, 6, 7, 8, 9, 10, 11, 12, 13, 14, 15, 16, 17, 18, 19]\n",
      "629 [0, 1, 2, 3, 4, 5, 6, 7, 8, 9, 10, 11, 12, 13, 14, 15, 16, 17, 18, 19]\n",
      "121 [0, 1, 2, 3, 4, 5, 6, 7, 8, 9, 10, 11, 12, 13, 14, 15, 16, 17, 18, 19]\n",
      "68 [0, 1, 2, 3, 4, 5, 6, 7, 8, 9, 10, 11, 12, 13, 14, 15, 16, 17, 18, 19]\n",
      "72 [0, 1, 2, 3, 4, 5, 6, 7, 8, 9, 10, 11, 12, 13, 14, 15, 16, 17, 18, 19]\n",
      "284 [0, 1, 2, 3, 4, 5, 6, 7, 8, 9, 10, 11, 12, 13, 14, 15, 16, 17, 18, 19]\n",
      "799 [0, 1, 2, 3, 4, 5, 6, 7, 8, 9, 10, 11, 12, 13, 14, 15, 16, 17, 18, 19]\n",
      "320 [0, 1, 2, 3, 4, 5, 6, 7, 8, 9, 10, 11, 12, 13, 14, 15, 16, 17, 18, 19]\n",
      "82 [0, 1, 2, 3, 4, 5, 6, 7, 8, 9, 10, 11, 12, 13, 14, 15, 16, 17, 18, 19]\n",
      "83 [0, 1, 2, 3, 4, 5, 6, 7, 8, 9, 10, 11, 12, 13, 14, 15, 16, 17, 18, 19]\n",
      "586 [0, 1, 2, 3, 4, 5, 6, 7, 8, 9, 10, 11, 12, 13, 14, 15, 16, 17, 18, 19]\n",
      "73 [0, 1, 2, 3, 4, 5, 6, 7, 8, 9, 10, 11, 12, 13, 14, 15, 16, 17, 18, 19]\n",
      "722 [0, 1, 2, 3, 4, 5, 6, 7, 8, 9, 10, 11, 12, 13, 14, 15, 16, 17, 18, 19]\n",
      "497 [0, 1, 2, 3, 4, 5, 6, 7, 8, 9, 10, 11, 12, 13, 14, 15, 16, 17, 18, 19]\n",
      "570 [0, 1, 2, 3, 4, 5, 6, 7, 8, 9, 10, 11, 12, 13, 14, 15, 16, 17, 18, 19]\n",
      "272 [0, 1, 2, 3, 4, 5, 6, 7, 8, 9, 10, 11, 12, 13, 14, 15, 16, 17, 18, 19]\n",
      "765 [0, 1, 2, 3, 4, 5, 6, 7, 8, 9, 10, 11, 12, 13, 14, 15, 16, 17, 18, 19]\n",
      "468 [0, 1, 2, 3, 4, 5, 6, 7, 8, 9, 10, 11, 12, 13, 14, 15, 16, 17, 18, 19]\n",
      "328 [0, 1, 2, 3, 4, 5, 6, 7, 8, 9, 10, 11, 12, 13, 14, 15, 16, 17, 18, 19]\n",
      "61 [0, 1, 2, 3, 4, 5, 6, 7, 8, 9, 10, 11, 12, 13, 14, 15, 16, 17, 18, 19]\n",
      "227 [0, 1, 2, 3, 4, 5, 6, 7, 8, 9, 10, 11, 12, 13, 14, 15, 16, 17, 18, 19]\n",
      "358 [0, 1, 2, 3, 4, 5, 6, 7, 8, 9, 10, 11, 12, 13, 14, 15, 16, 17, 18, 19]\n",
      "226 [0, 1, 2, 3, 4, 5, 6, 7, 8, 9, 10, 11, 12, 13, 14, 15, 16, 17, 18, 19]\n",
      "125 [0, 1, 2, 3, 4, 5, 6, 7, 8, 9, 10, 11, 12, 13, 14, 15, 16, 17, 18, 19]\n",
      "128 [0, 1, 2, 3, 4, 5, 6, 7, 8, 9, 10, 11, 12, 13, 14, 15, 16, 17, 18, 19]\n",
      "401 [0, 1, 2, 3, 4, 5, 6, 7, 8, 9, 10, 11, 12, 13, 14, 15, 16, 17, 18, 19]\n",
      "674 [0, 1, 2, 3, 4, 5, 6, 7, 8, 9, 10, 11, 12, 13, 14, 15, 16, 17, 18, 19]\n",
      "761 [0, 1, 2, 3, 4, 5, 6, 7, 8, 9, 10, 11, 12, 13, 14, 15, 16, 17, 18, 19]\n",
      "30 [0, 1, 2, 3, 4, 5, 6, 7, 8, 9, 10, 11, 12, 13, 14, 15, 16, 17, 18, 19]\n",
      "575 [0, 1, 2, 3, 4, 5, 6, 7, 8, 9, 10, 11, 12, 13, 14, 15, 16, 17, 18, 19]\n",
      "591 [0, 1, 2, 3, 4, 5, 6, 7, 8, 9, 10, 11, 12, 13, 14, 15, 16, 17, 18, 19]\n",
      "521 [0, 1, 2, 3, 4, 5, 6, 7, 8, 9, 10, 11, 12, 13, 14, 15, 16, 17, 18, 19]\n",
      "821 [0, 1, 2, 3, 4, 5, 6, 7, 8, 9, 10, 11, 12, 13, 14, 15, 16, 17, 18, 19]\n",
      "13 [0, 1, 2, 3, 4, 5, 6, 7, 8, 9, 10, 11, 12, 13, 14, 15, 16, 17, 18, 19]\n",
      "645 [0, 1, 2, 3, 4, 5, 6, 7, 8, 9, 10, 11, 12, 13, 14, 15, 16, 17, 18, 19]\n",
      "327 [0, 1, 2, 3, 4, 5, 6, 7, 8, 9, 10, 11, 12, 13, 14, 15, 16, 17, 18, 19]\n",
      "89 [0, 1, 2, 3, 4, 5, 6, 7, 8, 9, 10, 11, 12, 13, 14, 15, 16, 17, 18, 19]\n",
      "708 [0, 1, 2, 3, 4, 5, 6, 7, 8, 9, 10, 11, 12, 13, 14, 15, 16, 17, 18, 19]\n",
      "108 [0, 1, 2, 3, 4, 5, 6, 7, 8, 9, 10, 11, 12, 13, 14, 15, 16, 17, 18, 19]\n",
      "612 [0, 1, 2, 3, 4, 5, 6, 7, 8, 9, 10, 11, 12, 13, 14, 15, 16, 17, 18, 19]\n",
      "113 [0, 1, 2, 3, 4, 5, 6, 7, 8, 9, 10, 11, 12, 13, 14, 15, 16, 17, 18, 19]\n",
      "764 [0, 1, 2, 3, 4, 5, 6, 7, 8, 9, 10, 11, 12, 13, 14, 15, 16, 17, 18, 19]\n",
      "116 [0, 1, 2, 3, 4, 5, 6, 7, 8, 9, 10, 11, 12, 13, 14, 15, 16, 17, 18, 19]\n",
      "770 [0, 1, 2, 3, 4, 5, 6, 7, 8, 9, 10, 11, 12, 13, 14, 15, 16, 17, 18, 19]\n",
      "28 [0, 1, 2, 3, 4, 5, 6, 7, 8, 9, 10, 11, 12, 13, 14, 15, 16, 17, 18, 19]\n",
      "461 [0, 1, 2, 3, 4, 5, 6, 7, 8, 9, 10, 11, 12, 13, 14, 15, 16, 17, 18, 19]\n",
      "254 [0, 1, 2, 3, 4, 5, 6, 7, 8, 9, 10, 11, 12, 13, 14, 15, 16, 17, 18, 19]\n",
      "241 [0, 1, 2, 3, 4, 5, 6, 7, 8, 9, 10, 11, 12, 13, 14, 15, 16, 17, 18, 19]\n",
      "233 [0, 1, 2, 3, 4, 5, 6, 7, 8, 9, 10, 11, 12, 13, 14, 15, 16, 17, 18, 19]\n",
      "138 [0, 1, 2, 3, 4, 5, 6, 7, 8, 9, 10, 11, 12, 13, 14, 15, 16, 17, 18, 19]\n",
      "204 [0, 1, 2, 3, 4, 5, 6, 7, 8, 9, 10, 11, 12, 13, 14, 15, 16, 17, 18, 19]\n",
      "594 [0, 1, 2, 3, 4, 5, 6, 7, 8, 9, 10, 11, 12, 13, 14, 15, 16, 17, 18, 19]\n",
      "609 [0, 1, 2, 3, 4, 5, 6, 7, 8, 9, 10, 11, 12, 13, 14, 15, 16, 17, 18, 19]\n",
      "355 [0, 1, 2, 3, 4, 5, 6, 7, 8, 9, 10, 11, 12, 13, 14, 15, 16, 17, 18, 19]\n",
      "695 [0, 1, 2, 3, 4, 5, 6, 7, 8, 9, 10, 11, 12, 13, 14, 15, 16, 17, 18, 19]\n",
      "117 [0, 1, 2, 3, 4, 5, 6, 7, 8, 9, 10, 11, 12, 13, 14, 15, 16, 17, 18, 19]\n",
      "76 [0, 1, 2, 3, 4, 5, 6, 7, 8, 9, 10, 11, 12, 13, 14, 15, 16, 17, 18, 19]\n",
      "165 [0, 1, 2, 3, 4, 5, 6, 7, 8, 9, 10, 11, 12, 13, 14, 15, 16, 17, 18, 19]\n",
      "780 [0, 1, 2, 3, 4, 5, 6, 7, 8, 9, 10, 11, 12, 13, 14, 15, 16, 17, 18, 19]\n",
      "827 [0, 1, 2, 3, 4, 5, 6, 7, 8, 9, 10, 11, 12, 13, 14, 15, 16, 17, 18, 19]\n",
      "819 [0, 1, 2, 3, 4, 5, 6, 7, 8, 9, 10, 11, 12, 13, 14, 15, 16, 17, 18, 19]\n",
      "47 [0, 1, 2, 3, 4, 5, 6, 7, 8, 9, 10, 11, 12, 13, 14, 15, 16, 17, 18, 19]\n",
      "447 [0, 1, 2, 3, 4, 5, 6, 7, 8, 9, 10, 11, 12, 13, 14, 15, 16, 17, 18, 19]\n",
      "649 [0, 1, 2, 3, 4, 5, 6, 7, 8, 9, 10, 11, 12, 13, 14, 15, 16, 17, 18, 19]\n",
      "197 [0, 1, 2, 3, 4, 5, 6, 7, 8, 9, 10, 11, 12, 13, 14, 15, 16, 17, 18, 19]\n",
      "202 [0, 1, 2, 3, 4, 5, 6, 7, 8, 9, 10, 11, 12, 13, 14, 15, 16, 17, 18, 19]\n",
      "19 [0, 1, 2, 3, 4, 5, 6, 7, 8, 9, 10, 11, 12, 13, 14, 15, 16, 17, 18, 19]\n",
      "719 [0, 1, 2, 3, 4, 5, 6, 7, 8, 9, 10, 11, 12, 13, 14, 15, 16, 17, 18, 19]\n",
      "96 [0, 1, 2, 3, 4, 5, 6, 7, 8, 9, 10, 11, 12, 13, 14, 15, 16, 17, 18, 19]\n",
      "595 [0, 1, 2, 3, 4, 5, 6, 7, 8, 9, 10, 11, 12, 13, 14, 15, 16, 17, 18, 19]\n",
      "735 [0, 1, 2, 3, 4, 5, 6, 7, 8, 9, 10, 11, 12, 13, 14, 15, 16, 17, 18, 19]\n",
      "478 [0, 1, 2, 3, 4, 5, 6, 7, 8, 9, 10, 11, 12, 13, 14, 15, 16, 17, 18, 19]\n",
      "517 [0, 1, 2, 3, 4, 5, 6, 7, 8, 9, 10, 11, 12, 13, 14, 15, 16, 17, 18, 19]\n",
      "148 [0, 1, 2, 3, 4, 5, 6, 7, 8, 9, 10, 11, 12, 13, 14, 15, 16, 17, 18, 19]\n",
      "70 [0, 1, 2, 3, 4, 5, 6, 7, 8, 9, 10, 11, 12, 13, 14, 15, 16, 17, 18, 19]\n",
      "611 [0, 1, 2, 3, 4, 5, 6, 7, 8, 9, 10, 11, 12, 13, 14, 15, 16, 17, 18, 19]\n",
      "631 [0, 1, 2, 3, 4, 5, 6, 7, 8, 9, 10, 11, 12, 13, 14, 15, 16, 17, 18, 19]\n",
      "496 [0, 1, 2, 3, 4, 5, 6, 7, 8, 9, 10, 11, 12, 13, 14, 15, 16, 17, 18, 19]\n",
      "698 [0, 1, 2, 3, 4, 5, 6, 7, 8, 9, 10, 11, 12, 13, 14, 15, 16, 17, 18, 19]\n",
      "172 [0, 1, 2, 3, 4, 5, 6, 7, 8, 9, 10, 11, 12, 13, 14, 15, 16, 17, 18, 19]\n",
      "250 [0, 1, 2, 3, 4, 5, 6, 7, 8, 9, 10, 11, 12, 13, 14, 15, 16, 17, 18, 19]\n",
      "85 [0, 1, 2, 3, 4, 5, 6, 7, 8, 9, 10, 11, 12, 13, 14, 15, 16, 17, 18, 19]\n",
      "430 [0, 1, 2, 3, 4, 5, 6, 7, 8, 9, 10, 11, 12, 13, 14, 15, 16, 17, 18, 19]\n",
      "613 [0, 1, 2, 3, 4, 5, 6, 7, 8, 9, 10, 11, 12, 13, 14, 15, 16, 17, 18, 19]\n",
      "81 [0, 1, 2, 3, 4, 5, 6, 7, 8, 9, 10, 11, 12, 13, 14, 15, 16, 17, 18, 19]\n",
      "332 [0, 1, 2, 3, 4, 5, 6, 7, 8, 9, 10, 11, 12, 13, 14, 15, 16, 17, 18, 19]\n",
      "626 [0, 1, 2, 3, 4, 5, 6, 7, 8, 9, 10, 11, 12, 13, 14, 15, 16, 17, 18, 19]\n",
      "163 [0, 1, 2, 3, 4, 5, 6, 7, 8, 9, 10, 11, 12, 13, 14, 15, 16, 17, 18, 19]\n",
      "454 [0, 1, 2, 3, 4, 5, 6, 7, 8, 9, 10, 11, 12, 13, 14, 15, 16, 17, 18, 19]\n",
      "506 [0, 1, 2, 3, 4, 5, 6, 7, 8, 9, 10, 11, 12, 13, 14, 15, 16, 17, 18, 19]\n",
      "149 [0, 1, 2, 3, 4, 5, 6, 7, 8, 9, 10, 11, 12, 13, 14, 15, 16, 17, 18, 19]\n",
      "215 [0, 1, 2, 3, 4, 5, 6, 7, 8, 9, 10, 11, 12, 13, 14, 15, 16, 17, 18, 19]\n",
      "437 [0, 1, 2, 3, 4, 5, 6, 7, 8, 9, 10, 11, 12, 13, 14, 15, 16, 17, 18, 19]\n",
      "305 [0, 1, 2, 3, 4, 5, 6, 7, 8, 9, 10, 11, 12, 13, 14, 15, 16, 17, 18, 19]\n",
      "91 [0, 1, 2, 3, 4, 5, 6, 7, 8, 9, 10, 11, 12, 13, 14, 15, 16, 17, 18, 19]\n",
      "731 [0, 1, 2, 3, 4, 5, 6, 7, 8, 9, 10, 11, 12, 13, 14, 15, 16, 17, 18, 19]\n",
      "169 [0, 1, 2, 3, 4, 5, 6, 7, 8, 9, 10, 11, 12, 13, 14, 15, 16, 17, 18, 19]\n",
      "368 [0, 1, 2, 3, 4, 5, 6, 7, 8, 9, 10, 11, 12, 13, 14, 15, 16, 17, 18, 19]\n",
      "777 [0, 1, 2, 3, 4, 5, 6, 7, 8, 9, 10, 11, 12, 13, 14, 15, 16, 17, 18, 19]\n",
      "171 [0, 1, 2, 3, 4, 5, 6, 7, 8, 9, 10, 11, 12, 13, 14, 15, 16, 17, 18, 19]\n",
      "456 [0, 1, 2, 3, 4, 5, 6, 7, 8, 9, 10, 11, 12, 13, 14, 15, 16, 17, 18, 19]\n",
      "185 [0, 1, 2, 3, 4, 5, 6, 7, 8, 9, 10, 11, 12, 13, 14, 15, 16, 17, 18, 19]\n",
      "523 [0, 1, 2, 3, 4, 5, 6, 7, 8, 9, 10, 11, 12, 13, 14, 15, 16, 17, 18, 19]\n",
      "62 [0, 1, 2, 3, 4, 5, 6, 7, 8, 9, 10, 11, 12, 13, 14, 15, 16, 17, 18, 19]\n",
      "94 [0, 1, 2, 3, 4, 5, 6, 7, 8, 9, 10, 11, 12, 13, 14, 15, 16, 17, 18, 19]\n",
      "264 [0, 1, 2, 3, 4, 5, 6, 7, 8, 9, 10, 11, 12, 13, 14, 15, 16, 17, 18, 19]\n",
      "175 [0, 1, 2, 3, 4, 5, 6, 7, 8, 9, 10, 11, 12, 13, 14, 15, 16, 17, 18, 19]\n",
      "786 [0, 1, 2, 3, 4, 5, 6, 7, 8, 9, 10, 11, 12, 13, 14, 15, 16, 17, 18, 19]\n",
      "696 [0, 1, 2, 3, 4, 5, 6, 7, 8, 9, 10, 11, 12, 13, 14, 15, 16, 17, 18, 19]\n",
      "177 [0, 1, 2, 3, 4, 5, 6, 7, 8, 9, 10, 11, 12, 13, 14, 15, 16, 17, 18, 19]\n",
      "384 [0, 1, 2, 3, 4, 5, 6, 7, 8, 9, 10, 11, 12, 13, 14, 15, 16, 17, 18, 19]\n",
      "222 [0, 1, 2, 3, 4, 5, 6, 7, 8, 9, 10, 11, 12, 13, 14, 15, 16, 17, 18, 19]\n",
      "805 [0, 1, 2, 3, 4, 5, 6, 7, 8, 9, 10, 11, 12, 13, 14, 15, 16, 17, 18, 19]\n",
      "426 [0, 1, 2, 3, 4, 5, 6, 7, 8, 9, 10, 11, 12, 13, 14, 15, 16, 17, 18, 19]\n",
      "183 [0, 1, 2, 3, 4, 5, 6, 7, 8, 9, 10, 11, 12, 13, 14, 15, 16, 17, 18, 19]\n",
      "119 [0, 1, 2, 3, 4, 5, 6, 7, 8, 9, 10, 11, 12, 13, 14, 15, 16, 17, 18, 19]\n",
      "280 [0, 1, 2, 3, 4, 5, 6, 7, 8, 9, 10, 11, 12, 13, 14, 15, 16, 17, 18, 19]\n",
      "671 [0, 1, 2, 3, 4, 5, 6, 7, 8, 9, 10, 11, 12, 13, 14, 15, 16, 17, 18, 19]\n",
      "278 [0, 1, 2, 3, 4, 5, 6, 7, 8, 9, 10, 11, 12, 13, 14, 15, 16, 17, 18, 19]\n",
      "784 [0, 1, 2, 3, 4, 5, 6, 7, 8, 9, 10, 11, 12, 13, 14, 15, 16, 17, 18, 19]\n",
      "451 [0, 1, 2, 3, 4, 5, 6, 7, 8, 9, 10, 11, 12, 13, 14, 15, 16, 17, 18, 19]\n",
      "569 [0, 1, 2, 3, 4, 5, 6, 7, 8, 9, 10, 11, 12, 13, 14, 15, 16, 17, 18, 19]\n",
      "746 [0, 1, 2, 3, 4, 5, 6, 7, 8, 9, 10, 11, 12, 13, 14, 15, 16, 17, 18, 19]\n",
      "606 [0, 1, 2, 3, 4, 5, 6, 7, 8, 9, 10, 11, 12, 13, 14, 15, 16, 17, 18, 19]\n",
      "599 [0, 1, 2, 3, 4, 5, 6, 7, 8, 9, 10, 11, 12, 13, 14, 15, 16, 17, 18, 19]\n",
      "200 [0, 1, 2, 3, 4, 5, 6, 7, 8, 9, 10, 11, 12, 13, 14, 15, 16, 17, 18, 19]\n",
      "512 [0, 1, 2, 3, 4, 5, 6, 7, 8, 9, 10, 11, 12, 13, 14, 15, 16, 17, 18, 19]\n",
      "170 [0, 1, 2, 3, 4, 5, 6, 7, 8, 9, 10, 11, 12, 13, 14, 15, 16, 17, 18, 19]\n",
      "212 [0, 1, 2, 3, 4, 5, 6, 7, 8, 9, 10, 11, 12, 13, 14, 15, 16, 17, 18, 19]\n",
      "161 [0, 1, 2, 3, 4, 5, 6, 7, 8, 9, 10, 11, 12, 13, 14, 15, 16, 17, 18, 19]\n",
      "216 [0, 1, 2, 3, 4, 5, 6, 7, 8, 9, 10, 11, 12, 13, 14, 15, 16, 17, 18, 19]\n",
      "742 [0, 1, 2, 3, 4, 5, 6, 7, 8, 9, 10, 11, 12, 13, 14, 15, 16, 17, 18, 19]\n",
      "397 [0, 1, 2, 3, 4, 5, 6, 7, 8, 9, 10, 11, 12, 13, 14, 15, 16, 17, 18, 19]\n",
      "246 [0, 1, 2, 3, 4, 5, 6, 7, 8, 9, 10, 11, 12, 13, 14, 15, 16, 17, 18, 19]\n",
      "505 [0, 1, 2, 3, 4, 5, 6, 7, 8, 9, 10, 11, 12, 13, 14, 15, 16, 17, 18, 19]\n",
      "357 [0, 1, 2, 3, 4, 5, 6, 7, 8, 9, 10, 11, 12, 13, 14, 15, 16, 17, 18, 19]\n",
      "360 [0, 1, 2, 3, 4, 5, 6, 7, 8, 9, 10, 11, 12, 13, 14, 15, 16, 17, 18, 19]\n",
      "676 [0, 1, 2, 3, 4, 5, 6, 7, 8, 9, 10, 11, 12, 13, 14, 15, 16, 17, 18, 19]\n",
      "585 [0, 1, 2, 3, 4, 5, 6, 7, 8, 9, 10, 11, 12, 13, 14, 15, 16, 17, 18, 19]\n",
      "114 [0, 1, 2, 3, 4, 5, 6, 7, 8, 9, 10, 11, 12, 13, 14, 15, 16, 17, 18, 19]\n",
      "118 [0, 1, 2, 3, 4, 5, 6, 7, 8, 9, 10, 11, 12, 13, 14, 15, 16, 17, 18, 19]\n",
      "223 [0, 1, 2, 3, 4, 5, 6, 7, 8, 9, 10, 11, 12, 13, 14, 15, 16, 17, 18, 19]\n",
      "12 [0, 1, 2, 3, 4, 5, 6, 7, 8, 9, 10, 11, 12, 13, 14, 15, 16, 17, 18, 19]\n",
      "53 [0, 1, 2, 3, 4, 5, 6, 7, 8, 9, 10, 11, 12, 13, 14, 15, 16, 17, 18, 19]\n",
      "767 [0, 1, 2, 3, 4, 5, 6, 7, 8, 9, 10, 11, 12, 13, 14, 15, 16, 17, 18, 19]\n",
      "553 [0, 1, 2, 3, 4, 5, 6, 7, 8, 9, 10, 11, 12, 13, 14, 15, 16, 17, 18, 19]\n",
      "251 [0, 1, 2, 3, 4, 5, 6, 7, 8, 9, 10, 11, 12, 13, 14, 15, 16, 17, 18, 19]\n",
      "294 [0, 1, 2, 3, 4, 5, 6, 7, 8, 9, 10, 11, 12, 13, 14, 15, 16, 17, 18, 19]\n",
      "540 [0, 1, 2, 3, 4, 5, 6, 7, 8, 9, 10, 11, 12, 13, 14, 15, 16, 17, 18, 19]\n",
      "20 [0, 1, 2, 3, 4, 5, 6, 7, 8, 9, 10, 11, 12, 13, 14, 15, 16, 17, 18, 19]\n",
      "228 [0, 1, 2, 3, 4, 5, 6, 7, 8, 9, 10, 11, 12, 13, 14, 15, 16, 17, 18, 19]\n",
      "476 [0, 1, 2, 3, 4, 5, 6, 7, 8, 9, 10, 11, 12, 13, 14, 15, 16, 17, 18, 19]\n",
      "210 [0, 1, 2, 3, 4, 5, 6, 7, 8, 9, 10, 11, 12, 13, 14, 15, 16, 17, 18, 19]\n",
      "151 [0, 1, 2, 3, 4, 5, 6, 7, 8, 9, 10, 11, 12, 13, 14, 15, 16, 17, 18, 19]\n",
      "498 [0, 1, 2, 3, 4, 5, 6, 7, 8, 9, 10, 11, 12, 13, 14, 15, 16, 17, 18, 19]\n",
      "462 [0, 1, 2, 3, 4, 5, 6, 7, 8, 9, 10, 11, 12, 13, 14, 15, 16, 17, 18, 19]\n",
      "804 [0, 1, 2, 3, 4, 5, 6, 7, 8, 9, 10, 11, 12, 13, 14, 15, 16, 17, 18, 19]\n",
      "379 [0, 1, 2, 3, 4, 5, 6, 7, 8, 9, 10, 11, 12, 13, 14, 15, 16, 17, 18, 19]\n",
      "653 [0, 1, 2, 3, 4, 5, 6, 7, 8, 9, 10, 11, 12, 13, 14, 15, 16, 17, 18, 19]\n",
      "650 [0, 1, 2, 3, 4, 5, 6, 7, 8, 9, 10, 11, 12, 13, 14, 15, 16, 17, 18, 19]\n",
      "472 [0, 1, 2, 3, 4, 5, 6, 7, 8, 9, 10, 11, 12, 13, 14, 15, 16, 17, 18, 19]\n",
      "691 [0, 1, 2, 3, 4, 5, 6, 7, 8, 9, 10, 11, 12, 13, 14, 15, 16, 17, 18, 19]\n",
      "689 [0, 1, 2, 3, 4, 5, 6, 7, 8, 9, 10, 11, 12, 13, 14, 15, 16, 17, 18, 19]\n",
      "783 [0, 1, 2, 3, 4, 5, 6, 7, 8, 9, 10, 11, 12, 13, 14, 15, 16, 17, 18, 19]\n",
      "628 [0, 1, 2, 3, 4, 5, 6, 7, 8, 9, 10, 11, 12, 13, 14, 15, 16, 17, 18, 19]\n",
      "483 [0, 1, 2, 3, 4, 5, 6, 7, 8, 9, 10, 11, 12, 13, 14, 15, 16, 17, 18, 19]\n",
      "635 [0, 1, 2, 3, 4, 5, 6, 7, 8, 9, 10, 11, 12, 13, 14, 15, 16, 17, 18, 19]\n",
      "173 [0, 1, 2, 3, 4, 5, 6, 7, 8, 9, 10, 11, 12, 13, 14, 15, 16, 17, 18, 19]\n",
      "237 [0, 1, 2, 3, 4, 5, 6, 7, 8, 9, 10, 11, 12, 13, 14, 15, 16, 17, 18, 19]\n",
      "229 [0, 1, 2, 3, 4, 5, 6, 7, 8, 9, 10, 11, 12, 13, 14, 15, 16, 17, 18, 19]\n",
      "486 [0, 1, 2, 3, 4, 5, 6, 7, 8, 9, 10, 11, 12, 13, 14, 15, 16, 17, 18, 19]\n",
      "308 [0, 1, 2, 3, 4, 5, 6, 7, 8, 9, 10, 11, 12, 13, 14, 15, 16, 17, 18, 19]\n",
      "152 [0, 1, 2, 3, 4, 5, 6, 7, 8, 9, 10, 11, 12, 13, 14, 15, 16, 17, 18, 19]\n",
      "729 [0, 1, 2, 3, 4, 5, 6, 7, 8, 9, 10, 11, 12, 13, 14, 15, 16, 17, 18, 19]\n",
      "469 [0, 1, 2, 3, 4, 5, 6, 7, 8, 9, 10, 11, 12, 13, 14, 15, 16, 17, 18, 19]\n",
      "507 [0, 1, 2, 3, 4, 5, 6, 7, 8, 9, 10, 11, 12, 13, 14, 15, 16, 17, 18, 19]\n",
      "730 [0, 1, 2, 3, 4, 5, 6, 7, 8, 9, 10, 11, 12, 13, 14, 15, 16, 17, 18, 19]\n",
      "312 [0, 1, 2, 3, 4, 5, 6, 7, 8, 9, 10, 11, 12, 13, 14, 15, 16, 17, 18, 19]\n",
      "255 [0, 1, 2, 3, 4, 5, 6, 7, 8, 9, 10, 11, 12, 13, 14, 15, 16, 17, 18, 19]\n",
      "797 [0, 1, 2, 3, 4, 5, 6, 7, 8, 9, 10, 11, 12, 13, 14, 15, 16, 17, 18, 19]\n",
      "527 [0, 1, 2, 3, 4, 5, 6, 7, 8, 9, 10, 11, 12, 13, 14, 15, 16, 17, 18, 19]\n",
      "791 [0, 1, 2, 3, 4, 5, 6, 7, 8, 9, 10, 11, 12, 13, 14, 15, 16, 17, 18, 19]\n",
      "477 [0, 1, 2, 3, 4, 5, 6, 7, 8, 9, 10, 11, 12, 13, 14, 15, 16, 17, 18, 19]\n",
      "577 [0, 1, 2, 3, 4, 5, 6, 7, 8, 9, 10, 11, 12, 13, 14, 15, 16, 17, 18, 19]\n",
      "193 [0, 1, 2, 3, 4, 5, 6, 7, 8, 9, 10, 11, 12, 13, 14, 15, 16, 17, 18, 19]\n",
      "788 [0, 1, 2, 3, 4, 5, 6, 7, 8, 9, 10, 11, 12, 13, 14, 15, 16, 17, 18, 19]\n",
      "252 [0, 1, 2, 3, 4, 5, 6, 7, 8, 9, 10, 11, 12, 13, 14, 15, 16, 17, 18, 19]\n",
      "343 [0, 1, 2, 3, 4, 5, 6, 7, 8, 9, 10, 11, 12, 13, 14, 15, 16, 17, 18, 19]\n",
      "259 [0, 1, 2, 3, 4, 5, 6, 7, 8, 9, 10, 11, 12, 13, 14, 15, 16, 17, 18, 19]\n",
      "370 [0, 1, 2, 3, 4, 5, 6, 7, 8, 9, 10, 11, 12, 13, 14, 15, 16, 17, 18, 19]\n",
      "48 [0, 1, 2, 3, 4, 5, 6, 7, 8, 9, 10, 11, 12, 13, 14, 15, 16, 17, 18, 19]\n",
      "620 [0, 1, 2, 3, 4, 5, 6, 7, 8, 9, 10, 11, 12, 13, 14, 15, 16, 17, 18, 19]\n",
      "256 [0, 1, 2, 3, 4, 5, 6, 7, 8, 9, 10, 11, 12, 13, 14, 15, 16, 17, 18, 19]\n",
      "661 [0, 1, 2, 3, 4, 5, 6, 7, 8, 9, 10, 11, 12, 13, 14, 15, 16, 17, 18, 19]\n",
      "405 [0, 1, 2, 3, 4, 5, 6, 7, 8, 9, 10, 11, 12, 13, 14, 15, 16, 17, 18, 19]\n",
      "710 [0, 1, 2, 3, 4, 5, 6, 7, 8, 9, 10, 11, 12, 13, 14, 15, 16, 17, 18, 19]\n",
      "318 [0, 1, 2, 3, 4, 5, 6, 7, 8, 9, 10, 11, 12, 13, 14, 15, 16, 17, 18, 19]\n",
      "205 [0, 1, 2, 3, 4, 5, 6, 7, 8, 9, 10, 11, 12, 13, 14, 15, 16, 17, 18, 19]\n",
      "186 [0, 1, 2, 3, 4, 5, 6, 7, 8, 9, 10, 11, 12, 13, 14, 15, 16, 17, 18, 19]\n",
      "41 [0, 1, 2, 3, 4, 5, 6, 7, 8, 9, 10, 11, 12, 13, 14, 15, 16, 17, 18, 19]\n",
      "740 [0, 1, 2, 3, 4, 5, 6, 7, 8, 9, 10, 11, 12, 13, 14, 15, 16, 17, 18, 19]\n",
      "502 [0, 1, 2, 3, 4, 5, 6, 7, 8, 9, 10, 11, 12, 13, 14, 15, 16, 17, 18, 19]\n",
      "271 [0, 1, 2, 3, 4, 5, 6, 7, 8, 9, 10, 11, 12, 13, 14, 15, 16, 17, 18, 19]\n",
      "293 [0, 1, 2, 3, 4, 5, 6, 7, 8, 9, 10, 11, 12, 13, 14, 15, 16, 17, 18, 19]\n",
      "582 [0, 1, 2, 3, 4, 5, 6, 7, 8, 9, 10, 11, 12, 13, 14, 15, 16, 17, 18, 19]\n",
      "558 [0, 1, 2, 3, 4, 5, 6, 7, 8, 9, 10, 11, 12, 13, 14, 15, 16, 17, 18, 19]\n",
      "614 [0, 1, 2, 3, 4, 5, 6, 7, 8, 9, 10, 11, 12, 13, 14, 15, 16, 17, 18, 19]\n",
      "112 [0, 1, 2, 3, 4, 5, 6, 7, 8, 9, 10, 11, 12, 13, 14, 15, 16, 17, 18, 19]\n",
      "388 [0, 1, 2, 3, 4, 5, 6, 7, 8, 9, 10, 11, 12, 13, 14, 15, 16, 17, 18, 19]\n",
      "240 [0, 1, 2, 3, 4, 5, 6, 7, 8, 9, 10, 11, 12, 13, 14, 15, 16, 17, 18, 19]\n",
      "270 [0, 1, 2, 3, 4, 5, 6, 7, 8, 9, 10, 11, 12, 13, 14, 15, 16, 17, 18, 19]\n",
      "268 [0, 1, 2, 3, 4, 5, 6, 7, 8, 9, 10, 11, 12, 13, 14, 15, 16, 17, 18, 19]\n",
      "665 [0, 1, 2, 3, 4, 5, 6, 7, 8, 9, 10, 11, 12, 13, 14, 15, 16, 17, 18, 19]\n",
      "273 [0, 1, 2, 3, 4, 5, 6, 7, 8, 9, 10, 11, 12, 13, 14, 15, 16, 17, 18, 19]\n",
      "718 [0, 1, 2, 3, 4, 5, 6, 7, 8, 9, 10, 11, 12, 13, 14, 15, 16, 17, 18, 19]\n",
      "633 [0, 1, 2, 3, 4, 5, 6, 7, 8, 9, 10, 11, 12, 13, 14, 15, 16, 17, 18, 19]\n",
      "733 [0, 1, 2, 3, 4, 5, 6, 7, 8, 9, 10, 11, 12, 13, 14, 15, 16, 17, 18, 19]\n",
      "132 [0, 1, 2, 3, 4, 5, 6, 7, 8, 9, 10, 11, 12, 13, 14, 15, 16, 17, 18, 19]\n",
      "279 [0, 1, 2, 3, 4, 5, 6, 7, 8, 9, 10, 11, 12, 13, 14, 15, 16, 17, 18, 19]\n",
      "772 [0, 1, 2, 3, 4, 5, 6, 7, 8, 9, 10, 11, 12, 13, 14, 15, 16, 17, 18, 19]\n",
      "703 [0, 1, 2, 3, 4, 5, 6, 7, 8, 9, 10, 11, 12, 13, 14, 15, 16, 17, 18, 19]\n",
      "283 [0, 1, 2, 3, 4, 5, 6, 7, 8, 9, 10, 11, 12, 13, 14, 15, 16, 17, 18, 19]\n",
      "596 [0, 1, 2, 3, 4, 5, 6, 7, 8, 9, 10, 11, 12, 13, 14, 15, 16, 17, 18, 19]\n",
      "69 [0, 1, 2, 3, 4, 5, 6, 7, 8, 9, 10, 11, 12, 13, 14, 15, 16, 17, 18, 19]\n",
      "466 [0, 1, 2, 3, 4, 5, 6, 7, 8, 9, 10, 11, 12, 13, 14, 15, 16, 17, 18, 19]\n",
      "155 [0, 1, 2, 3, 4, 5, 6, 7, 8, 9, 10, 11, 12, 13, 14, 15, 16, 17, 18, 19]\n",
      "814 [0, 1, 2, 3, 4, 5, 6, 7, 8, 9, 10, 11, 12, 13, 14, 15, 16, 17, 18, 19]\n",
      "587 [0, 1, 2, 3, 4, 5, 6, 7, 8, 9, 10, 11, 12, 13, 14, 15, 16, 17, 18, 19]\n",
      "648 [0, 1, 2, 3, 4, 5, 6, 7, 8, 9, 10, 11, 12, 13, 14, 15, 16, 17, 18, 19]\n",
      "232 [0, 1, 2, 3, 4, 5, 6, 7, 8, 9, 10, 11, 12, 13, 14, 15, 16, 17, 18, 19]\n",
      "285 [0, 1, 2, 3, 4, 5, 6, 7, 8, 9, 10, 11, 12, 13, 14, 15, 16, 17, 18, 19]\n",
      "823 [0, 1, 2, 3, 4, 5, 6, 7, 8, 9, 10, 11, 12, 13, 14, 15, 16, 17, 18, 19]\n",
      "509 [0, 1, 2, 3, 4, 5, 6, 7, 8, 9, 10, 11, 12, 13, 14, 15, 16, 17, 18, 19]\n",
      "700 [0, 1, 2, 3, 4, 5, 6, 7, 8, 9, 10, 11, 12, 13, 14, 15, 16, 17, 18, 19]\n",
      "289 [0, 1, 2, 3, 4, 5, 6, 7, 8, 9, 10, 11, 12, 13, 14, 15, 16, 17, 18, 19]\n",
      "795 [0, 1, 2, 3, 4, 5, 6, 7, 8, 9, 10, 11, 12, 13, 14, 15, 16, 17, 18, 19]\n",
      "638 [0, 1, 2, 3, 4, 5, 6, 7, 8, 9, 10, 11, 12, 13, 14, 15, 16, 17, 18, 19]\n",
      "413 [0, 1, 2, 3, 4, 5, 6, 7, 8, 9, 10, 11, 12, 13, 14, 15, 16, 17, 18, 19]\n",
      "699 [0, 1, 2, 3, 4, 5, 6, 7, 8, 9, 10, 11, 12, 13, 14, 15, 16, 17, 18, 19]\n",
      "681 [0, 1, 2, 3, 4, 5, 6, 7, 8, 9, 10, 11, 12, 13, 14, 15, 16, 17, 18, 19]\n",
      "544 [0, 1, 2, 3, 4, 5, 6, 7, 8, 9, 10, 11, 12, 13, 14, 15, 16, 17, 18, 19]\n",
      "106 [0, 1, 2, 3, 4, 5, 6, 7, 8, 9, 10, 11, 12, 13, 14, 15, 16, 17, 18, 19]\n",
      "578 [0, 1, 2, 3, 4, 5, 6, 7, 8, 9, 10, 11, 12, 13, 14, 15, 16, 17, 18, 19]\n",
      "548 [0, 1, 2, 3, 4, 5, 6, 7, 8, 9, 10, 11, 12, 13, 14, 15, 16, 17, 18, 19]\n",
      "260 [0, 1, 2, 3, 4, 5, 6, 7, 8, 9, 10, 11, 12, 13, 14, 15, 16, 17, 18, 19]\n",
      "166 [0, 1, 2, 3, 4, 5, 6, 7, 8, 9, 10, 11, 12, 13, 14, 15, 16, 17, 18, 19]\n",
      "326 [0, 1, 2, 3, 4, 5, 6, 7, 8, 9, 10, 11, 12, 13, 14, 15, 16, 17, 18, 19]\n",
      "245 [0, 1, 2, 3, 4, 5, 6, 7, 8, 9, 10, 11, 12, 13, 14, 15, 16, 17, 18, 19]\n",
      "302 [0, 1, 2, 3, 4, 5, 6, 7, 8, 9, 10, 11, 12, 13, 14, 15, 16, 17, 18, 19]\n",
      "304 [0, 1, 2, 3, 4, 5, 6, 7, 8, 9, 10, 11, 12, 13, 14, 15, 16, 17, 18, 19]\n",
      "182 [0, 1, 2, 3, 4, 5, 6, 7, 8, 9, 10, 11, 12, 13, 14, 15, 16, 17, 18, 19]\n",
      "291 [0, 1, 2, 3, 4, 5, 6, 7, 8, 9, 10, 11, 12, 13, 14, 15, 16, 17, 18, 19]\n",
      "292 [0, 1, 2, 3, 4, 5, 6, 7, 8, 9, 10, 11, 12, 13, 14, 15, 16, 17, 18, 19]\n",
      "752 [0, 1, 2, 3, 4, 5, 6, 7, 8, 9, 10, 11, 12, 13, 14, 15, 16, 17, 18, 19]\n",
      "396 [0, 1, 2, 3, 4, 5, 6, 7, 8, 9, 10, 11, 12, 13, 14, 15, 16, 17, 18, 19]\n",
      "792 [0, 1, 2, 3, 4, 5, 6, 7, 8, 9, 10, 11, 12, 13, 14, 15, 16, 17, 18, 19]\n",
      "93 [0, 1, 2, 3, 4, 5, 6, 7, 8, 9, 10, 11, 12, 13, 14, 15, 16, 17, 18, 19]\n",
      "656 [0, 1, 2, 3, 4, 5, 6, 7, 8, 9, 10, 11, 12, 13, 14, 15, 16, 17, 18, 19]\n",
      "307 [0, 1, 2, 3, 4, 5, 6, 7, 8, 9, 10, 11, 12, 13, 14, 15, 16, 17, 18, 19]\n",
      "234 [0, 1, 2, 3, 4, 5, 6, 7, 8, 9, 10, 11, 12, 13, 14, 15, 16, 17, 18, 19]\n",
      "190 [0, 1, 2, 3, 4, 5, 6, 7, 8, 9, 10, 11, 12, 13, 14, 15, 16, 17, 18, 19]\n",
      "647 [0, 1, 2, 3, 4, 5, 6, 7, 8, 9, 10, 11, 12, 13, 14, 15, 16, 17, 18, 19]\n",
      "572 [0, 1, 2, 3, 4, 5, 6, 7, 8, 9, 10, 11, 12, 13, 14, 15, 16, 17, 18, 19]\n",
      "221 [0, 1, 2, 3, 4, 5, 6, 7, 8, 9, 10, 11, 12, 13, 14, 15, 16, 17, 18, 19]\n",
      "313 [0, 1, 2, 3, 4, 5, 6, 7, 8, 9, 10, 11, 12, 13, 14, 15, 16, 17, 18, 19]\n",
      "314 [0, 1, 2, 3, 4, 5, 6, 7, 8, 9, 10, 11, 12, 13, 14, 15, 16, 17, 18, 19]\n",
      "315 [0, 1, 2, 3, 4, 5, 6, 7, 8, 9, 10, 11, 12, 13, 14, 15, 16, 17, 18, 19]\n",
      "334 [0, 1, 2, 3, 4, 5, 6, 7, 8, 9, 10, 11, 12, 13, 14, 15, 16, 17, 18, 19]\n",
      "574 [0, 1, 2, 3, 4, 5, 6, 7, 8, 9, 10, 11, 12, 13, 14, 15, 16, 17, 18, 19]\n",
      "323 [0, 1, 2, 3, 4, 5, 6, 7, 8, 9, 10, 11, 12, 13, 14, 15, 16, 17, 18, 19]\n",
      "324 [0, 1, 2, 3, 4, 5, 6, 7, 8, 9, 10, 11, 12, 13, 14, 15, 16, 17, 18, 19]\n",
      "325 [0, 1, 2, 3, 4, 5, 6, 7, 8, 9, 10, 11, 12, 13, 14, 15, 16, 17, 18, 19]\n",
      "537 [0, 1, 2, 3, 4, 5, 6, 7, 8, 9, 10, 11, 12, 13, 14, 15, 16, 17, 18, 19]\n",
      "736 [0, 1, 2, 3, 4, 5, 6, 7, 8, 9, 10, 11, 12, 13, 14, 15, 16, 17, 18, 19]\n",
      "383 [0, 1, 2, 3, 4, 5, 6, 7, 8, 9, 10, 11, 12, 13, 14, 15, 16, 17, 18, 19]\n",
      "34 [0, 1, 2, 3, 4, 5, 6, 7, 8, 9, 10, 11, 12, 13, 14, 15, 16, 17, 18, 19]\n",
      "623 [0, 1, 2, 3, 4, 5, 6, 7, 8, 9, 10, 11, 12, 13, 14, 15, 16, 17, 18, 19]\n",
      "825 [0, 1, 2, 3, 4, 5, 6, 7, 8, 9, 10, 11, 12, 13, 14, 15, 16, 17, 18, 19]\n",
      "42 [0, 1, 2, 3, 4, 5, 6, 7, 8, 9, 10, 11, 12, 13, 14, 15, 16, 17, 18, 19]\n",
      "261 [0, 1, 2, 3, 4, 5, 6, 7, 8, 9, 10, 11, 12, 13, 14, 15, 16, 17, 18, 19]\n",
      "398 [0, 1, 2, 3, 4, 5, 6, 7, 8, 9, 10, 11, 12, 13, 14, 15, 16, 17, 18, 19]\n",
      "567 [0, 1, 2, 3, 4, 5, 6, 7, 8, 9, 10, 11, 12, 13, 14, 15, 16, 17, 18, 19]\n",
      "336 [0, 1, 2, 3, 4, 5, 6, 7, 8, 9, 10, 11, 12, 13, 14, 15, 16, 17, 18, 19]\n",
      "773 [0, 1, 2, 3, 4, 5, 6, 7, 8, 9, 10, 11, 12, 13, 14, 15, 16, 17, 18, 19]\n",
      "737 [0, 1, 2, 3, 4, 5, 6, 7, 8, 9, 10, 11, 12, 13, 14, 15, 16, 17, 18, 19]\n",
      "559 [0, 1, 2, 3, 4, 5, 6, 7, 8, 9, 10, 11, 12, 13, 14, 15, 16, 17, 18, 19]\n",
      "322 [0, 1, 2, 3, 4, 5, 6, 7, 8, 9, 10, 11, 12, 13, 14, 15, 16, 17, 18, 19]\n",
      "342 [0, 1, 2, 3, 4, 5, 6, 7, 8, 9, 10, 11, 12, 13, 14, 15, 16, 17, 18, 19]\n",
      "36 [0, 1, 2, 3, 4, 5, 6, 7, 8, 9, 10, 11, 12, 13, 14, 15, 16, 17, 18, 19]\n",
      "0 [0, 1, 2, 3, 4, 5, 6, 7, 8, 9, 10, 11, 12, 13, 14, 15, 16, 17, 18, 19]\n",
      "309 [0, 1, 2, 3, 4, 5, 6, 7, 8, 9, 10, 11, 12, 13, 14, 15, 16, 17, 18, 19]\n",
      "208 [0, 1, 2, 3, 4, 5, 6, 7, 8, 9, 10, 11, 12, 13, 14, 15, 16, 17, 18, 19]\n",
      "337 [0, 1, 2, 3, 4, 5, 6, 7, 8, 9, 10, 11, 12, 13, 14, 15, 16, 17, 18, 19]\n",
      "333 [0, 1, 2, 3, 4, 5, 6, 7, 8, 9, 10, 11, 12, 13, 14, 15, 16, 17, 18, 19]\n",
      "109 [0, 1, 2, 3, 4, 5, 6, 7, 8, 9, 10, 11, 12, 13, 14, 15, 16, 17, 18, 19]\n",
      "535 [0, 1, 2, 3, 4, 5, 6, 7, 8, 9, 10, 11, 12, 13, 14, 15, 16, 17, 18, 19]\n",
      "331 [0, 1, 2, 3, 4, 5, 6, 7, 8, 9, 10, 11, 12, 13, 14, 15, 16, 17, 18, 19]\n",
      "771 [0, 1, 2, 3, 4, 5, 6, 7, 8, 9, 10, 11, 12, 13, 14, 15, 16, 17, 18, 19]\n",
      "276 [0, 1, 2, 3, 4, 5, 6, 7, 8, 9, 10, 11, 12, 13, 14, 15, 16, 17, 18, 19]\n",
      "345 [0, 1, 2, 3, 4, 5, 6, 7, 8, 9, 10, 11, 12, 13, 14, 15, 16, 17, 18, 19]\n",
      "346 [0, 1, 2, 3, 4, 5, 6, 7, 8, 9, 10, 11, 12, 13, 14, 15, 16, 17, 18, 19]\n",
      "441 [0, 1, 2, 3, 4, 5, 6, 7, 8, 9, 10, 11, 12, 13, 14, 15, 16, 17, 18, 19]\n",
      "347 [0, 1, 2, 3, 4, 5, 6, 7, 8, 9, 10, 11, 12, 13, 14, 15, 16, 17, 18, 19]\n",
      "211 [0, 1, 2, 3, 4, 5, 6, 7, 8, 9, 10, 11, 12, 13, 14, 15, 16, 17, 18, 19]\n",
      "588 [0, 1, 2, 3, 4, 5, 6, 7, 8, 9, 10, 11, 12, 13, 14, 15, 16, 17, 18, 19]\n",
      "515 [0, 1, 2, 3, 4, 5, 6, 7, 8, 9, 10, 11, 12, 13, 14, 15, 16, 17, 18, 19]\n",
      "561 [0, 1, 2, 3, 4, 5, 6, 7, 8, 9, 10, 11, 12, 13, 14, 15, 16, 17, 18, 19]\n",
      "356 [0, 1, 2, 3, 4, 5, 6, 7, 8, 9, 10, 11, 12, 13, 14, 15, 16, 17, 18, 19]\n",
      "657 [0, 1, 2, 3, 4, 5, 6, 7, 8, 9, 10, 11, 12, 13, 14, 15, 16, 17, 18, 19]\n",
      "479 [0, 1, 2, 3, 4, 5, 6, 7, 8, 9, 10, 11, 12, 13, 14, 15, 16, 17, 18, 19]\n",
      "341 [0, 1, 2, 3, 4, 5, 6, 7, 8, 9, 10, 11, 12, 13, 14, 15, 16, 17, 18, 19]\n",
      "501 [0, 1, 2, 3, 4, 5, 6, 7, 8, 9, 10, 11, 12, 13, 14, 15, 16, 17, 18, 19]\n",
      "704 [0, 1, 2, 3, 4, 5, 6, 7, 8, 9, 10, 11, 12, 13, 14, 15, 16, 17, 18, 19]\n",
      "26 [0, 1, 2, 3, 4, 5, 6, 7, 8, 9, 10, 11, 12, 13, 14, 15, 16, 17, 18, 19]\n",
      "411 [0, 1, 2, 3, 4, 5, 6, 7, 8, 9, 10, 11, 12, 13, 14, 15, 16, 17, 18, 19]\n",
      "662 [0, 1, 2, 3, 4, 5, 6, 7, 8, 9, 10, 11, 12, 13, 14, 15, 16, 17, 18, 19]\n",
      "353 [0, 1, 2, 3, 4, 5, 6, 7, 8, 9, 10, 11, 12, 13, 14, 15, 16, 17, 18, 19]\n",
      "632 [0, 1, 2, 3, 4, 5, 6, 7, 8, 9, 10, 11, 12, 13, 14, 15, 16, 17, 18, 19]\n",
      "3 [0, 1, 2, 3, 4, 5, 6, 7, 8, 9, 10, 11, 12, 13, 14, 15, 16, 17, 18, 19]\n",
      "127 [0, 1, 2, 3, 4, 5, 6, 7, 8, 9, 10, 11, 12, 13, 14, 15, 16, 17, 18, 19]\n",
      "686 [0, 1, 2, 3, 4, 5, 6, 7, 8, 9, 10, 11, 12, 13, 14, 15, 16, 17, 18, 19]\n",
      "238 [0, 1, 2, 3, 4, 5, 6, 7, 8, 9, 10, 11, 12, 13, 14, 15, 16, 17, 18, 19]\n",
      "547 [0, 1, 2, 3, 4, 5, 6, 7, 8, 9, 10, 11, 12, 13, 14, 15, 16, 17, 18, 19]\n",
      "414 [0, 1, 2, 3, 4, 5, 6, 7, 8, 9, 10, 11, 12, 13, 14, 15, 16, 17, 18, 19]\n",
      "32 [0, 1, 2, 3, 4, 5, 6, 7, 8, 9, 10, 11, 12, 13, 14, 15, 16, 17, 18, 19]\n",
      "579 [0, 1, 2, 3, 4, 5, 6, 7, 8, 9, 10, 11, 12, 13, 14, 15, 16, 17, 18, 19]\n",
      "417 [0, 1, 2, 3, 4, 5, 6, 7, 8, 9, 10, 11, 12, 13, 14, 15, 16, 17, 18, 19]\n",
      "49 [0, 1, 2, 3, 4, 5, 6, 7, 8, 9, 10, 11, 12, 13, 14, 15, 16, 17, 18, 19]\n",
      "181 [0, 1, 2, 3, 4, 5, 6, 7, 8, 9, 10, 11, 12, 13, 14, 15, 16, 17, 18, 19]\n",
      "485 [0, 1, 2, 3, 4, 5, 6, 7, 8, 9, 10, 11, 12, 13, 14, 15, 16, 17, 18, 19]\n",
      "382 [0, 1, 2, 3, 4, 5, 6, 7, 8, 9, 10, 11, 12, 13, 14, 15, 16, 17, 18, 19]\n",
      "400 [0, 1, 2, 3, 4, 5, 6, 7, 8, 9, 10, 11, 12, 13, 14, 15, 16, 17, 18, 19]\n",
      "473 [0, 1, 2, 3, 4, 5, 6, 7, 8, 9, 10, 11, 12, 13, 14, 15, 16, 17, 18, 19]\n",
      "408 [0, 1, 2, 3, 4, 5, 6, 7, 8, 9, 10, 11, 12, 13, 14, 15, 16, 17, 18, 19]\n",
      "713 [0, 1, 2, 3, 4, 5, 6, 7, 8, 9, 10, 11, 12, 13, 14, 15, 16, 17, 18, 19]\n",
      "92 [0, 1, 2, 3, 4, 5, 6, 7, 8, 9, 10, 11, 12, 13, 14, 15, 16, 17, 18, 19]\n",
      "533 [0, 1, 2, 3, 4, 5, 6, 7, 8, 9, 10, 11, 12, 13, 14, 15, 16, 17, 18, 19]\n",
      "690 [0, 1, 2, 3, 4, 5, 6, 7, 8, 9, 10, 11, 12, 13, 14, 15, 16, 17, 18, 19]\n",
      "758 [0, 1, 2, 3, 4, 5, 6, 7, 8, 9, 10, 11, 12, 13, 14, 15, 16, 17, 18, 19]\n",
      "265 [0, 1, 2, 3, 4, 5, 6, 7, 8, 9, 10, 11, 12, 13, 14, 15, 16, 17, 18, 19]\n",
      "482 [0, 1, 2, 3, 4, 5, 6, 7, 8, 9, 10, 11, 12, 13, 14, 15, 16, 17, 18, 19]\n",
      "603 [0, 1, 2, 3, 4, 5, 6, 7, 8, 9, 10, 11, 12, 13, 14, 15, 16, 17, 18, 19]\n",
      "504 [0, 1, 2, 3, 4, 5, 6, 7, 8, 9, 10, 11, 12, 13, 14, 15, 16, 17, 18, 19]\n",
      "688 [0, 1, 2, 3, 4, 5, 6, 7, 8, 9, 10, 11, 12, 13, 14, 15, 16, 17, 18, 19]\n",
      "395 [0, 1, 2, 3, 4, 5, 6, 7, 8, 9, 10, 11, 12, 13, 14, 15, 16, 17, 18, 19]\n",
      "43 [0, 1, 2, 3, 4, 5, 6, 7, 8, 9, 10, 11, 12, 13, 14, 15, 16, 17, 18, 19]\n",
      "399 [0, 1, 2, 3, 4, 5, 6, 7, 8, 9, 10, 11, 12, 13, 14, 15, 16, 17, 18, 19]\n",
      "247 [0, 1, 2, 3, 4, 5, 6, 7, 8, 9, 10, 11, 12, 13, 14, 15, 16, 17, 18, 19]\n",
      "824 [0, 1, 2, 3, 4, 5, 6, 7, 8, 9, 10, 11, 12, 13, 14, 15, 16, 17, 18, 19]\n",
      "159 [0, 1, 2, 3, 4, 5, 6, 7, 8, 9, 10, 11, 12, 13, 14, 15, 16, 17, 18, 19]\n",
      "766 [0, 1, 2, 3, 4, 5, 6, 7, 8, 9, 10, 11, 12, 13, 14, 15, 16, 17, 18, 19]\n",
      "71 [0, 1, 2, 3, 4, 5, 6, 7, 8, 9, 10, 11, 12, 13, 14, 15, 16, 17, 18, 19]\n",
      "531 [0, 1, 2, 3, 4, 5, 6, 7, 8, 9, 10, 11, 12, 13, 14, 15, 16, 17, 18, 19]\n",
      "769 [0, 1, 2, 3, 4, 5, 6, 7, 8, 9, 10, 11, 12, 13, 14, 15, 16, 17, 18, 19]\n",
      "286 [0, 1, 2, 3, 4, 5, 6, 7, 8, 9, 10, 11, 12, 13, 14, 15, 16, 17, 18, 19]\n",
      "107 [0, 1, 2, 3, 4, 5, 6, 7, 8, 9, 10, 11, 12, 13, 14, 15, 16, 17, 18, 19]\n",
      "445 [0, 1, 2, 3, 4, 5, 6, 7, 8, 9, 10, 11, 12, 13, 14, 15, 16, 17, 18, 19]\n",
      "516 [0, 1, 2, 3, 4, 5, 6, 7, 8, 9, 10, 11, 12, 13, 14, 15, 16, 17, 18, 19]\n",
      "4 [0, 1, 2, 3, 4, 5, 6, 7, 8, 9, 10, 11, 12, 13, 14, 15, 16, 17, 18, 19]\n",
      "480 [0, 1, 2, 3, 4, 5, 6, 7, 8, 9, 10, 11, 12, 13, 14, 15, 16, 17, 18, 19]\n",
      "556 [0, 1, 2, 3, 4, 5, 6, 7, 8, 9, 10, 11, 12, 13, 14, 15, 16, 17, 18, 19]\n",
      "392 [0, 1, 2, 3, 4, 5, 6, 7, 8, 9, 10, 11, 12, 13, 14, 15, 16, 17, 18, 19]\n",
      "618 [0, 1, 2, 3, 4, 5, 6, 7, 8, 9, 10, 11, 12, 13, 14, 15, 16, 17, 18, 19]\n",
      "465 [0, 1, 2, 3, 4, 5, 6, 7, 8, 9, 10, 11, 12, 13, 14, 15, 16, 17, 18, 19]\n",
      "157 [0, 1, 2, 3, 4, 5, 6, 7, 8, 9, 10, 11, 12, 13, 14, 15, 16, 17, 18, 19]\n",
      "409 [0, 1, 2, 3, 4, 5, 6, 7, 8, 9, 10, 11, 12, 13, 14, 15, 16, 17, 18, 19]\n",
      "296 [0, 1, 2, 3, 4, 5, 6, 7, 8, 9, 10, 11, 12, 13, 14, 15, 16, 17, 18, 19]\n",
      "663 [0, 1, 2, 3, 4, 5, 6, 7, 8, 9, 10, 11, 12, 13, 14, 15, 16, 17, 18, 19]\n",
      "762 [0, 1, 2, 3, 4, 5, 6, 7, 8, 9, 10, 11, 12, 13, 14, 15, 16, 17, 18, 19]\n",
      "38 [0, 1, 2, 3, 4, 5, 6, 7, 8, 9, 10, 11, 12, 13, 14, 15, 16, 17, 18, 19]\n",
      "421 [0, 1, 2, 3, 4, 5, 6, 7, 8, 9, 10, 11, 12, 13, 14, 15, 16, 17, 18, 19]\n",
      "511 [0, 1, 2, 3, 4, 5, 6, 7, 8, 9, 10, 11, 12, 13, 14, 15, 16, 17, 18, 19]\n",
      "658 [0, 1, 2, 3, 4, 5, 6, 7, 8, 9, 10, 11, 12, 13, 14, 15, 16, 17, 18, 19]\n",
      "319 [0, 1, 2, 3, 4, 5, 6, 7, 8, 9, 10, 11, 12, 13, 14, 15, 16, 17, 18, 19]\n",
      "431 [0, 1, 2, 3, 4, 5, 6, 7, 8, 9, 10, 11, 12, 13, 14, 15, 16, 17, 18, 19]\n",
      "660 [0, 1, 2, 3, 4, 5, 6, 7, 8, 9, 10, 11, 12, 13, 14, 15, 16, 17, 18, 19]\n",
      "514 [0, 1, 2, 3, 4, 5, 6, 7, 8, 9, 10, 11, 12, 13, 14, 15, 16, 17, 18, 19]\n",
      "826 [0, 1, 2, 3, 4, 5, 6, 7, 8, 9, 10, 11, 12, 13, 14, 15, 16, 17, 18, 19]\n",
      "15 [0, 1, 2, 3, 4, 5, 6, 7, 8, 9, 10, 11, 12, 13, 14, 15, 16, 17, 18, 19]\n",
      "140 [0, 1, 2, 3, 4, 5, 6, 7, 8, 9, 10, 11, 12, 13, 14, 15, 16, 17, 18, 19]\n",
      "779 [0, 1, 2, 3, 4, 5, 6, 7, 8, 9, 10, 11, 12, 13, 14, 15, 16, 17, 18, 19]\n",
      "573 [0, 1, 2, 3, 4, 5, 6, 7, 8, 9, 10, 11, 12, 13, 14, 15, 16, 17, 18, 19]\n",
      "88 [0, 1, 2, 3, 4, 5, 6, 7, 8, 9, 10, 11, 12, 13, 14, 15, 16, 17, 18, 19]\n",
      "810 [0, 1, 2, 3, 4, 5, 6, 7, 8, 9, 10, 11, 12, 13, 14, 15, 16, 17, 18, 19]\n",
      "9 [0, 1, 2, 3, 4, 5, 6, 7, 8, 9, 10, 11, 12, 13, 14, 15, 16, 17, 18, 19]\n",
      "646 [0, 1, 2, 3, 4, 5, 6, 7, 8, 9, 10, 11, 12, 13, 14, 15, 16, 17, 18, 19]\n",
      "87 [0, 1, 2, 3, 4, 5, 6, 7, 8, 9, 10, 11, 12, 13, 14, 15, 16, 17, 18, 19]\n",
      "440 [0, 1, 2, 3, 4, 5, 6, 7, 8, 9, 10, 11, 12, 13, 14, 15, 16, 17, 18, 19]\n",
      "311 [0, 1, 2, 3, 4, 5, 6, 7, 8, 9, 10, 11, 12, 13, 14, 15, 16, 17, 18, 19]\n",
      "191 [0, 1, 2, 3, 4, 5, 6, 7, 8, 9, 10, 11, 12, 13, 14, 15, 16, 17, 18, 19]\n",
      "389 [0, 1, 2, 3, 4, 5, 6, 7, 8, 9, 10, 11, 12, 13, 14, 15, 16, 17, 18, 19]\n",
      "443 [0, 1, 2, 3, 4, 5, 6, 7, 8, 9, 10, 11, 12, 13, 14, 15, 16, 17, 18, 19]\n",
      "404 [0, 1, 2, 3, 4, 5, 6, 7, 8, 9, 10, 11, 12, 13, 14, 15, 16, 17, 18, 19]\n",
      "340 [0, 1, 2, 3, 4, 5, 6, 7, 8, 9, 10, 11, 12, 13, 14, 15, 16, 17, 18, 19]\n",
      "470 [0, 1, 2, 3, 4, 5, 6, 7, 8, 9, 10, 11, 12, 13, 14, 15, 16, 17, 18, 19]\n",
      "160 [0, 1, 2, 3, 4, 5, 6, 7, 8, 9, 10, 11, 12, 13, 14, 15, 16, 17, 18, 19]\n",
      "287 [0, 1, 2, 3, 4, 5, 6, 7, 8, 9, 10, 11, 12, 13, 14, 15, 16, 17, 18, 19]\n",
      "756 [0, 1, 2, 3, 4, 5, 6, 7, 8, 9, 10, 11, 12, 13, 14, 15, 16, 17, 18, 19]\n",
      "236 [0, 1, 2, 3, 4, 5, 6, 7, 8, 9, 10, 11, 12, 13, 14, 15, 16, 17, 18, 19]\n",
      "78 [0, 1, 2, 3, 4, 5, 6, 7, 8, 9, 10, 11, 12, 13, 14, 15, 16, 17, 18, 19]\n",
      "59 [0, 1, 2, 3, 4, 5, 6, 7, 8, 9, 10, 11, 12, 13, 14, 15, 16, 17, 18, 19]\n",
      "338 [0, 1, 2, 3, 4, 5, 6, 7, 8, 9, 10, 11, 12, 13, 14, 15, 16, 17, 18, 19]\n",
      "453 [0, 1, 2, 3, 4, 5, 6, 7, 8, 9, 10, 11, 12, 13, 14, 15, 16, 17, 18, 19]\n",
      "807 [0, 1, 2, 3, 4, 5, 6, 7, 8, 9, 10, 11, 12, 13, 14, 15, 16, 17, 18, 19]\n",
      "131 [0, 1, 2, 3, 4, 5, 6, 7, 8, 9, 10, 11, 12, 13, 14, 15, 16, 17, 18, 19]\n",
      "390 [0, 1, 2, 3, 4, 5, 6, 7, 8, 9, 10, 11, 12, 13, 14, 15, 16, 17, 18, 19]\n",
      "122 [0, 1, 2, 3, 4, 5, 6, 7, 8, 9, 10, 11, 12, 13, 14, 15, 16, 17, 18, 19]\n",
      "776 [0, 1, 2, 3, 4, 5, 6, 7, 8, 9, 10, 11, 12, 13, 14, 15, 16, 17, 18, 19]\n",
      "84 [0, 1, 2, 3, 4, 5, 6, 7, 8, 9, 10, 11, 12, 13, 14, 15, 16, 17, 18, 19]\n",
      "458 [0, 1, 2, 3, 4, 5, 6, 7, 8, 9, 10, 11, 12, 13, 14, 15, 16, 17, 18, 19]\n",
      "35 [0, 1, 2, 3, 4, 5, 6, 7, 8, 9, 10, 11, 12, 13, 14, 15, 16, 17, 18, 19]\n",
      "667 [0, 1, 2, 3, 4, 5, 6, 7, 8, 9, 10, 11, 12, 13, 14, 15, 16, 17, 18, 19]\n",
      "803 [0, 1, 2, 3, 4, 5, 6, 7, 8, 9, 10, 11, 12, 13, 14, 15, 16, 17, 18, 19]\n",
      "467 [0, 1, 2, 3, 4, 5, 6, 7, 8, 9, 10, 11, 12, 13, 14, 15, 16, 17, 18, 19]\n",
      "365 [0, 1, 2, 3, 4, 5, 6, 7, 8, 9, 10, 11, 12, 13, 14, 15, 16, 17, 18, 19]\n",
      "179 [0, 1, 2, 3, 4, 5, 6, 7, 8, 9, 10, 11, 12, 13, 14, 15, 16, 17, 18, 19]\n",
      "176 [0, 1, 2, 3, 4, 5, 6, 7, 8, 9, 10, 11, 12, 13, 14, 15, 16, 17, 18, 19]\n",
      "463 [0, 1, 2, 3, 4, 5, 6, 7, 8, 9, 10, 11, 12, 13, 14, 15, 16, 17, 18, 19]\n",
      "471 [0, 1, 2, 3, 4, 5, 6, 7, 8, 9, 10, 11, 12, 13, 14, 15, 16, 17, 18, 19]\n",
      "715 [0, 1, 2, 3, 4, 5, 6, 7, 8, 9, 10, 11, 12, 13, 14, 15, 16, 17, 18, 19]\n",
      "449 [0, 1, 2, 3, 4, 5, 6, 7, 8, 9, 10, 11, 12, 13, 14, 15, 16, 17, 18, 19]\n",
      "464 [0, 1, 2, 3, 4, 5, 6, 7, 8, 9, 10, 11, 12, 13, 14, 15, 16, 17, 18, 19]\n",
      "115 [0, 1, 2, 3, 4, 5, 6, 7, 8, 9, 10, 11, 12, 13, 14, 15, 16, 17, 18, 19]\n",
      "530 [0, 1, 2, 3, 4, 5, 6, 7, 8, 9, 10, 11, 12, 13, 14, 15, 16, 17, 18, 19]\n",
      "366 [0, 1, 2, 3, 4, 5, 6, 7, 8, 9, 10, 11, 12, 13, 14, 15, 16, 17, 18, 19]\n",
      "180 [0, 1, 2, 3, 4, 5, 6, 7, 8, 9, 10, 11, 12, 13, 14, 15, 16, 17, 18, 19]\n",
      "624 [0, 1, 2, 3, 4, 5, 6, 7, 8, 9, 10, 11, 12, 13, 14, 15, 16, 17, 18, 19]\n",
      "145 [0, 1, 2, 3, 4, 5, 6, 7, 8, 9, 10, 11, 12, 13, 14, 15, 16, 17, 18, 19]\n",
      "557 [0, 1, 2, 3, 4, 5, 6, 7, 8, 9, 10, 11, 12, 13, 14, 15, 16, 17, 18, 19]\n",
      "602 [0, 1, 2, 3, 4, 5, 6, 7, 8, 9, 10, 11, 12, 13, 14, 15, 16, 17, 18, 19]\n",
      "615 [0, 1, 2, 3, 4, 5, 6, 7, 8, 9, 10, 11, 12, 13, 14, 15, 16, 17, 18, 19]\n",
      "243 [0, 1, 2, 3, 4, 5, 6, 7, 8, 9, 10, 11, 12, 13, 14, 15, 16, 17, 18, 19]\n",
      "793 [0, 1, 2, 3, 4, 5, 6, 7, 8, 9, 10, 11, 12, 13, 14, 15, 16, 17, 18, 19]\n",
      "489 [0, 1, 2, 3, 4, 5, 6, 7, 8, 9, 10, 11, 12, 13, 14, 15, 16, 17, 18, 19]\n",
      "643 [0, 1, 2, 3, 4, 5, 6, 7, 8, 9, 10, 11, 12, 13, 14, 15, 16, 17, 18, 19]\n",
      "630 [0, 1, 2, 3, 4, 5, 6, 7, 8, 9, 10, 11, 12, 13, 14, 15, 16, 17, 18, 19]\n",
      "655 [0, 1, 2, 3, 4, 5, 6, 7, 8, 9, 10, 11, 12, 13, 14, 15, 16, 17, 18, 19]\n",
      "536 [0, 1, 2, 3, 4, 5, 6, 7, 8, 9, 10, 11, 12, 13, 14, 15, 16, 17, 18, 19]\n",
      "790 [0, 1, 2, 3, 4, 5, 6, 7, 8, 9, 10, 11, 12, 13, 14, 15, 16, 17, 18, 19]\n",
      "174 [0, 1, 2, 3, 4, 5, 6, 7, 8, 9, 10, 11, 12, 13, 14, 15, 16, 17, 18, 19]\n",
      "86 [0, 1, 2, 3, 4, 5, 6, 7, 8, 9, 10, 11, 12, 13, 14, 15, 16, 17, 18, 19]\n",
      "80 [0, 1, 2, 3, 4, 5, 6, 7, 8, 9, 10, 11, 12, 13, 14, 15, 16, 17, 18, 19]\n",
      "64 [0, 1, 2, 3, 4, 5, 6, 7, 8, 9, 10, 11, 12, 13, 14, 15, 16, 17, 18, 19]\n",
      "242 [0, 1, 2, 3, 4, 5, 6, 7, 8, 9, 10, 11, 12, 13, 14, 15, 16, 17, 18, 19]\n",
      "474 [0, 1, 2, 3, 4, 5, 6, 7, 8, 9, 10, 11, 12, 13, 14, 15, 16, 17, 18, 19]\n",
      "519 [0, 1, 2, 3, 4, 5, 6, 7, 8, 9, 10, 11, 12, 13, 14, 15, 16, 17, 18, 19]\n",
      "429 [0, 1, 2, 3, 4, 5, 6, 7, 8, 9, 10, 11, 12, 13, 14, 15, 16, 17, 18, 19]\n",
      "239 [0, 1, 2, 3, 4, 5, 6, 7, 8, 9, 10, 11, 12, 13, 14, 15, 16, 17, 18, 19]\n",
      "377 [0, 1, 2, 3, 4, 5, 6, 7, 8, 9, 10, 11, 12, 13, 14, 15, 16, 17, 18, 19]\n",
      "503 [0, 1, 2, 3, 4, 5, 6, 7, 8, 9, 10, 11, 12, 13, 14, 15, 16, 17, 18, 19]\n",
      "213 [0, 1, 2, 3, 4, 5, 6, 7, 8, 9, 10, 11, 12, 13, 14, 15, 16, 17, 18, 19]\n",
      "484 [0, 1, 2, 3, 4, 5, 6, 7, 8, 9, 10, 11, 12, 13, 14, 15, 16, 17, 18, 19]\n",
      "218 [0, 1, 2, 3, 4, 5, 6, 7, 8, 9, 10, 11, 12, 13, 14, 15, 16, 17, 18, 19]\n",
      "129 [0, 1, 2, 3, 4, 5, 6, 7, 8, 9, 10, 11, 12, 13, 14, 15, 16, 17, 18, 19]\n",
      "524 [0, 1, 2, 3, 4, 5, 6, 7, 8, 9, 10, 11, 12, 13, 14, 15, 16, 17, 18, 19]\n",
      "510 [0, 1, 2, 3, 4, 5, 6, 7, 8, 9, 10, 11, 12, 13, 14, 15, 16, 17, 18, 19]\n",
      "105 [0, 1, 2, 3, 4, 5, 6, 7, 8, 9, 10, 11, 12, 13, 14, 15, 16, 17, 18, 19]\n",
      "281 [0, 1, 2, 3, 4, 5, 6, 7, 8, 9, 10, 11, 12, 13, 14, 15, 16, 17, 18, 19]\n",
      "310 [0, 1, 2, 3, 4, 5, 6, 7, 8, 9, 10, 11, 12, 13, 14, 15, 16, 17, 18, 19]\n",
      "146 [0, 1, 2, 3, 4, 5, 6, 7, 8, 9, 10, 11, 12, 13, 14, 15, 16, 17, 18, 19]\n",
      "126 [0, 1, 2, 3, 4, 5, 6, 7, 8, 9, 10, 11, 12, 13, 14, 15, 16, 17, 18, 19]\n",
      "415 [0, 1, 2, 3, 4, 5, 6, 7, 8, 9, 10, 11, 12, 13, 14, 15, 16, 17, 18, 19]\n",
      "44 [0, 1, 2, 3, 4, 5, 6, 7, 8, 9, 10, 11, 12, 13, 14, 15, 16, 17, 18, 19]\n",
      "616 [0, 1, 2, 3, 4, 5, 6, 7, 8, 9, 10, 11, 12, 13, 14, 15, 16, 17, 18, 19]\n",
      "335 [0, 1, 2, 3, 4, 5, 6, 7, 8, 9, 10, 11, 12, 13, 14, 15, 16, 17, 18, 19]\n",
      "428 [0, 1, 2, 3, 4, 5, 6, 7, 8, 9, 10, 11, 12, 13, 14, 15, 16, 17, 18, 19]\n",
      "716 [0, 1, 2, 3, 4, 5, 6, 7, 8, 9, 10, 11, 12, 13, 14, 15, 16, 17, 18, 19]\n",
      "420 [0, 1, 2, 3, 4, 5, 6, 7, 8, 9, 10, 11, 12, 13, 14, 15, 16, 17, 18, 19]\n",
      "625 [0, 1, 2, 3, 4, 5, 6, 7, 8, 9, 10, 11, 12, 13, 14, 15, 16, 17, 18, 19]\n",
      "330 [0, 1, 2, 3, 4, 5, 6, 7, 8, 9, 10, 11, 12, 13, 14, 15, 16, 17, 18, 19]\n",
      "103 [0, 1, 2, 3, 4, 5, 6, 7, 8, 9, 10, 11, 12, 13, 14, 15, 16, 17, 18, 19]\n",
      "195 [0, 1, 2, 3, 4, 5, 6, 7, 8, 9, 10, 11, 12, 13, 14, 15, 16, 17, 18, 19]\n",
      "753 [0, 1, 2, 3, 4, 5, 6, 7, 8, 9, 10, 11, 12, 13, 14, 15, 16, 17, 18, 19]\n",
      "518 [0, 1, 2, 3, 4, 5, 6, 7, 8, 9, 10, 11, 12, 13, 14, 15, 16, 17, 18, 19]\n",
      "529 [0, 1, 2, 3, 4, 5, 6, 7, 8, 9, 10, 11, 12, 13, 14, 15, 16, 17, 18, 19]\n",
      "748 [0, 1, 2, 3, 4, 5, 6, 7, 8, 9, 10, 11, 12, 13, 14, 15, 16, 17, 18, 19]\n",
      "534 [0, 1, 2, 3, 4, 5, 6, 7, 8, 9, 10, 11, 12, 13, 14, 15, 16, 17, 18, 19]\n",
      "192 [0, 1, 2, 3, 4, 5, 6, 7, 8, 9, 10, 11, 12, 13, 14, 15, 16, 17, 18, 19]\n",
      "316 [0, 1, 2, 3, 4, 5, 6, 7, 8, 9, 10, 11, 12, 13, 14, 15, 16, 17, 18, 19]\n",
      "367 [0, 1, 2, 3, 4, 5, 6, 7, 8, 9, 10, 11, 12, 13, 14, 15, 16, 17, 18, 19]\n",
      "1 [0, 1, 2, 3, 4, 5, 6, 7, 8, 9, 10, 11, 12, 13, 14, 15, 16, 17, 18, 19]\n",
      "235 [0, 1, 2, 3, 4, 5, 6, 7, 8, 9, 10, 11, 12, 13, 14, 15, 16, 17, 18, 19]\n",
      "11 [0, 1, 2, 3, 4, 5, 6, 7, 8, 9, 10, 11, 12, 13, 14, 15, 16, 17, 18, 19]\n",
      "546 [0, 1, 2, 3, 4, 5, 6, 7, 8, 9, 10, 11, 12, 13, 14, 15, 16, 17, 18, 19]\n",
      "642 [0, 1, 2, 3, 4, 5, 6, 7, 8, 9, 10, 11, 12, 13, 14, 15, 16, 17, 18, 19]\n",
      "576 [0, 1, 2, 3, 4, 5, 6, 7, 8, 9, 10, 11, 12, 13, 14, 15, 16, 17, 18, 19]\n",
      "724 [0, 1, 2, 3, 4, 5, 6, 7, 8, 9, 10, 11, 12, 13, 14, 15, 16, 17, 18, 19]\n",
      "10 [0, 1, 2, 3, 4, 5, 6, 7, 8, 9, 10, 11, 12, 13, 14, 15, 16, 17, 18, 19]\n",
      "545 [0, 1, 2, 3, 4, 5, 6, 7, 8, 9, 10, 11, 12, 13, 14, 15, 16, 17, 18, 19]\n",
      "749 [0, 1, 2, 3, 4, 5, 6, 7, 8, 9, 10, 11, 12, 13, 14, 15, 16, 17, 18, 19]\n",
      "248 [0, 1, 2, 3, 4, 5, 6, 7, 8, 9, 10, 11, 12, 13, 14, 15, 16, 17, 18, 19]\n",
      "494 [0, 1, 2, 3, 4, 5, 6, 7, 8, 9, 10, 11, 12, 13, 14, 15, 16, 17, 18, 19]\n",
      "444 [0, 1, 2, 3, 4, 5, 6, 7, 8, 9, 10, 11, 12, 13, 14, 15, 16, 17, 18, 19]\n",
      "168 [0, 1, 2, 3, 4, 5, 6, 7, 8, 9, 10, 11, 12, 13, 14, 15, 16, 17, 18, 19]\n",
      "651 [0, 1, 2, 3, 4, 5, 6, 7, 8, 9, 10, 11, 12, 13, 14, 15, 16, 17, 18, 19]\n",
      "500 [0, 1, 2, 3, 4, 5, 6, 7, 8, 9, 10, 11, 12, 13, 14, 15, 16, 17, 18, 19]\n",
      "267 [0, 1, 2, 3, 4, 5, 6, 7, 8, 9, 10, 11, 12, 13, 14, 15, 16, 17, 18, 19]\n",
      "806 [0, 1, 2, 3, 4, 5, 6, 7, 8, 9, 10, 11, 12, 13, 14, 15, 16, 17, 18, 19]\n",
      "555 [0, 1, 2, 3, 4, 5, 6, 7, 8, 9, 10, 11, 12, 13, 14, 15, 16, 17, 18, 19]\n",
      "156 [0, 1, 2, 3, 4, 5, 6, 7, 8, 9, 10, 11, 12, 13, 14, 15, 16, 17, 18, 19]\n",
      "522 [0, 1, 2, 3, 4, 5, 6, 7, 8, 9, 10, 11, 12, 13, 14, 15, 16, 17, 18, 19]\n",
      "317 [0, 1, 2, 3, 4, 5, 6, 7, 8, 9, 10, 11, 12, 13, 14, 15, 16, 17, 18, 19]\n",
      "75 [0, 1, 2, 3, 4, 5, 6, 7, 8, 9, 10, 11, 12, 13, 14, 15, 16, 17, 18, 19]\n",
      "721 [0, 1, 2, 3, 4, 5, 6, 7, 8, 9, 10, 11, 12, 13, 14, 15, 16, 17, 18, 19]\n",
      "680 [0, 1, 2, 3, 4, 5, 6, 7, 8, 9, 10, 11, 12, 13, 14, 15, 16, 17, 18, 19]\n",
      "21 [0, 1, 2, 3, 4, 5, 6, 7, 8, 9, 10, 11, 12, 13, 14, 15, 16, 17, 18, 19]\n",
      "99 [0, 1, 2, 3, 4, 5, 6, 7, 8, 9, 10, 11, 12, 13, 14, 15, 16, 17, 18, 19]\n",
      "809 [0, 1, 2, 3, 4, 5, 6, 7, 8, 9, 10, 11, 12, 13, 14, 15, 16, 17, 18, 19]\n",
      "796 [0, 1, 2, 3, 4, 5, 6, 7, 8, 9, 10, 11, 12, 13, 14, 15, 16, 17, 18, 19]\n",
      "571 [0, 1, 2, 3, 4, 5, 6, 7, 8, 9, 10, 11, 12, 13, 14, 15, 16, 17, 18, 19]\n",
      "359 [0, 1, 2, 3, 4, 5, 6, 7, 8, 9, 10, 11, 12, 13, 14, 15, 16, 17, 18, 19]\n",
      "164 [0, 1, 2, 3, 4, 5, 6, 7, 8, 9, 10, 11, 12, 13, 14, 15, 16, 17, 18, 19]\n",
      "167 [0, 1, 2, 3, 4, 5, 6, 7, 8, 9, 10, 11, 12, 13, 14, 15, 16, 17, 18, 19]\n",
      "640 [0, 1, 2, 3, 4, 5, 6, 7, 8, 9, 10, 11, 12, 13, 14, 15, 16, 17, 18, 19]\n",
      "508 [0, 1, 2, 3, 4, 5, 6, 7, 8, 9, 10, 11, 12, 13, 14, 15, 16, 17, 18, 19]\n",
      "249 [0, 1, 2, 3, 4, 5, 6, 7, 8, 9, 10, 11, 12, 13, 14, 15, 16, 17, 18, 19]\n",
      "754 [0, 1, 2, 3, 4, 5, 6, 7, 8, 9, 10, 11, 12, 13, 14, 15, 16, 17, 18, 19]\n",
      "811 [0, 1, 2, 3, 4, 5, 6, 7, 8, 9, 10, 11, 12, 13, 14, 15, 16, 17, 18, 19]\n",
      "6 [0, 1, 2, 3, 4, 5, 6, 7, 8, 9, 10, 11, 12, 13, 14, 15, 16, 17, 18, 19]\n",
      "435 [0, 1, 2, 3, 4, 5, 6, 7, 8, 9, 10, 11, 12, 13, 14, 15, 16, 17, 18, 19]\n",
      "583 [0, 1, 2, 3, 4, 5, 6, 7, 8, 9, 10, 11, 12, 13, 14, 15, 16, 17, 18, 19]\n",
      "706 [0, 1, 2, 3, 4, 5, 6, 7, 8, 9, 10, 11, 12, 13, 14, 15, 16, 17, 18, 19]\n",
      "554 [0, 1, 2, 3, 4, 5, 6, 7, 8, 9, 10, 11, 12, 13, 14, 15, 16, 17, 18, 19]\n",
      "584 [0, 1, 2, 3, 4, 5, 6, 7, 8, 9, 10, 11, 12, 13, 14, 15, 16, 17, 18, 19]\n",
      "475 [0, 1, 2, 3, 4, 5, 6, 7, 8, 9, 10, 11, 12, 13, 14, 15, 16, 17, 18, 19]\n",
      "678 [0, 1, 2, 3, 4, 5, 6, 7, 8, 9, 10, 11, 12, 13, 14, 15, 16, 17, 18, 19]\n",
      "298 [0, 1, 2, 3, 4, 5, 6, 7, 8, 9, 10, 11, 12, 13, 14, 15, 16, 17, 18, 19]\n",
      "436 [0, 1, 2, 3, 4, 5, 6, 7, 8, 9, 10, 11, 12, 13, 14, 15, 16, 17, 18, 19]\n",
      "386 [0, 1, 2, 3, 4, 5, 6, 7, 8, 9, 10, 11, 12, 13, 14, 15, 16, 17, 18, 19]\n",
      "375 [0, 1, 2, 3, 4, 5, 6, 7, 8, 9, 10, 11, 12, 13, 14, 15, 16, 17, 18, 19]\n",
      "373 [0, 1, 2, 3, 4, 5, 6, 7, 8, 9, 10, 11, 12, 13, 14, 15, 16, 17, 18, 19]\n",
      "459 [0, 1, 2, 3, 4, 5, 6, 7, 8, 9, 10, 11, 12, 13, 14, 15, 16, 17, 18, 19]\n",
      "590 [0, 1, 2, 3, 4, 5, 6, 7, 8, 9, 10, 11, 12, 13, 14, 15, 16, 17, 18, 19]\n",
      "525 [0, 1, 2, 3, 4, 5, 6, 7, 8, 9, 10, 11, 12, 13, 14, 15, 16, 17, 18, 19]\n",
      "775 [0, 1, 2, 3, 4, 5, 6, 7, 8, 9, 10, 11, 12, 13, 14, 15, 16, 17, 18, 19]\n",
      "488 [0, 1, 2, 3, 4, 5, 6, 7, 8, 9, 10, 11, 12, 13, 14, 15, 16, 17, 18, 19]\n",
      "412 [0, 1, 2, 3, 4, 5, 6, 7, 8, 9, 10, 11, 12, 13, 14, 15, 16, 17, 18, 19]\n",
      "2 [0, 1, 2, 3, 4, 5, 6, 7, 8, 9, 10, 11, 12, 13, 14, 15, 16, 17, 18, 19]\n",
      "162 [0, 1, 2, 3, 4, 5, 6, 7, 8, 9, 10, 11, 12, 13, 14, 15, 16, 17, 18, 19]\n",
      "604 [0, 1, 2, 3, 4, 5, 6, 7, 8, 9, 10, 11, 12, 13, 14, 15, 16, 17, 18, 19]\n",
      "605 [0, 1, 2, 3, 4, 5, 6, 7, 8, 9, 10, 11, 12, 13, 14, 15, 16, 17, 18, 19]\n",
      "815 [0, 1, 2, 3, 4, 5, 6, 7, 8, 9, 10, 11, 12, 13, 14, 15, 16, 17, 18, 19]\n",
      "224 [0, 1, 2, 3, 4, 5, 6, 7, 8, 9, 10, 11, 12, 13, 14, 15, 16, 17, 18, 19]\n",
      "812 [0, 1, 2, 3, 4, 5, 6, 7, 8, 9, 10, 11, 12, 13, 14, 15, 16, 17, 18, 19]\n",
      "354 [0, 1, 2, 3, 4, 5, 6, 7, 8, 9, 10, 11, 12, 13, 14, 15, 16, 17, 18, 19]\n",
      "664 [0, 1, 2, 3, 4, 5, 6, 7, 8, 9, 10, 11, 12, 13, 14, 15, 16, 17, 18, 19]\n",
      "528 [0, 1, 2, 3, 4, 5, 6, 7, 8, 9, 10, 11, 12, 13, 14, 15, 16, 17, 18, 19]\n",
      "95 [0, 1, 2, 3, 4, 5, 6, 7, 8, 9, 10, 11, 12, 13, 14, 15, 16, 17, 18, 19]\n",
      "14 [0, 1, 2, 3, 4, 5, 6, 7, 8, 9, 10, 11, 12, 13, 14, 15, 16, 17, 18, 19]\n",
      "808 [0, 1, 2, 3, 4, 5, 6, 7, 8, 9, 10, 11, 12, 13, 14, 15, 16, 17, 18, 19]\n",
      "57 [0, 1, 2, 3, 4, 5, 6, 7, 8, 9, 10, 11, 12, 13, 14, 15, 16, 17, 18, 19]\n",
      "348 [0, 1, 2, 3, 4, 5, 6, 7, 8, 9, 10, 11, 12, 13, 14, 15, 16, 17, 18, 19]\n",
      "79 [0, 1, 2, 3, 4, 5, 6, 7, 8, 9, 10, 11, 12, 13, 14, 15, 16, 17, 18, 19]\n",
      "734 [0, 1, 2, 3, 4, 5, 6, 7, 8, 9, 10, 11, 12, 13, 14, 15, 16, 17, 18, 19]\n",
      "45 [0, 1, 2, 3, 4, 5, 6, 7, 8, 9, 10, 11, 12, 13, 14, 15, 16, 17, 18, 19]\n",
      "692 [0, 1, 2, 3, 4, 5, 6, 7, 8, 9, 10, 11, 12, 13, 14, 15, 16, 17, 18, 19]\n",
      "110 [0, 1, 2, 3, 4, 5, 6, 7, 8, 9, 10, 11, 12, 13, 14, 15, 16, 17, 18, 19]\n",
      "634 [0, 1, 2, 3, 4, 5, 6, 7, 8, 9, 10, 11, 12, 13, 14, 15, 16, 17, 18, 19]\n",
      "562 [0, 1, 2, 3, 4, 5, 6, 7, 8, 9, 10, 11, 12, 13, 14, 15, 16, 17, 18, 19]\n",
      "217 [0, 1, 2, 3, 4, 5, 6, 7, 8, 9, 10, 11, 12, 13, 14, 15, 16, 17, 18, 19]\n",
      "622 [0, 1, 2, 3, 4, 5, 6, 7, 8, 9, 10, 11, 12, 13, 14, 15, 16, 17, 18, 19]\n",
      "597 [0, 1, 2, 3, 4, 5, 6, 7, 8, 9, 10, 11, 12, 13, 14, 15, 16, 17, 18, 19]\n",
      "378 [0, 1, 2, 3, 4, 5, 6, 7, 8, 9, 10, 11, 12, 13, 14, 15, 16, 17, 18, 19]\n",
      "419 [0, 1, 2, 3, 4, 5, 6, 7, 8, 9, 10, 11, 12, 13, 14, 15, 16, 17, 18, 19]\n",
      "136 [0, 1, 2, 3, 4, 5, 6, 7, 8, 9, 10, 11, 12, 13, 14, 15, 16, 17, 18, 19]\n",
      "709 [0, 1, 2, 3, 4, 5, 6, 7, 8, 9, 10, 11, 12, 13, 14, 15, 16, 17, 18, 19]\n",
      "543 [0, 1, 2, 3, 4, 5, 6, 7, 8, 9, 10, 11, 12, 13, 14, 15, 16, 17, 18, 19]\n",
      "416 [0, 1, 2, 3, 4, 5, 6, 7, 8, 9, 10, 11, 12, 13, 14, 15, 16, 17, 18, 19]\n",
      "143 [0, 1, 2, 3, 4, 5, 6, 7, 8, 9, 10, 11, 12, 13, 14, 15, 16, 17, 18, 19]\n",
      "801 [0, 1, 2, 3, 4, 5, 6, 7, 8, 9, 10, 11, 12, 13, 14, 15, 16, 17, 18, 19]\n",
      "581 [0, 1, 2, 3, 4, 5, 6, 7, 8, 9, 10, 11, 12, 13, 14, 15, 16, 17, 18, 19]\n",
      "134 [0, 1, 2, 3, 4, 5, 6, 7, 8, 9, 10, 11, 12, 13, 14, 15, 16, 17, 18, 19]\n",
      "425 [0, 1, 2, 3, 4, 5, 6, 7, 8, 9, 10, 11, 12, 13, 14, 15, 16, 17, 18, 19]\n",
      "135 [0, 1, 2, 3, 4, 5, 6, 7, 8, 9, 10, 11, 12, 13, 14, 15, 16, 17, 18, 19]\n",
      "495 [0, 1, 2, 3, 4, 5, 6, 7, 8, 9, 10, 11, 12, 13, 14, 15, 16, 17, 18, 19]\n",
      "781 [0, 1, 2, 3, 4, 5, 6, 7, 8, 9, 10, 11, 12, 13, 14, 15, 16, 17, 18, 19]\n",
      "450 [0, 1, 2, 3, 4, 5, 6, 7, 8, 9, 10, 11, 12, 13, 14, 15, 16, 17, 18, 19]\n",
      "391 [0, 1, 2, 3, 4, 5, 6, 7, 8, 9, 10, 11, 12, 13, 14, 15, 16, 17, 18, 19]\n",
      "393 [0, 1, 2, 3, 4, 5, 6, 7, 8, 9, 10, 11, 12, 13, 14, 15, 16, 17, 18, 19]\n",
      "439 [0, 1, 2, 3, 4, 5, 6, 7, 8, 9, 10, 11, 12, 13, 14, 15, 16, 17, 18, 19]\n",
      "196 [0, 1, 2, 3, 4, 5, 6, 7, 8, 9, 10, 11, 12, 13, 14, 15, 16, 17, 18, 19]\n",
      "427 [0, 1, 2, 3, 4, 5, 6, 7, 8, 9, 10, 11, 12, 13, 14, 15, 16, 17, 18, 19]\n",
      "683 [0, 1, 2, 3, 4, 5, 6, 7, 8, 9, 10, 11, 12, 13, 14, 15, 16, 17, 18, 19]\n",
      "565 [0, 1, 2, 3, 4, 5, 6, 7, 8, 9, 10, 11, 12, 13, 14, 15, 16, 17, 18, 19]\n",
      "362 [0, 1, 2, 3, 4, 5, 6, 7, 8, 9, 10, 11, 12, 13, 14, 15, 16, 17, 18, 19]\n",
      "670 [0, 1, 2, 3, 4, 5, 6, 7, 8, 9, 10, 11, 12, 13, 14, 15, 16, 17, 18, 19]\n",
      "673 [0, 1, 2, 3, 4, 5, 6, 7, 8, 9, 10, 11, 12, 13, 14, 15, 16, 17, 18, 19]\n",
      "339 [0, 1, 2, 3, 4, 5, 6, 7, 8, 9, 10, 11, 12, 13, 14, 15, 16, 17, 18, 19]\n",
      "275 [0, 1, 2, 3, 4, 5, 6, 7, 8, 9, 10, 11, 12, 13, 14, 15, 16, 17, 18, 19]\n",
      "592 [0, 1, 2, 3, 4, 5, 6, 7, 8, 9, 10, 11, 12, 13, 14, 15, 16, 17, 18, 19]\n",
      "677 [0, 1, 2, 3, 4, 5, 6, 7, 8, 9, 10, 11, 12, 13, 14, 15, 16, 17, 18, 19]\n",
      "712 [0, 1, 2, 3, 4, 5, 6, 7, 8, 9, 10, 11, 12, 13, 14, 15, 16, 17, 18, 19]\n",
      "120 [0, 1, 2, 3, 4, 5, 6, 7, 8, 9, 10, 11, 12, 13, 14, 15, 16, 17, 18, 19]\n",
      "394 [0, 1, 2, 3, 4, 5, 6, 7, 8, 9, 10, 11, 12, 13, 14, 15, 16, 17, 18, 19]\n",
      "402 [0, 1, 2, 3, 4, 5, 6, 7, 8, 9, 10, 11, 12, 13, 14, 15, 16, 17, 18, 19]\n",
      "682 [0, 1, 2, 3, 4, 5, 6, 7, 8, 9, 10, 11, 12, 13, 14, 15, 16, 17, 18, 19]\n",
      "685 [0, 1, 2, 3, 4, 5, 6, 7, 8, 9, 10, 11, 12, 13, 14, 15, 16, 17, 18, 19]\n",
      "627 [0, 1, 2, 3, 4, 5, 6, 7, 8, 9, 10, 11, 12, 13, 14, 15, 16, 17, 18, 19]\n",
      "263 [0, 1, 2, 3, 4, 5, 6, 7, 8, 9, 10, 11, 12, 13, 14, 15, 16, 17, 18, 19]\n",
      "802 [0, 1, 2, 3, 4, 5, 6, 7, 8, 9, 10, 11, 12, 13, 14, 15, 16, 17, 18, 19]\n",
      "549 [0, 1, 2, 3, 4, 5, 6, 7, 8, 9, 10, 11, 12, 13, 14, 15, 16, 17, 18, 19]\n",
      "77 [0, 1, 2, 3, 4, 5, 6, 7, 8, 9, 10, 11, 12, 13, 14, 15, 16, 17, 18, 19]\n",
      "257 [0, 1, 2, 3, 4, 5, 6, 7, 8, 9, 10, 11, 12, 13, 14, 15, 16, 17, 18, 19]\n",
      "566 [0, 1, 2, 3, 4, 5, 6, 7, 8, 9, 10, 11, 12, 13, 14, 15, 16, 17, 18, 19]\n",
      "693 [0, 1, 2, 3, 4, 5, 6, 7, 8, 9, 10, 11, 12, 13, 14, 15, 16, 17, 18, 19]\n",
      "209 [0, 1, 2, 3, 4, 5, 6, 7, 8, 9, 10, 11, 12, 13, 14, 15, 16, 17, 18, 19]\n",
      "723 [0, 1, 2, 3, 4, 5, 6, 7, 8, 9, 10, 11, 12, 13, 14, 15, 16, 17, 18, 19]\n",
      "644 [0, 1, 2, 3, 4, 5, 6, 7, 8, 9, 10, 11, 12, 13, 14, 15, 16, 17, 18, 19]\n",
      "184 [0, 1, 2, 3, 4, 5, 6, 7, 8, 9, 10, 11, 12, 13, 14, 15, 16, 17, 18, 19]\n",
      "694 [0, 1, 2, 3, 4, 5, 6, 7, 8, 9, 10, 11, 12, 13, 14, 15, 16, 17, 18, 19]\n",
      "492 [0, 1, 2, 3, 4, 5, 6, 7, 8, 9, 10, 11, 12, 13, 14, 15, 16, 17, 18, 19]\n",
      "187 [0, 1, 2, 3, 4, 5, 6, 7, 8, 9, 10, 11, 12, 13, 14, 15, 16, 17, 18, 19]\n",
      "230 [0, 1, 2, 3, 4, 5, 6, 7, 8, 9, 10, 11, 12, 13, 14, 15, 16, 17, 18, 19]\n",
      "372 [0, 1, 2, 3, 4, 5, 6, 7, 8, 9, 10, 11, 12, 13, 14, 15, 16, 17, 18, 19]\n",
      "23 [0, 1, 2, 3, 4, 5, 6, 7, 8, 9, 10, 11, 12, 13, 14, 15, 16, 17, 18, 19]\n",
      "774 [0, 1, 2, 3, 4, 5, 6, 7, 8, 9, 10, 11, 12, 13, 14, 15, 16, 17, 18, 19]\n",
      "344 [0, 1, 2, 3, 4, 5, 6, 7, 8, 9, 10, 11, 12, 13, 14, 15, 16, 17, 18, 19]\n",
      "564 [0, 1, 2, 3, 4, 5, 6, 7, 8, 9, 10, 11, 12, 13, 14, 15, 16, 17, 18, 19]\n",
      "290 [0, 1, 2, 3, 4, 5, 6, 7, 8, 9, 10, 11, 12, 13, 14, 15, 16, 17, 18, 19]\n",
      "300 [0, 1, 2, 3, 4, 5, 6, 7, 8, 9, 10, 11, 12, 13, 14, 15, 16, 17, 18, 19]\n",
      "550 [0, 1, 2, 3, 4, 5, 6, 7, 8, 9, 10, 11, 12, 13, 14, 15, 16, 17, 18, 19]\n",
      "526 [0, 1, 2, 3, 4, 5, 6, 7, 8, 9, 10, 11, 12, 13, 14, 15, 16, 17, 18, 19]\n",
      "538 [0, 1, 2, 3, 4, 5, 6, 7, 8, 9, 10, 11, 12, 13, 14, 15, 16, 17, 18, 19]\n",
      "385 [0, 1, 2, 3, 4, 5, 6, 7, 8, 9, 10, 11, 12, 13, 14, 15, 16, 17, 18, 19]\n",
      "432 [0, 1, 2, 3, 4, 5, 6, 7, 8, 9, 10, 11, 12, 13, 14, 15, 16, 17, 18, 19]\n",
      "231 [0, 1, 2, 3, 4, 5, 6, 7, 8, 9, 10, 11, 12, 13, 14, 15, 16, 17, 18, 19]\n",
      "189 [0, 1, 2, 3, 4, 5, 6, 7, 8, 9, 10, 11, 12, 13, 14, 15, 16, 17, 18, 19]\n",
      "705 [0, 1, 2, 3, 4, 5, 6, 7, 8, 9, 10, 11, 12, 13, 14, 15, 16, 17, 18, 19]\n",
      "669 [0, 1, 2, 3, 4, 5, 6, 7, 8, 9, 10, 11, 12, 13, 14, 15, 16, 17, 18, 19]\n",
      "58 [0, 1, 2, 3, 4, 5, 6, 7, 8, 9, 10, 11, 12, 13, 14, 15, 16, 17, 18, 19]\n",
      "306 [0, 1, 2, 3, 4, 5, 6, 7, 8, 9, 10, 11, 12, 13, 14, 15, 16, 17, 18, 19]\n",
      "269 [0, 1, 2, 3, 4, 5, 6, 7, 8, 9, 10, 11, 12, 13, 14, 15, 16, 17, 18, 19]\n",
      "714 [0, 1, 2, 3, 4, 5, 6, 7, 8, 9, 10, 11, 12, 13, 14, 15, 16, 17, 18, 19]\n",
      "717 [0, 1, 2, 3, 4, 5, 6, 7, 8, 9, 10, 11, 12, 13, 14, 15, 16, 17, 18, 19]\n",
      "720 [0, 1, 2, 3, 4, 5, 6, 7, 8, 9, 10, 11, 12, 13, 14, 15, 16, 17, 18, 19]\n",
      "100 [0, 1, 2, 3, 4, 5, 6, 7, 8, 9, 10, 11, 12, 13, 14, 15, 16, 17, 18, 19]\n",
      "542 [0, 1, 2, 3, 4, 5, 6, 7, 8, 9, 10, 11, 12, 13, 14, 15, 16, 17, 18, 19]\n",
      "65 [0, 1, 2, 3, 4, 5, 6, 7, 8, 9, 10, 11, 12, 13, 14, 15, 16, 17, 18, 19]\n",
      "726 [0, 1, 2, 3, 4, 5, 6, 7, 8, 9, 10, 11, 12, 13, 14, 15, 16, 17, 18, 19]\n",
      "374 [0, 1, 2, 3, 4, 5, 6, 7, 8, 9, 10, 11, 12, 13, 14, 15, 16, 17, 18, 19]\n",
      "403 [0, 1, 2, 3, 4, 5, 6, 7, 8, 9, 10, 11, 12, 13, 14, 15, 16, 17, 18, 19]\n",
      "513 [0, 1, 2, 3, 4, 5, 6, 7, 8, 9, 10, 11, 12, 13, 14, 15, 16, 17, 18, 19]\n",
      "652 [0, 1, 2, 3, 4, 5, 6, 7, 8, 9, 10, 11, 12, 13, 14, 15, 16, 17, 18, 19]\n",
      "589 [0, 1, 2, 3, 4, 5, 6, 7, 8, 9, 10, 11, 12, 13, 14, 15, 16, 17, 18, 19]\n",
      "739 [0, 1, 2, 3, 4, 5, 6, 7, 8, 9, 10, 11, 12, 13, 14, 15, 16, 17, 18, 19]\n",
      "203 [0, 1, 2, 3, 4, 5, 6, 7, 8, 9, 10, 11, 12, 13, 14, 15, 16, 17, 18, 19]\n",
      "741 [0, 1, 2, 3, 4, 5, 6, 7, 8, 9, 10, 11, 12, 13, 14, 15, 16, 17, 18, 19]\n",
      "728 [0, 1, 2, 3, 4, 5, 6, 7, 8, 9, 10, 11, 12, 13, 14, 15, 16, 17, 18, 19]\n",
      "380 [0, 1, 2, 3, 4, 5, 6, 7, 8, 9, 10, 11, 12, 13, 14, 15, 16, 17, 18, 19]\n",
      "253 [0, 1, 2, 3, 4, 5, 6, 7, 8, 9, 10, 11, 12, 13, 14, 15, 16, 17, 18, 19]\n",
      "751 [0, 1, 2, 3, 4, 5, 6, 7, 8, 9, 10, 11, 12, 13, 14, 15, 16, 17, 18, 19]\n",
      "493 [0, 1, 2, 3, 4, 5, 6, 7, 8, 9, 10, 11, 12, 13, 14, 15, 16, 17, 18, 19]\n",
      "111 [0, 1, 2, 3, 4, 5, 6, 7, 8, 9, 10, 11, 12, 13, 14, 15, 16, 17, 18, 19]\n",
      "51 [0, 1, 2, 3, 4, 5, 6, 7, 8, 9, 10, 11, 12, 13, 14, 15, 16, 17, 18, 19]\n",
      "351 [0, 1, 2, 3, 4, 5, 6, 7, 8, 9, 10, 11, 12, 13, 14, 15, 16, 17, 18, 19]\n",
      "732 [0, 1, 2, 3, 4, 5, 6, 7, 8, 9, 10, 11, 12, 13, 14, 15, 16, 17, 18, 19]\n",
      "580 [0, 1, 2, 3, 4, 5, 6, 7, 8, 9, 10, 11, 12, 13, 14, 15, 16, 17, 18, 19]\n",
      "282 [0, 1, 2, 3, 4, 5, 6, 7, 8, 9, 10, 11, 12, 13, 14, 15, 16, 17, 18, 19]\n",
      "768 [0, 1, 2, 3, 4, 5, 6, 7, 8, 9, 10, 11, 12, 13, 14, 15, 16, 17, 18, 19]\n",
      "600 [0, 1, 2, 3, 4, 5, 6, 7, 8, 9, 10, 11, 12, 13, 14, 15, 16, 17, 18, 19]\n",
      "711 [0, 1, 2, 3, 4, 5, 6, 7, 8, 9, 10, 11, 12, 13, 14, 15, 16, 17, 18, 19]\n",
      "668 [0, 1, 2, 3, 4, 5, 6, 7, 8, 9, 10, 11, 12, 13, 14, 15, 16, 17, 18, 19]\n",
      "636 [0, 1, 2, 3, 4, 5, 6, 7, 8, 9, 10, 11, 12, 13, 14, 15, 16, 17, 18, 19]\n",
      "743 [0, 1, 2, 3, 4, 5, 6, 7, 8, 9, 10, 11, 12, 13, 14, 15, 16, 17, 18, 19]\n",
      "744 [0, 1, 2, 3, 4, 5, 6, 7, 8, 9, 10, 11, 12, 13, 14, 15, 16, 17, 18, 19]\n",
      "747 [0, 1, 2, 3, 4, 5, 6, 7, 8, 9, 10, 11, 12, 13, 14, 15, 16, 17, 18, 19]\n",
      "755 [0, 1, 2, 3, 4, 5, 6, 7, 8, 9, 10, 11, 12, 13, 14, 15, 16, 17, 18, 19]\n",
      "750 [0, 1, 2, 3, 4, 5, 6, 7, 8, 9, 10, 11, 12, 13, 14, 15, 16, 17, 18, 19]\n",
      "295 [0, 1, 2, 3, 4, 5, 6, 7, 8, 9, 10, 11, 12, 13, 14, 15, 16, 17, 18, 19]\n",
      "101 [0, 1, 2, 3, 4, 5, 6, 7, 8, 9, 10, 11, 12, 13, 14, 15, 16, 17, 18, 19]\n",
      "422 [0, 1, 2, 3, 4, 5, 6, 7, 8, 9, 10, 11, 12, 13, 14, 15, 16, 17, 18, 19]\n",
      "352 [0, 1, 2, 3, 4, 5, 6, 7, 8, 9, 10, 11, 12, 13, 14, 15, 16, 17, 18, 19]\n",
      "816 [0, 1, 2, 3, 4, 5, 6, 7, 8, 9, 10, 11, 12, 13, 14, 15, 16, 17, 18, 19]\n",
      "329 [0, 1, 2, 3, 4, 5, 6, 7, 8, 9, 10, 11, 12, 13, 14, 15, 16, 17, 18, 19]\n",
      "407 [0, 1, 2, 3, 4, 5, 6, 7, 8, 9, 10, 11, 12, 13, 14, 15, 16, 17, 18, 19]\n",
      "137 [0, 1, 2, 3, 4, 5, 6, 7, 8, 9, 10, 11, 12, 13, 14, 15, 16, 17, 18, 19]\n",
      "423 [0, 1, 2, 3, 4, 5, 6, 7, 8, 9, 10, 11, 12, 13, 14, 15, 16, 17, 18, 19]\n",
      "619 [0, 1, 2, 3, 4, 5, 6, 7, 8, 9, 10, 11, 12, 13, 14, 15, 16, 17, 18, 19]\n",
      "153 [0, 1, 2, 3, 4, 5, 6, 7, 8, 9, 10, 11, 12, 13, 14, 15, 16, 17, 18, 19]\n",
      "759 [0, 1, 2, 3, 4, 5, 6, 7, 8, 9, 10, 11, 12, 13, 14, 15, 16, 17, 18, 19]\n",
      "822 [0, 1, 2, 3, 4, 5, 6, 7, 8, 9, 10, 11, 12, 13, 14, 15, 16, 17, 18, 19]\n",
      "54 [0, 1, 2, 3, 4, 5, 6, 7, 8, 9, 10, 11, 12, 13, 14, 15, 16, 17, 18, 19]\n",
      "31 [0, 1, 2, 3, 4, 5, 6, 7, 8, 9, 10, 11, 12, 13, 14, 15, 16, 17, 18, 19]\n",
      "763 [0, 1, 2, 3, 4, 5, 6, 7, 8, 9, 10, 11, 12, 13, 14, 15, 16, 17, 18, 19]\n",
      "418 [0, 1, 2, 3, 4, 5, 6, 7, 8, 9, 10, 11, 12, 13, 14, 15, 16, 17, 18, 19]\n",
      "361 [0, 1, 2, 3, 4, 5, 6, 7, 8, 9, 10, 11, 12, 13, 14, 15, 16, 17, 18, 19]\n",
      "666 [0, 1, 2, 3, 4, 5, 6, 7, 8, 9, 10, 11, 12, 13, 14, 15, 16, 17, 18, 19]\n",
      "675 [0, 1, 2, 3, 4, 5, 6, 7, 8, 9, 10, 11, 12, 13, 14, 15, 16, 17, 18, 19]\n",
      "725 [0, 1, 2, 3, 4, 5, 6, 7, 8, 9, 10, 11, 12, 13, 14, 15, 16, 17, 18, 19]\n",
      "452 [0, 1, 2, 3, 4, 5, 6, 7, 8, 9, 10, 11, 12, 13, 14, 15, 16, 17, 18, 19]\n",
      "130 [0, 1, 2, 3, 4, 5, 6, 7, 8, 9, 10, 11, 12, 13, 14, 15, 16, 17, 18, 19]\n",
      "102 [0, 1, 2, 3, 4, 5, 6, 7, 8, 9, 10, 11, 12, 13, 14, 15, 16, 17, 18, 19]\n",
      "745 [0, 1, 2, 3, 4, 5, 6, 7, 8, 9, 10, 11, 12, 13, 14, 15, 16, 17, 18, 19]\n",
      "778 [0, 1, 2, 3, 4, 5, 6, 7, 8, 9, 10, 11, 12, 13, 14, 15, 16, 17, 18, 19]\n",
      "124 [0, 1, 2, 3, 4, 5, 6, 7, 8, 9, 10, 11, 12, 13, 14, 15, 16, 17, 18, 19]\n",
      "757 [0, 1, 2, 3, 4, 5, 6, 7, 8, 9, 10, 11, 12, 13, 14, 15, 16, 17, 18, 19]\n",
      "363 [0, 1, 2, 3, 4, 5, 6, 7, 8, 9, 10, 11, 12, 13, 14, 15, 16, 17, 18, 19]\n",
      "244 [0, 1, 2, 3, 4, 5, 6, 7, 8, 9, 10, 11, 12, 13, 14, 15, 16, 17, 18, 19]\n",
      "433 [0, 1, 2, 3, 4, 5, 6, 7, 8, 9, 10, 11, 12, 13, 14, 15, 16, 17, 18, 19]\n",
      "551 [0, 1, 2, 3, 4, 5, 6, 7, 8, 9, 10, 11, 12, 13, 14, 15, 16, 17, 18, 19]\n",
      "785 [0, 1, 2, 3, 4, 5, 6, 7, 8, 9, 10, 11, 12, 13, 14, 15, 16, 17, 18, 19]\n",
      "8 [0, 1, 2, 3, 4, 5, 6, 7, 8, 9, 10, 11, 12, 13, 14, 15, 16, 17, 18, 19]\n",
      "787 [0, 1, 2, 3, 4, 5, 6, 7, 8, 9, 10, 11, 12, 13, 14, 15, 16, 17, 18, 19]\n",
      "46 [0, 1, 2, 3, 4, 5, 6, 7, 8, 9, 10, 11, 12, 13, 14, 15, 16, 17, 18, 19]\n",
      "563 [0, 1, 2, 3, 4, 5, 6, 7, 8, 9, 10, 11, 12, 13, 14, 15, 16, 17, 18, 19]\n",
      "789 [0, 1, 2, 3, 4, 5, 6, 7, 8, 9, 10, 11, 12, 13, 14, 15, 16, 17, 18, 19]\n",
      "220 [0, 1, 2, 3, 4, 5, 6, 7, 8, 9, 10, 11, 12, 13, 14, 15, 16, 17, 18, 19]\n",
      "376 [0, 1, 2, 3, 4, 5, 6, 7, 8, 9, 10, 11, 12, 13, 14, 15, 16, 17, 18, 19]\n",
      "277 [0, 1, 2, 3, 4, 5, 6, 7, 8, 9, 10, 11, 12, 13, 14, 15, 16, 17, 18, 19]\n",
      "813 [0, 1, 2, 3, 4, 5, 6, 7, 8, 9, 10, 11, 12, 13, 14, 15, 16, 17, 18, 19]\n",
      "794 [0, 1, 2, 3, 4, 5, 6, 7, 8, 9, 10, 11, 12, 13, 14, 15, 16, 17, 18, 19]\n",
      "266 [0, 1, 2, 3, 4, 5, 6, 7, 8, 9, 10, 11, 12, 13, 14, 15, 16, 17, 18, 19]\n",
      "601 [0, 1, 2, 3, 4, 5, 6, 7, 8, 9, 10, 11, 12, 13, 14, 15, 16, 17, 18, 19]\n",
      "499 [0, 1, 2, 3, 4, 5, 6, 7, 8, 9, 10, 11, 12, 13, 14, 15, 16, 17, 18, 19]\n",
      "800 [0, 1, 2, 3, 4, 5, 6, 7, 8, 9, 10, 11, 12, 13, 14, 15, 16, 17, 18, 19]\n",
      "288 [0, 1, 2, 3, 4, 5, 6, 7, 8, 9, 10, 11, 12, 13, 14, 15, 16, 17, 18, 19]\n",
      "684 [0, 1, 2, 3, 4, 5, 6, 7, 8, 9, 10, 11, 12, 13, 14, 15, 16, 17, 18, 19]\n",
      "406 [0, 1, 2, 3, 4, 5, 6, 7, 8, 9, 10, 11, 12, 13, 14, 15, 16, 17, 18, 19]\n",
      "301 [0, 1, 2, 3, 4, 5, 6, 7, 8, 9, 10, 11, 12, 13, 14, 15, 16, 17, 18, 19]\n",
      "541 [0, 1, 2, 3, 4, 5, 6, 7, 8, 9, 10, 11, 12, 13, 14, 15, 16, 17, 18, 19]\n",
      "371 [0, 1, 2, 3, 4, 5, 6, 7, 8, 9, 10, 11, 12, 13, 14, 15, 16, 17, 18, 19]\n",
      "608 [0, 1, 2, 3, 4, 5, 6, 7, 8, 9, 10, 11, 12, 13, 14, 15, 16, 17, 18, 19]\n",
      "610 [0, 1, 2, 3, 4, 5, 6, 7, 8, 9, 10, 11, 12, 13, 14, 15, 16, 17, 18, 19]\n",
      "410 [0, 1, 2, 3, 4, 5, 6, 7, 8, 9, 10, 11, 12, 13, 14, 15, 16, 17, 18, 19]\n",
      "7 [0, 1, 2, 3, 4, 5, 6, 7, 8, 9, 10, 11, 12, 13, 14, 15, 16, 17, 18, 19]\n",
      "641 [0, 1, 2, 3, 4, 5, 6, 7, 8, 9, 10, 11, 12, 13, 14, 15, 16, 17, 18, 19]\n",
      "225 [0, 1, 2, 3, 4, 5, 6, 7, 8, 9, 10, 11, 12, 13, 14, 15, 16, 17, 18, 19]\n",
      "198 [0, 1, 2, 3, 4, 5, 6, 7, 8, 9, 10, 11, 12, 13, 14, 15, 16, 17, 18, 19]\n",
      "141 [0, 1, 2, 3, 4, 5, 6, 7, 8, 9, 10, 11, 12, 13, 14, 15, 16, 17, 18, 19]\n",
      "303 [0, 1, 2, 3, 4, 5, 6, 7, 8, 9, 10, 11, 12, 13, 14, 15, 16, 17, 18, 19]\n",
      "697 [0, 1, 2, 3, 4, 5, 6, 7, 8, 9, 10, 11, 12, 13, 14, 15, 16, 17, 18, 19]\n",
      "446 [0, 1, 2, 3, 4, 5, 6, 7, 8, 9, 10, 11, 12, 13, 14, 15, 16, 17, 18, 19]\n",
      "424 [0, 1, 2, 3, 4, 5, 6, 7, 8, 9, 10, 11, 12, 13, 14, 15, 16, 17, 18, 19]\n",
      "369 [0, 1, 2, 3, 4, 5, 6, 7, 8, 9, 10, 11, 12, 13, 14, 15, 16, 17, 18, 19]\n",
      "139 [0, 1, 2, 3, 4, 5, 6, 7, 8, 9, 10, 11, 12, 13, 14, 15, 16, 17, 18, 19]\n",
      "178 [0, 1, 2, 3, 4, 5, 6, 7, 8, 9, 10, 11, 12, 13, 14, 15, 16, 17, 18, 19]\n",
      "104 [0, 1, 2, 3, 4, 5, 6, 7, 8, 9, 10, 11, 12, 13, 14, 15, 16, 17, 18, 19]\n",
      "490 [0, 1, 2, 3, 4, 5, 6, 7, 8, 9, 10, 11, 12, 13, 14, 15, 16, 17, 18, 19]\n",
      "820 [0, 1, 2, 3, 4, 5, 6, 7, 8, 9, 10, 11, 12, 13, 14, 15, 16, 17, 18, 19]\n",
      "17 [0, 1, 2, 3, 4, 5, 6, 7, 8, 9, 10, 11, 12, 13, 14, 15, 16, 17, 18, 19]\n",
      "194 [0, 1, 2, 3, 4, 5, 6, 7, 8, 9, 10, 11, 12, 13, 14, 15, 16, 17, 18, 19]\n",
      "607 [0, 1, 2, 3, 4, 5, 6, 7, 8, 9, 10, 11, 12, 13, 14, 15, 16, 17, 18, 19]\n",
      "442 [0, 1, 2, 3, 4, 5, 6, 7, 8, 9, 10, 11, 12, 13, 14, 15, 16, 17, 18, 19]\n"
     ]
    }
   ],
   "source": [
    "top_n = get_top_n(KNNBasic_pearson_predictions, n=20)\n",
    "\n",
    "# Print the recommended items for each user\n",
    "for uid, user_ratings in top_n.items():\n",
    "    print(uid, [iid for (iid, _) in user_ratings])"
   ]
  },
  {
   "cell_type": "code",
   "execution_count": 108,
   "metadata": {
    "_uuid": "3d9ef31deeffd4f66fa14f1e0e1a2a535cb6b443"
   },
   "outputs": [
    {
     "name": "stdout",
     "output_type": "stream",
     "text": [
      "707 [275, 315, 869, 552, 697, 457, 319, 263, 449, 67, 736, 887, 832, 334, 674, 807, 478, 707, 145, 758]\n",
      "598 [697, 376, 275, 457, 688, 260, 319, 728, 263, 467, 154, 888, 107, 449, 525, 832, 630, 369, 600, 672]\n",
      "98 [736, 697, 832, 334, 315, 434, 275, 611, 457, 552, 244, 255, 320, 888, 728, 721, 160, 67, 869, 873]\n",
      "487 [697, 135, 888, 158, 975, 328, 637, 822, 275, 873, 139, 67, 107, 869, 100, 825, 319, 264, 549, 457]\n",
      "434 [67, 315, 244, 334, 319, 102, 275, 525, 457, 449, 736, 145, 395, 279, 899, 234, 888, 160, 310, 263]\n",
      "97 [275, 139, 457, 832, 263, 697, 260, 736, 334, 160, 688, 478, 157, 431, 67, 953, 728, 754, 100, 140]\n",
      "207 [334, 288, 873, 196, 238, 688, 457, 697, 167, 736, 376, 807, 130, 83, 260, 888, 767, 328, 255, 263]\n",
      "5 [697, 869, 431, 599, 260, 457, 315, 280, 107, 674, 580, 879, 275, 449, 256, 661, 785, 102, 19, 736]\n",
      "16 [275, 697, 832, 319, 315, 83, 260, 552, 928, 457, 246, 754, 263, 814, 130, 449, 157, 67, 288, 100]\n",
      "199 [697, 315, 832, 736, 102, 288, 275, 457, 661, 319, 728, 67, 928, 145, 449, 334, 244, 137, 1, 100]\n",
      "637 [315, 107, 697, 869, 145, 275, 102, 319, 916, 736, 396, 407, 160, 381, 754, 832, 395, 365, 552, 973]\n",
      "701 [697, 887, 315, 832, 260, 525, 457, 449, 102, 674, 319, 263, 67, 819, 814, 869, 823, 407, 376, 763]\n",
      "297 [83, 275, 319, 457, 478, 970, 697, 758, 688, 449, 736, 334, 260, 139, 160, 953, 846, 197, 601, 278]\n",
      "798 [832, 315, 697, 275, 736, 449, 819, 814, 434, 107, 928, 139, 645, 707, 158, 773, 887, 548, 421, 869]\n",
      "381 [697, 319, 947, 315, 869, 328, 767, 275, 263, 97, 916, 548, 832, 736, 431, 199, 260, 787, 17, 952]\n",
      "350 [457, 19, 201, 319, 697, 130, 789, 730, 325, 291, 873, 478, 736, 67, 107, 102, 284, 688, 426, 315]\n",
      "321 [697, 145, 323, 275, 730, 599, 107, 315, 263, 888, 158, 928, 767, 260, 736, 102, 721, 472, 65, 832]\n",
      "738 [275, 315, 107, 83, 832, 319, 754, 736, 342, 697, 953, 916, 334, 343, 260, 698, 468, 154, 961, 263]\n",
      "299 [736, 319, 478, 102, 964, 832, 457, 688, 290, 958, 869, 551, 411, 137, 67, 288, 807, 887, 315, 46]\n",
      "201 [275, 315, 107, 334, 832, 139, 431, 102, 869, 260, 707, 758, 323, 570, 342, 457, 953, 209, 754, 343]\n",
      "274 [275, 67, 728, 319, 697, 720, 457, 72, 160, 551, 927, 377, 212, 328, 145, 260, 139, 107, 157, 908]\n",
      "455 [263, 457, 736, 100, 697, 83, 275, 688, 449, 491, 616, 139, 869, 887, 145, 832, 48, 225, 67, 880]\n",
      "702 [697, 275, 315, 102, 449, 832, 212, 377, 260, 736, 457, 614, 67, 407, 263, 328, 107, 814, 873, 381]\n",
      "460 [275, 102, 697, 832, 720, 67, 746, 212, 107, 145, 167, 799, 888, 19, 733, 319, 953, 323, 201, 246]\n",
      "188 [315, 697, 888, 457, 319, 275, 263, 869, 334, 927, 534, 19, 107, 31, 736, 478, 139, 154, 434, 260]\n",
      "18 [697, 275, 260, 319, 457, 67, 645, 334, 873, 688, 957, 157, 187, 819, 265, 519, 866, 427, 50, 145]\n",
      "147 [83, 457, 275, 100, 513, 332, 67, 603, 832, 145, 888, 891, 728, 319, 840, 893, 746, 58, 11, 400]\n",
      "387 [832, 275, 263, 736, 697, 869, 102, 768, 668, 278, 315, 244, 130, 127, 157, 754, 187, 688, 428, 888]\n",
      "621 [319, 457, 315, 449, 415, 100, 707, 263, 334, 246, 688, 832, 888, 632, 869, 964, 754, 89, 160, 323]\n",
      "532 [260, 697, 334, 457, 310, 873, 916, 868, 97, 101, 819, 736, 427, 145, 87, 112, 460, 157, 552, 67]\n",
      "24 [275, 697, 67, 263, 260, 457, 832, 449, 100, 143, 467, 315, 736, 442, 614, 542, 139, 491, 87, 746]\n",
      "22 [323, 887, 832, 334, 916, 377, 869, 434, 697, 255, 707, 896, 275, 792, 505, 893, 102, 682, 397, 218]\n",
      "457 [736, 275, 102, 263, 334, 697, 411, 928, 832, 879, 916, 83, 425, 887, 100, 146, 260, 570, 107, 415]\n",
      "818 [67, 888, 697, 102, 869, 688, 832, 953, 457, 431, 315, 328, 260, 46, 407, 917, 728, 478, 969, 319]\n",
      "25 [275, 736, 832, 334, 457, 255, 552, 697, 67, 929, 728, 319, 869, 328, 836, 103, 315, 767, 449, 281]\n",
      "154 [319, 552, 107, 315, 873, 736, 158, 154, 832, 697, 376, 263, 67, 201, 728, 745, 887, 430, 377, 928]\n",
      "817 [697, 887, 736, 275, 457, 728, 580, 83, 323, 89, 315, 958, 928, 844, 154, 939, 67, 929, 639, 927]\n",
      "150 [697, 869, 457, 953, 127, 260, 449, 315, 754, 275, 319, 365, 927, 674, 100, 736, 832, 102, 594, 247]\n",
      "67 [315, 832, 457, 145, 67, 736, 334, 328, 441, 83, 697, 56, 376, 591, 187, 869, 263, 891, 611, 721]\n",
      "672 [319, 832, 275, 315, 449, 928, 83, 442, 457, 819, 139, 263, 697, 736, 102, 552, 526, 746, 144, 145]\n",
      "214 [315, 736, 697, 160, 275, 244, 245, 869, 83, 361, 887, 449, 434, 263, 428, 728, 759, 811, 552, 888]\n",
      "520 [697, 814, 102, 457, 728, 100, 275, 832, 958, 67, 65, 893, 552, 449, 35, 157, 143, 319, 334, 53]\n",
      "448 [334, 315, 736, 525, 260, 819, 328, 457, 434, 180, 102, 83, 8, 263, 707, 728, 688, 107, 67, 661]\n",
      "782 [457, 787, 315, 884, 832, 736, 139, 928, 102, 799, 697, 79, 461, 449, 246, 738, 323, 690, 552, 136]\n",
      "33 [832, 457, 102, 315, 697, 145, 449, 754, 319, 814, 171, 178, 87, 732, 688, 836, 137, 260, 888, 107]\n",
      "133 [736, 697, 67, 889, 457, 888, 100, 832, 958, 275, 234, 315, 964, 319, 449, 334, 525, 688, 328, 293]\n",
      "37 [102, 697, 260, 158, 848, 289, 814, 252, 235, 736, 926, 367, 11, 586, 773, 869, 630, 122, 748, 888]\n",
      "39 [275, 832, 323, 145, 728, 736, 319, 100, 83, 392, 139, 457, 102, 680, 616, 67, 158, 87, 611, 502]\n",
      "491 [832, 688, 275, 319, 728, 315, 145, 102, 449, 833, 814, 754, 334, 278, 289, 497, 72, 345, 668, 849]\n",
      "654 [832, 275, 154, 552, 814, 87, 411, 323, 688, 710, 697, 958, 158, 543, 67, 195, 107, 102, 668, 502]\n",
      "617 [697, 376, 832, 107, 688, 736, 275, 315, 334, 870, 457, 819, 928, 19, 745, 645, 451, 888, 290, 661]\n",
      "40 [697, 145, 370, 457, 869, 955, 334, 160, 939, 832, 728, 760, 929, 746, 427, 158, 611, 107, 688, 754]\n",
      "123 [315, 688, 736, 67, 107, 914, 661, 879, 893, 891, 334, 376, 587, 275, 197, 143, 512, 505, 460, 513]\n",
      "258 [145, 67, 688, 457, 275, 736, 758, 37, 107, 79, 832, 525, 754, 879, 452, 411, 157, 100, 933, 928]\n",
      "639 [832, 315, 736, 697, 334, 145, 107, 707, 869, 319, 434, 328, 863, 887, 10, 102, 139, 728, 275, 324]\n",
      "219 [754, 19, 107, 688, 260, 334, 467, 102, 697, 613, 553, 491, 275, 978, 523, 315, 427, 431, 176, 278]\n",
      "74 [67, 139, 457, 107, 275, 83, 102, 319, 879, 928, 449, 160, 72, 118, 306, 260, 315, 334, 460, 154]\n",
      "679 [315, 275, 832, 893, 754, 928, 107, 85, 697, 434, 157, 102, 888, 736, 139, 319, 457, 100, 281, 334]\n",
      "50 [736, 201, 873, 102, 869, 836, 697, 376, 457, 83, 275, 916, 96, 456, 263, 334, 832, 937, 143, 821]\n",
      "481 [275, 319, 910, 832, 139, 263, 697, 334, 833, 666, 315, 873, 728, 478, 694, 278, 517, 879, 799, 130]\n",
      "727 [400, 80, 323, 888, 728, 102, 586, 840, 275, 893, 67, 145, 192, 334, 244, 392, 814, 100, 246, 736]\n",
      "760 [457, 697, 552, 260, 158, 154, 460, 275, 107, 807, 758, 319, 736, 958, 955, 728, 130, 334, 869, 507]\n",
      "52 [697, 260, 869, 457, 139, 167, 478, 315, 449, 130, 263, 102, 717, 509, 107, 275, 83, 893, 832, 749]\n",
      "206 [697, 736, 145, 319, 376, 504, 457, 310, 928, 754, 739, 836, 544, 478, 525, 449, 275, 315, 334, 83]\n",
      "659 [334, 107, 275, 697, 100, 736, 139, 869, 160, 364, 570, 67, 928, 836, 244, 457, 661, 551, 145, 895]\n",
      "56 [83, 376, 315, 832, 158, 763, 427, 72, 275, 334, 157, 457, 260, 130, 697, 319, 323, 67, 263, 139]\n",
      "29 [315, 83, 319, 697, 275, 736, 953, 754, 100, 767, 927, 457, 869, 158, 688, 674, 690, 495, 143, 695]\n",
      "438 [319, 102, 160, 104, 730, 457, 697, 139, 397, 260, 263, 275, 736, 758, 563, 569, 523, 334, 501, 201]\n",
      "687 [697, 275, 736, 916, 263, 158, 888, 278, 832, 866, 928, 315, 319, 965, 666, 869, 552, 320, 505, 160]\n",
      "560 [697, 869, 315, 928, 328, 67, 107, 556, 739, 275, 888, 586, 552, 832, 814, 457, 264, 407, 479, 937]\n",
      "60 [697, 275, 160, 736, 263, 334, 869, 832, 457, 569, 644, 140, 665, 107, 980, 451, 556, 340, 102, 319]\n",
      "539 [319, 457, 323, 552, 102, 67, 449, 334, 688, 697, 365, 107, 121, 328, 947, 645, 130, 832, 751, 280]\n",
      "63 [457, 427, 67, 832, 145, 869, 939, 736, 303, 97, 513, 315, 263, 319, 697, 888, 365, 467, 452, 212]\n",
      "144 [728, 789, 315, 397, 319, 334, 730, 107, 611, 736, 478, 552, 697, 102, 517, 817, 947, 955, 652, 767]\n",
      "66 [67, 263, 688, 449, 319, 457, 275, 697, 916, 597, 102, 323, 137, 704, 315, 888, 167, 139, 431, 127]\n",
      "55 [275, 315, 832, 263, 869, 961, 457, 513, 107, 235, 697, 36, 645, 888, 736, 260, 319, 690, 688, 567]\n",
      "90 [832, 697, 449, 66, 102, 736, 260, 928, 568, 167, 83, 552, 319, 275, 612, 130, 467, 728, 543, 840]\n",
      "262 [319, 832, 83, 275, 869, 195, 457, 697, 263, 449, 478, 721, 976, 666, 696, 334, 928, 552, 67, 343]\n",
      "142 [832, 457, 319, 836, 102, 275, 315, 246, 953, 24, 887, 525, 520, 452, 570, 869, 754, 958, 160, 100]\n",
      "158 [275, 315, 334, 319, 67, 697, 832, 736, 145, 728, 139, 102, 108, 278, 158, 513, 205, 56, 969, 431]\n",
      "27 [697, 67, 832, 201, 275, 606, 814, 377, 315, 553, 918, 260, 72, 370, 879, 746, 457, 181, 278, 928]\n",
      "568 [697, 869, 275, 334, 873, 457, 319, 513, 67, 315, 688, 832, 887, 888, 244, 291, 893, 909, 102, 478]\n",
      "364 [275, 260, 879, 668, 728, 482, 201, 449, 754, 645, 697, 103, 319, 478, 789, 688, 941, 736, 315, 674]\n",
      "593 [697, 275, 736, 832, 457, 334, 929, 315, 916, 145, 837, 449, 650, 928, 614, 799, 955, 869, 139, 862]\n",
      "629 [319, 457, 832, 260, 102, 334, 958, 697, 263, 139, 275, 478, 83, 736, 953, 67, 8, 265, 552, 323]\n",
      "121 [315, 832, 552, 457, 869, 697, 275, 102, 260, 754, 19, 334, 201, 750, 87, 37, 100, 123, 449, 929]\n",
      "68 [275, 145, 832, 868, 457, 323, 616, 501, 869, 67, 559, 127, 758, 260, 264, 427, 928, 697, 671, 449]\n",
      "72 [315, 107, 275, 832, 334, 319, 328, 145, 478, 869, 730, 888, 411, 457, 813, 928, 260, 728, 370, 697]\n",
      "284 [315, 275, 107, 832, 697, 457, 102, 569, 100, 67, 736, 265, 648, 772, 334, 552, 83, 879, 329, 39]\n",
      "799 [275, 832, 697, 928, 961, 449, 107, 167, 102, 315, 323, 319, 256, 431, 299, 260, 491, 103, 869, 887]\n",
      "320 [887, 832, 291, 334, 427, 688, 360, 697, 396, 736, 323, 83, 953, 349, 79, 728, 478, 328, 376, 457]\n",
      "82 [736, 275, 319, 632, 697, 348, 201, 552, 87, 728, 145, 440, 334, 868, 648, 107, 102, 457, 449, 310]\n",
      "83 [275, 697, 319, 457, 758, 570, 67, 690, 543, 736, 187, 102, 460, 478, 157, 959, 844, 692, 832, 289]\n",
      "586 [832, 688, 102, 263, 315, 754, 449, 697, 888, 260, 431, 195, 736, 137, 342, 457, 964, 334, 600, 883]\n",
      "73 [275, 320, 102, 758, 319, 449, 736, 832, 315, 457, 244, 278, 893, 754, 143, 67, 87, 868, 742, 0]\n",
      "722 [244, 736, 100, 319, 234, 67, 697, 513, 102, 457, 143, 688, 145, 467, 160, 443, 280, 601, 614, 167]\n",
      "497 [457, 83, 832, 315, 343, 392, 611, 107, 319, 67, 263, 167, 320, 675, 873, 246, 100, 697, 288, 714]\n",
      "570 [275, 315, 736, 160, 832, 697, 208, 334, 107, 953, 102, 916, 319, 323, 728, 720, 928, 278, 688, 83]\n",
      "272 [315, 613, 275, 263, 736, 870, 334, 976, 278, 320, 754, 641, 784, 76, 947, 690, 109, 965, 552, 404]\n",
      "765 [83, 697, 319, 736, 8, 16, 674, 525, 603, 552, 457, 668, 832, 673, 244, 754, 328, 376, 686, 688]\n",
      "468 [736, 275, 83, 319, 697, 315, 668, 773, 139, 383, 342, 513, 334, 754, 762, 195, 832, 201, 688, 260]\n",
      "328 [102, 736, 868, 260, 201, 139, 315, 399, 67, 832, 319, 476, 454, 953, 880, 278, 666, 939, 754, 929]\n",
      "61 [275, 832, 736, 315, 754, 697, 767, 244, 457, 130, 102, 449, 916, 442, 246, 836, 107, 720, 139, 323]\n",
      "227 [275, 323, 688, 187, 334, 832, 736, 758, 255, 320, 290, 263, 139, 838, 869, 167, 260, 873, 97, 427]\n",
      "358 [275, 697, 377, 832, 102, 928, 319, 83, 819, 67, 260, 457, 143, 167, 145, 328, 515, 449, 427, 478]\n",
      "226 [728, 697, 102, 334, 275, 847, 736, 139, 323, 513, 200, 145, 547, 869, 661, 819, 707, 365, 315, 754]\n",
      "125 [697, 457, 275, 736, 334, 552, 255, 41, 701, 357, 688, 728, 832, 961, 67, 121, 857, 893, 544, 107]\n",
      "128 [457, 697, 887, 275, 319, 832, 67, 789, 873, 100, 315, 260, 83, 130, 341, 478, 148, 334, 888, 730]\n",
      "401 [767, 457, 315, 319, 832, 697, 139, 323, 275, 449, 869, 334, 158, 74, 928, 666, 107, 819, 328, 770]\n",
      "674 [139, 102, 736, 275, 263, 167, 319, 700, 67, 83, 666, 457, 697, 449, 953, 688, 160, 832, 908, 278]\n",
      "761 [832, 697, 334, 736, 688, 83, 315, 869, 263, 457, 73, 102, 260, 799, 887, 199, 916, 100, 8, 55]\n",
      "30 [315, 102, 869, 278, 275, 832, 319, 736, 491, 139, 19, 928, 246, 932, 107, 263, 748, 158, 67, 728]\n",
      "575 [736, 107, 832, 167, 697, 275, 315, 928, 83, 707, 376, 72, 557, 881, 139, 540, 325, 434, 201, 767]\n",
      "591 [260, 83, 315, 916, 697, 832, 275, 107, 927, 157, 449, 868, 869, 328, 460, 736, 334, 299, 491, 754]\n",
      "521 [334, 736, 145, 139, 260, 157, 83, 746, 893, 457, 263, 102, 958, 832, 275, 100, 176, 315, 809, 697]\n",
      "821 [275, 334, 260, 139, 614, 107, 736, 263, 67, 916, 599, 102, 958, 879, 754, 323, 377, 256, 320, 145]\n",
      "13 [334, 697, 260, 275, 505, 832, 377, 869, 160, 814, 370, 721, 514, 728, 736, 145, 819, 328, 468, 415]\n",
      "645 [275, 754, 697, 107, 449, 767, 616, 130, 787, 146, 728, 315, 323, 260, 814, 334, 370, 927, 405, 736]\n",
      "327 [457, 260, 319, 819, 832, 67, 449, 145, 348, 551, 916, 334, 275, 836, 722, 328, 157, 758, 107, 713]\n",
      "89 [260, 697, 928, 102, 157, 100, 426, 145, 275, 859, 167, 457, 779, 756, 292, 130, 83, 50, 431, 289]\n",
      "708 [697, 275, 83, 107, 130, 736, 167, 928, 238, 746, 334, 688, 859, 139, 616, 457, 260, 385, 720, 145]\n",
      "108 [697, 736, 869, 275, 145, 720, 893, 102, 690, 543, 415, 278, 214, 868, 345, 668, 334, 208, 832, 728]\n",
      "612 [697, 275, 736, 688, 323, 767, 449, 457, 157, 357, 139, 50, 728, 888, 645, 844, 260, 451, 143, 102]\n",
      "113 [315, 275, 814, 961, 345, 832, 916, 928, 343, 383, 328, 840, 927, 876, 478, 736, 661, 83, 888, 690]\n",
      "764 [107, 275, 377, 319, 736, 570, 334, 387, 457, 887, 728, 767, 139, 19, 348, 260, 535, 263, 427, 179]\n",
      "116 [697, 83, 319, 102, 427, 953, 526, 235, 41, 619, 382, 334, 244, 771, 688, 431, 831, 100, 145, 457]\n",
      "770 [916, 315, 736, 697, 669, 83, 278, 334, 953, 879, 107, 260, 158, 873, 410, 810, 825, 889, 690, 143]\n",
      "28 [697, 255, 869, 319, 260, 767, 97, 887, 377, 457, 275, 888, 975, 349, 334, 730, 311, 264, 323, 100]\n",
      "461 [736, 107, 376, 525, 697, 103, 102, 334, 244, 364, 552, 888, 315, 275, 319, 779, 928, 909, 612, 569]\n",
      "254 [697, 869, 728, 736, 832, 145, 457, 235, 275, 102, 319, 244, 140, 807, 674, 370, 595, 263, 334, 525]\n",
      "241 [260, 697, 315, 334, 661, 928, 888, 102, 376, 869, 736, 832, 107, 19, 263, 167, 67, 728, 802, 478]\n",
      "233 [275, 697, 315, 832, 552, 814, 102, 840, 955, 530, 736, 334, 888, 457, 754, 246, 568, 191, 347, 928]\n",
      "138 [697, 315, 275, 832, 736, 102, 83, 928, 741, 449, 319, 263, 457, 87, 139, 323, 666, 67, 552, 143]\n",
      "204 [457, 260, 376, 263, 160, 697, 319, 832, 928, 139, 552, 50, 736, 67, 873, 341, 614, 427, 816, 534]\n",
      "594 [697, 832, 275, 262, 260, 754, 457, 315, 736, 802, 303, 370, 102, 357, 67, 334, 525, 444, 467, 145]\n",
      "609 [275, 697, 634, 832, 688, 444, 869, 319, 139, 102, 916, 736, 100, 334, 384, 501, 145, 107, 964, 620]\n",
      "355 [315, 275, 319, 260, 102, 832, 736, 888, 869, 256, 67, 160, 697, 570, 449, 824, 525, 645, 211, 928]\n",
      "695 [697, 100, 275, 67, 102, 457, 824, 260, 918, 125, 736, 319, 941, 449, 460, 189, 244, 145, 433, 639]\n",
      "117 [832, 334, 260, 916, 697, 315, 187, 873, 457, 160, 953, 83, 275, 341, 964, 157, 688, 728, 634, 8]\n",
      "76 [157, 263, 457, 260, 697, 707, 552, 873, 181, 5, 758, 183, 525, 271, 275, 315, 807, 253, 83, 102]\n",
      "165 [697, 916, 736, 100, 288, 275, 958, 832, 60, 879, 965, 160, 315, 83, 852, 107, 158, 167, 244, 16]\n",
      "780 [334, 736, 275, 697, 927, 869, 377, 328, 728, 764, 380, 468, 525, 245, 819, 260, 916, 147, 151, 289]\n",
      "827 [315, 97, 697, 832, 840, 8, 916, 166, 467, 397, 721, 100, 449, 382, 264, 199, 552, 415, 814, 873]\n",
      "819 [697, 688, 67, 319, 552, 457, 401, 315, 102, 201, 275, 601, 832, 143, 250, 925, 107, 246, 916, 83]\n",
      "47 [83, 263, 392, 457, 260, 697, 100, 67, 661, 525, 928, 832, 382, 888, 334, 275, 319, 232, 526, 958]\n",
      "447 [275, 102, 754, 536, 814, 736, 315, 832, 107, 893, 879, 145, 434, 697, 688, 130, 410, 449, 622, 493]\n",
      "649 [334, 275, 328, 107, 157, 697, 67, 449, 928, 819, 869, 728, 244, 832, 260, 525, 736, 315, 370, 280]\n",
      "197 [315, 736, 525, 102, 319, 953, 123, 697, 478, 932, 690, 888, 832, 328, 534, 802, 489, 530, 334, 127]\n",
      "202 [697, 275, 457, 260, 73, 263, 888, 449, 525, 746, 145, 767, 736, 67, 844, 650, 244, 103, 688, 758]\n",
      "19 [275, 728, 145, 697, 869, 449, 278, 381, 767, 370, 736, 929, 102, 622, 107, 101, 750, 513, 84, 807]\n",
      "719 [832, 736, 102, 130, 201, 688, 961, 434, 720, 382, 787, 457, 334, 275, 107, 315, 402, 89, 524, 542]\n",
      "96 [457, 832, 315, 275, 746, 67, 688, 819, 697, 334, 140, 160, 2, 260, 97, 869, 631, 263, 319, 139]\n",
      "595 [697, 102, 457, 928, 130, 958, 614, 495, 107, 67, 552, 758, 260, 736, 687, 275, 315, 449, 515, 666]\n",
      "735 [728, 263, 67, 275, 513, 736, 315, 953, 467, 893, 964, 323, 495, 139, 766, 888, 758, 697, 457, 532]\n",
      "478 [832, 102, 688, 457, 697, 449, 334, 294, 754, 865, 275, 344, 263, 107, 736, 543, 53, 444, 958, 502]\n",
      "517 [275, 334, 139, 263, 377, 457, 953, 728, 697, 160, 260, 773, 274, 614, 578, 388, 154, 137, 792, 323]\n",
      "148 [275, 315, 832, 102, 736, 319, 83, 100, 107, 130, 553, 570, 449, 491, 370, 139, 201, 348, 288, 457]\n",
      "70 [697, 552, 736, 315, 323, 725, 457, 869, 275, 728, 145, 334, 707, 669, 513, 449, 348, 102, 428, 16]\n",
      "611 [319, 832, 102, 457, 315, 323, 697, 334, 100, 478, 618, 166, 773, 16, 139, 275, 8, 728, 836, 736]\n",
      "631 [457, 102, 688, 758, 67, 661, 260, 370, 65, 315, 306, 288, 599, 319, 732, 697, 789, 964, 728, 130]\n",
      "496 [697, 457, 688, 160, 873, 275, 260, 645, 736, 668, 730, 570, 130, 728, 334, 674, 786, 392, 157, 199]\n",
      "698 [697, 525, 888, 100, 407, 107, 190, 275, 57, 102, 263, 246, 457, 260, 145, 916, 716, 440, 552, 310]\n",
      "172 [275, 457, 697, 102, 431, 869, 832, 746, 335, 688, 139, 140, 728, 319, 67, 736, 21, 888, 323, 444]\n",
      "250 [697, 832, 136, 377, 457, 107, 613, 773, 8, 19, 460, 524, 319, 397, 887, 743, 753, 707, 889, 415]\n",
      "85 [158, 319, 832, 891, 275, 341, 102, 688, 754, 244, 697, 728, 515, 411, 160, 836, 83, 958, 707, 315]\n",
      "430 [736, 100, 67, 83, 145, 478, 275, 102, 460, 457, 315, 328, 819, 260, 468, 319, 697, 334, 385, 449]\n",
      "613 [832, 736, 263, 315, 319, 160, 697, 139, 652, 666, 323, 668, 928, 187, 887, 720, 873, 876, 833, 916]\n",
      "81 [697, 323, 275, 736, 377, 869, 154, 728, 107, 334, 158, 720, 953, 809, 265, 688, 145, 457, 832, 434]\n",
      "332 [697, 275, 746, 457, 468, 315, 424, 888, 160, 609, 893, 916, 844, 523, 269, 552, 212, 545, 263, 539]\n",
      "626 [145, 668, 160, 323, 315, 697, 275, 916, 102, 728, 139, 16, 523, 158, 271, 819, 460, 707, 381, 505]\n",
      "163 [319, 697, 736, 102, 67, 832, 688, 457, 315, 961, 873, 145, 449, 674, 728, 928, 733, 275, 606, 661]\n",
      "454 [275, 697, 315, 100, 319, 728, 616, 107, 449, 916, 442, 736, 688, 832, 814, 879, 457, 668, 468, 201]\n",
      "506 [697, 275, 139, 886, 973, 688, 263, 256, 674, 319, 957, 754, 102, 135, 145, 457, 334, 626, 908, 721]\n",
      "149 [736, 697, 275, 102, 319, 160, 244, 50, 263, 965, 201, 315, 916, 888, 100, 832, 83, 694, 139, 428]\n",
      "215 [102, 736, 832, 836, 869, 697, 83, 733, 315, 599, 688, 275, 873, 799, 631, 292, 263, 97, 888, 319]\n",
      "437 [275, 67, 697, 334, 736, 570, 328, 889, 641, 278, 145, 972, 157, 457, 552, 879, 852, 246, 509, 292]\n",
      "305 [697, 832, 315, 928, 725, 736, 570, 953, 844, 102, 72, 65, 160, 552, 457, 789, 536, 621, 467, 505]\n",
      "91 [139, 832, 319, 736, 275, 697, 201, 334, 102, 754, 160, 83, 263, 365, 244, 246, 765, 100, 666, 377]\n",
      "731 [315, 478, 457, 697, 275, 334, 431, 260, 288, 449, 32, 594, 613, 767, 427, 869, 887, 263, 688, 289]\n",
      "169 [697, 315, 688, 449, 814, 67, 728, 491, 323, 201, 319, 489, 668, 736, 916, 261, 516, 784, 260, 601]\n",
      "368 [736, 697, 953, 879, 275, 888, 315, 916, 102, 754, 323, 730, 67, 517, 378, 973, 260, 160, 619, 491]\n",
      "777 [832, 697, 736, 275, 315, 809, 264, 491, 552, 787, 83, 323, 263, 16, 343, 953, 449, 844, 160, 171]\n",
      "171 [697, 275, 869, 736, 102, 478, 319, 130, 315, 376, 661, 865, 263, 767, 728, 863, 434, 449, 86, 873]\n",
      "456 [697, 160, 275, 315, 457, 746, 319, 916, 888, 832, 139, 873, 263, 50, 334, 534, 775, 869, 100, 244]\n",
      "185 [319, 102, 457, 832, 145, 632, 467, 697, 160, 376, 614, 468, 107, 440, 263, 786, 964, 100, 600, 483]\n",
      "523 [376, 334, 697, 315, 457, 291, 319, 534, 8, 505, 832, 449, 341, 552, 887, 688, 102, 542, 779, 145]\n",
      "62 [275, 160, 736, 83, 873, 889, 728, 697, 688, 767, 869, 334, 139, 526, 707, 20, 856, 263, 661, 292]\n",
      "94 [275, 754, 457, 260, 688, 334, 67, 449, 319, 102, 758, 83, 478, 431, 728, 306, 328, 964, 263, 572]\n",
      "264 [334, 139, 260, 736, 107, 697, 478, 690, 201, 457, 844, 721, 319, 611, 323, 656, 263, 767, 468, 507]\n",
      "175 [697, 315, 139, 736, 167, 263, 832, 873, 160, 457, 376, 275, 83, 758, 888, 666, 209, 641, 339, 908]\n",
      "786 [457, 275, 832, 697, 323, 102, 187, 525, 253, 879, 260, 334, 688, 449, 67, 736, 100, 370, 157, 431]\n",
      "696 [275, 697, 457, 736, 688, 89, 887, 319, 780, 953, 478, 730, 767, 102, 154, 832, 758, 315, 201, 265]\n",
      "177 [697, 869, 319, 275, 167, 449, 832, 107, 255, 195, 145, 848, 720, 311, 736, 688, 601, 754, 99, 888]\n",
      "384 [275, 736, 869, 697, 319, 832, 263, 315, 260, 888, 728, 698, 67, 754, 266, 244, 802, 139, 525, 552]\n",
      "222 [697, 457, 334, 869, 315, 319, 690, 887, 67, 478, 449, 444, 275, 139, 559, 102, 814, 161, 658, 832]\n",
      "805 [457, 869, 449, 319, 697, 832, 315, 552, 937, 275, 844, 868, 260, 334, 344, 328, 613, 961, 154, 887]\n",
      "426 [697, 688, 832, 457, 67, 109, 714, 736, 869, 334, 265, 244, 422, 449, 275, 728, 643, 102, 818, 873]\n",
      "183 [315, 275, 83, 832, 244, 157, 478, 260, 319, 927, 688, 697, 102, 958, 328, 748, 525, 889, 928, 160]\n",
      "119 [315, 697, 275, 102, 107, 916, 130, 736, 319, 883, 836, 888, 424, 688, 457, 160, 449, 437, 166, 143]\n",
      "280 [697, 160, 736, 167, 457, 620, 102, 145, 121, 426, 289, 688, 878, 97, 728, 260, 376, 3, 319, 396]\n",
      "671 [260, 832, 376, 107, 457, 212, 87, 143, 127, 67, 263, 697, 280, 201, 334, 449, 928, 505, 736, 447]\n",
      "278 [275, 832, 315, 869, 697, 888, 263, 145, 887, 916, 260, 289, 67, 457, 449, 736, 814, 728, 160, 491]\n",
      "784 [525, 275, 697, 304, 83, 315, 736, 754, 310, 319, 457, 260, 799, 440, 881, 100, 376, 395, 570, 164]\n",
      "451 [334, 457, 315, 410, 319, 107, 260, 611, 873, 50, 139, 427, 736, 717, 323, 832, 89, 730, 916, 449]\n",
      "569 [697, 315, 145, 927, 736, 746, 688, 869, 457, 888, 661, 107, 167, 428, 334, 319, 102, 67, 323, 160]\n",
      "746 [697, 315, 661, 376, 107, 160, 869, 736, 457, 275, 99, 832, 449, 434, 415, 263, 888, 167, 68, 319]\n",
      "606 [275, 319, 697, 632, 832, 102, 145, 139, 341, 707, 407, 869, 955, 107, 100, 76, 825, 525, 263, 216]\n",
      "599 [697, 449, 457, 869, 315, 415, 552, 832, 674, 887, 87, 107, 334, 736, 833, 427, 140, 264, 366, 434]\n",
      "200 [697, 319, 83, 275, 263, 736, 315, 916, 832, 457, 201, 953, 449, 431, 102, 67, 728, 260, 103, 730]\n",
      "512 [832, 275, 158, 263, 315, 323, 869, 139, 334, 697, 449, 688, 888, 67, 764, 720, 260, 473, 102, 893]\n",
      "170 [334, 275, 315, 832, 953, 130, 260, 139, 457, 157, 873, 83, 319, 736, 803, 806, 288, 489, 697, 246]\n",
      "212 [315, 102, 260, 873, 160, 832, 879, 457, 688, 334, 319, 799, 107, 97, 697, 634, 377, 323, 796, 632]\n",
      "161 [457, 697, 67, 832, 525, 263, 315, 736, 552, 598, 199, 328, 262, 592, 275, 716, 625, 773, 888, 8]\n",
      "216 [697, 265, 928, 457, 924, 198, 736, 916, 107, 536, 873, 869, 323, 145, 102, 334, 725, 806, 396, 953]\n",
      "742 [697, 275, 449, 457, 832, 736, 83, 334, 315, 478, 869, 272, 89, 244, 260, 139, 916, 100, 688, 543]\n",
      "397 [275, 697, 319, 832, 457, 552, 449, 758, 928, 431, 83, 976, 260, 929, 630, 195, 728, 736, 427, 102]\n",
      "246 [736, 873, 799, 320, 674, 315, 721, 869, 280, 275, 263, 161, 107, 943, 381, 370, 477, 334, 278, 893]\n",
      "505 [315, 697, 275, 457, 758, 832, 688, 67, 869, 513, 809, 178, 426, 431, 720, 323, 19, 107, 623, 721]\n",
      "357 [275, 736, 449, 767, 139, 807, 323, 869, 315, 107, 688, 319, 130, 521, 697, 334, 102, 12, 754, 263]\n",
      "360 [728, 275, 102, 736, 334, 552, 457, 807, 832, 315, 246, 754, 767, 792, 145, 769, 517, 83, 89, 87]\n",
      "676 [697, 832, 107, 275, 357, 67, 457, 869, 887, 707, 224, 315, 736, 19, 428, 838, 323, 415, 865, 894]\n",
      "585 [697, 832, 19, 145, 275, 754, 674, 527, 199, 707, 157, 869, 139, 777, 376, 964, 65, 457, 928, 107]\n",
      "114 [334, 319, 260, 736, 457, 72, 928, 142, 873, 67, 697, 263, 102, 833, 107, 139, 315, 641, 525, 478]\n",
      "118 [832, 697, 145, 736, 334, 431, 449, 323, 947, 167, 160, 325, 787, 908, 139, 102, 260, 263, 315, 244]\n",
      "223 [697, 832, 158, 888, 949, 334, 145, 319, 457, 260, 288, 814, 315, 449, 263, 154, 916, 528, 746, 139]\n",
      "12 [736, 275, 513, 319, 145, 697, 965, 793, 280, 900, 67, 726, 263, 278, 794, 630, 54, 781, 773, 863]\n",
      "53 [697, 570, 457, 334, 275, 869, 873, 89, 823, 887, 349, 154, 832, 736, 421, 297, 107, 456, 328, 728]\n",
      "767 [697, 107, 536, 145, 102, 146, 65, 869, 457, 8, 143, 334, 728, 449, 434, 929, 158, 432, 67, 181]\n",
      "553 [319, 260, 836, 102, 754, 83, 697, 457, 376, 167, 828, 661, 816, 767, 131, 688, 873, 449, 212, 107]\n",
      "251 [832, 275, 319, 315, 457, 377, 836, 107, 697, 260, 661, 139, 475, 102, 869, 728, 67, 100, 415, 323]\n",
      "294 [697, 275, 832, 457, 614, 552, 315, 869, 319, 102, 928, 736, 650, 157, 139, 376, 596, 205, 328, 100]\n",
      "540 [697, 457, 674, 832, 100, 449, 431, 139, 263, 160, 315, 767, 869, 802, 187, 681, 319, 154, 953, 847]\n",
      "20 [315, 275, 697, 710, 887, 43, 147, 145, 212, 154, 196, 143, 449, 650, 688, 900, 278, 506, 377, 457]\n",
      "228 [275, 457, 832, 736, 139, 244, 160, 754, 246, 697, 869, 158, 272, 570, 953, 107, 154, 958, 366, 580]\n",
      "476 [697, 893, 832, 334, 100, 234, 736, 779, 263, 802, 260, 411, 102, 349, 717, 211, 372, 688, 888, 8]\n",
      "210 [102, 697, 736, 260, 130, 536, 145, 275, 943, 278, 370, 315, 823, 832, 319, 97, 893, 139, 100, 376]\n",
      "151 [275, 697, 832, 736, 478, 102, 315, 517, 334, 868, 476, 3, 262, 730, 685, 376, 130, 323, 556, 928]\n",
      "498 [832, 697, 315, 260, 457, 869, 888, 143, 158, 983, 244, 319, 622, 690, 160, 255, 227, 585, 138, 916]\n",
      "462 [275, 832, 697, 315, 457, 260, 869, 107, 377, 334, 552, 873, 958, 154, 179, 637, 244, 679, 289, 809]\n",
      "804 [728, 697, 275, 334, 315, 721, 746, 102, 736, 832, 370, 260, 263, 214, 888, 25, 83, 819, 513, 552]\n",
      "379 [697, 102, 319, 799, 534, 688, 376, 873, 263, 457, 123, 668, 103, 451, 903, 888, 131, 570, 816, 434]\n",
      "653 [869, 319, 145, 552, 260, 697, 748, 687, 289, 928, 139, 736, 682, 315, 953, 947, 235, 334, 342, 553]\n",
      "650 [832, 457, 139, 928, 758, 263, 107, 319, 929, 67, 893, 746, 56, 201, 806, 157, 333, 288, 552, 246]\n",
      "472 [449, 315, 102, 100, 83, 334, 736, 263, 260, 697, 525, 139, 555, 832, 468, 675, 201, 407, 966, 717]\n",
      "691 [275, 100, 736, 697, 145, 102, 807, 315, 888, 832, 449, 415, 107, 645, 372, 278, 31, 887, 745, 263]\n",
      "689 [697, 449, 832, 102, 773, 260, 275, 67, 814, 879, 263, 246, 158, 688, 953, 888, 728, 787, 253, 289]\n",
      "783 [736, 260, 697, 928, 457, 866, 656, 690, 315, 916, 321, 123, 666, 102, 328, 889, 292, 832, 876, 725]\n",
      "628 [275, 457, 832, 319, 697, 67, 736, 869, 377, 263, 102, 199, 328, 799, 307, 315, 145, 246, 100, 728]\n",
      "483 [697, 263, 832, 319, 736, 315, 895, 67, 869, 616, 928, 127, 260, 888, 720, 552, 341, 130, 457, 307]\n",
      "635 [315, 275, 697, 832, 457, 888, 525, 819, 929, 478, 328, 157, 67, 688, 107, 728, 427, 263, 678, 160]\n",
      "173 [697, 736, 130, 688, 319, 315, 83, 260, 334, 244, 382, 275, 645, 91, 158, 449, 552, 457, 57, 525]\n",
      "237 [275, 758, 334, 260, 832, 697, 71, 457, 50, 102, 65, 836, 431, 736, 531, 570, 370, 733, 160, 533]\n",
      "229 [107, 697, 832, 68, 160, 139, 928, 467, 674, 449, 260, 334, 457, 478, 473, 275, 736, 767, 953, 427]\n",
      "486 [275, 767, 288, 130, 736, 457, 167, 97, 449, 832, 315, 697, 928, 411, 187, 102, 263, 323, 478, 264]\n",
      "308 [832, 697, 334, 157, 315, 376, 323, 688, 260, 457, 100, 275, 728, 319, 349, 89, 176, 779, 542, 158]\n",
      "152 [275, 832, 736, 427, 197, 65, 552, 323, 334, 246, 263, 139, 158, 315, 697, 107, 376, 824, 869, 814]\n",
      "729 [107, 832, 457, 697, 100, 264, 806, 315, 319, 334, 928, 216, 958, 415, 245, 65, 552, 764, 663, 8]\n",
      "469 [315, 275, 832, 319, 263, 888, 434, 248, 457, 411, 736, 449, 525, 260, 160, 818, 819, 654, 425, 707]\n",
      "507 [736, 83, 697, 275, 315, 873, 457, 158, 227, 334, 714, 139, 244, 728, 319, 754, 246, 260, 427, 328]\n",
      "730 [275, 736, 697, 328, 315, 836, 334, 278, 83, 264, 754, 891, 260, 599, 928, 728, 420, 690, 319, 570]\n",
      "312 [319, 167, 552, 275, 697, 315, 832, 869, 449, 107, 928, 263, 525, 260, 8, 344, 334, 916, 235, 825]\n",
      "255 [83, 928, 315, 319, 869, 201, 688, 697, 903, 799, 879, 715, 927, 714, 624, 102, 143, 507, 690, 457]\n",
      "797 [275, 736, 107, 869, 728, 697, 895, 255, 246, 552, 315, 457, 31, 260, 427, 377, 832, 539, 139, 641]\n",
      "527 [736, 319, 697, 754, 275, 292, 107, 102, 130, 873, 630, 674, 19, 688, 288, 66, 139, 865, 197, 979]\n",
      "791 [457, 697, 145, 275, 102, 720, 832, 500, 736, 434, 100, 746, 935, 468, 758, 107, 868, 160, 958, 505]\n",
      "477 [928, 457, 67, 697, 263, 160, 832, 505, 534, 536, 275, 260, 763, 613, 107, 592, 877, 178, 315, 130]\n",
      "577 [315, 697, 83, 869, 478, 819, 736, 928, 690, 457, 148, 599, 809, 683, 30, 730, 107, 323, 873, 784]\n",
      "193 [275, 697, 102, 928, 728, 552, 278, 832, 315, 685, 67, 323, 916, 157, 614, 953, 423, 730, 187, 736]\n",
      "788 [275, 832, 697, 167, 263, 67, 260, 228, 736, 955, 323, 160, 787, 930, 449, 139, 264, 457, 928, 953]\n",
      "252 [697, 832, 736, 160, 953, 275, 928, 315, 83, 319, 969, 825, 244, 139, 46, 67, 575, 567, 362, 89]\n",
      "343 [697, 315, 478, 382, 916, 522, 319, 328, 730, 787, 685, 275, 130, 889, 323, 946, 157, 321, 334, 457]\n",
      "259 [697, 263, 873, 736, 83, 139, 526, 893, 67, 334, 315, 130, 167, 958, 869, 787, 785, 449, 620, 172]\n",
      "370 [275, 832, 697, 263, 916, 315, 288, 319, 100, 457, 83, 377, 553, 139, 143, 370, 767, 736, 973, 102]\n",
      "48 [697, 315, 72, 832, 928, 972, 65, 457, 869, 449, 107, 154, 720, 332, 420, 67, 349, 599, 746, 789]\n",
      "620 [275, 457, 697, 102, 570, 319, 130, 107, 376, 832, 567, 256, 928, 139, 836, 614, 869, 288, 873, 736]\n",
      "256 [736, 315, 832, 697, 580, 275, 427, 263, 969, 291, 145, 139, 449, 197, 887, 457, 767, 688, 244, 323]\n",
      "661 [832, 102, 100, 754, 736, 83, 823, 246, 457, 323, 139, 130, 552, 958, 319, 158, 928, 288, 275, 868]\n",
      "405 [873, 457, 319, 260, 376, 83, 334, 127, 397, 130, 107, 622, 269, 97, 697, 315, 449, 392, 736, 500]\n",
      "710 [697, 102, 552, 145, 736, 460, 525, 315, 319, 449, 928, 632, 200, 275, 814, 728, 848, 764, 888, 34]\n",
      "318 [275, 736, 697, 953, 263, 832, 102, 938, 764, 457, 758, 728, 160, 690, 819, 121, 319, 754, 139, 83]\n",
      "205 [315, 457, 323, 927, 869, 319, 328, 260, 130, 836, 107, 697, 139, 102, 281, 614, 256, 551, 160, 100]\n",
      "186 [697, 260, 275, 807, 67, 869, 661, 235, 360, 457, 145, 334, 586, 143, 888, 525, 690, 127, 928, 212]\n",
      "41 [315, 697, 275, 457, 552, 157, 160, 319, 525, 40, 449, 736, 819, 260, 832, 570, 961, 263, 531, 50]\n",
      "740 [315, 431, 832, 275, 697, 674, 97, 67, 334, 260, 83, 814, 139, 953, 927, 688, 532, 754, 869, 553]\n",
      "502 [832, 457, 263, 139, 342, 275, 102, 326, 581, 117, 67, 235, 415, 449, 949, 961, 260, 887, 787, 107]\n",
      "271 [888, 873, 457, 908, 767, 697, 937, 552, 478, 736, 975, 676, 334, 263, 102, 449, 786, 121, 315, 432]\n",
      "293 [315, 697, 832, 736, 160, 102, 83, 873, 333, 263, 72, 928, 244, 799, 16, 158, 958, 327, 67, 756]\n",
      "582 [275, 697, 107, 102, 832, 319, 736, 449, 457, 328, 869, 688, 130, 478, 552, 331, 833, 145, 444, 229]\n",
      "558 [107, 275, 319, 832, 67, 491, 697, 334, 315, 690, 441, 370, 263, 869, 102, 721, 728, 201, 914, 961]\n",
      "614 [275, 833, 869, 319, 697, 457, 832, 263, 431, 728, 736, 102, 130, 513, 361, 315, 341, 600, 253, 707]\n",
      "112 [697, 275, 728, 478, 736, 449, 789, 67, 869, 887, 319, 260, 457, 858, 45, 102, 87, 278, 475, 460]\n",
      "388 [916, 736, 832, 613, 275, 319, 315, 457, 949, 100, 811, 195, 83, 868, 93, 87, 328, 758, 452, 666]\n",
      "240 [832, 315, 107, 263, 275, 323, 697, 928, 736, 334, 139, 888, 721, 916, 431, 160, 100, 491, 67, 320]\n",
      "270 [319, 167, 323, 457, 441, 263, 148, 130, 107, 399, 275, 832, 67, 195, 349, 315, 246, 787, 290, 212]\n",
      "268 [697, 736, 832, 275, 953, 315, 67, 102, 73, 869, 888, 263, 814, 457, 928, 746, 328, 399, 319, 284]\n",
      "665 [832, 697, 275, 102, 736, 315, 534, 720, 888, 263, 767, 376, 130, 246, 525, 319, 758, 570, 103, 107]\n",
      "273 [319, 263, 102, 697, 67, 315, 552, 873, 736, 728, 334, 246, 109, 879, 457, 275, 632, 131, 534, 160]\n",
      "718 [328, 832, 260, 431, 370, 244, 275, 666, 263, 299, 107, 870, 869, 754, 947, 893, 457, 315, 688, 342]\n",
      "633 [319, 275, 139, 736, 100, 449, 697, 869, 457, 102, 212, 832, 57, 145, 8, 67, 844, 263, 83, 251]\n",
      "733 [736, 145, 102, 334, 67, 275, 889, 955, 597, 697, 9, 832, 893, 365, 819, 522, 888, 435, 716, 758]\n",
      "132 [315, 754, 260, 370, 334, 553, 736, 859, 83, 721, 102, 688, 748, 491, 107, 145, 965, 342, 278, 612]\n",
      "279 [457, 315, 107, 552, 697, 246, 334, 806, 234, 263, 601, 260, 100, 8, 323, 67, 139, 525, 19, 31]\n",
      "772 [697, 832, 315, 525, 928, 376, 195, 328, 457, 850, 260, 334, 888, 814, 67, 478, 263, 275, 958, 592]\n",
      "703 [832, 697, 246, 315, 102, 260, 868, 599, 107, 661, 869, 465, 83, 323, 736, 754, 145, 365, 244, 449]\n",
      "283 [275, 869, 697, 832, 457, 573, 315, 260, 160, 263, 100, 67, 145, 758, 428, 449, 8, 746, 157, 525]\n",
      "596 [315, 697, 83, 244, 325, 525, 67, 812, 157, 814, 819, 376, 927, 145, 832, 158, 260, 552, 548, 530]\n",
      "69 [334, 697, 736, 275, 107, 873, 160, 513, 83, 721, 570, 844, 387, 299, 203, 145, 323, 714, 109, 809]\n",
      "466 [260, 832, 697, 65, 928, 758, 107, 754, 929, 736, 334, 246, 457, 275, 157, 879, 100, 958, 953, 964]\n",
      "155 [275, 697, 139, 736, 67, 728, 552, 263, 832, 160, 319, 145, 19, 707, 334, 107, 158, 246, 167, 41]\n",
      "814 [697, 275, 67, 892, 457, 102, 449, 100, 315, 139, 658, 977, 249, 881, 319, 489, 928, 553, 478, 41]\n",
      "587 [315, 370, 260, 275, 758, 832, 730, 160, 102, 599, 107, 278, 641, 83, 721, 697, 319, 965, 836, 288]\n",
      "648 [315, 102, 870, 688, 697, 263, 457, 100, 67, 600, 745, 201, 240, 833, 736, 92, 319, 137, 613, 334]\n",
      "232 [869, 832, 275, 697, 916, 736, 361, 570, 929, 145, 334, 728, 255, 264, 690, 387, 750, 19, 278, 491]\n",
      "285 [319, 728, 67, 315, 457, 832, 697, 201, 645, 160, 688, 887, 275, 513, 102, 130, 334, 263, 525, 72]\n",
      "823 [102, 275, 67, 334, 315, 263, 553, 754, 319, 953, 139, 89, 736, 879, 187, 100, 832, 599, 888, 146]\n",
      "509 [260, 736, 457, 697, 127, 720, 832, 315, 275, 263, 89, 754, 154, 83, 888, 345, 139, 319, 928, 212]\n",
      "700 [102, 275, 697, 869, 833, 832, 958, 399, 334, 100, 888, 201, 728, 19, 107, 342, 736, 161, 260, 319]\n",
      "289 [697, 319, 449, 275, 160, 736, 832, 315, 552, 457, 50, 513, 956, 100, 789, 407, 145, 888, 102, 68]\n",
      "795 [457, 697, 260, 415, 319, 100, 399, 246, 392, 107, 832, 277, 586, 501, 688, 263, 888, 11, 323, 275]\n",
      "638 [697, 376, 315, 552, 102, 107, 334, 928, 139, 157, 260, 246, 613, 319, 707, 444, 275, 323, 410, 357]\n",
      "413 [275, 697, 315, 832, 928, 263, 187, 877, 916, 260, 160, 953, 457, 687, 585, 319, 323, 50, 299, 167]\n",
      "699 [697, 201, 275, 334, 315, 260, 263, 690, 879, 158, 736, 38, 457, 976, 832, 688, 89, 887, 870, 863]\n",
      "681 [697, 275, 67, 489, 145, 869, 754, 888, 100, 457, 315, 534, 102, 137, 637, 8, 767, 728, 551, 154]\n",
      "544 [319, 315, 275, 263, 736, 160, 525, 244, 67, 449, 139, 869, 888, 832, 901, 730, 428, 100, 552, 567]\n",
      "106 [697, 315, 102, 319, 928, 83, 139, 260, 736, 399, 103, 888, 721, 275, 690, 457, 100, 784, 953, 143]\n",
      "578 [697, 832, 275, 457, 928, 201, 736, 407, 67, 525, 102, 888, 728, 235, 107, 328, 319, 873, 100, 922]\n",
      "548 [457, 832, 319, 334, 275, 265, 231, 958, 758, 260, 552, 513, 893, 929, 688, 697, 869, 328, 605, 8]\n",
      "260 [323, 697, 145, 507, 315, 340, 275, 260, 103, 102, 977, 457, 357, 645, 890, 758, 149, 597, 965, 263]\n",
      "166 [832, 275, 315, 323, 334, 102, 145, 869, 599, 107, 46, 955, 728, 377, 622, 457, 54, 139, 127, 396]\n",
      "326 [275, 315, 263, 107, 67, 102, 323, 697, 799, 865, 319, 599, 728, 160, 534, 736, 832, 137, 139, 201]\n",
      "245 [697, 451, 799, 275, 334, 916, 688, 83, 645, 887, 89, 157, 717, 758, 457, 736, 750, 596, 102, 631]\n",
      "302 [869, 697, 275, 916, 832, 457, 315, 334, 714, 736, 260, 767, 349, 323, 376, 728, 428, 721, 255, 824]\n",
      "304 [275, 697, 832, 736, 869, 720, 376, 278, 130, 334, 145, 157, 244, 158, 580, 754, 693, 341, 513, 551]\n",
      "182 [879, 736, 145, 83, 275, 916, 570, 697, 754, 123, 315, 708, 443, 334, 910, 840, 153, 832, 757, 55]\n",
      "291 [315, 856, 697, 334, 275, 67, 467, 102, 457, 661, 869, 420, 3, 130, 107, 260, 201, 2, 449, 570]\n",
      "292 [697, 457, 832, 869, 154, 160, 315, 334, 728, 449, 145, 846, 255, 179, 275, 264, 157, 199, 263, 888]\n",
      "752 [832, 315, 697, 275, 928, 736, 599, 916, 83, 457, 107, 757, 730, 747, 859, 869, 449, 671, 263, 616]\n",
      "396 [275, 260, 819, 697, 160, 736, 263, 728, 319, 449, 100, 334, 139, 102, 662, 107, 893, 425, 457, 145]\n",
      "792 [457, 819, 832, 697, 275, 160, 315, 157, 145, 139, 754, 569, 102, 736, 449, 140, 552, 319, 729, 334]\n",
      "93 [697, 736, 275, 315, 139, 319, 334, 916, 102, 376, 130, 961, 246, 888, 832, 451, 666, 449, 244, 160]\n",
      "656 [334, 697, 832, 641, 559, 342, 315, 661, 736, 275, 100, 842, 145, 739, 260, 83, 869, 964, 457, 102]\n",
      "307 [697, 916, 958, 619, 83, 415, 736, 334, 167, 873, 264, 748, 896, 665, 670, 757, 457, 527, 444, 315]\n",
      "234 [457, 334, 728, 139, 746, 832, 688, 100, 315, 263, 140, 513, 323, 449, 157, 411, 102, 769, 319, 491]\n",
      "190 [102, 100, 697, 736, 323, 832, 161, 884, 146, 833, 754, 449, 143, 244, 893, 139, 264, 764, 888, 97]\n",
      "647 [697, 457, 736, 275, 832, 263, 315, 552, 614, 328, 513, 16, 102, 631, 553, 650, 319, 286, 819, 928]\n",
      "572 [319, 736, 275, 263, 139, 832, 370, 67, 869, 449, 928, 195, 468, 690, 334, 697, 127, 97, 288, 315]\n",
      "221 [697, 869, 832, 143, 552, 457, 736, 764, 319, 449, 158, 253, 948, 87, 100, 288, 964, 893, 814, 275]\n",
      "313 [315, 263, 275, 260, 736, 83, 916, 832, 319, 697, 323, 457, 754, 67, 334, 580, 953, 201, 139, 525]\n",
      "314 [334, 697, 100, 83, 736, 666, 145, 728, 819, 376, 319, 833, 468, 832, 569, 107, 102, 767, 457, 344]\n",
      "315 [697, 263, 457, 832, 315, 449, 319, 83, 275, 160, 334, 107, 736, 411, 260, 272, 794, 888, 503, 674]\n",
      "334 [275, 728, 570, 916, 736, 334, 697, 67, 832, 278, 319, 244, 154, 368, 707, 976, 246, 869, 157, 609]\n",
      "574 [457, 832, 697, 222, 264, 869, 427, 323, 614, 407, 449, 145, 543, 928, 275, 525, 695, 728, 67, 87]\n",
      "323 [315, 832, 160, 275, 319, 697, 323, 457, 258, 260, 598, 130, 334, 342, 552, 869, 448, 513, 139, 863]\n",
      "324 [319, 83, 260, 275, 478, 697, 255, 246, 869, 888, 100, 728, 457, 958, 130, 688, 214, 199, 668, 848]\n",
      "325 [275, 697, 728, 736, 832, 244, 869, 916, 833, 100, 145, 451, 102, 889, 410, 457, 334, 707, 725, 366]\n",
      "537 [697, 275, 832, 491, 893, 814, 260, 67, 457, 288, 928, 736, 277, 958, 411, 449, 400, 542, 869, 688]\n",
      "736 [736, 315, 319, 334, 893, 139, 102, 832, 263, 83, 275, 50, 505, 928, 87, 697, 82, 552, 819, 428]\n",
      "383 [457, 832, 100, 697, 288, 736, 263, 631, 505, 195, 319, 139, 275, 67, 598, 869, 425, 8, 877, 107]\n",
      "34 [697, 832, 107, 275, 377, 328, 334, 736, 611, 8, 869, 315, 366, 323, 964, 256, 753, 339, 319, 723]\n",
      "623 [275, 832, 697, 315, 736, 888, 916, 158, 263, 819, 869, 107, 140, 688, 721, 370, 728, 145, 599, 102]\n",
      "825 [697, 754, 832, 888, 260, 55, 275, 953, 145, 599, 178, 9, 315, 215, 927, 868, 730, 264, 457, 334]\n",
      "42 [260, 832, 263, 457, 697, 201, 275, 449, 758, 319, 688, 728, 645, 320, 704, 888, 721, 83, 334, 246]\n",
      "261 [334, 457, 315, 67, 319, 552, 697, 736, 733, 275, 553, 56, 832, 852, 19, 513, 264, 107, 661, 887]\n",
      "398 [697, 260, 688, 334, 457, 139, 341, 758, 376, 83, 870, 832, 323, 916, 746, 145, 255, 809, 914, 275]\n",
      "567 [832, 83, 315, 697, 513, 799, 319, 457, 275, 97, 928, 299, 124, 552, 107, 964, 102, 157, 298, 65]\n",
      "336 [315, 869, 449, 688, 697, 832, 263, 457, 244, 319, 389, 617, 275, 160, 767, 62, 83, 928, 320, 888]\n",
      "773 [697, 736, 275, 953, 728, 334, 773, 278, 869, 764, 523, 814, 542, 158, 123, 67, 246, 154, 570, 431]\n",
      "737 [319, 688, 157, 814, 457, 754, 263, 275, 334, 609, 697, 449, 370, 832, 411, 139, 260, 315, 553, 137]\n",
      "559 [319, 449, 736, 873, 457, 102, 139, 832, 674, 697, 721, 906, 50, 348, 690, 328, 552, 212, 429, 888]\n",
      "322 [697, 832, 275, 888, 457, 736, 244, 552, 844, 67, 727, 973, 929, 100, 102, 946, 260, 65, 645, 348]\n",
      "342 [832, 275, 158, 697, 869, 315, 887, 457, 928, 888, 127, 736, 961, 427, 929, 145, 157, 235, 916, 814]\n",
      "36 [275, 697, 844, 888, 315, 103, 334, 736, 263, 343, 444, 451, 260, 127, 244, 145, 961, 431, 645, 292]\n",
      "0 [736, 278, 334, 275, 873, 832, 697, 123, 745, 265, 154, 323, 16, 728, 67, 766, 83, 887, 187, 491]\n",
      "309 [315, 334, 697, 928, 260, 457, 411, 832, 376, 264, 323, 139, 478, 275, 758, 552, 415, 107, 961, 590]\n",
      "208 [260, 449, 145, 323, 792, 736, 102, 319, 467, 348, 728, 769, 832, 315, 888, 334, 264, 83, 100, 457]\n",
      "337 [697, 315, 457, 102, 888, 887, 67, 132, 953, 100, 570, 143, 19, 158, 661, 426, 415, 160, 929, 869]\n",
      "333 [315, 275, 83, 260, 754, 953, 973, 736, 103, 201, 244, 832, 870, 947, 320, 352, 758, 888, 370, 102]\n",
      "109 [145, 697, 334, 434, 275, 107, 457, 807, 260, 449, 832, 255, 83, 844, 431, 349, 754, 847, 728, 19]\n",
      "535 [275, 916, 552, 697, 319, 107, 637, 736, 478, 158, 869, 427, 444, 154, 728, 67, 929, 276, 143, 729]\n",
      "331 [697, 275, 457, 832, 260, 145, 3, 916, 160, 939, 888, 143, 736, 476, 534, 154, 955, 746, 189, 341]\n",
      "771 [275, 622, 334, 377, 832, 728, 102, 879, 614, 543, 381, 323, 260, 369, 403, 754, 736, 145, 688, 87]\n",
      "276 [315, 275, 107, 869, 334, 767, 928, 467, 431, 306, 208, 19, 889, 468, 256, 65, 77, 929, 650, 961]\n",
      "345 [697, 102, 449, 315, 832, 275, 434, 690, 887, 478, 323, 736, 614, 746, 143, 139, 688, 457, 645, 869]\n",
      "346 [102, 758, 953, 873, 167, 697, 334, 832, 457, 278, 35, 879, 754, 736, 674, 661, 421, 212, 260, 87]\n",
      "441 [697, 736, 916, 244, 832, 328, 688, 50, 505, 160, 928, 888, 238, 754, 341, 145, 102, 917, 45, 334]\n",
      "347 [275, 697, 888, 736, 160, 139, 263, 728, 832, 67, 437, 102, 167, 457, 646, 334, 434, 758, 863, 278]\n",
      "211 [315, 697, 107, 319, 201, 947, 525, 908, 832, 328, 275, 407, 397, 325, 95, 489, 130, 142, 457, 97]\n",
      "588 [697, 869, 315, 8, 457, 452, 806, 19, 879, 781, 201, 832, 449, 199, 100, 858, 773, 275, 232, 814]\n",
      "515 [263, 697, 260, 754, 139, 158, 157, 199, 100, 773, 160, 593, 145, 427, 319, 615, 939, 536, 457, 83]\n",
      "561 [275, 736, 102, 107, 928, 697, 319, 431, 799, 888, 869, 137, 278, 434, 167, 916, 160, 263, 832, 145]\n",
      "356 [260, 201, 275, 334, 315, 67, 832, 697, 457, 145, 552, 661, 263, 754, 947, 100, 370, 102, 553, 728]\n",
      "657 [832, 100, 263, 319, 275, 244, 736, 697, 102, 83, 457, 57, 160, 131, 961, 67, 478, 616, 139, 315]\n",
      "479 [315, 869, 697, 534, 525, 457, 102, 67, 275, 260, 570, 334, 832, 319, 244, 358, 263, 888, 809, 688]\n",
      "341 [275, 697, 832, 730, 315, 102, 869, 416, 145, 599, 836, 736, 319, 328, 964, 847, 457, 67, 256, 107]\n",
      "501 [315, 478, 102, 476, 83, 728, 869, 832, 712, 154, 473, 736, 275, 697, 365, 67, 799, 319, 597, 929]\n",
      "704 [107, 697, 328, 334, 457, 103, 260, 767, 758, 275, 65, 376, 969, 968, 323, 964, 615, 612, 341, 728]\n",
      "26 [697, 256, 260, 323, 275, 758, 281, 83, 848, 238, 102, 814, 457, 171, 5, 278, 766, 689, 525, 315]\n",
      "411 [819, 449, 636, 457, 83, 100, 102, 67, 260, 319, 192, 201, 794, 690, 697, 280, 720, 525, 887, 688]\n",
      "662 [319, 697, 100, 832, 869, 334, 532, 415, 501, 67, 688, 522, 822, 611, 112, 819, 341, 45, 637, 107]\n",
      "353 [697, 275, 552, 315, 953, 83, 260, 916, 263, 457, 754, 803, 736, 160, 615, 5, 687, 264, 334, 50]\n",
      "632 [832, 260, 139, 697, 449, 542, 171, 958, 334, 879, 688, 323, 319, 102, 87, 100, 717, 97, 398, 411]\n",
      "3 [697, 736, 275, 130, 832, 67, 457, 260, 334, 661, 729, 107, 348, 102, 807, 552, 115, 319, 87, 449]\n",
      "127 [457, 688, 697, 67, 449, 102, 319, 478, 263, 130, 280, 736, 146, 958, 53, 552, 819, 83, 415, 157]\n",
      "686 [315, 457, 280, 160, 869, 873, 728, 767, 449, 688, 415, 244, 431, 697, 87, 319, 674, 263, 140, 572]\n",
      "238 [130, 275, 697, 916, 832, 87, 67, 873, 260, 263, 736, 381, 444, 157, 218, 102, 725, 288, 592, 946]\n",
      "547 [697, 100, 260, 570, 767, 449, 102, 941, 275, 879, 139, 315, 134, 324, 525, 431, 50, 814, 553, 622]\n",
      "414 [697, 449, 736, 275, 67, 319, 160, 100, 397, 728, 916, 869, 315, 154, 836, 370, 244, 814, 888, 734]\n",
      "32 [319, 275, 315, 728, 334, 513, 107, 964, 730, 552, 832, 650, 67, 457, 642, 501, 145, 260, 915, 707]\n",
      "579 [275, 328, 966, 102, 107, 893, 278, 334, 758, 754, 315, 832, 67, 688, 891, 736, 238, 697, 383, 376]\n",
      "417 [275, 697, 832, 457, 130, 736, 157, 334, 410, 887, 100, 889, 431, 232, 948, 728, 645, 377, 757, 958]\n",
      "49 [736, 697, 102, 814, 449, 334, 275, 728, 832, 328, 807, 525, 235, 367, 887, 67, 315, 415, 916, 187]\n",
      "181 [102, 130, 315, 319, 728, 928, 341, 275, 869, 552, 570, 832, 107, 764, 697, 83, 513, 266, 862, 348]\n",
      "485 [319, 254, 697, 434, 888, 263, 139, 376, 869, 315, 730, 767, 161, 656, 526, 334, 478, 260, 102, 100]\n",
      "382 [736, 315, 697, 160, 139, 916, 832, 244, 334, 449, 275, 263, 102, 83, 928, 888, 89, 953, 353, 728]\n",
      "400 [334, 457, 832, 697, 244, 758, 953, 319, 315, 736, 139, 745, 160, 360, 451, 873, 690, 552, 260, 145]\n",
      "473 [697, 832, 767, 363, 457, 736, 315, 963, 887, 323, 452, 411, 451, 449, 434, 688, 319, 916, 700, 415]\n",
      "408 [275, 697, 525, 869, 206, 158, 315, 832, 145, 552, 370, 246, 879, 814, 916, 928, 691, 411, 199, 754]\n",
      "713 [697, 102, 736, 832, 315, 275, 100, 246, 916, 323, 79, 814, 929, 836, 862, 260, 869, 89, 160, 263]\n",
      "92 [315, 275, 832, 83, 887, 457, 263, 736, 869, 211, 697, 319, 688, 953, 102, 570, 556, 548, 411, 449]\n",
      "533 [319, 139, 67, 832, 263, 275, 736, 728, 523, 315, 733, 552, 613, 449, 955, 102, 707, 773, 457, 246]\n",
      "690 [275, 127, 157, 145, 697, 260, 334, 427, 107, 949, 457, 46, 730, 211, 328, 94, 832, 888, 319, 773]\n",
      "758 [697, 334, 260, 275, 323, 457, 958, 688, 427, 107, 767, 574, 869, 431, 569, 832, 377, 158, 154, 130]\n",
      "265 [67, 457, 275, 836, 865, 319, 697, 139, 260, 690, 19, 315, 449, 434, 534, 444, 662, 658, 955, 201]\n",
      "482 [275, 832, 736, 697, 869, 160, 315, 139, 720, 334, 457, 928, 927, 244, 323, 707, 377, 319, 728, 50]\n",
      "603 [319, 275, 315, 697, 457, 552, 553, 334, 688, 674, 767, 160, 377, 746, 246, 130, 102, 328, 814, 819]\n",
      "504 [697, 100, 457, 644, 832, 335, 160, 158, 244, 172, 862, 102, 99, 953, 260, 515, 758, 282, 342, 202]\n",
      "688 [697, 323, 832, 100, 736, 688, 728, 431, 334, 303, 958, 449, 83, 102, 814, 457, 754, 868, 842, 344]\n",
      "395 [697, 832, 275, 323, 457, 127, 315, 888, 260, 87, 868, 730, 344, 599, 407, 785, 264, 671, 434, 928]\n",
      "43 [102, 334, 107, 736, 319, 139, 697, 927, 435, 275, 449, 525, 67, 865, 787, 953, 315, 460, 260, 201]\n",
      "399 [260, 832, 246, 275, 688, 457, 697, 334, 157, 894, 89, 263, 201, 411, 315, 65, 218, 870, 819, 929]\n",
      "247 [697, 552, 275, 107, 736, 958, 807, 927, 315, 869, 158, 334, 728, 278, 754, 227, 509, 832, 833, 576]\n",
      "824 [260, 736, 334, 381, 609, 716, 263, 697, 411, 139, 102, 444, 958, 495, 399, 888, 454, 478, 893, 130]\n",
      "159 [728, 697, 145, 736, 275, 212, 457, 102, 341, 888, 148, 869, 87, 887, 707, 315, 319, 900, 929, 814]\n",
      "766 [697, 334, 736, 275, 728, 319, 457, 100, 145, 467, 102, 107, 832, 255, 318, 87, 468, 549, 792, 449]\n",
      "71 [260, 246, 139, 773, 449, 319, 457, 674, 323, 334, 263, 703, 832, 474, 697, 408, 900, 212, 100, 107]\n",
      "531 [260, 457, 832, 427, 334, 97, 736, 426, 130, 275, 637, 807, 697, 552, 812, 158, 425, 758, 315, 819]\n",
      "769 [83, 315, 457, 299, 107, 260, 319, 859, 789, 157, 688, 958, 552, 501, 568, 139, 130, 275, 102, 891]\n",
      "286 [83, 102, 690, 260, 319, 157, 478, 334, 67, 697, 799, 167, 736, 953, 688, 323, 275, 158, 597, 457]\n",
      "107 [275, 697, 67, 139, 100, 263, 758, 319, 869, 889, 260, 929, 736, 154, 102, 240, 244, 825, 157, 844]\n",
      "445 [319, 102, 697, 728, 457, 434, 100, 376, 275, 736, 832, 67, 889, 937, 131, 552, 107, 216, 415, 89]\n",
      "516 [832, 275, 442, 315, 263, 67, 728, 107, 145, 697, 869, 319, 457, 859, 343, 131, 862, 758, 392, 710]\n",
      "4 [697, 275, 457, 869, 746, 832, 252, 315, 260, 478, 444, 496, 100, 916, 41, 328, 888, 345, 707, 449]\n",
      "480 [697, 832, 323, 376, 491, 275, 928, 869, 552, 315, 365, 145, 457, 449, 253, 814, 264, 260, 396, 522]\n",
      "556 [697, 315, 832, 736, 102, 67, 19, 869, 319, 928, 457, 344, 814, 809, 83, 275, 819, 107, 688, 668]\n",
      "392 [319, 961, 275, 457, 260, 758, 123, 844, 449, 600, 454, 263, 542, 920, 697, 623, 139, 189, 359, 754]\n",
      "618 [697, 457, 319, 255, 736, 832, 130, 334, 260, 505, 102, 201, 449, 758, 66, 83, 958, 789, 690, 145]\n",
      "465 [334, 688, 154, 377, 893, 260, 449, 83, 819, 697, 583, 958, 600, 427, 457, 887, 721, 478, 158, 668]\n",
      "157 [697, 145, 328, 457, 260, 334, 746, 888, 832, 275, 11, 603, 753, 89, 431, 814, 389, 964, 754, 893]\n",
      "409 [315, 319, 83, 832, 275, 107, 697, 457, 736, 143, 525, 100, 925, 263, 260, 288, 891, 767, 264, 916]\n",
      "296 [832, 315, 263, 83, 697, 736, 334, 260, 319, 652, 275, 323, 411, 160, 964, 339, 72, 457, 107, 506]\n",
      "663 [697, 819, 275, 319, 928, 888, 746, 260, 449, 736, 139, 160, 832, 457, 315, 67, 720, 848, 353, 83]\n",
      "762 [246, 411, 323, 107, 260, 275, 334, 888, 612, 263, 832, 754, 473, 100, 491, 714, 158, 261, 102, 22]\n",
      "38 [697, 334, 89, 328, 457, 601, 949, 139, 758, 773, 967, 260, 745, 157, 736, 916, 380, 674, 754, 597]\n",
      "421 [832, 334, 315, 424, 457, 449, 697, 349, 245, 961, 542, 552, 70, 721, 767, 728, 370, 693, 688, 264]\n",
      "511 [107, 319, 457, 697, 266, 869, 67, 102, 184, 315, 643, 728, 729, 577, 370, 392, 879, 917, 323, 130]\n",
      "658 [275, 457, 315, 799, 83, 449, 244, 728, 869, 334, 736, 145, 570, 234, 688, 370, 102, 154, 158, 644]\n",
      "319 [736, 275, 334, 697, 728, 139, 570, 893, 666, 145, 160, 958, 904, 83, 888, 457, 427, 148, 319, 263]\n",
      "431 [275, 697, 260, 100, 457, 215, 869, 83, 334, 449, 246, 953, 888, 728, 319, 459, 360, 212, 22, 674]\n",
      "660 [832, 736, 315, 334, 873, 160, 457, 728, 961, 319, 139, 328, 787, 427, 949, 235, 102, 818, 72, 344]\n",
      "514 [697, 457, 832, 107, 334, 263, 275, 319, 449, 688, 736, 160, 505, 67, 377, 146, 799, 145, 439, 260]\n",
      "826 [263, 697, 100, 67, 319, 457, 157, 773, 415, 447, 315, 888, 449, 807, 336, 961, 260, 334, 139, 964]\n",
      "15 [83, 139, 449, 275, 697, 201, 260, 263, 319, 244, 525, 334, 315, 736, 688, 832, 246, 298, 80, 264]\n",
      "140 [260, 315, 139, 832, 958, 478, 83, 444, 102, 736, 661, 275, 460, 67, 50, 872, 323, 319, 16, 697]\n",
      "779 [697, 275, 334, 278, 145, 260, 832, 449, 814, 764, 869, 552, 736, 953, 728, 157, 315, 256, 733, 478]\n",
      "573 [697, 315, 260, 457, 334, 67, 758, 319, 323, 721, 730, 525, 542, 736, 869, 265, 641, 160, 275, 814]\n",
      "88 [102, 736, 201, 323, 697, 180, 720, 707, 100, 728, 832, 820, 319, 688, 43, 864, 879, 916, 961, 493]\n",
      "810 [319, 315, 102, 83, 130, 263, 275, 767, 736, 107, 139, 721, 478, 195, 460, 334, 159, 644, 728, 341]\n",
      "9 [319, 260, 754, 449, 157, 139, 427, 83, 370, 457, 411, 158, 315, 130, 263, 525, 807, 814, 478, 169]\n",
      "646 [145, 552, 478, 319, 341, 859, 275, 569, 916, 334, 315, 289, 382, 260, 553, 568, 480, 83, 263, 376]\n",
      "87 [319, 697, 315, 102, 721, 334, 159, 200, 83, 728, 260, 460, 814, 694, 160, 736, 449, 457, 739, 97]\n",
      "440 [315, 832, 72, 736, 697, 916, 334, 107, 260, 460, 696, 67, 102, 83, 253, 323, 342, 869, 263, 928]\n",
      "311 [315, 263, 275, 323, 736, 832, 160, 887, 697, 139, 102, 449, 319, 334, 666, 534, 67, 767, 961, 79]\n",
      "191 [334, 328, 83, 315, 916, 260, 736, 240, 457, 795, 79, 460, 879, 877, 819, 201, 129, 832, 116, 789]\n",
      "389 [260, 832, 457, 67, 145, 334, 728, 736, 83, 697, 315, 323, 319, 552, 869, 927, 310, 893, 612, 275]\n",
      "443 [697, 736, 928, 832, 916, 323, 275, 100, 319, 83, 334, 107, 730, 328, 349, 145, 457, 666, 569, 263]\n",
      "404 [736, 83, 102, 87, 888, 428, 603, 832, 319, 315, 754, 263, 707, 167, 100, 949, 745, 873, 143, 275]\n",
      "340 [697, 167, 832, 319, 139, 449, 721, 260, 315, 736, 263, 787, 246, 869, 399, 415, 457, 334, 397, 255]\n",
      "470 [697, 260, 275, 888, 315, 263, 171, 833, 139, 67, 83, 773, 246, 585, 814, 688, 819, 160, 736, 244]\n",
      "160 [697, 728, 100, 736, 83, 661, 275, 238, 645, 927, 961, 334, 517, 102, 160, 319, 674, 873, 730, 140]\n",
      "287 [697, 319, 869, 83, 456, 916, 260, 457, 102, 832, 360, 130, 927, 730, 315, 263, 275, 322, 536, 109]\n",
      "756 [697, 275, 319, 736, 754, 83, 123, 832, 201, 102, 278, 134, 100, 444, 552, 167, 107, 333, 341, 198]\n",
      "236 [334, 102, 728, 319, 457, 552, 107, 819, 724, 697, 275, 688, 399, 807, 130, 736, 415, 157, 67, 368]\n",
      "78 [275, 697, 102, 758, 319, 67, 832, 260, 263, 844, 83, 551, 893, 918, 323, 103, 8, 195, 809, 231]\n",
      "59 [869, 916, 491, 420, 697, 160, 145, 525, 736, 263, 275, 832, 442, 746, 888, 570, 928, 334, 457, 67]\n",
      "338 [697, 869, 736, 832, 275, 847, 814, 315, 807, 89, 449, 457, 728, 107, 67, 929, 357, 68, 3, 887]\n",
      "453 [315, 869, 873, 334, 792, 275, 107, 123, 697, 525, 570, 319, 457, 911, 245, 942, 807, 415, 549, 118]\n",
      "807 [697, 275, 260, 315, 328, 145, 67, 319, 457, 102, 928, 201, 241, 597, 157, 107, 498, 89, 720, 748]\n",
      "131 [260, 83, 457, 697, 275, 334, 688, 315, 407, 328, 100, 449, 553, 201, 382, 832, 478, 661, 973, 916]\n",
      "390 [457, 832, 167, 319, 260, 67, 323, 107, 100, 212, 928, 328, 275, 263, 756, 392, 357, 758, 315, 552]\n",
      "122 [697, 953, 260, 315, 102, 524, 161, 457, 638, 334, 288, 19, 485, 552, 832, 167, 646, 924, 136, 41]\n",
      "776 [697, 457, 275, 832, 449, 100, 736, 319, 552, 728, 315, 260, 83, 767, 976, 746, 139, 750, 160, 956]\n",
      "84 [873, 319, 315, 102, 376, 697, 83, 736, 100, 157, 428, 244, 599, 334, 730, 567, 542, 552, 8, 825]\n",
      "458 [315, 697, 869, 832, 160, 376, 707, 67, 457, 263, 107, 720, 888, 275, 736, 319, 97, 728, 14, 522]\n",
      "35 [697, 832, 457, 928, 319, 449, 478, 799, 772, 67, 275, 260, 552, 97, 130, 315, 814, 167, 869, 325]\n",
      "667 [697, 260, 457, 754, 246, 319, 728, 334, 328, 214, 100, 275, 674, 67, 323, 315, 586, 288, 107, 773]\n",
      "803 [315, 457, 263, 832, 411, 688, 319, 334, 83, 879, 767, 415, 810, 666, 260, 799, 796, 102, 130, 167]\n",
      "467 [697, 334, 832, 275, 491, 260, 736, 552, 263, 411, 323, 383, 728, 102, 716, 315, 431, 139, 525, 505]\n",
      "365 [869, 697, 457, 916, 278, 67, 275, 102, 491, 832, 688, 887, 201, 758, 260, 873, 158, 334, 263, 622]\n",
      "179 [832, 697, 869, 275, 315, 736, 102, 916, 260, 457, 301, 246, 319, 814, 323, 130, 166, 928, 334, 277]\n",
      "176 [145, 807, 102, 736, 275, 525, 260, 697, 457, 67, 100, 869, 381, 328, 427, 728, 77, 758, 879, 416]\n",
      "463 [275, 83, 319, 697, 736, 100, 478, 315, 888, 102, 832, 869, 449, 457, 328, 730, 263, 916, 334, 802]\n",
      "471 [275, 697, 457, 427, 832, 736, 319, 100, 631, 434, 949, 920, 502, 728, 83, 343, 799, 580, 323, 139]\n",
      "715 [275, 315, 102, 319, 334, 842, 161, 468, 697, 457, 727, 328, 424, 83, 449, 501, 836, 280, 688, 513]\n",
      "449 [319, 478, 315, 697, 869, 836, 457, 442, 773, 888, 246, 537, 269, 916, 767, 159, 260, 328, 275, 868]\n",
      "464 [275, 832, 697, 754, 376, 102, 315, 688, 160, 449, 246, 319, 758, 457, 260, 278, 534, 263, 570, 130]\n",
      "115 [697, 832, 275, 260, 460, 319, 328, 139, 45, 145, 736, 929, 67, 950, 157, 599, 949, 89, 315, 197]\n",
      "530 [315, 260, 832, 58, 893, 97, 67, 278, 457, 266, 449, 707, 888, 516, 928, 754, 226, 376, 142, 758]\n",
      "366 [315, 457, 319, 916, 87, 449, 730, 832, 688, 83, 244, 102, 160, 869, 37, 544, 275, 407, 845, 697]\n",
      "180 [102, 275, 832, 728, 682, 570, 67, 457, 100, 811, 289, 754, 645, 613, 315, 836, 814, 470, 888, 160]\n",
      "624 [319, 83, 513, 873, 167, 315, 130, 697, 688, 611, 893, 832, 275, 736, 139, 376, 536, 158, 742, 246]\n",
      "145 [275, 697, 260, 102, 145, 160, 916, 427, 736, 315, 130, 832, 758, 319, 730, 979, 457, 754, 836, 609]\n",
      "557 [83, 275, 319, 315, 700, 879, 107, 212, 260, 102, 645, 457, 139, 697, 953, 100, 745, 160, 819, 216]\n",
      "602 [697, 275, 869, 83, 278, 420, 928, 5, 736, 161, 832, 927, 201, 102, 181, 599, 263, 315, 661, 905]\n",
      "615 [315, 160, 334, 263, 407, 754, 290, 787, 428, 832, 688, 736, 888, 622, 449, 873, 534, 358, 661, 916]\n",
      "243 [275, 102, 799, 536, 754, 697, 315, 634, 263, 319, 77, 158, 333, 859, 246, 288, 328, 323, 279, 130]\n",
      "793 [697, 143, 916, 319, 102, 107, 344, 688, 736, 718, 397, 434, 449, 275, 315, 452, 961, 889, 276, 457]\n",
      "489 [832, 315, 102, 697, 449, 869, 145, 275, 319, 888, 103, 468, 260, 728, 736, 444, 127, 559, 887, 100]\n",
      "643 [832, 879, 280, 244, 887, 131, 427, 900, 958, 873, 334, 145, 332, 97, 102, 443, 558, 815, 160, 68]\n",
      "630 [697, 736, 832, 449, 83, 102, 139, 100, 315, 334, 376, 244, 937, 478, 888, 275, 181, 814, 696, 869]\n",
      "655 [315, 697, 263, 449, 552, 457, 707, 736, 832, 334, 89, 275, 260, 525, 324, 427, 348, 107, 754, 19]\n",
      "536 [457, 415, 736, 697, 832, 319, 807, 167, 19, 288, 873, 16, 260, 123, 315, 928, 958, 244, 552, 527]\n",
      "790 [275, 832, 697, 315, 102, 260, 145, 869, 376, 836, 444, 889, 478, 754, 67, 3, 767, 552, 159, 666]\n",
      "174 [697, 319, 536, 832, 102, 315, 754, 275, 160, 178, 457, 83, 888, 244, 833, 263, 100, 343, 145, 799]\n",
      "86 [697, 275, 139, 319, 736, 814, 263, 869, 449, 888, 457, 478, 345, 916, 928, 434, 720, 100, 310, 157]\n",
      "80 [67, 275, 707, 323, 728, 139, 893, 102, 697, 319, 869, 263, 758, 334, 431, 457, 688, 231, 376, 361]\n",
      "64 [570, 315, 869, 736, 697, 457, 319, 690, 275, 263, 893, 102, 478, 928, 139, 160, 666, 720, 67, 260]\n",
      "242 [260, 334, 697, 457, 319, 953, 415, 958, 83, 265, 439, 736, 703, 670, 102, 832, 935, 585, 243, 748]\n",
      "474 [697, 928, 275, 260, 328, 599, 736, 205, 822, 873, 292, 758, 107, 500, 457, 889, 501, 746, 67, 83]\n",
      "519 [697, 457, 157, 315, 478, 83, 275, 449, 130, 143, 611, 263, 65, 812, 67, 552, 328, 653, 319, 107]\n",
      "429 [869, 697, 275, 319, 67, 958, 102, 127, 832, 928, 154, 927, 394, 431, 799, 107, 449, 143, 253, 526]\n",
      "239 [697, 319, 493, 928, 868, 457, 730, 736, 260, 832, 542, 275, 100, 552, 315, 869, 310, 525, 632, 559]\n",
      "377 [832, 256, 315, 260, 888, 697, 275, 893, 457, 319, 227, 50, 328, 100, 513, 728, 62, 814, 139, 102]\n",
      "503 [102, 697, 275, 964, 334, 973, 381, 449, 764, 832, 869, 370, 746, 139, 189, 568, 274, 553, 145, 771]\n",
      "213 [697, 275, 102, 645, 199, 873, 736, 256, 319, 832, 478, 328, 887, 83, 869, 145, 773, 8, 260, 928]\n",
      "484 [736, 275, 83, 315, 513, 457, 832, 67, 553, 785, 697, 102, 319, 130, 888, 100, 160, 683, 611, 531]\n",
      "218 [697, 275, 319, 130, 525, 246, 102, 536, 887, 585, 22, 366, 736, 263, 449, 201, 814, 570, 100, 57]\n",
      "129 [334, 457, 834, 427, 323, 102, 767, 147, 315, 306, 319, 736, 349, 832, 758, 879, 260, 688, 674, 89]\n",
      "524 [275, 260, 697, 570, 334, 263, 832, 244, 888, 102, 953, 457, 83, 918, 342, 139, 754, 278, 736, 758]\n",
      "510 [334, 260, 139, 315, 688, 457, 754, 62, 125, 758, 707, 319, 145, 11, 566, 405, 832, 377, 674, 415]\n",
      "105 [626, 145, 745, 107, 334, 457, 387, 697, 427, 786, 754, 612, 260, 666, 377, 157, 674, 872, 139, 536]\n",
      "281 [697, 832, 467, 160, 260, 315, 552, 275, 263, 736, 140, 244, 274, 449, 428, 746, 888, 361, 457, 728]\n",
      "310 [328, 690, 736, 334, 873, 275, 641, 869, 50, 570, 278, 478, 148, 319, 457, 739, 264, 187, 951, 836]\n",
      "146 [323, 832, 697, 288, 102, 893, 688, 179, 275, 130, 700, 457, 451, 887, 964, 315, 281, 491, 814, 100]\n",
      "126 [697, 334, 349, 525, 376, 869, 100, 958, 260, 447, 449, 328, 832, 457, 238, 102, 505, 621, 289, 8]\n",
      "415 [736, 334, 260, 319, 263, 67, 275, 873, 728, 139, 457, 832, 697, 102, 958, 929, 288, 844, 525, 869]\n",
      "44 [263, 260, 697, 275, 100, 83, 645, 814, 139, 440, 319, 315, 246, 370, 888, 792, 859, 893, 754, 536]\n",
      "616 [832, 102, 736, 275, 697, 449, 319, 238, 728, 145, 879, 160, 916, 315, 139, 179, 87, 201, 67, 632]\n",
      "335 [457, 832, 102, 260, 334, 145, 552, 707, 958, 319, 139, 87, 100, 275, 873, 637, 614, 758, 323, 315]\n",
      "428 [832, 869, 697, 319, 228, 315, 275, 613, 457, 552, 674, 953, 431, 928, 449, 887, 316, 328, 263, 707]\n",
      "716 [457, 319, 832, 552, 697, 807, 67, 263, 100, 102, 275, 964, 334, 260, 359, 382, 844, 728, 545, 376]\n",
      "420 [323, 102, 457, 263, 736, 873, 869, 319, 246, 275, 349, 965, 697, 787, 832, 334, 745, 916, 887, 758]\n",
      "625 [319, 457, 275, 263, 697, 83, 645, 160, 832, 139, 887, 107, 928, 728, 767, 449, 67, 552, 736, 102]\n",
      "330 [275, 832, 697, 102, 736, 495, 869, 513, 319, 315, 244, 525, 375, 728, 467, 214, 323, 377, 310, 263]\n",
      "103 [697, 457, 244, 958, 160, 873, 83, 288, 203, 758, 260, 832, 505, 449, 896, 334, 182, 754, 929, 87]\n",
      "195 [697, 315, 928, 334, 832, 457, 888, 916, 260, 262, 505, 160, 139, 500, 38, 667, 478, 437, 955, 264]\n",
      "753 [832, 697, 457, 767, 887, 315, 328, 275, 100, 928, 758, 869, 884, 256, 431, 319, 716, 736, 888, 251]\n",
      "518 [315, 513, 832, 736, 437, 145, 334, 319, 819, 758, 557, 728, 160, 275, 263, 380, 320, 688, 199, 916]\n",
      "529 [457, 887, 660, 319, 552, 334, 246, 929, 832, 121, 953, 104, 380, 402, 449, 168, 690, 400, 146, 36]\n",
      "748 [139, 263, 697, 328, 427, 196, 260, 323, 334, 736, 205, 832, 478, 145, 457, 315, 916, 67, 366, 888]\n",
      "534 [697, 799, 457, 275, 614, 107, 157, 67, 8, 319, 939, 873, 46, 893, 869, 203, 551, 160, 145, 102]\n",
      "192 [275, 697, 319, 100, 102, 728, 457, 736, 869, 315, 263, 278, 888, 570, 434, 449, 212, 916, 139, 832]\n",
      "316 [315, 260, 697, 83, 957, 154, 817, 449, 879, 214, 377, 789, 953, 349, 939, 32, 328, 478, 323, 661]\n",
      "367 [736, 697, 275, 334, 107, 139, 908, 83, 764, 102, 315, 145, 67, 167, 168, 263, 928, 833, 449, 451]\n",
      "1 [697, 832, 457, 275, 260, 319, 67, 201, 272, 107, 263, 154, 104, 552, 315, 953, 394, 736, 916, 121]\n",
      "235 [457, 139, 697, 260, 319, 832, 478, 552, 869, 958, 611, 928, 822, 334, 50, 263, 376, 873, 674, 67]\n",
      "11 [457, 697, 319, 832, 315, 212, 929, 767, 491, 97, 278, 154, 958, 688, 903, 736, 449, 83, 928, 867]\n",
      "546 [275, 697, 736, 244, 319, 953, 140, 334, 728, 873, 457, 315, 523, 83, 819, 513, 950, 888, 525, 246]\n",
      "642 [832, 107, 928, 697, 328, 415, 869, 674, 614, 377, 315, 260, 746, 139, 916, 953, 245, 457, 396, 308]\n",
      "576 [376, 697, 457, 107, 364, 67, 552, 613, 334, 130, 19, 916, 873, 205, 921, 718, 65, 288, 471, 946]\n",
      "724 [275, 315, 832, 928, 697, 736, 107, 552, 819, 67, 707, 288, 457, 160, 613, 328, 263, 725, 946, 93]\n",
      "10 [832, 697, 315, 688, 275, 449, 334, 869, 736, 873, 102, 767, 323, 746, 319, 431, 139, 263, 888, 411]\n",
      "545 [697, 736, 275, 102, 832, 449, 315, 728, 319, 457, 678, 616, 130, 688, 767, 100, 814, 746, 244, 929]\n",
      "749 [736, 102, 315, 334, 319, 139, 161, 200, 478, 100, 697, 107, 160, 342, 251, 83, 873, 468, 275, 901]\n",
      "248 [697, 799, 67, 958, 102, 736, 631, 107, 319, 928, 869, 707, 275, 310, 315, 690, 96, 83, 130, 353]\n",
      "494 [275, 697, 457, 130, 102, 319, 145, 832, 449, 688, 758, 869, 157, 278, 767, 754, 728, 235, 127, 205]\n",
      "444 [275, 319, 315, 263, 107, 525, 844, 888, 552, 928, 269, 201, 650, 754, 83, 323, 370, 100, 139, 832]\n",
      "168 [275, 315, 697, 953, 736, 952, 730, 832, 319, 707, 202, 728, 102, 814, 661, 548, 517, 553, 145, 157]\n",
      "651 [275, 697, 107, 746, 167, 130, 334, 688, 899, 260, 888, 457, 549, 315, 255, 532, 238, 720, 914, 72]\n",
      "500 [457, 832, 102, 728, 319, 275, 697, 105, 260, 315, 746, 139, 736, 334, 370, 721, 67, 56, 263, 158]\n",
      "267 [736, 697, 275, 334, 107, 315, 457, 319, 552, 832, 928, 728, 385, 67, 370, 263, 795, 556, 833, 65]\n",
      "806 [736, 893, 315, 832, 263, 953, 260, 275, 334, 733, 16, 320, 552, 958, 889, 139, 214, 869, 107, 963]\n",
      "555 [334, 315, 260, 832, 697, 758, 457, 83, 275, 100, 468, 887, 953, 736, 478, 201, 600, 384, 542, 328]\n",
      "156 [100, 334, 552, 102, 323, 832, 893, 457, 697, 648, 711, 319, 263, 315, 302, 288, 321, 415, 135, 888]\n",
      "522 [697, 736, 323, 260, 145, 574, 246, 275, 773, 315, 690, 434, 457, 102, 89, 366, 377, 449, 714, 334]\n",
      "317 [260, 697, 457, 449, 525, 729, 552, 130, 570, 183, 107, 622, 370, 154, 145, 246, 65, 814, 67, 638]\n",
      "75 [697, 449, 736, 458, 83, 100, 244, 102, 457, 67, 66, 103, 319, 315, 967, 779, 478, 940, 507, 275]\n",
      "721 [697, 457, 832, 123, 873, 814, 182, 736, 19, 319, 802, 745, 415, 178, 288, 196, 981, 67, 552, 754]\n",
      "680 [736, 102, 319, 275, 697, 399, 728, 139, 83, 334, 160, 833, 443, 457, 260, 832, 958, 384, 315, 145]\n",
      "21 [697, 457, 260, 107, 819, 832, 275, 888, 427, 928, 961, 599, 100, 661, 232, 160, 376, 328, 525, 895]\n",
      "99 [275, 697, 832, 736, 145, 87, 160, 467, 457, 315, 426, 661, 179, 37, 570, 916, 260, 102, 928, 914]\n",
      "809 [697, 83, 315, 958, 260, 888, 491, 832, 323, 275, 893, 341, 376, 457, 102, 736, 973, 631, 928, 614]\n",
      "796 [525, 697, 67, 773, 260, 246, 457, 275, 407, 832, 315, 323, 263, 449, 157, 319, 814, 688, 334, 504]\n",
      "571 [139, 315, 157, 953, 260, 457, 697, 873, 102, 334, 197, 67, 773, 83, 611, 721, 542, 263, 688, 552]\n",
      "359 [275, 260, 315, 143, 19, 212, 697, 916, 67, 688, 145, 46, 201, 707, 87, 231, 888, 929, 832, 102]\n",
      "164 [697, 275, 736, 67, 869, 315, 102, 130, 720, 832, 100, 260, 244, 457, 319, 92, 201, 525, 728, 263]\n",
      "167 [67, 260, 697, 323, 457, 201, 231, 187, 253, 814, 334, 324, 832, 97, 431, 767, 157, 964, 927, 491]\n",
      "640 [315, 334, 457, 65, 280, 525, 449, 357, 736, 887, 260, 970, 795, 690, 697, 732, 19, 275, 67, 941]\n",
      "508 [449, 315, 275, 869, 83, 370, 319, 832, 145, 879, 736, 143, 253, 67, 697, 701, 457, 870, 263, 525]\n",
      "249 [275, 201, 334, 736, 730, 697, 315, 39, 688, 296, 754, 478, 428, 139, 767, 714, 953, 38, 83, 306]\n",
      "754 [697, 275, 928, 323, 107, 260, 953, 457, 154, 377, 179, 767, 688, 334, 736, 491, 645, 976, 224, 357]\n",
      "811 [697, 688, 449, 319, 832, 467, 275, 19, 927, 107, 961, 525, 83, 941, 315, 873, 457, 157, 167, 888]\n",
      "6 [319, 552, 697, 736, 275, 263, 67, 102, 509, 162, 525, 315, 868, 334, 457, 728, 869, 698, 228, 785]\n",
      "435 [145, 697, 275, 376, 485, 260, 888, 89, 334, 100, 673, 661, 131, 945, 754, 263, 8, 920, 573, 370]\n",
      "583 [832, 887, 449, 201, 275, 916, 736, 334, 525, 28, 697, 411, 263, 107, 260, 130, 896, 929, 158, 687]\n",
      "706 [275, 814, 736, 869, 449, 832, 767, 928, 888, 236, 199, 260, 315, 753, 457, 728, 318, 803, 552, 573]\n",
      "554 [697, 275, 376, 457, 920, 799, 83, 832, 536, 255, 145, 167, 382, 468, 370, 201, 178, 94, 157, 341]\n",
      "584 [916, 107, 315, 275, 427, 197, 376, 319, 328, 728, 879, 730, 550, 754, 145, 870, 661, 599, 513, 334]\n",
      "475 [916, 832, 315, 102, 688, 275, 328, 457, 570, 961, 869, 319, 407, 381, 525, 107, 888, 399, 524, 139]\n",
      "678 [697, 275, 369, 916, 964, 440, 832, 862, 376, 869, 720, 102, 728, 381, 263, 281, 773, 570, 748, 442]\n",
      "298 [102, 697, 139, 736, 832, 928, 319, 720, 958, 83, 244, 690, 868, 260, 167, 913, 894, 246, 275, 315]\n",
      "436 [736, 67, 145, 127, 728, 697, 457, 809, 263, 140, 275, 449, 601, 87, 688, 334, 690, 902, 13, 832]\n",
      "386 [832, 85, 145, 334, 139, 102, 160, 399, 323, 928, 154, 398, 758, 567, 879, 746, 614, 721, 107, 779]\n",
      "375 [319, 697, 266, 67, 718, 457, 334, 650, 102, 928, 525, 736, 205, 263, 711, 676, 767, 733, 125, 661]\n",
      "373 [275, 697, 315, 832, 736, 888, 260, 868, 661, 869, 139, 928, 895, 399, 728, 3, 68, 107, 773, 361]\n",
      "459 [457, 100, 319, 275, 570, 832, 139, 754, 376, 263, 246, 823, 334, 613, 49, 737, 83, 315, 41, 160]\n",
      "590 [102, 832, 275, 315, 530, 67, 736, 953, 697, 334, 661, 888, 107, 457, 477, 638, 779, 728, 342, 341]\n",
      "525 [275, 697, 728, 319, 145, 377, 345, 292, 55, 457, 916, 688, 484, 869, 78, 376, 888, 199, 331, 107]\n",
      "775 [315, 83, 334, 167, 842, 736, 809, 714, 893, 869, 833, 888, 697, 688, 690, 449, 535, 457, 278, 145]\n",
      "488 [315, 832, 102, 697, 260, 578, 263, 767, 342, 83, 888, 275, 449, 143, 457, 246, 230, 736, 30, 588]\n",
      "412 [275, 832, 736, 697, 407, 928, 315, 869, 334, 319, 87, 67, 611, 888, 160, 262, 333, 102, 145, 3]\n",
      "2 [275, 832, 315, 697, 102, 928, 869, 323, 953, 107, 666, 879, 449, 200, 139, 728, 260, 599, 319, 799]\n",
      "162 [688, 457, 139, 275, 102, 736, 315, 754, 832, 513, 869, 674, 19, 958, 319, 707, 256, 383, 83, 449]\n",
      "604 [334, 832, 736, 139, 457, 697, 102, 275, 319, 315, 323, 666, 167, 819, 260, 746, 415, 928, 478, 767]\n",
      "605 [697, 869, 736, 652, 832, 319, 491, 690, 552, 275, 264, 67, 728, 315, 232, 449, 611, 688, 414, 872]\n",
      "815 [334, 736, 376, 319, 688, 275, 289, 145, 278, 255, 328, 102, 315, 836, 238, 832, 478, 130, 427, 698]\n",
      "224 [916, 260, 457, 275, 758, 334, 525, 67, 145, 731, 423, 238, 87, 542, 377, 961, 246, 844, 505, 460]\n",
      "812 [457, 836, 319, 107, 697, 873, 832, 102, 67, 167, 978, 334, 449, 289, 382, 46, 231, 97, 277, 939]\n",
      "354 [616, 280, 457, 832, 449, 145, 260, 380, 107, 139, 472, 836, 334, 264, 869, 246, 697, 736, 319, 275]\n",
      "664 [697, 315, 102, 275, 746, 728, 736, 145, 661, 973, 526, 707, 916, 869, 244, 720, 334, 688, 100, 819]\n",
      "528 [697, 736, 260, 275, 263, 334, 67, 552, 449, 139, 145, 888, 556, 457, 832, 319, 637, 167, 478, 460]\n",
      "95 [275, 697, 67, 449, 145, 157, 260, 130, 457, 478, 832, 103, 431, 102, 526, 319, 746, 409, 688, 334]\n",
      "14 [697, 832, 888, 411, 819, 868, 260, 457, 263, 334, 399, 107, 449, 158, 83, 376, 525, 736, 319, 754]\n",
      "808 [697, 593, 107, 928, 832, 457, 888, 728, 135, 102, 661, 319, 67, 100, 964, 376, 871, 411, 160, 248]\n",
      "57 [102, 145, 958, 736, 427, 754, 832, 334, 478, 335, 83, 275, 444, 139, 260, 697, 468, 100, 319, 342]\n",
      "348 [334, 260, 345, 263, 427, 457, 290, 107, 976, 893, 621, 411, 888, 736, 349, 749, 449, 697, 100, 234]\n",
      "79 [697, 832, 145, 754, 873, 83, 255, 736, 767, 961, 980, 275, 334, 688, 928, 920, 903, 260, 457, 341]\n",
      "734 [275, 139, 100, 728, 964, 832, 697, 869, 457, 767, 319, 107, 140, 323, 102, 953, 263, 236, 315, 690]\n",
      "45 [697, 334, 869, 916, 767, 736, 323, 266, 427, 457, 698, 411, 263, 139, 319, 609, 833, 472, 548, 167]\n",
      "692 [697, 319, 260, 315, 958, 158, 65, 67, 102, 143, 457, 244, 408, 927, 449, 525, 157, 896, 212, 941]\n",
      "110 [728, 697, 334, 832, 67, 315, 441, 102, 736, 323, 275, 819, 260, 407, 636, 887, 319, 130, 764, 525]\n",
      "634 [107, 315, 275, 697, 887, 916, 377, 83, 728, 457, 265, 736, 154, 869, 484, 570, 928, 370, 407, 334]\n",
      "562 [334, 832, 953, 315, 674, 457, 319, 377, 601, 323, 260, 154, 123, 398, 107, 736, 754, 95, 552, 187]\n",
      "217 [832, 275, 263, 736, 525, 720, 552, 449, 697, 102, 869, 67, 201, 787, 457, 145, 807, 650, 893, 334]\n",
      "622 [697, 319, 869, 130, 275, 888, 736, 107, 434, 832, 769, 728, 441, 449, 123, 103, 730, 260, 814, 818]\n",
      "597 [315, 83, 275, 832, 888, 688, 697, 343, 244, 840, 66, 383, 766, 428, 160, 370, 467, 341, 263, 246]\n",
      "378 [334, 736, 697, 275, 457, 449, 728, 107, 415, 690, 513, 145, 38, 552, 920, 411, 257, 791, 65, 349]\n",
      "419 [319, 697, 275, 160, 457, 1, 67, 389, 264, 928, 315, 901, 334, 728, 370, 107, 280, 157, 950, 781]\n",
      "136 [697, 457, 130, 832, 315, 260, 376, 163, 275, 65, 407, 160, 272, 102, 364, 319, 107, 427, 873, 8]\n",
      "709 [832, 275, 102, 457, 362, 67, 403, 315, 323, 143, 697, 964, 381, 107, 953, 263, 246, 599, 869, 551]\n",
      "543 [697, 457, 736, 275, 832, 315, 260, 869, 334, 145, 102, 449, 555, 46, 789, 915, 725, 278, 730, 728]\n",
      "416 [334, 107, 263, 67, 315, 887, 697, 449, 139, 323, 636, 457, 707, 415, 832, 850, 396, 728, 467, 160]\n",
      "143 [832, 697, 869, 736, 334, 315, 67, 319, 448, 478, 145, 102, 887, 457, 889, 688, 705, 244, 201, 666]\n",
      "801 [102, 334, 315, 83, 139, 697, 260, 263, 201, 376, 665, 50, 754, 893, 622, 478, 666, 707, 473, 928]\n",
      "581 [275, 697, 736, 334, 107, 260, 102, 323, 89, 207, 819, 570, 953, 170, 916, 100, 661, 862, 263, 457]\n",
      "134 [275, 645, 697, 767, 260, 888, 728, 328, 688, 736, 457, 949, 393, 154, 953, 196, 107, 859, 334, 630]\n",
      "425 [697, 457, 260, 832, 65, 275, 319, 448, 334, 89, 102, 388, 758, 427, 754, 736, 357, 792, 928, 41]\n",
      "135 [275, 697, 319, 457, 102, 666, 154, 746, 728, 836, 733, 869, 847, 489, 260, 145, 799, 246, 674, 103]\n",
      "495 [100, 457, 323, 832, 697, 263, 102, 696, 552, 315, 449, 131, 491, 319, 879, 275, 754, 143, 434, 965]\n",
      "781 [697, 275, 928, 263, 832, 349, 67, 139, 449, 100, 888, 457, 411, 313, 319, 764, 167, 967, 157, 478]\n",
      "450 [736, 832, 139, 449, 472, 167, 928, 334, 478, 697, 145, 260, 263, 767, 328, 754, 315, 427, 552, 913]\n",
      "391 [319, 323, 697, 100, 315, 102, 19, 457, 832, 139, 40, 275, 431, 754, 263, 260, 67, 525, 599, 666]\n",
      "393 [736, 67, 195, 449, 263, 319, 102, 444, 100, 832, 457, 275, 83, 145, 201, 35, 315, 525, 807, 137]\n",
      "439 [457, 334, 697, 736, 319, 958, 67, 225, 478, 688, 868, 275, 427, 48, 449, 621, 100, 253, 460, 728]\n",
      "196 [323, 869, 315, 334, 195, 736, 697, 130, 449, 139, 460, 787, 728, 167, 260, 848, 107, 770, 275, 328]\n",
      "427 [275, 107, 832, 319, 263, 315, 707, 67, 102, 536, 246, 688, 887, 928, 599, 616, 139, 697, 401, 888]\n",
      "683 [315, 334, 102, 887, 323, 697, 688, 319, 599, 457, 130, 869, 43, 489, 348, 736, 107, 547, 67, 535]\n",
      "565 [275, 754, 697, 315, 100, 832, 383, 319, 859, 83, 334, 891, 67, 157, 206, 263, 457, 966, 145, 869]\n",
      "362 [697, 457, 275, 145, 260, 614, 212, 323, 758, 102, 334, 140, 107, 449, 157, 832, 688, 65, 728, 858]\n",
      "670 [275, 697, 376, 552, 130, 449, 688, 260, 315, 319, 832, 107, 246, 323, 131, 139, 668, 83, 767, 457]\n",
      "673 [832, 315, 145, 376, 102, 697, 130, 457, 341, 888, 505, 83, 869, 2, 559, 160, 958, 736, 367, 100]\n",
      "339 [457, 832, 697, 334, 130, 263, 315, 758, 107, 102, 449, 736, 145, 869, 806, 552, 484, 275, 288, 415]\n",
      "275 [457, 697, 832, 107, 145, 334, 427, 260, 607, 8, 19, 887, 100, 685, 83, 245, 315, 449, 958, 720]\n",
      "592 [697, 444, 478, 688, 255, 614, 121, 869, 335, 721, 320, 552, 349, 83, 449, 263, 491, 634, 167, 937]\n",
      "677 [260, 697, 275, 315, 334, 376, 107, 364, 832, 323, 246, 819, 536, 869, 758, 263, 552, 457, 465, 319]\n",
      "712 [263, 697, 319, 431, 370, 67, 888, 869, 525, 411, 334, 730, 244, 388, 449, 349, 947, 107, 144, 772]\n",
      "120 [457, 697, 67, 275, 260, 728, 145, 319, 929, 19, 552, 553, 814, 394, 154, 235, 711, 100, 344, 866]\n",
      "394 [260, 688, 238, 334, 449, 832, 525, 87, 328, 505, 802, 275, 107, 345, 645, 569, 201, 754, 306, 729]\n",
      "402 [246, 315, 102, 754, 275, 83, 201, 832, 67, 697, 263, 100, 688, 449, 467, 893, 346, 43, 334, 879]\n",
      "682 [67, 145, 697, 688, 457, 431, 19, 107, 275, 102, 315, 131, 916, 888, 832, 100, 130, 192, 869, 157]\n",
      "685 [334, 328, 953, 958, 949, 457, 260, 802, 187, 491, 748, 879, 888, 319, 160, 799, 102, 916, 697, 754]\n",
      "627 [697, 832, 736, 958, 785, 720, 275, 873, 457, 368, 319, 102, 49, 344, 420, 244, 83, 323, 666, 668]\n",
      "263 [832, 457, 697, 275, 288, 244, 319, 157, 263, 437, 742, 315, 688, 515, 411, 585, 567, 67, 915, 259]\n",
      "802 [832, 457, 736, 275, 697, 102, 334, 315, 145, 570, 244, 552, 427, 260, 728, 83, 819, 235, 953, 580]\n",
      "549 [275, 263, 525, 160, 697, 736, 745, 457, 953, 179, 139, 67, 688, 873, 832, 632, 265, 102, 844, 551]\n",
      "77 [275, 323, 832, 319, 457, 688, 697, 315, 427, 139, 728, 212, 958, 67, 107, 334, 260, 707, 253, 807]\n",
      "257 [315, 107, 779, 260, 697, 478, 334, 688, 324, 323, 83, 143, 426, 736, 887, 844, 928, 832, 953, 275]\n",
      "566 [832, 697, 275, 869, 107, 468, 491, 457, 140, 460, 319, 661, 407, 746, 274, 427, 382, 916, 449, 145]\n",
      "693 [315, 536, 832, 181, 814, 392, 102, 928, 376, 83, 275, 592, 746, 178, 407, 927, 139, 434, 328, 442]\n",
      "209 [697, 873, 334, 107, 736, 275, 725, 328, 953, 264, 754, 145, 743, 315, 123, 278, 890, 449, 552, 260]\n",
      "723 [376, 457, 832, 697, 319, 836, 328, 130, 688, 195, 767, 67, 275, 199, 449, 711, 143, 341, 315, 823]\n",
      "644 [697, 275, 767, 102, 688, 736, 376, 130, 334, 440, 908, 973, 764, 319, 260, 288, 115, 244, 666, 103]\n",
      "184 [832, 767, 377, 315, 328, 928, 107, 736, 275, 674, 625, 547, 415, 66, 334, 823, 366, 457, 887, 380]\n",
      "694 [275, 728, 145, 697, 552, 315, 467, 102, 468, 107, 19, 26, 947, 68, 863, 87, 319, 334, 97, 707]\n",
      "492 [275, 728, 102, 697, 67, 143, 869, 614, 552, 551, 953, 315, 513, 278, 456, 263, 736, 109, 244, 950]\n",
      "187 [319, 869, 102, 201, 836, 832, 457, 730, 334, 625, 650, 736, 275, 100, 697, 688, 315, 263, 720, 873]\n",
      "230 [275, 697, 315, 449, 107, 399, 832, 585, 467, 370, 764, 167, 146, 83, 953, 19, 319, 537, 869, 882]\n",
      "372 [832, 315, 457, 102, 260, 201, 263, 275, 319, 344, 380, 916, 869, 139, 887, 786, 685, 87, 953, 710]\n",
      "23 [916, 736, 107, 275, 949, 315, 319, 661, 269, 278, 108, 328, 389, 927, 370, 143, 83, 879, 415, 334]\n",
      "774 [569, 832, 819, 457, 275, 107, 319, 583, 55, 377, 344, 479, 334, 630, 50, 154, 697, 179, 868, 365]\n",
      "344 [275, 315, 832, 334, 107, 869, 46, 457, 478, 263, 280, 160, 427, 357, 688, 67, 697, 468, 319, 407]\n",
      "564 [697, 67, 736, 275, 661, 457, 334, 107, 756, 629, 328, 319, 167, 814, 260, 255, 139, 733, 868, 105]\n",
      "290 [697, 275, 457, 832, 736, 929, 869, 107, 315, 145, 449, 67, 158, 728, 467, 814, 244, 888, 157, 495]\n",
      "300 [275, 83, 102, 457, 736, 319, 315, 478, 328, 381, 916, 263, 928, 733, 303, 613, 473, 844, 260, 525]\n",
      "550 [334, 697, 457, 728, 736, 869, 275, 758, 832, 668, 844, 552, 315, 319, 102, 260, 460, 958, 525, 767]\n",
      "526 [697, 275, 873, 83, 736, 263, 451, 534, 315, 143, 290, 570, 928, 666, 725, 67, 889, 244, 376, 457]\n",
      "538 [832, 102, 16, 376, 457, 260, 245, 315, 836, 679, 525, 636, 83, 490, 697, 728, 953, 809, 887, 67]\n",
      "385 [370, 263, 349, 260, 143, 102, 107, 315, 697, 457, 916, 275, 869, 139, 879, 160, 342, 334, 290, 624]\n",
      "432 [319, 315, 102, 697, 100, 457, 449, 814, 832, 688, 87, 130, 668, 103, 552, 212, 736, 10, 916, 157]\n",
      "231 [736, 334, 315, 319, 869, 929, 832, 680, 235, 83, 449, 201, 526, 102, 787, 688, 887, 323, 844, 697]\n",
      "189 [275, 736, 319, 331, 730, 334, 328, 869, 513, 102, 83, 587, 67, 733, 315, 260, 975, 697, 478, 130]\n",
      "705 [275, 697, 832, 102, 736, 661, 818, 319, 100, 315, 807, 376, 728, 108, 143, 809, 836, 916, 457, 244]\n",
      "669 [697, 736, 275, 887, 961, 19, 83, 832, 873, 235, 334, 611, 428, 714, 764, 89, 645, 427, 68, 688]\n",
      "58 [275, 832, 728, 334, 887, 736, 929, 915, 328, 767, 457, 697, 246, 688, 102, 315, 348, 733, 449, 888]\n",
      "306 [832, 315, 736, 697, 201, 334, 319, 868, 730, 888, 457, 100, 929, 83, 758, 552, 341, 158, 139, 275]\n",
      "269 [697, 736, 275, 832, 928, 145, 478, 334, 773, 115, 888, 873, 255, 457, 167, 728, 383, 552, 573, 720]\n",
      "714 [736, 102, 728, 893, 130, 328, 816, 103, 275, 244, 814, 682, 888, 278, 478, 319, 83, 928, 348, 754]\n",
      "717 [315, 570, 319, 102, 434, 762, 43, 136, 697, 736, 869, 832, 107, 674, 334, 601, 889, 265, 773, 253]\n",
      "720 [697, 334, 275, 376, 832, 736, 873, 728, 66, 263, 35, 526, 889, 840, 467, 157, 160, 83, 352, 525]\n",
      "100 [275, 319, 457, 201, 67, 697, 836, 157, 102, 866, 832, 600, 736, 160, 315, 730, 710, 139, 100, 928]\n",
      "542 [697, 736, 315, 434, 832, 275, 457, 552, 102, 666, 349, 484, 363, 334, 916, 834, 19, 889, 125, 100]\n",
      "65 [457, 736, 697, 334, 167, 314, 260, 319, 275, 449, 832, 688, 328, 139, 50, 512, 451, 961, 569, 89]\n",
      "726 [832, 334, 728, 697, 929, 656, 916, 145, 103, 280, 457, 94, 67, 733, 736, 123, 889, 707, 915, 208]\n",
      "374 [697, 376, 323, 736, 269, 102, 315, 212, 745, 452, 836, 83, 457, 451, 927, 103, 369, 916, 513, 67]\n",
      "403 [315, 697, 83, 457, 832, 319, 260, 263, 201, 139, 434, 873, 888, 376, 334, 157, 107, 478, 599, 328]\n",
      "513 [275, 697, 102, 736, 728, 758, 888, 315, 260, 160, 746, 67, 457, 319, 139, 278, 244, 826, 460, 246]\n",
      "652 [832, 697, 457, 100, 415, 791, 260, 758, 89, 916, 245, 315, 887, 83, 736, 244, 139, 449, 275, 631]\n",
      "589 [697, 832, 873, 275, 869, 887, 102, 341, 644, 315, 953, 457, 427, 814, 916, 131, 928, 8, 199, 552]\n",
      "739 [457, 525, 244, 697, 319, 83, 334, 736, 263, 100, 552, 246, 819, 67, 449, 260, 348, 818, 160, 650]\n",
      "203 [275, 697, 736, 263, 319, 260, 201, 457, 449, 212, 720, 434, 807, 832, 525, 928, 67, 427, 570, 392]\n",
      "741 [869, 315, 720, 832, 888, 323, 319, 450, 697, 334, 269, 728, 457, 721, 263, 578, 836, 622, 464, 275]\n",
      "728 [275, 334, 758, 102, 457, 832, 145, 100, 728, 196, 953, 947, 315, 431, 67, 130, 697, 553, 736, 323]\n",
      "380 [449, 832, 697, 334, 457, 275, 736, 67, 789, 139, 928, 160, 145, 728, 263, 938, 879, 415, 819, 100]\n",
      "253 [697, 315, 275, 67, 832, 746, 928, 263, 457, 869, 814, 100, 700, 728, 534, 135, 319, 736, 415, 234]\n",
      "751 [697, 275, 139, 844, 736, 746, 457, 650, 869, 928, 67, 234, 728, 19, 102, 553, 107, 833, 100, 435]\n",
      "493 [697, 868, 928, 449, 787, 255, 260, 736, 83, 167, 734, 127, 938, 275, 832, 145, 955, 799, 176, 138]\n",
      "111 [688, 334, 275, 736, 67, 697, 107, 832, 102, 764, 263, 525, 491, 1, 349, 457, 424, 43, 146, 467]\n",
      "51 [260, 275, 728, 832, 139, 449, 953, 246, 102, 380, 370, 457, 157, 697, 79, 929, 83, 950, 334, 328]\n",
      "351 [697, 145, 275, 260, 736, 832, 879, 449, 244, 789, 953, 102, 525, 103, 457, 480, 632, 328, 130, 710]\n",
      "732 [260, 102, 525, 697, 888, 348, 376, 457, 201, 728, 319, 688, 83, 103, 399, 145, 449, 180, 819, 315]\n",
      "580 [832, 275, 334, 157, 720, 319, 457, 955, 158, 102, 697, 145, 929, 359, 67, 185, 201, 868, 139, 688]\n",
      "282 [457, 832, 334, 83, 266, 319, 893, 67, 586, 323, 130, 745, 717, 260, 107, 328, 569, 937, 102, 265]\n",
      "768 [697, 736, 457, 319, 275, 83, 869, 139, 201, 231, 849, 562, 893, 832, 328, 102, 130, 824, 334, 449]\n",
      "600 [102, 315, 457, 688, 319, 449, 275, 832, 67, 160, 323, 645, 758, 697, 407, 728, 836, 334, 489, 256]\n",
      "711 [728, 145, 864, 275, 315, 102, 697, 260, 319, 536, 399, 961, 978, 427, 334, 456, 384, 773, 707, 661]\n",
      "668 [315, 319, 552, 955, 697, 67, 449, 275, 728, 138, 264, 787, 832, 102, 160, 195, 911, 344, 721, 218]\n",
      "636 [334, 688, 67, 869, 661, 457, 315, 697, 525, 746, 609, 370, 767, 102, 157, 107, 275, 160, 868, 299]\n",
      "743 [275, 697, 736, 260, 263, 832, 641, 928, 102, 457, 160, 334, 83, 100, 67, 255, 970, 315, 447, 148]\n",
      "744 [275, 736, 278, 154, 603, 832, 500, 187, 551, 334, 641, 697, 690, 290, 244, 103, 567, 83, 857, 18]\n",
      "747 [275, 832, 319, 263, 315, 688, 411, 754, 127, 736, 733, 522, 157, 431, 11, 961, 525, 888, 107, 334]\n",
      "755 [736, 697, 799, 334, 319, 310, 662, 123, 275, 145, 832, 160, 263, 399, 916, 888, 552, 87, 208, 781]\n",
      "750 [697, 19, 290, 107, 275, 457, 260, 266, 525, 92, 668, 605, 97, 89, 958, 688, 650, 323, 214, 736]\n",
      "295 [315, 832, 260, 275, 697, 449, 67, 491, 263, 754, 928, 277, 953, 525, 145, 888, 370, 787, 814, 102]\n",
      "101 [697, 736, 916, 275, 100, 160, 730, 832, 707, 145, 139, 869, 315, 263, 728, 840, 528, 495, 244, 929]\n",
      "422 [697, 67, 275, 145, 449, 315, 457, 869, 478, 908, 928, 266, 832, 228, 568, 305, 746, 461, 319, 334]\n",
      "352 [832, 525, 697, 260, 457, 736, 802, 319, 953, 403, 844, 315, 265, 334, 961, 275, 929, 343, 552, 244]\n",
      "816 [697, 319, 736, 819, 833, 260, 67, 457, 102, 275, 728, 597, 145, 888, 334, 244, 72, 160, 666, 525]\n",
      "329 [83, 754, 315, 275, 697, 167, 158, 107, 832, 548, 246, 130, 244, 532, 953, 688, 911, 457, 179, 102]\n",
      "407 [832, 275, 491, 315, 736, 449, 328, 457, 697, 478, 83, 100, 964, 645, 522, 968, 123, 881, 8, 763]\n",
      "137 [275, 736, 697, 139, 457, 102, 100, 953, 929, 449, 832, 50, 260, 889, 496, 434, 645, 728, 211, 143]\n",
      "423 [102, 832, 736, 697, 275, 964, 750, 319, 767, 100, 328, 238, 449, 83, 336, 814, 869, 87, 517, 949]\n",
      "619 [736, 725, 832, 685, 457, 160, 102, 87, 697, 728, 315, 928, 265, 187, 833, 154, 513, 710, 964, 140]\n",
      "153 [697, 334, 365, 315, 736, 779, 323, 806, 457, 100, 888, 513, 428, 107, 696, 832, 361, 790, 376, 745]\n",
      "759 [275, 315, 67, 688, 525, 102, 832, 431, 389, 244, 697, 449, 599, 278, 107, 319, 280, 553, 161, 833]\n",
      "822 [697, 457, 100, 145, 832, 102, 736, 334, 275, 323, 109, 319, 244, 754, 67, 888, 415, 746, 362, 449]\n",
      "54 [319, 130, 102, 832, 246, 728, 105, 449, 275, 315, 157, 869, 499, 201, 824, 525, 407, 67, 334, 107]\n",
      "31 [697, 102, 278, 275, 728, 376, 754, 341, 736, 201, 836, 536, 688, 238, 143, 199, 832, 246, 570, 103]\n",
      "763 [697, 431, 736, 83, 668, 167, 244, 674, 809, 194, 288, 139, 315, 343, 953, 263, 130, 392, 457, 186]\n",
      "418 [107, 869, 275, 377, 334, 697, 260, 574, 264, 323, 928, 569, 832, 212, 315, 123, 344, 566, 457, 961]\n",
      "361 [275, 736, 319, 83, 280, 697, 682, 449, 19, 315, 278, 953, 212, 645, 102, 201, 745, 903, 754, 666]\n",
      "666 [879, 697, 167, 145, 707, 103, 275, 728, 102, 297, 688, 315, 832, 253, 277, 134, 201, 942, 83, 157]\n",
      "675 [275, 736, 246, 449, 478, 697, 814, 139, 260, 319, 457, 130, 334, 263, 979, 517, 833, 888, 552, 289]\n",
      "725 [697, 319, 376, 460, 260, 478, 552, 83, 819, 690, 130, 323, 457, 549, 334, 340, 328, 645, 795, 298]\n",
      "452 [102, 457, 832, 107, 415, 697, 449, 315, 201, 319, 370, 799, 787, 525, 67, 137, 328, 407, 89, 947]\n",
      "130 [334, 697, 376, 916, 958, 873, 134, 97, 278, 451, 260, 758, 685, 83, 809, 333, 631, 460, 832, 928]\n",
      "102 [275, 457, 288, 315, 832, 697, 736, 160, 916, 552, 758, 100, 477, 319, 468, 730, 87, 263, 334, 107]\n",
      "745 [736, 139, 832, 697, 275, 746, 315, 928, 319, 102, 160, 449, 720, 67, 263, 83, 328, 145, 799, 206]\n",
      "778 [260, 697, 275, 212, 127, 457, 319, 725, 211, 690, 427, 928, 645, 102, 736, 832, 83, 903, 334, 802]\n",
      "124 [457, 260, 690, 697, 736, 158, 83, 411, 280, 887, 334, 832, 263, 235, 460, 427, 361, 468, 139, 201]\n",
      "757 [697, 736, 275, 580, 102, 357, 869, 887, 145, 67, 315, 645, 407, 868, 449, 658, 478, 328, 733, 47]\n",
      "363 [260, 697, 832, 315, 275, 319, 383, 736, 457, 513, 460, 573, 552, 334, 888, 67, 746, 598, 728, 449]\n",
      "244 [887, 773, 260, 457, 869, 334, 275, 888, 697, 100, 83, 478, 630, 145, 377, 728, 818, 99, 976, 754]\n",
      "433 [832, 334, 930, 319, 263, 736, 552, 728, 935, 961, 787, 160, 139, 449, 260, 887, 680, 869, 505, 315]\n",
      "551 [275, 697, 319, 87, 650, 145, 928, 500, 449, 869, 916, 767, 903, 766, 315, 736, 127, 457, 396, 832]\n",
      "785 [697, 275, 319, 102, 457, 688, 67, 145, 799, 444, 83, 263, 859, 869, 201, 408, 100, 736, 21, 158]\n",
      "8 [697, 457, 83, 758, 260, 130, 570, 246, 275, 426, 281, 534, 478, 278, 728, 888, 288, 420, 376, 887]\n",
      "787 [275, 697, 736, 107, 832, 376, 869, 244, 319, 197, 102, 67, 407, 139, 140, 725, 746, 614, 632, 83]\n",
      "46 [260, 832, 457, 275, 552, 334, 697, 736, 319, 263, 127, 139, 929, 405, 958, 637, 339, 427, 140, 377]\n",
      "563 [697, 102, 736, 457, 334, 315, 260, 319, 666, 344, 449, 275, 67, 832, 160, 584, 201, 23, 733, 323]\n",
      "789 [697, 614, 102, 794, 746, 869, 457, 611, 632, 688, 559, 832, 643, 275, 935, 384, 674, 145, 568, 197]\n",
      "220 [102, 697, 536, 139, 736, 275, 130, 869, 263, 260, 928, 83, 315, 319, 888, 958, 832, 570, 728, 764]\n",
      "376 [697, 832, 916, 83, 319, 869, 457, 160, 888, 720, 145, 456, 315, 953, 107, 102, 342, 244, 100, 674]\n",
      "277 [736, 893, 334, 260, 263, 67, 832, 102, 201, 315, 590, 270, 411, 844, 641, 887, 11, 145, 434, 505]\n",
      "813 [139, 323, 334, 260, 697, 275, 145, 83, 411, 457, 158, 754, 246, 832, 953, 102, 342, 478, 965, 721]\n",
      "794 [275, 315, 697, 832, 736, 928, 869, 599, 478, 427, 570, 83, 819, 276, 857, 457, 880, 43, 873, 553]\n",
      "266 [697, 275, 478, 720, 83, 145, 736, 146, 67, 310, 840, 162, 400, 482, 825, 670, 728, 754, 730, 332]\n",
      "601 [697, 315, 661, 275, 736, 160, 552, 832, 888, 167, 449, 629, 754, 288, 928, 787, 102, 799, 457, 158]\n",
      "499 [697, 832, 107, 457, 888, 319, 953, 100, 167, 591, 160, 275, 800, 334, 505, 263, 260, 449, 525, 736]\n",
      "800 [697, 275, 728, 157, 814, 559, 102, 552, 53, 246, 145, 158, 319, 832, 103, 928, 688, 457, 107, 848]\n",
      "288 [319, 869, 107, 167, 315, 415, 690, 349, 799, 263, 830, 353, 102, 507, 614, 872, 143, 457, 449, 787]\n",
      "684 [275, 319, 263, 697, 139, 832, 767, 728, 736, 645, 244, 160, 260, 807, 103, 552, 158, 288, 411, 916]\n",
      "406 [887, 107, 728, 275, 869, 697, 551, 832, 349, 328, 457, 145, 102, 377, 201, 725, 154, 851, 736, 100]\n",
      "301 [832, 888, 275, 102, 697, 621, 736, 754, 799, 457, 67, 434, 288, 107, 836, 219, 246, 123, 873, 716]\n",
      "541 [697, 275, 457, 319, 315, 100, 869, 201, 832, 449, 265, 928, 814, 736, 252, 244, 780, 92, 130, 688]\n",
      "371 [275, 697, 145, 315, 102, 323, 869, 736, 328, 334, 434, 256, 107, 888, 554, 897, 407, 722, 319, 720]\n",
      "608 [275, 697, 754, 736, 334, 263, 100, 157, 139, 945, 799, 130, 107, 102, 201, 893, 127, 123, 688, 411]\n",
      "610 [697, 275, 736, 457, 662, 873, 140, 807, 832, 89, 103, 916, 87, 260, 361, 143, 895, 145, 231, 444]\n",
      "410 [697, 832, 275, 736, 928, 315, 263, 334, 449, 260, 344, 323, 87, 666, 160, 467, 559, 888, 661, 873]\n",
      "7 [319, 457, 275, 736, 102, 832, 306, 666, 802, 449, 139, 570, 244, 260, 315, 758, 130, 520, 123, 767]\n",
      "641 [697, 315, 102, 319, 275, 331, 537, 525, 139, 746, 137, 19, 157, 736, 454, 67, 79, 552, 100, 622]\n",
      "225 [377, 334, 764, 728, 278, 833, 411, 457, 893, 368, 396, 142, 449, 144, 102, 676, 3, 154, 319, 415]\n",
      "198 [832, 457, 100, 102, 107, 319, 728, 367, 405, 819, 376, 139, 260, 746, 661, 888, 407, 83, 767, 256]\n",
      "141 [697, 832, 736, 244, 467, 457, 97, 160, 179, 66, 958, 102, 100, 728, 754, 953, 334, 345, 601, 964]\n",
      "303 [754, 160, 457, 83, 832, 697, 66, 145, 246, 315, 255, 370, 260, 100, 130, 958, 157, 158, 244, 599]\n",
      "697 [107, 260, 334, 964, 457, 467, 832, 513, 97, 501, 348, 929, 427, 342, 315, 807, 157, 377, 130, 922]\n",
      "446 [319, 275, 100, 246, 832, 697, 457, 754, 552, 767, 637, 263, 102, 139, 256, 143, 836, 879, 707, 863]\n",
      "424 [260, 11, 457, 334, 822, 927, 773, 690, 707, 868, 730, 869, 697, 668, 603, 173, 127, 319, 100, 349]\n",
      "369 [457, 275, 697, 319, 157, 100, 746, 614, 916, 307, 53, 102, 449, 263, 468, 807, 160, 814, 819, 380]\n",
      "139 [697, 275, 736, 728, 102, 263, 319, 888, 384, 767, 449, 869, 146, 792, 423, 807, 244, 645, 80, 525]\n",
      "178 [697, 460, 334, 107, 167, 873, 19, 145, 928, 315, 371, 958, 736, 773, 879, 953, 97, 67, 103, 102]\n",
      "104 [457, 319, 139, 758, 67, 949, 275, 107, 212, 844, 260, 160, 234, 534, 901, 46, 552, 157, 707, 866]\n",
      "490 [315, 832, 102, 814, 275, 260, 697, 536, 916, 319, 928, 328, 553, 570, 748, 958, 796, 160, 869, 736]\n",
      "820 [319, 260, 315, 83, 342, 139, 334, 632, 961, 457, 674, 448, 721, 928, 392, 102, 341, 178, 197, 953]\n",
      "17 [697, 457, 157, 513, 315, 928, 976, 746, 887, 683, 757, 68, 621, 53, 67, 275, 819, 929, 495, 107]\n",
      "194 [457, 832, 315, 697, 887, 263, 275, 869, 19, 260, 552, 483, 102, 961, 449, 97, 637, 319, 289, 976]\n",
      "607 [457, 953, 889, 697, 799, 154, 275, 661, 157, 34, 285, 100, 339, 234, 896, 315, 260, 263, 699, 478]\n",
      "442 [832, 102, 275, 697, 916, 370, 263, 398, 814, 688, 392, 919, 449, 319, 187, 292, 431, 736, 157, 457]\n"
     ]
    }
   ],
   "source": [
    "top_n = get_top_n(svd_predictions, n=20)\n",
    "\n",
    "# Print the recommended items for each user\n",
    "for uid, user_ratings in top_n.items():\n",
    "    print(uid, [iid for (iid, _) in user_ratings])"
   ]
  },
  {
   "cell_type": "markdown",
   "metadata": {
    "_uuid": "3a79b92c151a8116d490a08bfcf571da0769fc26"
   },
   "source": [
    "## Helper function program to create a list of users with repository and correspoding stars for further graph plotting and social analysis"
   ]
  },
  {
   "cell_type": "code",
   "execution_count": 102,
   "metadata": {
    "_uuid": "0e81f32a1bbf37741b3ab243669bd3830804b365"
   },
   "outputs": [],
   "source": [
    "count = 0\n",
    "user_graph_repo_stars_list = []\n",
    "for uid, user_ratings in top_n.items():\n",
    "    count += 1\n",
    "    if count > 3:\n",
    "        break\n",
    "    graph_list1 = []\n",
    "    for repoid, stars_computed in user_ratings:\n",
    "        #print(repoid)\n",
    "        graph_dict = {\n",
    "            \"repoid\": repoid,\n",
    "            \"stars\":stars_computed\n",
    "        }\n",
    "        graph_list1.append(graph_dict)\n",
    "        temp = {\n",
    "            \"user\": uid,\n",
    "            \"list\": graph_list1\n",
    "        }\n",
    "    user_graph_repo_stars_list.append(temp)\n",
    "    #print(uid, [iid for (iid, _) in user_ratings])\n",
    "    \n",
    "    "
   ]
  },
  {
   "cell_type": "markdown",
   "metadata": {
    "_uuid": "9fb6056d30320ae1a0d0159bcb1a1e053137d2f3"
   },
   "source": [
    "## Setting index on dataframe to search with 'repoid'"
   ]
  },
  {
   "cell_type": "code",
   "execution_count": 110,
   "metadata": {
    "_uuid": "bc097cab2e2f306bfca5c7cae8e42676ddf914e5"
   },
   "outputs": [],
   "source": [
    "df_final_user_repo_star_repo_id_merge_copy1 = df_final_user_repo_star_repo_id_merge_copy.copy(deep=True)\n",
    "df_final_user_repo_star_repo_id_merge_copy1.set_index('repoid', inplace=True)"
   ]
  },
  {
   "cell_type": "markdown",
   "metadata": {
    "_uuid": "4e14488d0784d1d320feb95165c7ef61e8ca8209"
   },
   "source": [
    "## Below we create final list with which we do the social analysis of user, repository and language.\n",
    "\n",
    "## we have implemented this as an extended functionality for study purpose so only first three users with corresponding top 20 recommended repositories and predicted stars is used"
   ]
  },
  {
   "cell_type": "code",
   "execution_count": 111,
   "metadata": {
    "_uuid": "f1ac4af09572a8d49dcedba2c355161c42f565dd"
   },
   "outputs": [],
   "source": [
    "graph_final_list_user_reponame = []\n",
    "for i in user_graph_repo_stars_list:\n",
    "    user = i['user']\n",
    "    #print(df_user_id.loc[user]['user'])\n",
    "    repos = i['list']\n",
    "    \n",
    "    temp_list = []\n",
    "    for j in repos:\n",
    "        id = j['repoid']\n",
    "        stars = j['stars']\n",
    "        temp = df_final_user_repo_star_repo_id_merge_copy1.loc[id]['user_repo_name']\n",
    "        if type(temp) == str:\n",
    "            repo_dict = {\n",
    "                \"reponame\": temp,\n",
    "                \"stars\": stars\n",
    "            }\n",
    "            temp_list.append(repo_dict)\n",
    "    \n",
    "    user_dict = {\n",
    "        \"user\": user,\n",
    "        \"list\": temp_list\n",
    "    }    \n",
    "    graph_final_list_user_reponame.append(user_dict)"
   ]
  },
  {
   "cell_type": "code",
   "execution_count": 112,
   "metadata": {
    "_uuid": "5cb7f3d4bfc2105e9e7afdf024443524687c5b3d"
   },
   "outputs": [
    {
     "data": {
      "text/plain": [
       "[{'user': 707,\n",
       "  'list': [{'reponame': 'braydie/HowToBeAProgrammer',\n",
       "    'stars': 3217.6708883835013},\n",
       "   {'reponame': 'tensorflow/tensorflow', 'stars': 3196.7337120850443},\n",
       "   {'reponame': 'toddmotto/public-apis', 'stars': 3148.5610966963873},\n",
       "   {'reponame': 'joshbuchea/HEAD', 'stars': 3140.4086441351733},\n",
       "   {'reponame': 'ParsePlatform/parse-server', 'stars': 3089.9628511181045},\n",
       "   {'reponame': 'loverajoel/jstips', 'stars': 3085.057618399449},\n",
       "   {'reponame': 'airbnb/javascript', 'stars': 3062.8666897928447},\n",
       "   {'reponame': 'DrkSephy/es6-cheatsheet', 'stars': 3017.2970073339707},\n",
       "   {'reponame': 'getlantern/lantern', 'stars': 2975.1494564951226},\n",
       "   {'reponame': 'facebook/react', 'stars': 2952.2753896842933},\n",
       "   {'reponame': 'hollance/swift-algorithm-club', 'stars': 2917.5189098057126},\n",
       "   {'reponame': 'sindresorhus/awesome', 'stars': 2875.260734999504},\n",
       "   {'reponame': 'vhf/free-programming-books', 'stars': 2872.389264486914},\n",
       "   {'reponame': 'google/material-design-lite', 'stars': 2872.1051159498434},\n",
       "   {'reponame': 'vurtun/nuklear', 'stars': 2855.369480538022},\n",
       "   {'reponame': 'CRYTEK-CRYENGINE/CRYENGINE', 'stars': 2831.7956678720757},\n",
       "   {'reponame': 'jcjohnson/neural-style', 'stars': 2801.1551078091643},\n",
       "   {'reponame': 'jiahaog/nativefier', 'stars': 2759.7423839985686}]},\n",
       " {'user': 598,\n",
       "  'list': [{'reponame': 'joshbuchea/HEAD', 'stars': 3276.1551614590385},\n",
       "   {'reponame': 'rg3/youtube-dl', 'stars': 3138.0009796147556},\n",
       "   {'reponame': 'braydie/HowToBeAProgrammer', 'stars': 3118.805838354024},\n",
       "   {'reponame': 'ParsePlatform/parse-server', 'stars': 3091.878408219221},\n",
       "   {'reponame': 'Rochester-NRT/AlphaGo', 'stars': 3061.8379045031406},\n",
       "   {'reponame': 'vuejs/vue', 'stars': 3014.315225690904},\n",
       "   {'reponame': 'loverajoel/jstips', 'stars': 2998.751085152222},\n",
       "   {'reponame': 'getify/You-Dont-Know-JS', 'stars': 2997.2484210221332},\n",
       "   {'reponame': 'airbnb/javascript', 'stars': 2971.903067538708},\n",
       "   {'reponame': 'coryhouse/react-slingshot', 'stars': 2963.9705120056337},\n",
       "   {'reponame': 'tensorflow/models', 'stars': 2961.0640510550447},\n",
       "   {'reponame': 'jgthms/bulma', 'stars': 2922.612218367164},\n",
       "   {'reponame': 'googlesamples/android-architecture',\n",
       "    'stars': 2903.2762176312863},\n",
       "   {'reponame': 'DrkSephy/es6-cheatsheet', 'stars': 2885.4869010370285},\n",
       "   {'reponame': 'ptmt/react-native-desktop', 'stars': 2877.4410557267915},\n",
       "   {'reponame': 'sindresorhus/awesome', 'stars': 2873.632148758929},\n",
       "   {'reponame': 'segmentio/nightmare', 'stars': 2872.044234668783},\n",
       "   {'reponame': 'dmlc/mxnet', 'stars': 2870.151946342758},\n",
       "   {'reponame': 'viljamis/feature.js', 'stars': 2862.8019235288252},\n",
       "   {'reponame': 'hashicorp/consul', 'stars': 2841.226131250047}]},\n",
       " {'user': 98,\n",
       "  'list': [{'reponame': 'facebook/react', 'stars': 3490.208810082233},\n",
       "   {'reponame': 'joshbuchea/HEAD', 'stars': 3088.392386237391},\n",
       "   {'reponame': 'sindresorhus/awesome', 'stars': 3078.131256861562},\n",
       "   {'reponame': 'vhf/free-programming-books', 'stars': 3066.5523097362293},\n",
       "   {'reponame': 'tensorflow/tensorflow', 'stars': 3065.35061215057},\n",
       "   {'reponame': 'aosabook/500lines', 'stars': 3035.123069859259},\n",
       "   {'reponame': 'braydie/HowToBeAProgrammer', 'stars': 2976.012637557955},\n",
       "   {'reponame': 'kyleneideck/BackgroundMusic', 'stars': 2957.7651331096076},\n",
       "   {'reponame': 'ParsePlatform/parse-server', 'stars': 2950.580888659087},\n",
       "   {'reponame': 'facebook/draft-js', 'stars': 2913.334088780663},\n",
       "   {'reponame': 'google/seesaw', 'stars': 2904.212778879831},\n",
       "   {'reponame': 'fulldecent/system-bus-radio', 'stars': 2897.160689695968},\n",
       "   {'reponame': 'jgthms/bulma', 'stars': 2877.9577041532866},\n",
       "   {'reponame': 'getify/You-Dont-Know-JS', 'stars': 2861.8788019228055},\n",
       "   {'reponame': 'vinta/awesome-python', 'stars': 2858.5427874264897},\n",
       "   {'reponame': 'apple/swift', 'stars': 2816.4793277970866},\n",
       "   {'reponame': 'getlantern/lantern', 'stars': 2810.2776853563196},\n",
       "   {'reponame': 'toddmotto/public-apis', 'stars': 2808.2051569587197},\n",
       "   {'reponame': 'atom/atom', 'stars': 2805.7891539358643}]}]"
      ]
     },
     "execution_count": 112,
     "metadata": {},
     "output_type": "execute_result"
    }
   ],
   "source": [
    "graph_final_list_user_reponame"
   ]
  },
  {
   "cell_type": "code",
   "execution_count": 113,
   "metadata": {
    "_uuid": "c61165ec5b3c1afcdc8ddf5248c37361433cbc2f"
   },
   "outputs": [],
   "source": [
    "user_list_for_graph = []\n",
    "repo_list_for_graph = []\n",
    "stars_list_for_graph = []\n",
    "for row in graph_final_list_user_reponame:\n",
    "    index = len(row['list'])\n",
    "    for i in range(index):\n",
    "        user_list_for_graph.append(row['user'])\n",
    "        repo_list_for_graph.append(row['list'][i]['reponame'])\n",
    "        stars_list_for_graph.append(row['list'][i]['stars'])"
   ]
  },
  {
   "cell_type": "code",
   "execution_count": 114,
   "metadata": {
    "_uuid": "f3dcb5157d1de9f3282bb440b39612952dbce1a2"
   },
   "outputs": [
    {
     "data": {
      "text/plain": [
       "['https://github.com/braydie/HowToBeAProgrammer',\n",
       " 'https://github.com/tensorflow/tensorflow',\n",
       " 'https://github.com/toddmotto/public-apis',\n",
       " 'https://github.com/joshbuchea/HEAD',\n",
       " 'https://github.com/ParsePlatform/parse-server',\n",
       " 'https://github.com/loverajoel/jstips',\n",
       " 'https://github.com/airbnb/javascript',\n",
       " 'https://github.com/DrkSephy/es6-cheatsheet',\n",
       " 'https://github.com/getlantern/lantern',\n",
       " 'https://github.com/facebook/react',\n",
       " 'https://github.com/hollance/swift-algorithm-club',\n",
       " 'https://github.com/sindresorhus/awesome',\n",
       " 'https://github.com/vhf/free-programming-books',\n",
       " 'https://github.com/google/material-design-lite',\n",
       " 'https://github.com/vurtun/nuklear',\n",
       " 'https://github.com/CRYTEK-CRYENGINE/CRYENGINE',\n",
       " 'https://github.com/jcjohnson/neural-style',\n",
       " 'https://github.com/jiahaog/nativefier',\n",
       " 'https://github.com/joshbuchea/HEAD',\n",
       " 'https://github.com/rg3/youtube-dl',\n",
       " 'https://github.com/braydie/HowToBeAProgrammer',\n",
       " 'https://github.com/ParsePlatform/parse-server',\n",
       " 'https://github.com/Rochester-NRT/AlphaGo',\n",
       " 'https://github.com/vuejs/vue',\n",
       " 'https://github.com/loverajoel/jstips',\n",
       " 'https://github.com/getify/You-Dont-Know-JS',\n",
       " 'https://github.com/airbnb/javascript',\n",
       " 'https://github.com/coryhouse/react-slingshot',\n",
       " 'https://github.com/tensorflow/models',\n",
       " 'https://github.com/jgthms/bulma',\n",
       " 'https://github.com/googlesamples/android-architecture',\n",
       " 'https://github.com/DrkSephy/es6-cheatsheet',\n",
       " 'https://github.com/ptmt/react-native-desktop',\n",
       " 'https://github.com/sindresorhus/awesome',\n",
       " 'https://github.com/segmentio/nightmare',\n",
       " 'https://github.com/dmlc/mxnet',\n",
       " 'https://github.com/viljamis/feature.js',\n",
       " 'https://github.com/hashicorp/consul',\n",
       " 'https://github.com/facebook/react',\n",
       " 'https://github.com/joshbuchea/HEAD',\n",
       " 'https://github.com/sindresorhus/awesome',\n",
       " 'https://github.com/vhf/free-programming-books',\n",
       " 'https://github.com/tensorflow/tensorflow',\n",
       " 'https://github.com/aosabook/500lines',\n",
       " 'https://github.com/braydie/HowToBeAProgrammer',\n",
       " 'https://github.com/kyleneideck/BackgroundMusic',\n",
       " 'https://github.com/ParsePlatform/parse-server',\n",
       " 'https://github.com/facebook/draft-js',\n",
       " 'https://github.com/google/seesaw',\n",
       " 'https://github.com/fulldecent/system-bus-radio',\n",
       " 'https://github.com/jgthms/bulma',\n",
       " 'https://github.com/getify/You-Dont-Know-JS',\n",
       " 'https://github.com/vinta/awesome-python',\n",
       " 'https://github.com/apple/swift',\n",
       " 'https://github.com/getlantern/lantern',\n",
       " 'https://github.com/toddmotto/public-apis',\n",
       " 'https://github.com/atom/atom']"
      ]
     },
     "execution_count": 114,
     "metadata": {},
     "output_type": "execute_result"
    }
   ],
   "source": [
    "repository_url = []\n",
    "for val in repo_list_for_graph:\n",
    "    temp = \"https://github.com/\" + val\n",
    "    repository_url.append(temp)\n",
    "    \n",
    "repository_url"
   ]
  },
  {
   "cell_type": "code",
   "execution_count": 115,
   "metadata": {
    "_uuid": "524aa45c21de56131b6aa24e0f995f59f2c7f840"
   },
   "outputs": [],
   "source": [
    "repo_stars_dataframe = pandas.DataFrame({'User':user_list_for_graph, 'URL':repository_url, 'Repos':repo_list_for_graph, 'Stars':stars_list_for_graph})"
   ]
  },
  {
   "cell_type": "code",
   "execution_count": 116,
   "metadata": {
    "_uuid": "2fd15cee82222f879f06f42b0eef2ddb1d5a2de1"
   },
   "outputs": [],
   "source": [
    "repo_stars_dataframe.to_csv(\"repo_stars_dataframe.csv\", sep='\\t')"
   ]
  },
  {
   "cell_type": "markdown",
   "metadata": {},
   "source": [
    "# Use case 3: Network Analysis"
   ]
  },
  {
   "cell_type": "markdown",
   "metadata": {},
   "source": [
    "## Import necessary libraries"
   ]
  },
  {
   "cell_type": "code",
   "execution_count": 3,
   "metadata": {},
   "outputs": [],
   "source": [
    "import pandas as pd\n",
    "import igraph"
   ]
  },
  {
   "cell_type": "markdown",
   "metadata": {},
   "source": [
    "## Read the input file and drop the unnecessary columns"
   ]
  },
  {
   "cell_type": "code",
   "execution_count": 11,
   "metadata": {},
   "outputs": [
    {
     "data": {
      "text/html": [
       "<div>\n",
       "<style scoped>\n",
       "    .dataframe tbody tr th:only-of-type {\n",
       "        vertical-align: middle;\n",
       "    }\n",
       "\n",
       "    .dataframe tbody tr th {\n",
       "        vertical-align: top;\n",
       "    }\n",
       "\n",
       "    .dataframe thead th {\n",
       "        text-align: right;\n",
       "    }\n",
       "</style>\n",
       "<table border=\"1\" class=\"dataframe\">\n",
       "  <thead>\n",
       "    <tr style=\"text-align: right;\">\n",
       "      <th></th>\n",
       "      <th>User</th>\n",
       "      <th>URL</th>\n",
       "      <th>Repos</th>\n",
       "      <th>Stars</th>\n",
       "    </tr>\n",
       "  </thead>\n",
       "  <tbody>\n",
       "    <tr>\n",
       "      <th>0</th>\n",
       "      <td>90</td>\n",
       "      <td>https://github.com/joshbuchea/HEAD</td>\n",
       "      <td>joshbuchea/HEAD</td>\n",
       "      <td>3614.660806</td>\n",
       "    </tr>\n",
       "    <tr>\n",
       "      <th>1</th>\n",
       "      <td>90</td>\n",
       "      <td>https://github.com/vhf/free-programming-books</td>\n",
       "      <td>vhf/free-programming-books</td>\n",
       "      <td>3368.096597</td>\n",
       "    </tr>\n",
       "    <tr>\n",
       "      <th>2</th>\n",
       "      <td>90</td>\n",
       "      <td>https://github.com/ruanyf/react-demos</td>\n",
       "      <td>ruanyf/react-demos</td>\n",
       "      <td>3177.913099</td>\n",
       "    </tr>\n",
       "    <tr>\n",
       "      <th>3</th>\n",
       "      <td>90</td>\n",
       "      <td>https://github.com/airbnb/javascript</td>\n",
       "      <td>airbnb/javascript</td>\n",
       "      <td>3122.744969</td>\n",
       "    </tr>\n",
       "    <tr>\n",
       "      <th>4</th>\n",
       "      <td>90</td>\n",
       "      <td>https://github.com/facebook/react-native</td>\n",
       "      <td>facebook/react-native</td>\n",
       "      <td>3051.633393</td>\n",
       "    </tr>\n",
       "  </tbody>\n",
       "</table>\n",
       "</div>"
      ],
      "text/plain": [
       "   User                                            URL  \\\n",
       "0    90             https://github.com/joshbuchea/HEAD   \n",
       "1    90  https://github.com/vhf/free-programming-books   \n",
       "2    90          https://github.com/ruanyf/react-demos   \n",
       "3    90           https://github.com/airbnb/javascript   \n",
       "4    90       https://github.com/facebook/react-native   \n",
       "\n",
       "                        Repos        Stars  \n",
       "0             joshbuchea/HEAD  3614.660806  \n",
       "1  vhf/free-programming-books  3368.096597  \n",
       "2          ruanyf/react-demos  3177.913099  \n",
       "3           airbnb/javascript  3122.744969  \n",
       "4       facebook/react-native  3051.633393  "
      ]
     },
     "execution_count": 11,
     "metadata": {},
     "output_type": "execute_result"
    }
   ],
   "source": [
    "repo_stars_dataframe = pd.read_csv('repo_stars_dataframe.csv', sep='\\t')\n",
    "repo_stars_dataframe.drop(repo_stars_dataframe.columns[0], axis = 1, inplace=True)\n",
    "repo_stars_dataframe.head()"
   ]
  },
  {
   "cell_type": "markdown",
   "metadata": {},
   "source": [
    "## Create the list of nodes which has highest watch count"
   ]
  },
  {
   "cell_type": "code",
   "execution_count": 5,
   "metadata": {},
   "outputs": [],
   "source": [
    "indexList = [0]\n",
    "for i in range(len(repo_stars_dataframe)-1):\n",
    "    if repo_stars_dataframe['User'][i] != repo_stars_dataframe['User'][i+1]:\n",
    "        indexList.append(i+1)"
   ]
  },
  {
   "cell_type": "markdown",
   "metadata": {},
   "source": [
    "## Add the nodes to graph"
   ]
  },
  {
   "cell_type": "code",
   "execution_count": 6,
   "metadata": {},
   "outputs": [],
   "source": [
    "g = igraph.Graph()\n",
    "graph_user = repo_stars_dataframe['User']\n",
    "graph_repos_url = repo_stars_dataframe['URL']\n",
    "graph_repos = repo_stars_dataframe['Repos']\n",
    "graph_watchers = repo_stars_dataframe['Stars']\n",
    "\n",
    "index = 0\n",
    "for row in range(len(repo_stars_dataframe)):\n",
    "    g.add_vertex(name=graph_repos_url[index],\n",
    "            label=graph_repos[index],\n",
    "            watchers=int(graph_watchers[0]))\n",
    "    index += 1"
   ]
  },
  {
   "cell_type": "markdown",
   "metadata": {},
   "source": [
    "## Make repo of rows having highest watch count for every user"
   ]
  },
  {
   "cell_type": "code",
   "execution_count": 7,
   "metadata": {},
   "outputs": [
    {
     "data": {
      "text/html": [
       "<div>\n",
       "<style scoped>\n",
       "    .dataframe tbody tr th:only-of-type {\n",
       "        vertical-align: middle;\n",
       "    }\n",
       "\n",
       "    .dataframe tbody tr th {\n",
       "        vertical-align: top;\n",
       "    }\n",
       "\n",
       "    .dataframe thead th {\n",
       "        text-align: right;\n",
       "    }\n",
       "</style>\n",
       "<table border=\"1\" class=\"dataframe\">\n",
       "  <thead>\n",
       "    <tr style=\"text-align: right;\">\n",
       "      <th></th>\n",
       "      <th>User</th>\n",
       "      <th>URL</th>\n",
       "      <th>Repos</th>\n",
       "      <th>Stars</th>\n",
       "    </tr>\n",
       "  </thead>\n",
       "  <tbody>\n",
       "    <tr>\n",
       "      <th>0</th>\n",
       "      <td>90</td>\n",
       "      <td>https://github.com/joshbuchea/HEAD</td>\n",
       "      <td>joshbuchea/HEAD</td>\n",
       "      <td>3614.660806</td>\n",
       "    </tr>\n",
       "    <tr>\n",
       "      <th>19</th>\n",
       "      <td>225</td>\n",
       "      <td>https://github.com/facebook/react</td>\n",
       "      <td>facebook/react</td>\n",
       "      <td>3734.151173</td>\n",
       "    </tr>\n",
       "    <tr>\n",
       "      <th>38</th>\n",
       "      <td>514</td>\n",
       "      <td>https://github.com/sindresorhus/awesome</td>\n",
       "      <td>sindresorhus/awesome</td>\n",
       "      <td>3416.306457</td>\n",
       "    </tr>\n",
       "  </tbody>\n",
       "</table>\n",
       "</div>"
      ],
      "text/plain": [
       "    User                                      URL                 Repos  \\\n",
       "0     90       https://github.com/joshbuchea/HEAD       joshbuchea/HEAD   \n",
       "19   225        https://github.com/facebook/react        facebook/react   \n",
       "38   514  https://github.com/sindresorhus/awesome  sindresorhus/awesome   \n",
       "\n",
       "          Stars  \n",
       "0   3614.660806  \n",
       "19  3734.151173  \n",
       "38  3416.306457  "
      ]
     },
     "execution_count": 7,
     "metadata": {},
     "output_type": "execute_result"
    }
   ],
   "source": [
    "repo1 = repo_stars_dataframe.copy(deep=True)\n",
    "dropIndexList = []\n",
    "for index in range(len(repo_stars_dataframe)):\n",
    "    if index not in indexList:\n",
    "        dropIndexList.append(index)\n",
    "\n",
    "repo1.drop(dropIndexList, inplace=True)\n",
    "repo1"
   ]
  },
  {
   "cell_type": "markdown",
   "metadata": {},
   "source": [
    "## Connect the nodes on the basis of watch count"
   ]
  },
  {
   "cell_type": "code",
   "execution_count": 8,
   "metadata": {},
   "outputs": [],
   "source": [
    "edges_dataframe = pd.merge(repo1, repo_stars_dataframe, how='inner', on=['User'])\n",
    "repo1 = edges_dataframe['URL_x']\n",
    "repo2 = edges_dataframe['URL_y']\n",
    "weight = edges_dataframe['Stars_x'] * edges_dataframe['Stars_y']\n",
    "\n",
    "index = 0\n",
    "for row in range(len(edges_dataframe)):\n",
    "    g.add_edge(repo1[index], repo2[index],\n",
    "            weight=float(weight[index]))\n",
    "    index += 1"
   ]
  },
  {
   "cell_type": "markdown",
   "metadata": {},
   "source": [
    "## Export the graph file to visualize using Gephi"
   ]
  },
  {
   "cell_type": "code",
   "execution_count": 9,
   "metadata": {},
   "outputs": [
    {
     "data": {
      "text/plain": [
       "'IGRAPH UNW- 58 58 -- \\n+ attr: label (v), name (v), watchers (v), weight (e)'"
      ]
     },
     "execution_count": 9,
     "metadata": {},
     "output_type": "execute_result"
    }
   ],
   "source": [
    "g.write('repos.gml')\n",
    "g.summary()"
   ]
  },
  {
   "cell_type": "markdown",
   "metadata": {},
   "source": [
    "## Exported file repos.gml is processed in Gephi to generate the graph"
   ]
  },
  {
   "cell_type": "code",
   "execution_count": 10,
   "metadata": {},
   "outputs": [
    {
     "name": "stdout",
     "output_type": "stream",
     "text": [
      "Populating the interactive namespace from numpy and matplotlib\n"
     ]
    },
    {
     "data": {
      "image/png": "[encoded data removed]",
      "text/plain": [
       "<Figure size 3600x1440 with 1 Axes>"
      ]
     },
     "metadata": {},
     "output_type": "display_data"
    }
   ],
   "source": [
    "%pylab inline\n",
    "import matplotlib.pyplot as plt\n",
    "import matplotlib.image as mpimg\n",
    "figure(figsize = (50,20))\n",
    "img=mpimg.imread('graph.png')\n",
    "imgplot = plt.imshow(img)\n",
    "plt.show()"
   ]
  },
  {
   "cell_type": "markdown",
   "metadata": {
    "_uuid": "c7a037f0c58facc24d8478d9874e72cb16812a15"
   },
   "source": [
    "## We faced a major drawback with kaggle here, we were using igraph to plot the graph but we got the error of libraries not being found to load\n",
    "\n",
    "## We tried a lot but at last we resided to do it on local machine"
   ]
  },
  {
   "cell_type": "markdown",
   "metadata": {
    "_uuid": "37ecc5b7e6d42fdf38d388c3375d14ea99f84d9f"
   },
   "source": [
    "## Conclusion:\n",
    "1.   We implemented matrix factorization using various approach for recommendations, we used classical gradient descent based                approach for our first use case and standard implementations for our second use case\n",
    "2.  We studied in depth how matrix factorization will work on a real world scenario, as well we learned how important data preprocessing and how it can affect our model's behavior.\n",
    "3.  Further we also got some hands-on on social network analysis with minimal use case applied.\n",
    "4.  We learned how much cross validation is necessary for model selection. \n",
    "5.  We got lowest RMSE score with simple SVD over other models, which we selected as our final model.\n"
   ]
  },
  {
   "cell_type": "markdown",
   "metadata": {
    "_uuid": "d99f12023ede4ef9737c7e01c67a557e7aa3088f"
   },
   "source": [
    "## References:\n",
    "1. Surprise library documenation:\n",
    "https://surprise.readthedocs.io/en/stable/getting_started.html\n",
    "2. Nick Becker's post on Matrix Factorization:\n",
    "https://beckernick.github.io/matrix-factorization-recommender/\n",
    "3. Got first use case help from Lawrence Pang's analysis:\n",
    "https://www.kaggle.com/lpang36/recommend-languages-with-collaborative-filtering\n",
    "4. Got third use case help from Corey Ford's analysis:\n",
    "https://github.com/coyotebush/github-network-analysis"
   ]
  }
 ],
 "metadata": {
  "kernelspec": {
   "display_name": "Python 3",
   "language": "python",
   "name": "python3"
  },
  "language_info": {
   "codemirror_mode": {
    "name": "ipython",
    "version": 3
   },
   "file_extension": ".py",
   "mimetype": "text/x-python",
   "name": "python",
   "nbconvert_exporter": "python",
   "pygments_lexer": "ipython3",
   "version": "3.6.5"
  }
 },
 "nbformat": 4,
 "nbformat_minor": 1
}
